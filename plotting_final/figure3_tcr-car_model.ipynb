{
 "cells": [
  {
   "cell_type": "code",
   "execution_count": null,
   "metadata": {
    "executionInfo": {
     "elapsed": 1392,
     "status": "ok",
     "timestamp": 1687750140500,
     "user": {
      "displayName": "François Bourassa",
      "userId": "16183510541365563755"
     },
     "user_tz": 240
    },
    "id": "wSxXAnHYiPpF"
   },
   "outputs": [],
   "source": [
    "import os\n",
    "import json, h5py\n",
    "import matplotlib.pyplot as plt\n",
    "import matplotlib as mpl\n",
    "import matplotlib.colors as clr\n",
    "import numpy as np\n",
    "import pandas as pd\n",
    "import seaborn as sns\n",
    "#sns.set_context('poster')\n",
    "import warnings\n",
    "warnings.filterwarnings('ignore')\n",
    "idx = pd.IndexSlice\n",
    "pj = os.path.join"
   ]
  },
  {
   "cell_type": "code",
   "execution_count": null,
   "metadata": {
    "colab": {
     "base_uri": "https://localhost:8080/"
    },
    "executionInfo": {
     "elapsed": 28849,
     "status": "ok",
     "timestamp": 1687750169812,
     "user": {
      "displayName": "François Bourassa",
      "userId": "16183510541365563755"
     },
     "user_tz": 240
    },
    "id": "r8FcC9R_ic39",
    "outputId": "fc9833a8-8ccf-4860-afac-d0523257adaa"
   },
   "outputs": [],
   "source": [
    "# Paths\n",
    "do_save = False\n",
    "root_dir = \"..\"\n",
    "data_dir = pj(root_dir, \"results\", \"for_plots\")\n",
    "mcmc_folder = pj(\"..\", \"results\", \"mcmc\")\n",
    "fig_dir = \"panels3/\""
   ]
  },
  {
   "cell_type": "code",
   "execution_count": null,
   "metadata": {
    "executionInfo": {
     "elapsed": 7,
     "status": "ok",
     "timestamp": 1687750169813,
     "user": {
      "displayName": "François Bourassa",
      "userId": "16183510541365563755"
     },
     "user_tz": 240
    },
    "id": "CluUJxo_iiSa"
   },
   "outputs": [],
   "source": [
    "#Specific to this figure\n",
    "import matplotlib.gridspec as gridspec\n",
    "import matplotlib.patches as patches\n",
    "\n",
    "import matplotlib.text as mtext\n",
    "from matplotlib.legend_handler import HandlerBase\n",
    "from matplotlib.legend import Legend\n",
    "from matplotlib.lines import Line2D\n",
    "\n",
    "import itertools"
   ]
  },
  {
   "cell_type": "code",
   "execution_count": null,
   "metadata": {
    "colab": {
     "base_uri": "https://localhost:8080/",
     "height": 118
    },
    "executionInfo": {
     "elapsed": 2047,
     "status": "ok",
     "timestamp": 1687750176118,
     "user": {
      "displayName": "François Bourassa",
      "userId": "16183510541365563755"
     },
     "user_tz": 240
    },
    "id": "nYMfBIIbsxSt",
    "outputId": "79498582-4926-483c-f2e5-778d64ec645e"
   },
   "outputs": [],
   "source": [
    "#@title Aesthetic parameters\n",
    "with open(pj(data_dir, \"perturbations_palette.json\"), \"r\") as f:\n",
    "    perturb_palette = json.load(f)\n",
    "perturb_palette[\"None\"] = [0., 0., 0., 1.]  # Black\n",
    "sns.palplot(perturb_palette.values())\n",
    "\n",
    "# Palettes for antigen density and such\n",
    "teal3 = ['#D1EEEA', '#68ABB8', '#2A5674']\n",
    "magenta3 = ['#F3CBD3', '#CA699D', '#6C2167']\n",
    "sns.palplot(teal3)"
   ]
  },
  {
   "cell_type": "markdown",
   "metadata": {
    "id": "2h6lOOiwqBXH"
   },
   "source": [
    "# Panel A: Modeling perturbation experiment schematic"
   ]
  },
  {
   "cell_type": "markdown",
   "metadata": {
    "id": "5Tt56eqoqGaW"
   },
   "source": [
    "# Panel B: Perturbation experiment crosstalk matrix"
   ]
  },
  {
   "cell_type": "code",
   "execution_count": null,
   "metadata": {
    "executionInfo": {
     "elapsed": 239,
     "status": "ok",
     "timestamp": 1687750213934,
     "user": {
      "displayName": "François Bourassa",
      "userId": "16183510541365563755"
     },
     "user_tz": 240
    },
    "id": "TW45eetSqv59"
   },
   "outputs": [],
   "source": [
    "#@title Tools\n",
    "sns.set_context('talk')\n",
    "def zero_centered_min_max_scaling(dataframe):\n",
    "    \"\"\"\n",
    "    Scale the numerical values in the dataframe to be between -1 and 1, preserving the\n",
    "    signal of all values.\n",
    "    \"\"\"\n",
    "    df_copy = dataframe.copy(deep=True)\n",
    "    for column in df_copy.columns:\n",
    "        max_absolute_value = df_copy[column].abs().max()\n",
    "        df_copy[column] = df_copy[column] / max_absolute_value\n",
    "    return df_copy\n",
    "def zero_centered_min_max_scaling2(dataframe):\n",
    "    \"\"\"\n",
    "    Scale the numerical values in the dataframe to be between -1 and 1\n",
    "    \"\"\"\n",
    "    df_copy = dataframe.copy(deep=True)\n",
    "    for i,column in enumerate(df_copy.columns):\n",
    "        max_pos = df_copy[column].max()\n",
    "        min_pos = df_copy[column].min()\n",
    "        for row in range(df_copy.shape[0]):\n",
    "          val = df_copy.iloc[row,i]\n",
    "          if val <= 0:\n",
    "            val= -1*val/min_pos\n",
    "          else:\n",
    "            val = val/max_pos\n",
    "          df_copy.iloc[row,i] = val\n",
    "    return df_copy"
   ]
  },
  {
   "cell_type": "code",
   "execution_count": null,
   "metadata": {
    "colab": {
     "base_uri": "https://localhost:8080/",
     "height": 534
    },
    "executionInfo": {
     "elapsed": 266,
     "status": "ok",
     "timestamp": 1687750214959,
     "user": {
      "displayName": "François Bourassa",
      "userId": "16183510541365563755"
     },
     "user_tz": 240
    },
    "id": "Nzs72PI2qpNl",
    "outputId": "07c94d19-dddb-4004-c620-e4b5a65eba1c"
   },
   "outputs": [],
   "source": [
    "#@title Load data\n",
    "# Version of the CAR antagonism data with the ratio pre-computed for the heatmap plot. \n",
    "antagonismDf = pd.read_hdf(pj(\"..\", \"data\", \"antagonism\", \"ot1_car_antagonism_df_with_ratio.h5\"))\n",
    "antagonismDf"
   ]
  },
  {
   "cell_type": "code",
   "execution_count": null,
   "metadata": {
    "colab": {
     "base_uri": "https://localhost:8080/",
     "height": 53
    },
    "executionInfo": {
     "elapsed": 3087,
     "status": "ok",
     "timestamp": 1687750219898,
     "user": {
      "displayName": "François Bourassa",
      "userId": "16183510541365563755"
     },
     "user_tz": 240
    },
    "id": "fcu11fslZy3m",
    "outputId": "1c0183a6-e991-476f-da78-24519312b80d"
   },
   "outputs": [],
   "source": [
    "#@title Plot matrix colorbar label\n",
    "from matplotlib.patches import Patch\n",
    "\n",
    "sns.set_context('talk')\n",
    "#@title Plot matrix of data with color key\n",
    "roughAntigenEC50Dict = {'None':1e6,'E1':6e4,'G4':1e4,'V4':9e2,'T4':9e1,'Q4':2e1,'Y3':8e0,'A2':3e0,'N4':1}\n",
    "temp = antagonismDf.query(\"CAR_Antigen == 'CD19' and `CAR_ITAM_Number` != '0'\")\n",
    "#temp = temp.query(\"Cytokine == ['IL-2','TNFa']\")\n",
    "temp1 = temp.query(\"Cytokine == ['IL-2','TNFa']\")\n",
    "temp2 = temp.query(\"Cytokine != ['IL-2','TNFa'] and Time == [1,3,6]\")\n",
    "#temp2 = temp.query(\"Cytokine != ['IL-2','TNFa']\")\n",
    "#temp1 = temp1[temp1['Ratio'] < 2e2]\n",
    "#temp2 = temp2[temp2['Ratio'] < 2e1]\n",
    "temp = pd.concat([temp1,temp2])\n",
    "o = temp.index.unique('TCR_Antigen').tolist()[::-1]\n",
    "temp = pd.concat([temp.query(\"TCR_Antigen == @x\") for x in o])\n",
    "pertDict = {'1uM-10':'None','1uM-4':'Fewer TCR ITAMs','1nM-10':'Less TCR antigen density'}\n",
    "temp['Condition'] = [pertDict['-'.join([x,y])] for x,y in zip(temp.index.get_level_values('TCR_Antigen_Density'),temp.index.get_level_values('TCR_ITAM_Number'))]\n",
    "temp = temp.set_index(['Condition'],append=True).iloc[:,1].unstack('TCR_Antigen')\n",
    "temp = temp[['E1','G4','V4','T4','Q4','A2','N4']]\n",
    "temp = np.log2(temp)\n",
    "\n",
    "fig = plt.figure(figsize=(5,10))\n",
    "from matplotlib.colors import TwoSlopeNorm\n",
    "#display(temp)\n",
    "#print(temp.groupby([x for x in temp.index.names if x != 'Time']).mean().min().min())\n",
    "#print(temp.groupby([x for x in temp.index.names if x != 'Time']).mean().max().max())\n",
    "clippedValues = np.clip(temp,a_min=-2,a_max=6)\n",
    "clippedValues = zero_centered_min_max_scaling2(clippedValues.unstack('Cytokine').stack('TCR_Antigen')).unstack('TCR_Antigen').stack('Cytokine')\n",
    "clippedValues = clippedValues[['E1','G4','V4','T4','Q4','A2','N4']]\n",
    "#clippedValues = clippedValues.droplevel(['Perturbation','CAR_Antigen','Tumor'])\n",
    "clippedValues = clippedValues.droplevel(['Condition','CAR_Antigen','Tumor'])\n",
    "clippedValues = clippedValues.swaplevel(-1,0).swaplevel(-1,-2)\n",
    "clippedValues = pd.concat([clippedValues.query(\"Cytokine == @x\") for x in ['IL-2','TNFa','IFNg']]).rename({'TNFa':'TNF','IFNg':'IFN-$\\gamma$'}).query(\"Cytokine == 'IL-2'\")\n",
    "#clippedValues = clippedValues.droplevel(['TCR_ITAM_Number','TCR_Antigen_Density','Tumor','CAR_Antigen'])\n",
    "#g = sns.heatmap(clippedValues.values,cmap='PuOr_r', cbar_kws={'shrink': 0.5})\n",
    "# cbar = g.collections[0].colorbar\n",
    "# cbar.set_ticks([])\n",
    "# g.set_xticks([])\n",
    "# g.set_yticks([])\n",
    "# for spine in g.spines.values():\n",
    "#     spine.set_visible(True)\n",
    "# cbar.outline.set_edgecolor('k')\n",
    "# cbar.outline.set_linewidth(2)\n",
    "\n",
    "clippedValues = clippedValues.groupby([x for x in clippedValues.index.names if x != 'Time']).mean()\n",
    "clippedValues = clippedValues.droplevel(['Spleen','Data']).swaplevel(-1,-3).swaplevel(-2,-3)\n",
    "#clippedValues = clippedValues.rename({'1':'Low','3':'High'},level='CAR_ITAM_Number').rename({'4':'Low','10':'High'},level='TCR_ITAM_Number').rename({'1nM':'Low','1uM':'High'},level='TCR_Antigen_Density').droplevel('Cytokine')\n",
    "clippedValues = clippedValues.rename({'1nM':'Low','1uM':'High'},level='TCR_Antigen_Density').droplevel('Cytokine')\n",
    "# Add a single level containing all perturbations\n",
    "#clippedValues[\"Perturbation\"] = (clippedValues.index.get_level_values(\"TCR_Antigen_Density\")\n",
    "#                              + \"+\" + clippedValues.index.get_level_values(\"CAR_ITAM_Number\")\n",
    "#                              + \"+\" + clippedValues.index.get_level_values(\"TCR_ITAM_Number\") )\n",
    "#clippedValues = clippedValues.set_index(\"Perturbation\", append=True)\n",
    "# Prepare a color mapping each value in the Perturbation level to a color\n",
    "# in the palette\n",
    "dfDict = {}\n",
    "levels = list(clippedValues.index.names)\n",
    "#palettes = ['Greys']*len(clippedValues.index.names)\n",
    "palettes = ['Greens_r','Blues_r','Reds_r']\n",
    "lutList = []\n",
    "setPalette = sns.color_palette(\"Set2\")\n",
    "setPalette = [setPalette[x] for x in [3,5,6]]\n",
    "speciesDict = {'CAR_ITAM_Number':['3','1'],'TCR_ITAM_Number':['10','4'],'TCR_Antigen_Density':['High','Low']}\n",
    "for level,p in zip(levels,palettes):\n",
    "  subsetDf = clippedValues.reset_index()[levels+list(clippedValues.columns)]\n",
    "  species = subsetDf.pop(level)\n",
    "  #lut = dict(zip(speciesDict[level], sns.color_palette(p,len(species.unique()))))\n",
    "  if level != 'Cytokine':\n",
    "    lut = dict(zip(speciesDict[level], sns.color_palette(p,len(species.unique()))))\n",
    "  else:\n",
    "    #lut = dict(zip(speciesDict[level], setPalette))\n",
    "    lut = dict(zip(speciesDict[level], cytokinePalette))\n",
    "  lutList.append(lut)\n",
    "  dfDict[level] = species.map(lut)\n",
    "\n",
    "row_colors = pd.DataFrame(dfDict)\n",
    "#cm = sns.clustermap(clippedValues.reset_index().loc[:,['E1','G4','V4','T4','Q4','A2','N4']],row_colors=row_colors,row_cluster=False,col_cluster=False,cmap='PuOr_r', cbar_kws={'shrink': 0.5})\n",
    "cm = sns.clustermap(clippedValues.fillna(value=0).reset_index().loc[:,['E1','G4','V4','T4','Q4','A2','N4']],row_colors=row_colors,\n",
    "                    col_cluster=False,cmap='PuOr_r', cbar_kws={'shrink': 0.5,'orientation':'horizontal'},figsize=(5,25))\n",
    "g = cm.ax_heatmap\n",
    "cbar = g.collections[0].colorbar\n",
    "antagonismRatioYAxislabel = r'$FC_{\\mathrm{TCR/CAR}}$'\n",
    "cbar.set_label(antagonismRatioYAxislabel)\n",
    "#g.set_xticks([])\n",
    "# -2.1892270492399706\n",
    "# 6.270750880443189\n",
    "#cbar.set_ticks([-1,0,1])\n",
    "cbar.set_ticks([])\n",
    "\n",
    "g.set_yticks([])\n",
    "for spine in g.spines.values():\n",
    "    spine.set_visible(True)\n",
    "cbar.outline.set_edgecolor('k')\n",
    "cbar.outline.set_linewidth(2)\n",
    "#g.set_xlabel('Stimulation')\n",
    "g.set_xlabel('')\n",
    "\n",
    "handles = [Patch(facecolor='w')]\n",
    "labels = [r\"$\\bf{Perturbation:}$\"]\n",
    "titleList = ['TCR ITAM #','CAR ITAM #','TCR Ag Density']\n",
    "for level,lut,title in zip(levels,lutList,titleList):\n",
    "  handles.append(Patch(facecolor='w'))\n",
    "  labels.append(title)\n",
    "  for name in lut:\n",
    "    handles.append(Patch(facecolor=lut[name],edgecolor='k'))\n",
    "    labels.append(name)\n",
    "plt.legend(handles, labels,\n",
    "           bbox_to_anchor=(0.95, 0.55),loc='center left', bbox_transform=cm.fig.transFigure,frameon=False)\n",
    "\n",
    "cm.ax_cbar.set_position([cm.ax_col_dendrogram.get_position().x0, cm.ax_col_dendrogram.get_position().y0+0.02,cm.ax_col_dendrogram.get_position().width, 0.02])\n",
    "cm.ax_cbar.set_title('')\n",
    "cm.ax_cbar.tick_params(axis='x', length=10)\n",
    "\n",
    "cm.ax_heatmap.annotate('',xytext=(0.5,1.12),xy=(1,1.12),arrowprops=dict(arrowstyle='-|>',color='darkorange',lw=3), xycoords='axes fraction')\n",
    "# cm.ax_heatmap.annotate('',xytext=(0,1.12),xy=(0.5,1.12),arrowprops=dict(arrowstyle='<-',color='purple',lw=3), xycoords='axes fraction')\n",
    "cm.ax_heatmap.annotate('',xytext=(0,1.12),xy=(0.5,1.12),arrowprops=dict(arrowstyle='|-|, widthB=0,widthA=0.5',color='purple',lw=3), xycoords='axes fraction')\n",
    "t = cm.ax_heatmap.text(0.25,1.16,'Antagonism',va='center',ha='center',fontsize=12,color='purple',zorder=100,transform=cm.ax_heatmap.transAxes,fontweight='bold')\n",
    "#t.set_bbox(dict(facecolor='white', edgecolor='white'))\n",
    "t = cm.ax_heatmap.text(0.75,1.16,'Enhancement',va='center',ha='center',fontsize=12,color='darkorange',zorder=100,transform=cm.ax_heatmap.transAxes,fontweight='bold')\n",
    "#t.set_bbox(dict(facecolor='white', edgecolor='white'))\n",
    "c1 = plt.Circle((0.5, 1.12), 0.01, color='k', clip_on=False,transform=cm.ax_heatmap.transAxes,zorder=100)\n",
    "#cm.ax_heatmap.add_patch(c1)\n",
    "\n",
    "cm.ax_row_colors.set_xticks([])\n",
    "cm.ax_row_colors.set_xticklabels([])\n",
    "\n",
    "cm.ax_heatmap.annotate('',xytext=(0,-0.12),xy=(1,-0.12),arrowprops=dict(arrowstyle='->',color='k',lw=3), xycoords='axes fraction')\n",
    "t = cm.ax_heatmap.text(0.5,-0.12,'TCR Ag Strength',va='center',ha='center',fontsize=16,color='k',zorder=100,transform=cm.ax_heatmap.transAxes)\n",
    "t.set_bbox(dict(facecolor='white', edgecolor='white'))\n",
    "\n",
    "#cm.ax_heatmap.annotate('(',xy=(0.028,-0.065), xycoords='axes fraction',fontsize=18)\n",
    "#cm.ax_heatmap.annotate(')+CD19',xy=(0.957,-0.065), xycoords='axes fraction',fontsize=18)\n",
    "cm.ax_heatmap.annotate('(',xy=(-0.02,-0.065), xycoords='axes fraction',fontsize=18)\n",
    "cm.ax_heatmap.annotate(')+CD19',xy=(0.99,-0.065), xycoords='axes fraction',fontsize=16)\n",
    "\n",
    "if do_save:\n",
    "    cm.savefig(pj(fig_dir, '3B-synergismAntagonismMatrix-label.pdf'),bbox_inches='tight',transparent=True)\n",
    "plt.clf()\n",
    "#sns.set_context('poster')"
   ]
  },
  {
   "cell_type": "code",
   "execution_count": null,
   "metadata": {},
   "outputs": [],
   "source": [
    "sns.set_context('talk')\n",
    "#@title Plot matrix of data with color key (wide)\n",
    "roughAntigenEC50Dict = {'None':1e6,'E1':6e4,'G4':1e4,'V4':9e2,'T4':9e1,'Q4':2e1,'Y3':8e0,'A2':3e0,'N4':1}\n",
    "temp = antagonismDf.query(\"CAR_Antigen == 'CD19' and `CAR_ITAM_Number` != '0'\")\n",
    "#temp = temp.query(\"Cytokine == ['IL-2','TNFa']\")\n",
    "temp1 = temp.query(\"Cytokine == ['IL-2','TNFa']\")\n",
    "temp2 = temp.query(\"Cytokine != ['IL-2','TNFa'] and Time == [1,3,6]\")\n",
    "#temp2 = temp.query(\"Cytokine != ['IL-2','TNFa']\")\n",
    "temp1 = temp1[temp1['Ratio'] < 2e2]\n",
    "temp2 = temp2[temp2['Ratio'] < 2e1]\n",
    "temp = pd.concat([temp1,temp2])\n",
    "o = temp.index.unique('TCR_Antigen').tolist()[::-1]\n",
    "temp = pd.concat([temp.query(\"TCR_Antigen == @x\") for x in o])\n",
    "pertDict = {'1uM-10':'None','1uM-4':'Fewer TCR ITAMs','1nM-10':'Less TCR antigen density'}\n",
    "temp['Condition'] = [pertDict['-'.join([x,y])] for x,y in zip(temp.index.get_level_values('TCR_Antigen_Density'),temp.index.get_level_values('TCR_ITAM_Number'))]\n",
    "temp = temp.set_index(['Condition'],append=True).iloc[:,1].unstack('TCR_Antigen')\n",
    "temp = temp[['E1','G4','V4','T4','Q4','A2','N4']]\n",
    "temp = np.log2(temp)\n",
    "\n",
    "fig = plt.figure(figsize=(5,10))\n",
    "from matplotlib.colors import TwoSlopeNorm\n",
    "clippedValues = np.clip(temp,a_min=-2,a_max=6)\n",
    "clippedValues = zero_centered_min_max_scaling2(clippedValues.unstack('Cytokine').stack('TCR_Antigen')).unstack('Time').stack('Cytokine')\n",
    "#clippedValues = clippedValues[['E1','G4','V4','T4','Q4','A2','N4']]\n",
    "#clippedValues = clippedValues.droplevel(['Perturbation','CAR_Antigen','Tumor'])\n",
    "clippedValues = clippedValues.droplevel(['Condition','CAR_Antigen','Tumor'])\n",
    "clippedValues = clippedValues.swaplevel(-1,0).swaplevel(-1,-2)\n",
    "clippedValues = pd.concat([clippedValues.query(\"Cytokine == @x\") for x in ['IL-2','TNFa','IFNg']]).rename({'TNFa':'TNF','IFNg':'IFN-$\\gamma$'}).query(\"Cytokine == 'IL-2'\")\n",
    "#clippedValues = clippedValues.droplevel(['TCR_ITAM_Number','TCR_Antigen_Density','Tumor','CAR_Antigen'])\n",
    "#g = sns.heatmap(clippedValues.values,cmap='PuOr_r', cbar_kws={'shrink': 0.5})\n",
    "# cbar = g.collections[0].colorbar\n",
    "# cbar.set_ticks([])\n",
    "# g.set_xticks([])\n",
    "# g.set_yticks([])\n",
    "# for spine in g.spines.values():\n",
    "#     spine.set_visible(True)\n",
    "# cbar.outline.set_edgecolor('k')\n",
    "# cbar.outline.set_linewidth(2)\n",
    "\n",
    "#clippedValues = clippedValues.groupby([x for x in clippedValues.index.names if x != 'Time']).mean()\n",
    "clippedValues = clippedValues.droplevel(['Spleen','Data']).swaplevel(-1,-3).swaplevel(-2,-3)\n",
    "#clippedValues = clippedValues.rename({'1':'Low','3':'High'},level='CAR_ITAM_Number').rename({'4':'Low','10':'High'},level='TCR_ITAM_Number').rename({'1nM':'Low','1uM':'High'},level='TCR_Antigen_Density').droplevel('Cytokine')\n",
    "clippedValues = clippedValues.rename({'1nM':'Low','1uM':'High'},level='TCR_Antigen_Density').droplevel('Cytokine')\n",
    "# Add a single level containing all perturbations\n",
    "#clippedValues[\"Perturbation\"] = (clippedValues.index.get_level_values(\"TCR_Antigen_Density\")\n",
    "#                              + \"+\" + clippedValues.index.get_level_values(\"CAR_ITAM_Number\")\n",
    "#                              + \"+\" + clippedValues.index.get_level_values(\"TCR_ITAM_Number\") )\n",
    "#clippedValues = clippedValues.set_index(\"Perturbation\", append=True)\n",
    "\n",
    "# Prepare a color mapping each value in the Perturbation level to a color\n",
    "# in the palette\n",
    "dfDict = {}\n",
    "levels = list(clippedValues.index.names)[::-1]\n",
    "levels = [levels[1],levels[3],levels[0],levels[2]]\n",
    "#palettes = ['Greys']*len(clippedValues.index.names)\n",
    "palettes = ['Greys_r','Reds_r','Greens_r','Blues_r']\n",
    "#palettes = [palettes[0],palettes[1],palettes[2],palettes[1]]\n",
    "lutList = []\n",
    "setPalette = sns.color_palette(\"Set2\")\n",
    "setPalette = [setPalette[x] for x in [3,5,6]]\n",
    "speciesDict = {'CAR_ITAM_Number':['3','1'],'TCR_ITAM_Number':['10','4'],'TCR_Antigen_Density':['High','Low'],'TCR_Antigen':['N4','A2','Q4','T4','V4','G4','E1']}\n",
    "times = clippedValues.columns\n",
    "for level,p in zip(levels,palettes):\n",
    "  subsetDf = clippedValues.reset_index()[levels+list(clippedValues.columns)]\n",
    "  species = subsetDf.pop(level)\n",
    "  #lut = dict(zip(speciesDict[level], sns.color_palette(p,len(species.unique()))))\n",
    "  if level != 'Cytokine':\n",
    "    lut = dict(zip(speciesDict[level], sns.color_palette(p,len(species.unique()))))\n",
    "  else:\n",
    "    #lut = dict(zip(speciesDict[level], setPalette))\n",
    "    lut = dict(zip(speciesDict[level], cytokinePalette))\n",
    "  lutList.append(lut)\n",
    "  dfDict[level] = species.map(lut)\n",
    "\n",
    "row_colors = pd.DataFrame(dfDict)\n",
    "#cm = sns.clustermap(clippedValues.reset_index().loc[:,['E1','G4','V4','T4','Q4','A2','N4']],row_colors=row_colors,row_cluster=False,col_cluster=False,cmap='PuOr_r', cbar_kws={'shrink': 0.5})\n",
    "cm = sns.clustermap(clippedValues.fillna(value=0).reset_index().loc[:,list(times)],row_colors=row_colors,\n",
    "                    col_cluster=False,cmap='PuOr_r', cbar_kws={'shrink': 0.5,'orientation':'horizontal'},figsize=(7,10))\n",
    "g = cm.ax_heatmap\n",
    "cbar = g.collections[0].colorbar\n",
    "cbar.set_ticks([])\n",
    "#g.set_xticks([])\n",
    "g.set_yticks([])\n",
    "g.set_ylabel('')\n",
    "for spine in g.spines.values():\n",
    "    spine.set_visible(True)\n",
    "cbar.outline.set_edgecolor('k')\n",
    "cbar.outline.set_linewidth(2)\n",
    "#g.set_xlabel('Stimulation')\n",
    "g.set_xlabel('')\n",
    "\n",
    "handles = [Patch(facecolor='w')]\n",
    "labels = [r\"$\\bf{Perturbation:}$\"]\n",
    "titleList = ['CAR ITAM #','TCR ITAM #','TCR Ag Density','TCR Ag Strength'][::-1]\n",
    "#titleList = [titleList[0],titleList[2],titleList[1],titleList[3]]\n",
    "\n",
    "for level,lut,title in zip(levels,lutList,titleList):\n",
    "  handles.append(Patch(facecolor='w'))\n",
    "  labels.append(title)\n",
    "  for name in lut:\n",
    "    handles.append(Patch(facecolor=lut[name],edgecolor='k'))\n",
    "    labels.append(name)\n",
    "plt.legend(handles, labels,\n",
    "           bbox_to_anchor=(0.9, 0.6),loc='center left', bbox_transform=cm.fig.transFigure,frameon=False)\n",
    "\n",
    "cm.ax_cbar.set_position([cm.ax_col_dendrogram.get_position().x0, cm.ax_col_dendrogram.get_position().y0+0.02,cm.ax_col_dendrogram.get_position().width, 0.02])\n",
    "cm.ax_cbar.set_title('')\n",
    "cm.ax_cbar.tick_params(axis='x', length=10)\n",
    "\n",
    "cm.ax_heatmap.annotate('',xytext=(0.5,1.12),xy=(1,1.12),arrowprops=dict(arrowstyle='-|>',color='darkorange',lw=3), xycoords='axes fraction')\n",
    "cm.ax_heatmap.annotate('',xytext=(0,1.12),xy=(0.5,1.12),arrowprops=dict(arrowstyle='<-',color='purple',lw=3), xycoords='axes fraction')\n",
    "#cm.ax_heatmap.annotate('',xytext=(0,1.12),xy=(0.5,1.12),arrowprops=dict(arrowstyle='|-|, widthB=0,widthA=0.5',color='purple',lw=3), xycoords='axes fraction')\n",
    "t = cm.ax_heatmap.text(0.25,1.16,'Antagonism',va='center',ha='center',fontsize=12,color='purple',zorder=100,transform=cm.ax_heatmap.transAxes,fontweight='bold')\n",
    "#t.set_bbox(dict(facecolor='white', edgecolor='white'))\n",
    "t = cm.ax_heatmap.text(0.75,1.16,'Enhancement',va='center',ha='center',fontsize=12,color='darkorange',zorder=100,transform=cm.ax_heatmap.transAxes,fontweight='bold')\n",
    "#t.set_bbox(dict(facecolor='white', edgecolor='white'))\n",
    "c1 = plt.Circle((0.5, 1.12), 0.01, color='k', clip_on=False,transform=cm.ax_heatmap.transAxes,zorder=100)\n",
    "\n",
    "cm.ax_row_colors.set_xticks([])\n",
    "cm.ax_row_colors.set_xticklabels([])\n",
    "\n",
    "#cm.ax_heatmap.add_patch(c1)\n",
    "\n",
    "# cm.ax_row_colors.set_xticks([])\n",
    "# cm.ax_row_colors.set_xticklabels([])\n",
    "\n",
    "cm.ax_heatmap.annotate('',xytext=(0,-0.12),xy=(1,-0.12),arrowprops=dict(arrowstyle='->',color='k',lw=3), xycoords='axes fraction')\n",
    "t = cm.ax_heatmap.text(0.5,-0.12,'Time (h)',va='center',ha='center',fontsize=16,color='k',zorder=100,transform=cm.ax_heatmap.transAxes)\n",
    "t.set_bbox(dict(facecolor='white', edgecolor='white'))\n",
    "\n",
    "#cm.ax_heatmap.annotate('(',xy=(0.028,-0.065), xycoords='axes fraction',fontsize=18)\n",
    "#cm.ax_heatmap.annotate(')+CD19',xy=(0.957,-0.065), xycoords='axes fraction',fontsize=18)\n",
    "# cm.ax_heatmap.annotate('(',xy=(-0.02,-0.065), xycoords='axes fraction',fontsize=18)\n",
    "# cm.ax_heatmap.annotate(')+CD19',xy=(0.99,-0.065), xycoords='axes fraction',fontsize=16)\n",
    "timesOfInterest = [1,6,24,36,48,72]\n",
    "timesOfInterest = [1,3,6,12,18,24,30,36,42,48,60,72]\n",
    "ticksOfInterest = [(list(times).index(x)+0.5) for x in timesOfInterest]\n",
    "print(times)\n",
    "print(ticksOfInterest)\n",
    "cm.ax_heatmap.set_xticks(ticksOfInterest)\n",
    "cm.ax_heatmap.set_xticklabels([str(int(x)) for x in timesOfInterest],rotation=0)\n",
    "\n",
    "if do_save:\n",
    "    cm.savefig(pj(fig_dir, '3B-synergismAntagonismMatrix-expanded_wide.pdf'),bbox_inches='tight',transparent=True)\n",
    "sns.set_context('poster')"
   ]
  },
  {
   "cell_type": "markdown",
   "metadata": {
    "id": "y4UfiHUzi0E4"
   },
   "source": [
    "# Load data\n",
    "In vitro mouse data used for fitting, model fits and model predictions for not-fitted conditions."
   ]
  },
  {
   "cell_type": "code",
   "execution_count": null,
   "metadata": {
    "executionInfo": {
     "elapsed": 220,
     "status": "ok",
     "timestamp": 1687750611215,
     "user": {
      "displayName": "François Bourassa",
      "userId": "16183510541365563755"
     },
     "user_tz": 240
    },
    "id": "-o17VYt4rsW2"
   },
   "outputs": [],
   "source": [
    "# Back to default scales\n",
    "sns.set_context('notebook')"
   ]
  },
  {
   "cell_type": "code",
   "execution_count": null,
   "metadata": {
    "executionInfo": {
     "elapsed": 5,
     "status": "ok",
     "timestamp": 1687750612048,
     "user": {
      "displayName": "François Bourassa",
      "userId": "16183510541365563755"
     },
     "user_tz": 240
    },
    "id": "hYqg25cV8y8N"
   },
   "outputs": [],
   "source": [
    "def perturb_concatenator(x):\n",
    "    lbl = []\n",
    "    if x[\"TCR_Antigen_Density\"] == \"1nM\":\n",
    "        lbl.append(\"AgDens\")\n",
    "    if x[\"CAR_ITAMs\"] == \"1\":\n",
    "        lbl.append(\"CARNum\")\n",
    "    if x[\"TCR_ITAMs\"] == \"4\":\n",
    "        lbl.append(\"TCRNum\")\n",
    "    lbl = \"_\".join(lbl)\n",
    "    if lbl == \"\":\n",
    "        lbl = \"None\"\n",
    "    return lbl\n"
   ]
  },
  {
   "cell_type": "code",
   "execution_count": null,
   "metadata": {
    "executionInfo": {
     "elapsed": 574,
     "status": "ok",
     "timestamp": 1687750613582,
     "user": {
      "displayName": "François Bourassa",
      "userId": "16183510541365563755"
     },
     "user_tz": 240
    },
    "id": "72o52MwOjU8Z"
   },
   "outputs": [],
   "source": [
    "df_model = pd.read_hdf(pj(data_dir, \"dfs_model_data_ci_mcmc_both_conc.h5\"), key=\"model\")\n",
    "df_data = pd.read_hdf(pj(data_dir, \"dfs_model_data_ci_mcmc_both_conc.h5\"), key=\"data\")\n",
    "df_err = pd.read_hdf(pj(data_dir, \"dfs_model_data_ci_mcmc_both_conc.h5\"), key=\"ci\")  # log2-scale standard error of mean\n",
    "\n",
    "df_model.rename({\"Fitted\": \"Model fit\", \"Predicted\":\"Model prediction\"})\n",
    "\n",
    "# Add level for perturbation type, used for hues\n",
    "new_idx_lvl = pd.Index(df_model.index.to_frame().apply(perturb_concatenator, axis=1), name=\"Perturbation\")\n",
    "df_model = df_model.set_index(new_idx_lvl, append=True)\n",
    "\n",
    "new_idx_lvl = pd.Index(df_data.index.to_frame().apply(perturb_concatenator, axis=1), name=\"Perturbation\")\n",
    "df_data = df_data.to_frame().set_index(new_idx_lvl, append=True)\n",
    "df_err = df_err.to_frame().set_index(new_idx_lvl, append=True)\n",
    "\n",
    "# Rename levels to nicer labels for the plot\n",
    "rename_pairs = {\n",
    "    \"Subset\": \"Origin\",\n",
    "    \"CAR_ITAMs\": \"CAR ITAMs\",\n",
    "    \"TCR_ITAMs\": \"TCR ITAMs\",\n",
    "    \"TCR_Antigen\": r\"TCR Antigen model $\\tau$ (s)\"\n",
    "}\n",
    "for pair in rename_pairs.items():\n",
    "    df_model.index.set_names(pair[1], level=pair[0], inplace=True)\n",
    "    if pair[0] == \"Subset\": continue\n",
    "    df_data.index.set_names(pair[1], level=pair[0], inplace=True)\n",
    "    df_err.index.set_names(pair[1], level=pair[0], inplace=True)"
   ]
  },
  {
   "cell_type": "code",
   "execution_count": null,
   "metadata": {
    "executionInfo": {
     "elapsed": 210,
     "status": "ok",
     "timestamp": 1687750622926,
     "user": {
      "displayName": "François Bourassa",
      "userId": "16183510541365563755"
     },
     "user_tz": 240
    },
    "id": "DonMwomBjV79"
   },
   "outputs": [],
   "source": [
    "with open(pj(root_dir, \"data\", \"pep_tau_map_ot1.json\"), \"r\") as handle:\n",
    "    pep_tau_map = json.load(handle)"
   ]
  },
  {
   "cell_type": "markdown",
   "metadata": {
    "id": "EI1qOEi0jcnb"
   },
   "source": [
    "## Choose one k, m, f for CAR\n",
    "I  take $k_S=1$, $m=2$, $f=1$ (because it's biologically meaningful to change to $m=1$ while keeping $f=1$ for 1-ITAM CAR)."
   ]
  },
  {
   "cell_type": "code",
   "execution_count": null,
   "metadata": {
    "colab": {
     "base_uri": "https://localhost:8080/",
     "height": 588
    },
    "executionInfo": {
     "elapsed": 280,
     "status": "ok",
     "timestamp": 1687750624156,
     "user": {
      "displayName": "François Bourassa",
      "userId": "16183510541365563755"
     },
     "user_tz": 240
    },
    "id": "dfhvnvZKjZO5",
    "outputId": "d04577cb-2484-4f9f-9012-2d96415d7e69"
   },
   "outputs": [],
   "source": [
    "df_model = df_model.xs(\"(1, 2, 1)\", level=\"kmf\", axis=0)\n",
    "df_model"
   ]
  },
  {
   "cell_type": "markdown",
   "metadata": {
    "id": "agYGwPokjlTd"
   },
   "source": [
    "# Model vs data figure\n",
    "Distinguish fitted vs predicted using line styles?\n",
    "Something even clearer would be better, but stick to this for now and receive feedback from others.\n",
    "\n",
    "Issue: what should we use for the x axis? Model $\\tau$ or discrete labels for experimental peptides? If $\\tau$, how to identify the peptides? Maybe use $\\tau$ axis implicitly but only put xticks with peptide names?  "
   ]
  },
  {
   "cell_type": "code",
   "execution_count": null,
   "metadata": {
    "executionInfo": {
     "elapsed": 6,
     "status": "ok",
     "timestamp": 1687750625508,
     "user": {
      "displayName": "François Bourassa",
      "userId": "16183510541365563755"
     },
     "user_tz": 240
    },
    "id": "Lx9PQ-_ajf72"
   },
   "outputs": [],
   "source": [
    "#@title Tools\n",
    "# For adding subtitles in legends.\n",
    "# Artist class: handle, containing a string\n",
    "# Special class compared to the one in scripts.plotting, to match the present figure\n",
    "class LegendSubtitle(object):\n",
    "    def __init__(self, message, **text_properties):\n",
    "        self.text = message\n",
    "        self.text_props = text_properties\n",
    "        self.labelwidth = \" \"*int(len(self.text)*1.33)\n",
    "    def get_label(self, *args, **kwargs):\n",
    "        return self.labelwidth  # no label, the artist itself is the text\n",
    "\n",
    "# Handler class, give it text properties\n",
    "class LegendSubtitleHandler(HandlerBase):\n",
    "    def legend_artist(self, legend, orig_handle, fontsize, handlebox):\n",
    "        x0, y0 = handlebox.xdescent, handlebox.ydescent\n",
    "        title = mtext.Text(x0, y0, orig_handle.text, size=fontsize, **orig_handle.text_props)\n",
    "        # Update the (empty) label to have a length enough to cover the whole artist text box\n",
    "        # orig_handle.labelwidth = \" \"*int(np.ceil(len(orig_handle.text) + legend.handlelength))\n",
    "        handlebox.add_artist(title)\n",
    "        # Make the legend box wider if needed\n",
    "        return title\n",
    "\n",
    "from scripts.plotting import (prepare_styles, prepare_hues, handles_properties_legend, \n",
    "unique_markers, unique_dashes, prepare_markers, prepare_subplots)\n",
    "from scripts.preprocess import read_conc_uM"
   ]
  },
  {
   "cell_type": "code",
   "execution_count": null,
   "metadata": {
    "colab": {
     "base_uri": "https://localhost:8080/"
    },
    "executionInfo": {
     "elapsed": 5,
     "status": "ok",
     "timestamp": 1687750625508,
     "user": {
      "displayName": "François Bourassa",
      "userId": "16183510541365563755"
     },
     "user_tz": 240
    },
    "id": "rqFp8-Mjw3nL",
    "outputId": "a42deee3-75cd-49ae-ca5c-c460ed271531"
   },
   "outputs": [],
   "source": [
    "df_data2 = df_data.copy()\n",
    "df_data2[\"Origin\"] = \"Prediction\"\n",
    "# Mark the fitted conditions manually\n",
    "df_data2.loc[(\"10\", \"3\"), \"Origin\"] = \"Fit\"\n",
    "df_data2 = df_data2.set_index(\"Origin\", append=True).squeeze()\n",
    "df_err2 = df_err.copy()\n",
    "df_err2 = df_err2.loc[:, \"Ratio\"]\n",
    "df_err2.index = df_data2.index"
   ]
  },
  {
   "cell_type": "code",
   "execution_count": null,
   "metadata": {
    "executionInfo": {
     "elapsed": 2,
     "status": "ok",
     "timestamp": 1687750625739,
     "user": {
      "displayName": "François Bourassa",
      "userId": "16183510541365563755"
     },
     "user_tz": 240
    },
    "id": "9G4R55JfED6d"
   },
   "outputs": [],
   "source": [
    "def perturb_decoder(x):\n",
    "    if x == \"None\":\n",
    "        return x\n",
    "    xsplit = x.split(\"_\")\n",
    "    lbl = []\n",
    "    for u in xsplit:\n",
    "        if u == \"AgDens\":\n",
    "            lbl.append(\"1 nM TCR Ag\")\n",
    "        elif u == \"CARNum\":\n",
    "            lbl.append(\"1 CAR ITAM\")\n",
    "        elif u == \"TCRNum\":\n",
    "            lbl.append(\"4 TCR ITAMs\")\n",
    "\n",
    "    return \",\\n\".join(lbl)"
   ]
  },
  {
   "cell_type": "code",
   "execution_count": null,
   "metadata": {
    "colab": {
     "base_uri": "https://localhost:8080/",
     "height": 494
    },
    "executionInfo": {
     "elapsed": 1858,
     "status": "ok",
     "timestamp": 1687751495001,
     "user": {
      "displayName": "François Bourassa",
      "userId": "16183510541365563755"
     },
     "user_tz": 240
    },
    "id": "nwTqWWWajosQ",
    "outputId": "a046a82b-3ad7-463c-dcf0-6fac18009eb3"
   },
   "outputs": [],
   "source": [
    "# One panel for the fit(s): 6Y, and maybe 6F if necessary later.\n",
    "# Then two panels for predictions.\n",
    "# Place legend in space left by missing panel\n",
    "\n",
    "# columns = TCR_Antigen_Density (or Perturbation, later). Also hues\n",
    "hue_lvl = \"Perturbation\"\n",
    "def sort_pert(x):\n",
    "    return (len(x), x[0])\n",
    "hue_vals, _ = prepare_hues(df_model, hue_lvl,\n",
    "                sortkws={\"key\":sort_pert, \"reverse\":False})\n",
    "palette = perturb_palette\n",
    "\n",
    "# styles = Subset\n",
    "sty_lvl = \"Perturbation\"\n",
    "# Alphabetical order is OK: \"fit\" comes before \"prediction\"\n",
    "sty_vals, styles = prepare_styles(df_model, sty_lvl)\n",
    "# Different markers in the data for 1 nM and 1uM.\n",
    "mark_lvl = \"Perturbation\"\n",
    "mark_vals, markers = prepare_markers(df_data2, mark_lvl,\n",
    "                        sortkws={\"key\":len, \"reverse\":False})\n",
    "marksize = 6\n",
    "lwidth = 3.0\n",
    "# cols = CAR_ITAMs, if available\n",
    "row_lvl = \"Origin\"\n",
    "col_lvl = rename_pairs[\"TCR_ITAMs\"]\n",
    "x_lvl = rename_pairs[\"TCR_Antigen\"]\n",
    "row_vals, col_vals, fig, axes = prepare_subplots(df_model,\n",
    "            row_lvl=row_lvl, col_lvl=col_lvl,\n",
    "            sortkws_col={\"key\":int, \"reverse\":True},\n",
    "            sharey=False)\n",
    "legwidth = 0.0\n",
    "figwidth = max(1, len(col_vals))*2.5 + legwidth\n",
    "fig.set_size_inches(figwidth, max(1, len(row_vals))*2.5)\n",
    "\n",
    "for i in range(max(1, len(row_vals))):\n",
    "    if len(row_vals) > 0:\n",
    "        data_row = df_data2.xs(row_vals[i], level=row_lvl, drop_level=False)\n",
    "        model_row = df_model.xs(row_vals[i], level=row_lvl, drop_level=False)\n",
    "        err_row = df_err2.xs(row_vals[i], level=row_lvl, drop_level=False)\n",
    "    else:\n",
    "        data_row, model_row, err_row = df_data2, df_model, df_err2\n",
    "    for j in range(max(1, len(col_vals))):\n",
    "        if len(col_vals) > 0:\n",
    "            try:\n",
    "                dat_loc = data_row.xs(col_vals[j], level=col_lvl, drop_level=False)\n",
    "                mod_loc = model_row.xs(col_vals[j], level=col_lvl, drop_level=False)\n",
    "                err_loc = err_row.xs(col_vals[j], level=col_lvl, drop_level=False)\n",
    "            except KeyError:  # This combination is not available, empty plot\n",
    "                continue\n",
    "        else:\n",
    "            dat_loc, mod_loc, err_loc = data_row, model_row, err_row\n",
    "        ax = axes[i, j]\n",
    "        ax.axhline(1.0, ls=\":\", color=\"k\")\n",
    "        local_hue_vals = [h for h in hue_vals\n",
    "                if h in dat_loc.index.get_level_values(hue_lvl).unique()]\n",
    "        for h in local_hue_vals:\n",
    "            # Plot data +- error transformed to linear scale\n",
    "            err_loc2 = err_loc.xs(h, level=hue_lvl)\n",
    "            dat_loc2 = dat_loc.xs(h, level=hue_lvl)\n",
    "            # Make sure data and error have same index order for plotting\n",
    "            err_loc2 = err_loc2.reindex(index=dat_loc2.index, copy=False)\n",
    "            dat_log = np.log2(dat_loc2)\n",
    "            # Compute linear scale error bars (asymmetric)\n",
    "            # from symmetric log-scale error bars\n",
    "            yup = 2**(err_loc2 + dat_log) - dat_loc2\n",
    "            ylo = dat_loc2 - 2**(-err_loc2 + dat_log)\n",
    "            yerr = np.vstack([ylo.values, yup.values])\n",
    "            xvals = dat_loc2.index.get_level_values(x_lvl).values\n",
    "            ax.errorbar(xvals, dat_loc2, xerr=None, yerr=yerr, marker=markers.get(h, \"o\"),\n",
    "                ecolor=palette[h], mfc=palette[h], mec=palette[h],\n",
    "                ms=marksize, ls=\"none\",\n",
    "            )\n",
    "\n",
    "            # Fill between confidence interval of model, highlight median\n",
    "            # Use different styles for fitted or predicted subsets\n",
    "            mod_loc2 = mod_loc.xs(h, level=hue_lvl)\n",
    "            # There should be only one style value left\n",
    "            #assert len(mod_loc2.index.get_level_values(sty_lvl).unique()) == 1\n",
    "            #sty_val = mod_loc2.index.get_level_values(sty_lvl)[0]\n",
    "            sty_val = h\n",
    "            xvals = mod_loc2.index.get_level_values(x_lvl).values\n",
    "            ax.fill_between(xvals, mod_loc2[\"percentile_2.5\"], mod_loc2[\"percentile_97.5\"],\n",
    "                color=palette[h], alpha=0.2)\n",
    "            ax.plot(xvals, mod_loc2[\"best\"], color=palette[h],\n",
    "                    lw=lwidth, ls=\"-\", label=h)  # styles[sty_val]\n",
    "        ax.set_yscale(\"log\", base=2)\n",
    "        itam_lbl = \"ITAMs\" if int(col_vals[j]) > 1 else \"ITAM\"\n",
    "        #ax.set_title(\"{} TCR {}\".format(col_vals[j], itam_lbl), size=10, y=0.95)\n",
    "\n",
    "for ax in axes.flat:\n",
    "    ax.set_xlabel(r\"TCR antigen strength, $\\tau$ (s)\", labelpad=0.2, fontsize=11)\n",
    "    ax.tick_params(which=\"major\", axis=\"both\", length=3.5, labelsize=11)\n",
    "    for side in [\"top\", \"right\"]:\n",
    "        ax.spines[side].set_visible(False)\n",
    "for ax in axes[:, 0]:\n",
    "    ax.set_ylabel(r\"$FC_{\\mathrm{TCR/CAR}}$\",  #\\frac{\\mathrm{Output(CD19 + TCR\\,Ag)}}{\\mathrm{Output(CD19)}}$\",\n",
    "                  fontsize=11, labelpad=0.2)\n",
    "\n",
    "# Manually entitle graphs in inDesign later: fit and predict.\n",
    "# Plot data +- error transformed to linear scale\n",
    "#shaded_color = sns.set_hls_values(palette.get(\"None\"), l=0.8, s=0.1)\n",
    "#shaded_color = palette.get(\"None\")\n",
    "\n",
    "#err_loc2 = df_err2.xs(\"Fit\", level=\"Origin\")\n",
    "#dat_loc2 = df_data2.xs(\"Fit\", level=\"Origin\")\n",
    "# Make sure data and error have same index order for plotting\n",
    "#err_loc2 = err_loc2.reindex(index=dat_loc2.index, copy=False)\n",
    "#dat_log = np.log2(dat_loc2)\n",
    "# Compute linear scale error bars (asymmetric)\n",
    "# from symmetric log-scale error bars\n",
    "#yup = 2**(err_loc2 + dat_log) - dat_loc2\n",
    "#ylo = dat_loc2 - 2**(-err_loc2 + dat_log)\n",
    "#yerr = np.vstack([ylo.values, yup.values])\n",
    "#xvals = dat_loc2.index.get_level_values(x_lvl).values\n",
    "#ax.errorbar(xvals, dat_loc2, xerr=None, yerr=yerr, marker=markers.get(h, \"o\"),\n",
    "#    ecolor=shaded_color, mfc=shaded_color, mec=shaded_color,\n",
    "#    ms=marksize, ls=\"none\", zorder=-1, alpha=0.5\n",
    "#)\n",
    "# Add light-shaded model fit results in the predict row.\n",
    "#ax = axes[1, 0]\n",
    "#xvals = df_model.xs(\"Fit\", level=\"Origin\").index.get_level_values(x_lvl).values\n",
    "#yvals = df_model.xs(\"Fit\", level=\"Origin\")[\"best\"]\n",
    "#ax.plot(xvals, yvals, color=shaded_color, ls=\"-\", lw=lwidth, zorder=-2, alpha=0.5)\n",
    "\n",
    "fig.tight_layout(h_pad=3.0)\n",
    "axes[0, 1].set_axis_off()\n",
    "\n",
    "# Add custom legend. Old version, more categorical\n",
    "#hues = (hue_lvl, palette)\n",
    "#styles = {k+\" (model)\":(a, None) for k,a in styles.items()}\n",
    "#styles.update({k+ \" (data)\":(\"none\", a) for k, a in markers.items()})\n",
    "#styles = (sty_lvl, styles)\n",
    "#legend_handles, legend_handler_map = handles_properties_legend(hues, styles, None)\n",
    "\n",
    "# Version for main text figure, fully manual here\n",
    "# Hues (line and linestyle and marker)\n",
    "legend_handles = [LegendSubtitle(hue_lvl)]\n",
    "palette_entries = sorted(list(palette.keys()), key=lambda x: len(perturb_decoder(x)))\n",
    "for p in palette_entries:\n",
    "    h = palette.get(p)\n",
    "    if p not in styles: continue\n",
    "    legend_handles.append(Line2D([0], [0], ls=styles[p], marker=markers[p], color=h,\n",
    "                                 mec=h, mfc=h, label=perturb_decoder(p)))\n",
    "\n",
    "legend_handles.append(LegendSubtitle(\"Origin\"))\n",
    "#for p, h in styles.items():\n",
    "#    legend_handles.append(Line2D([0], [0], ls=h, marker=None, color=\"k\", label=p))\n",
    "legend_handles.append(Line2D([0], [0], ls=\"-\", marker=None, color=\"k\", label=\"Model\"))\n",
    "legend_handles.append(Line2D([0], [0], ls=\"none\", marker=\"o\", ms=marksize, mec=\"k\", mfc=\"k\", label=\"Data\"))\n",
    "legend_handler_map = {LegendSubtitle: LegendSubtitleHandler()}\n",
    "\n",
    "if do_save:\n",
    "    fig.savefig(pj(fig_dir, \"3EF-model_data_ratio_comparison.pdf\"), transparent=True, bbox_inches=\"tight\", \n",
    "               bbox_extra_artists=[axes.flat[i].xaxis.get_label() for i in range(axes.size)])\n",
    "plt.show()\n",
    "plt.close()"
   ]
  },
  {
   "cell_type": "code",
   "execution_count": null,
   "metadata": {
    "colab": {
     "base_uri": "https://localhost:8080/",
     "height": 89
    },
    "executionInfo": {
     "elapsed": 220,
     "status": "ok",
     "timestamp": 1687750627555,
     "user": {
      "displayName": "François Bourassa",
      "userId": "16183510541365563755"
     },
     "user_tz": 240
    },
    "id": "U-hxgUJO6ptM",
    "outputId": "4df02464-d1ad-48cd-a4a7-1e88c98b37f1"
   },
   "outputs": [],
   "source": [
    "# Separate legend for data-model\n",
    "legend_handles = []\n",
    "legend_handles.append(Line2D([0], [0], ls=\"-\", marker=None, color=\"k\", label=\"Model\"))\n",
    "legend_handles.append(mpl.patches.Patch(color=(0.7, 0.7, 0.7), label='Model confidence\\ninterval'))\n",
    "legend_handles.append(Line2D([0], [0], ls=\"none\", marker=\"o\", ms=marksize, mec=\"k\", mfc=\"k\", label=\"Data\"))\n",
    "\n",
    "figl, axl = plt.subplots()\n",
    "axl.axis(False)\n",
    "axl.set_axis_off()\n",
    "leg = axl.legend(handles=legend_handles, frameon=False, ncol=3)\n",
    "figl.set_size_inches(2.5, 0.5)\n",
    "if do_save:\n",
    "    figl.savefig(pj(fig_dir, \"3EF-legend_model_data.pdf\"), bbox_inches=\"tight\",\n",
    "                 bbox_extra_artists=(leg,), transparent=True)\n",
    "plt.show()\n",
    "plt.close()"
   ]
  },
  {
   "cell_type": "code",
   "execution_count": null,
   "metadata": {},
   "outputs": [],
   "source": []
  }
 ],
 "metadata": {
  "colab": {
   "provenance": []
  },
  "kernelspec": {
   "display_name": "Python 3 (ipykernel)",
   "language": "python",
   "name": "python3"
  },
  "language_info": {
   "codemirror_mode": {
    "name": "ipython",
    "version": 3
   },
   "file_extension": ".py",
   "mimetype": "text/x-python",
   "name": "python",
   "nbconvert_exporter": "python",
   "pygments_lexer": "ipython3",
   "version": "3.12.7"
  }
 },
 "nbformat": 4,
 "nbformat_minor": 4
}

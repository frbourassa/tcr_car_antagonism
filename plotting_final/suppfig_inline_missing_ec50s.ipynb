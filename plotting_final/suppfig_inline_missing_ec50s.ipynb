{
 "cells": [
  {
   "cell_type": "markdown",
   "id": "ddc364b4-b72a-4d6d-b5a4-95d3ed8429ae",
   "metadata": {},
   "source": [
    "## Supplemental information inline plot on MSKCC original EC50s\n",
    "Supplemental information inline plot to illustrate that all weakest CMV antigens were missing full dose response curves and thus EC50s in the fit parameters provided with their paper. This explains why we had to do our own EC50 fits and processing.  "
   ]
  },
  {
   "cell_type": "code",
   "execution_count": null,
   "id": "7be6f397-ef2c-4962-a0a2-6079abb32321",
   "metadata": {},
   "outputs": [],
   "source": [
    "import os\n",
    "import json,math\n",
    "import matplotlib.pyplot as plt\n",
    "import matplotlib as mpl\n",
    "import matplotlib.colors as clr\n",
    "import numpy as np\n",
    "import pandas as pd\n",
    "import seaborn as sns\n",
    "sns.set_context('talk')\n",
    "sns.set_style('ticks')\n",
    "import warnings\n",
    "warnings.filterwarnings('ignore')\n",
    "idx = pd.IndexSlice\n",
    "pj = os.path.join"
   ]
  },
  {
   "cell_type": "code",
   "execution_count": null,
   "id": "603250e0-5e6a-42aa-9fff-411ad07378d9",
   "metadata": {},
   "outputs": [],
   "source": [
    "do_save_plots = False\n",
    "root_dir = \"..\"\n",
    "data_dir = pj(root_dir, \"data\", \"dose_response\")\n",
    "fig_dir = \"panels_misc\""
   ]
  },
  {
   "cell_type": "code",
   "execution_count": null,
   "id": "23e03804-d117-4caa-ae82-c61bfe1f073d",
   "metadata": {},
   "outputs": [],
   "source": [
    "# Renaming convention for TCRs\n",
    "tcr_rename = {\n",
    "    \"1\": \"C1\",\n",
    "    \"2\": \"C2\",\n",
    "    \"3\": \"C3\",\n",
    "    \"4\": \"G1\",\n",
    "    \"5\": \"G3\",\n",
    "    \"6\": \"G2\",\n",
    "    \"7\": \"N1\"\n",
    "}"
   ]
  },
  {
   "cell_type": "code",
   "execution_count": null,
   "id": "734f3a8a-d30b-4e6b-83b1-eade9eb87aff",
   "metadata": {},
   "outputs": [],
   "source": [
    "def clean_nosub_duplicates(df):\n",
    "    for tcr in df.index.get_level_values(\"TCR\").unique():\n",
    "        params_tcr = df.xs(tcr, level=\"TCR\")\n",
    "        antigen = params_tcr.index.get_level_values(\"Antigen\").unique()[0]\n",
    "        # Find all false substitutions\n",
    "        wt_duplicates = {}\n",
    "        for pep in params_tcr.index.get_level_values(\"Peptide\").unique():\n",
    "            if pep[0] == pep[2]:\n",
    "                wt_duplicates[pep] = params_tcr.loc[(antigen, pep)]\n",
    "        # Check they were all identical\n",
    "        #print(wt_duplicates)\n",
    "        # Replace them all by one WT row\n",
    "        df = df.drop([(antigen, tcr, pep) for pep in wt_duplicates.keys()])\n",
    "        df.loc[(antigen, tcr, \"WT\")] = list(wt_duplicates.values())[0]\n",
    "    return df"
   ]
  },
  {
   "cell_type": "code",
   "execution_count": null,
   "id": "68b7b0c8-7b09-4359-b63f-faaa4bcbfc09",
   "metadata": {},
   "outputs": [],
   "source": [
    "#@title Load MSKCC data\n",
    "# Import MSKCC dose response data, curve fitting parameters, and ec50 data\n",
    "results_dir = data_dir\n",
    "mskcc_data = pd.read_hdf(pj(data_dir, \"MSKCC_rawDf.hdf\")).sort_index()\n",
    "mskcc_params = pd.read_hdf(pj(data_dir, \"MSKCC_fitCurvesEC50.hdf\"))\n",
    "mskcc_params = mskcc_params.rename({\"Neopeptide\":\"Neoantigen\"}, level=\"Antigen\")\n",
    "mskcc_ec50s = pd.read_hdf(pj(data_dir, \"MSKCC_originalEC50df.hdf\"))\n",
    "\n",
    "for df in [mskcc_data, mskcc_params, mskcc_ec50s]:\n",
    "    print(df.index.get_level_values(\"Antigen\").unique())\n",
    "\n",
    "# In the parameters dataframe, drop all false substitutions, e.g. A7A:\n",
    "# these are all copies of the WT, duplicated for heatmap plotting convenience\n",
    "mskcc_params = clean_nosub_duplicates(mskcc_params)\n",
    "\n",
    "# Rename CD137 to 4-1BB\n",
    "resp_name = \"Response (4-1BB+ %)\"\n",
    "mskcc_data = mskcc_data.rename({\"Response (CD137+ %)\":resp_name}, axis=1)\n",
    "\n",
    "# Change K_a from ug/ml to mol/l\n",
    "print(mskcc_data)\n",
    "print(mskcc_ec50s)\n",
    "mskcc_params[\"K_a\"] = mskcc_ec50s[\"EC50 (M)\"]\n",
    "print(mskcc_params)"
   ]
  },
  {
   "cell_type": "code",
   "execution_count": null,
   "id": "1ac7c843-5283-44dc-b5df-da8026d7a089",
   "metadata": {},
   "outputs": [],
   "source": [
    "df_response_inf = mskcc_data.copy()\n",
    "peps_without_ec50 = (mskcc_ec50s[\"EC50 (M)\"] == np.inf)\n",
    "df_response_inf[\"INF\"] = peps_without_ec50\n",
    "df_response_inf = df_response_inf.set_index(\"INF\", append=True).set_index(\"Dose (ug/mL)\", append=True)\n",
    "# Keep only the largest dose\n",
    "df_response_inf = df_response_inf.xs(100.0, level=\"Dose (ug/mL)\")[resp_name]"
   ]
  },
  {
   "cell_type": "code",
   "execution_count": null,
   "id": "0d050680-6940-473e-8234-41699d646659",
   "metadata": {},
   "outputs": [],
   "source": [
    "# Plot cumulative distribution of max. response for peptides with and without EC50\n",
    "# Find the limit between the two kinds\n",
    "df_inf_cmv = df_response_inf.xs(\"CMV\", level=\"Antigen\")\n",
    "inf_lim = 0.5*(df_inf_cmv.xs(True, level=\"INF\").max() + df_inf_cmv.xs(False, level=\"INF\").min())\n",
    "# Rename stuff for nicer plots\n",
    "df_plot = df_inf_cmv.copy()\n",
    "df_plot = (df_plot.rename(tcr_rename, level=\"TCR\")\n",
    "            .rename({True:\"Incomplete\", False:\"Complete\"}, level=\"INF\"))\n",
    "df_plot.index = df_plot.index.set_names([\"TCR\", \"Peptide\", \"Dose response\"])\n",
    "g = sns.displot(data=df_plot.reset_index(),\n",
    "                hue=\"Dose response\", x=resp_name, kind=\"ecdf\", col=\"TCR\")\n",
    "for ax in g.axes.flat:\n",
    "    ax.axvline(inf_lim, color=\"k\", ls=\"--\")\n",
    "g.axes.flat[0].set_ylabel(\"Proportion of peptides\")\n",
    "if do_save_plots:\n",
    "    g.figure.savefig(pj(fig_dir, \"ecdf_cmv_peptides.pdf\"), transparent=True,\n",
    "              bbox_inches=\"tight\", bbox_extra_artists=(g.legend,))\n",
    "plt.show()\n",
    "plt.close()\n",
    "\n",
    "# Full plots below would show other TCRs only have responsive peptides.\n",
    "# sns.displot(data=temp[temp['Dose (ug/mL)'] == 100],hue='INF',x=resp_name,kind='ecdf',col='TCR')\n",
    "#sns.displot(data=temp[temp['Dose (ug/mL)'] == 100],x=resp_name,kind='ecdf',col='TCR',color='k')\n",
    "#sns.displot(data=temp[temp['Dose (ug/mL)'] == 100],x=resp_name,kind='ecdf',hue='TCR')"
   ]
  },
  {
   "cell_type": "code",
   "execution_count": null,
   "id": "43a5996b-7863-49f1-9ede-0d85d5c6acc8",
   "metadata": {},
   "outputs": [],
   "source": []
  }
 ],
 "metadata": {
  "kernelspec": {
   "display_name": "Python 3 (ipykernel)",
   "language": "python",
   "name": "python3"
  },
  "language_info": {
   "codemirror_mode": {
    "name": "ipython",
    "version": 3
   },
   "file_extension": ".py",
   "mimetype": "text/x-python",
   "name": "python",
   "nbconvert_exporter": "python",
   "pygments_lexer": "ipython3",
   "version": "3.12.7"
  }
 },
 "nbformat": 4,
 "nbformat_minor": 5
}

{
 "cells": [
  {
   "cell_type": "code",
   "execution_count": null,
   "metadata": {
    "executionInfo": {
     "elapsed": 4598,
     "status": "ok",
     "timestamp": 1720384897386,
     "user": {
      "displayName": "François Bourassa",
      "userId": "16183510541365563755"
     },
     "user_tz": 240
    },
    "id": "zgkrvAHipzdM"
   },
   "outputs": [],
   "source": [
    "import os\n",
    "import json,math\n",
    "import matplotlib.pyplot as plt\n",
    "import matplotlib as mpl\n",
    "import matplotlib.colors as clr\n",
    "import numpy as np\n",
    "import pandas as pd\n",
    "import pickle\n",
    "import seaborn as sns\n",
    "sns.set_context('talk')\n",
    "import warnings\n",
    "from scipy.stats import percentileofscore\n",
    "warnings.filterwarnings('ignore')\n",
    "idx = pd.IndexSlice\n",
    "import sys\n",
    "if not \"../\" in sys.path:\n",
    "    sys.path.insert(1, \"../\")\n",
    "from scripts.preprocess import write_conc_uM\n",
    "\n",
    "import h5py\n",
    "import corner\n",
    "\n",
    "pj = os.path.join"
   ]
  },
  {
   "cell_type": "code",
   "execution_count": null,
   "metadata": {
    "colab": {
     "base_uri": "https://localhost:8080/"
    },
    "executionInfo": {
     "elapsed": 326852,
     "status": "ok",
     "timestamp": 1720385257028,
     "user": {
      "displayName": "François Bourassa",
      "userId": "16183510541365563755"
     },
     "user_tz": 240
    },
    "id": "L5Kxtk6lp4qw",
    "outputId": "e06f645b-c1a6-4cce-cf06-e4c3951e1f4c"
   },
   "outputs": [],
   "source": [
    "root_dir = \"..\"\n",
    "data_dir = pj(root_dir, 'data')\n",
    "fig_dir = 'panels5'\n",
    "res_dir = pj(root_dir, \"results\", \"for_plots\")\n",
    "\n",
    "do_save_plots = True"
   ]
  },
  {
   "cell_type": "code",
   "execution_count": null,
   "metadata": {
    "cellView": "form",
    "executionInfo": {
     "elapsed": 5,
     "status": "ok",
     "timestamp": 1720385257029,
     "user": {
      "displayName": "François Bourassa",
      "userId": "16183510541365563755"
     },
     "user_tz": 240
    },
    "id": "vh475PRXwgcz"
   },
   "outputs": [],
   "source": [
    "#@title Aesthetic parameters\n",
    "plt.rcParams[\"figure.dpi\"] = 60"
   ]
  },
  {
   "cell_type": "code",
   "execution_count": null,
   "metadata": {
    "cellView": "form",
    "executionInfo": {
     "elapsed": 4,
     "status": "ok",
     "timestamp": 1720385257029,
     "user": {
      "displayName": "François Bourassa",
      "userId": "16183510541365563755"
     },
     "user_tz": 240
    },
    "id": "Ok8FIiPaptVT"
   },
   "outputs": [],
   "source": [
    "#@title Labeling parameters\n",
    "# Renaming convention for TCRs\n",
    "# tcr_rename = {\n",
    "#     \"1\": r\"CMV-A$^{\\mathrm{M\\L}}$\",\n",
    "#     \"2\": r\"CMV-B$^{\\mathrm{M\\L}}$\",\n",
    "#     \"3\": r\"CMV-C$^{\\mathrm{M\\L}}$\",\n",
    "#     \"4\": r\"gp100-A$^{\\mathrm{M\\L}}$\",\n",
    "#     \"5\": r\"gp100-C$^{\\mathrm{M\\L}}$\",\n",
    "#     \"6\": r\"gp100-B$^{\\mathrm{M\\L}}$\",\n",
    "#     \"7\": r\"Neoag-A$^{\\mathrm{M\\L}}$\"\n",
    "# }\n",
    "tcr_rename = {\n",
    "    \"1\": \"C1\",\n",
    "    \"2\": \"C2\",\n",
    "    \"3\": \"C3\",\n",
    "    \"4\": \"G1\",\n",
    "    \"5\": \"G3\",\n",
    "    \"6\": \"G2\",\n",
    "    \"7\": \"N1\"\n",
    "}\n",
    "\n",
    "pSelf = r'p$\\mathregular{^{APL}}$'\n",
    "pAg = r'p$\\mathregular{^{Ag}}$'"
   ]
  },
  {
   "cell_type": "markdown",
   "metadata": {
    "id": "UyDe3c5RhHFx"
   },
   "source": [
    "## Simplified plots for cartoons"
   ]
  },
  {
   "cell_type": "markdown",
   "metadata": {
    "id": "S63NVHe-rUUW"
   },
   "source": [
    "# Load data"
   ]
  },
  {
   "cell_type": "code",
   "execution_count": null,
   "metadata": {
    "cellView": "form",
    "colab": {
     "base_uri": "https://localhost:8080/",
     "height": 455
    },
    "executionInfo": {
     "elapsed": 2141,
     "status": "ok",
     "timestamp": 1720385259167,
     "user": {
      "displayName": "François Bourassa",
      "userId": "16183510541365563755"
     },
     "user_tz": 240
    },
    "id": "C8kVh5HiqCMC",
    "outputId": "82ef74d1-5686-4ecd-fd7f-b4195c18dc0d"
   },
   "outputs": [],
   "source": [
    "#@title Experimental\n",
    "cd25data = pd.read_hdf(pj(data_dir, \"dose_response\", 'fullCD25EC50df.hdf')).query(\"Peptide != 'None'\")\n",
    "cd25data"
   ]
  },
  {
   "cell_type": "code",
   "execution_count": null,
   "metadata": {},
   "outputs": [],
   "source": [
    "with open(pj(data_dir, \"pep_tau_map_others.json\"), \"r\") as h:\n",
    "    other_taus = json.load(h)\n",
    "hhat_pep_taus = {\n",
    "    \"HHAT-WT\": other_taus.get(\"HHAT-WT\"), \n",
    "    \"HHAT-p8F\": other_taus.get(\"HHAT-p8F\")\n",
    "}\n",
    "inverse_pep_dict = {a:k.split(\"-\")[1] for k, a in hhat_pep_taus.items()}\n",
    "\n",
    "pep_order = list(hhat_pep_taus.keys())\n",
    "modelTaus = pd.Series([hhat_pep_taus[a] for a in pep_order], \n",
    "    index=pd.MultiIndex.from_tuples([a.split(\"-\") for a in pep_order], names=[\"TCR\", \"Peptide\"])\n",
    ").to_frame(name=\"Tau\")\n",
    "\n",
    "# Load the model curve and its CI, separate from it the peptides' points\n",
    "fullModelDf = (pd.read_hdf(pj(res_dir, 'model_predict_aebs_hhat_wt_neoantigen.h5'))\n",
    "               .xs(\"PC9-GL\", level=\"Target\").rename(write_conc_uM, level=\"TCR_Antigen_Pulse_uM\")\n",
    "              )\n",
    "fullModelDf = pd.concat({\"HHAT\":fullModelDf}, names=[\"TCR\"])\n",
    "\n",
    "modelCurves = fullModelDf.drop(hhat_pep_taus.values(), level=\"TCR_Antigen_tau\")\n",
    "\n",
    "modelFCs = fullModelDf.loc[fullModelDf.index.isin(hhat_pep_taus.values(), level=\"TCR_Antigen_tau\")]\n",
    "modelFCs[\"Peptide\"] = [inverse_pep_dict.get(k) \n",
    "        for k in modelFCs.index.get_level_values(\"TCR_Antigen_tau\")]\n",
    "modelFCs = modelFCs.set_index(\"Peptide\", append=True)\n",
    "\n",
    "# Copies\n",
    "modelCurves2 = modelCurves.copy()\n",
    "modelFCs2 = modelFCs.copy()\n",
    "modelTaus2 = modelTaus.copy()\n",
    "\n",
    "display(modelCurves)\n",
    "display(modelFCs)\n",
    "display(modelTaus)"
   ]
  },
  {
   "cell_type": "code",
   "execution_count": null,
   "metadata": {},
   "outputs": [],
   "source": [
    "#@title Balachandran-Model\n",
    "balachandranModelDf = pd.read_hdf(pj(res_dir, 'mskcc_antagonism_fc_predictions_corrected_revised.h5'),\n",
    "                                  key='fc_stats')\n",
    "# Load individual MCMC samples, need to compute percentages for each sample to get a CI on these percentages.\n",
    "balachandranModelSamples = pd.read_hdf(pj(res_dir, 'mskcc_antagonism_fc_predictions_corrected_revised.h5'),key='fc_samples')\n",
    "balachandranModelDf\n",
    "\n",
    "# Compute percentages within each MCMC sample and estimate CI on these\n",
    "# Compute the fraction of agonists, antagonists, null peptides for each TCR and antigen\n",
    "dens_name = \"TCR_Antigen_Pulse_uM\"\n",
    "df_pc9_samples = np.log2(balachandranModelSamples.xs(\"1uM\", level=dens_name))\n",
    "ag_types_names = ['Antagonist','Null','Enhancer']\n",
    "null_thresh = 1.0  # log2 fold-change\n",
    "\n",
    "totals_peps = df_pc9_samples.groupby([\"Antigen\", \"TCR\"]).count()\n",
    "# Cumulative percentages. Version 1: antag, antag+null, all\n",
    "df_fracs_cumul_samples1 = pd.concat({\n",
    "    ag_types_names[0]: (df_pc9_samples <= -null_thresh).groupby([\"Antigen\", \"TCR\"]).sum() / totals_peps,\n",
    "    ag_types_names[1]: (df_pc9_samples < null_thresh).groupby([\"Antigen\", \"TCR\"]).sum() / totals_peps,\n",
    "    ag_types_names[2]: (df_pc9_samples > -np.inf).groupby([\"Antigen\", \"TCR\"]).sum() / totals_peps  # 100 %\n",
    "}, names=[\"Type\"]).sort_index(level=[\"Antigen\", \"TCR\"]).droplevel([\"Antigen\"]).reorder_levels([\"TCR\", \"Type\"]).sort_index()\n",
    "# Version 2: all, enhancer+null, enhancer\n",
    "df_fracs_cumul_samples2 = pd.concat({\n",
    "    ag_types_names[0]: (df_pc9_samples > -np.inf).groupby([\"Antigen\", \"TCR\"]).sum() / totals_peps,  # 100 %\n",
    "    ag_types_names[1]: (df_pc9_samples > -null_thresh).groupby([\"Antigen\", \"TCR\"]).sum() / totals_peps,\n",
    "    ag_types_names[2]: (df_pc9_samples >= null_thresh).groupby([\"Antigen\", \"TCR\"]).sum() / totals_peps\n",
    "}, names=[\"Type\"]).sort_index(level=[\"Antigen\", \"TCR\"]).droplevel([\"Antigen\"]).reorder_levels([\"TCR\", \"Type\"]).sort_index()\n",
    "# Version 3: individual fractions of each type, no cumulative\n",
    "df_fracs_samples = pd.concat({\n",
    "    ag_types_names[0]: (df_pc9_samples <= -null_thresh).groupby([\"Antigen\", \"TCR\"]).sum() / totals_peps,  # 100 %\n",
    "    ag_types_names[1]: (np.abs(df_pc9_samples) < null_thresh).groupby([\"Antigen\", \"TCR\"]).sum() / totals_peps,\n",
    "    ag_types_names[2]: (df_pc9_samples >= null_thresh).groupby([\"Antigen\", \"TCR\"]).sum() / totals_peps\n",
    "}, names=[\"Type\"]).sort_index(level=[\"Antigen\", \"TCR\"]).droplevel([\"Antigen\"]).reorder_levels([\"TCR\", \"Type\"]).sort_index()\n",
    "\n",
    "# Compute statistics of agonist, antagonist, null fractions across MCMC samples (columns)\n",
    "df_fracs_cumul_samples_stats1 = pd.concat({\n",
    "    \"mean\": df_fracs_cumul_samples1.mean(axis=1),\n",
    "    \"median\": df_fracs_cumul_samples1.median(axis=1),\n",
    "    \"percentile_2.5\": df_fracs_cumul_samples1.quantile(q=0.025, axis=1),\n",
    "    \"percentile_97.5\": df_fracs_cumul_samples1.quantile(q=0.975, axis=1)\n",
    "}, names=[\"stats\"], axis=1)\n",
    "df_fracs_cumul_samples_stats2 = pd.concat({\n",
    "    \"mean\": df_fracs_cumul_samples2.mean(axis=1),\n",
    "    \"median\": df_fracs_cumul_samples2.median(axis=1),\n",
    "    \"percentile_2.5\": df_fracs_cumul_samples2.quantile(q=0.025, axis=1),\n",
    "    \"percentile_97.5\": df_fracs_cumul_samples2.quantile(q=0.975, axis=1)\n",
    "}, names=[\"stats\"], axis=1)\n",
    "df_fracs_samples_stats = pd.concat({\n",
    "    \"mean\": df_fracs_samples.mean(axis=1),\n",
    "    \"median\": df_fracs_samples.median(axis=1),\n",
    "    \"percentile_2.5\": df_fracs_samples.quantile(q=0.025, axis=1),\n",
    "    \"percentile_97.5\": df_fracs_samples.quantile(q=0.975, axis=1)\n",
    "}, names=[\"stats\"], axis=1)\n"
   ]
  },
  {
   "cell_type": "code",
   "execution_count": null,
   "metadata": {},
   "outputs": [],
   "source": [
    "# Select the sample which yields the median fraction of antigens\n",
    "#@title MSKCC EC50s\n",
    "# Don't use their EC50s anymore, use mine\n",
    "#balachandranDf = pd.read_hdf(data_dir+'correctedBalachandranEC50s.hdf').xs(('Yes'),level=('Corrected'))\n",
    "balachandranSamplesDf = pd.read_hdf(pj(res_dir, \"mskcc_antagonism_fc_predictions_corrected_revised.h5\"), key=\"EC50_samples\")\n",
    "balachandranDf2 = pd.read_hdf(pj(res_dir, \"mskcc_antagonism_fc_predictions_corrected_revised.h5\"), key=\"EC50_fits\")\n",
    "med_col = df_fracs_samples_stats[\"median\"]\n",
    "median_sample = np.argmin(np.sum(np.abs(df_fracs_samples.values \n",
    "                    - df_fracs_samples_stats[\"median\"].values.reshape(-1, 1)), axis=0))\n",
    "balachandranDf = pd.concat({\"median\":balachandranSamplesDf[median_sample].to_frame(name=\"EC50 (M)\"), \n",
    "                            \"best\":balachandranDf2[(\"MAP\", \"log_ec50_M\")].to_frame(name=\"EC50 (M)\")}, \n",
    "                           axis=1, names=[\"stat\", \"parameter\"])\n",
    "balachandranDf = 10.0 ** balachandranDf\n",
    "balachandranSamplesDf = 10.0 ** balachandranSamplesDf\n",
    "display(balachandranDf)\n",
    "print(\"Sample closest to median:\", median_sample)\n",
    "print(\"Distances to true median:\", df_fracs_samples[median_sample] - df_fracs_samples_stats[\"median\"])"
   ]
  },
  {
   "cell_type": "code",
   "execution_count": null,
   "metadata": {
    "colab": {
     "base_uri": "https://localhost:8080/",
     "height": 1000
    },
    "executionInfo": {
     "elapsed": 489,
     "status": "ok",
     "timestamp": 1720385262870,
     "user": {
      "displayName": "François Bourassa",
      "userId": "16183510541365563755"
     },
     "user_tz": 240
    },
    "id": "LbVOMCOQC3tY",
    "outputId": "1b253677-44b3-4091-c6de-b66865e167c0"
   },
   "outputs": [],
   "source": [
    "#@title Antagonism percentages\n",
    "# Old version where I was computing these percentages in the plotting code\n",
    "# I saved the results in some other format, but whatever, easier to reuse the code here. \n",
    "antigenList1,antigenList2,tupleList = [],[],[]\n",
    "ro = ['7','4','6','5','1','2','3']\n",
    "fullPlottingDf = np.log2(balachandranModelSamples[median_sample].to_frame(\"best\")\n",
    "                         .query(\"TCR_Antigen_Pulse_uM == '1uM'\"))\n",
    "\n",
    "for i,ag in enumerate(ro):\n",
    "  plottingDf = fullPlottingDf.query(\"TCR == @ag\")\n",
    "  antagonistPercent = 100*plottingDf[plottingDf['best'] <= -null_thresh].shape[0]/plottingDf.shape[0]\n",
    "  enhancerPercent = 100*plottingDf[plottingDf['best'] >= null_thresh].shape[0]/plottingDf.shape[0]\n",
    "\n",
    "  antigenList1.append([antagonistPercent,100-enhancerPercent,100])  # Cumulative: antag, antag+null, all\n",
    "  antigenList2.append([100,100-antagonistPercent,enhancerPercent])  # Cumulative: all, enhancer+null, enhancer\n",
    "  tupleList.append(ag)\n",
    "\n",
    "antagonistPercentageDf1 = pd.DataFrame(np.matrix(antigenList1),index=tupleList,columns=ag_types_names)\n",
    "antagonistPercentageDf1.index.name = 'TCR'\n",
    "antagonistPercentageDf1.columns.name = 'Type'\n",
    "antagonistPercentageDf1 = antagonistPercentageDf1.stack().to_frame(\"best\").sort_index()\n",
    "antagonistPercentageDf1 = pd.concat([antagonistPercentageDf1, df_fracs_cumul_samples1*100.0], axis=1)\n",
    "antagonistPercentageDf1.columns.name = \"sample\"\n",
    "\n",
    "antagonistPercentageDf2 = pd.DataFrame(np.matrix(antigenList2),index=tupleList,columns=ag_types_names)\n",
    "antagonistPercentageDf2.index.name = 'TCR'\n",
    "antagonistPercentageDf2.columns.name = 'Type'\n",
    "antagonistPercentageDf2 = antagonistPercentageDf2.stack().to_frame(\"best\").sort_index()\n",
    "# Add computed CI\n",
    "antagonistPercentageDf2 = pd.concat([antagonistPercentageDf2, df_fracs_cumul_samples2*100.0], axis=1)\n",
    "antagonistPercentageDf2.columns.name = \"sample\"\n",
    "\n",
    "display(antagonistPercentageDf1)\n",
    "display(antagonistPercentageDf2)"
   ]
  },
  {
   "cell_type": "markdown",
   "metadata": {
    "id": "odsKuEzB-GeY"
   },
   "source": [
    "# Panel A: Process explanation schematic"
   ]
  },
  {
   "cell_type": "code",
   "execution_count": null,
   "metadata": {
    "cellView": "form",
    "executionInfo": {
     "elapsed": 382,
     "status": "ok",
     "timestamp": 1720385263250,
     "user": {
      "displayName": "François Bourassa",
      "userId": "16183510541365563755"
     },
     "user_tz": 240
    },
    "id": "MXeoaCte-x9e"
   },
   "outputs": [],
   "source": [
    "#@title Left: Cell representation"
   ]
  },
  {
   "cell_type": "code",
   "execution_count": null,
   "metadata": {
    "cellView": "form",
    "colab": {
     "base_uri": "https://localhost:8080/",
     "height": 323
    },
    "executionInfo": {
     "elapsed": 669,
     "status": "ok",
     "timestamp": 1720385263918,
     "user": {
      "displayName": "François Bourassa",
      "userId": "16183510541365563755"
     },
     "user_tz": 240
    },
    "id": "DurplzP4Vey6",
    "outputId": "6c234149-3575-4407-f3f5-a0182ac0fcbf"
   },
   "outputs": [],
   "source": [
    "#@title Middle: Cartoon representation\n",
    "numPoints = 5\n",
    "centerToSelectingDistance = 6\n",
    "resolution = 1\n",
    "agQuality = 12\n",
    "dummyVal = 1\n",
    "\n",
    "valList = [agQuality]\n",
    "idList = ['Selecting']\n",
    "for i in range(numPoints):\n",
    "  newX = agQuality - centerToSelectingDistance-resolution*int(numPoints/2)\n",
    "  newX = newX+resolution*i\n",
    "  valList.append(newX)\n",
    "  if i == 0:\n",
    "    idList.append('Non-conservative')\n",
    "  elif i == numPoints-1:\n",
    "    idList.append('Conservative')\n",
    "  else:\n",
    "    idList.append('')\n",
    "\n",
    "df = pd.DataFrame({'Antigen Quality':valList,'Peptide':idList,'Dummy':[dummyVal]*(numPoints+1)})\n",
    "g = sns.relplot(data=df,y='Dummy',x='Antigen Quality',hue='Peptide',hue_order=['Selecting','Non-conservative','Conservative',''],palette=['k','r','g','grey'],s=500,zorder=100,edgecolor='k',linewidth=0,aspect=2,legend=False,style='Peptide',style_order=['','Non-conservative','Conservative','Selecting'],markers=['o','o','o','D'])\n",
    "ax = g.axes.flat[0]\n",
    "ax.set_ylim([0.94,1.01])\n",
    "ax.set_xlim([-3.5,13.5])\n",
    "for i in range(numPoints):\n",
    "    start = valList[i+1]\n",
    "    mid = (valList[0]-valList[1])/2\n",
    "    if i == 0:\n",
    "      color = 'r'\n",
    "    elif i == len(valList)-2:\n",
    "      color = 'g'\n",
    "    else:\n",
    "      color = 'grey'\n",
    "    ax.annotate('',xy=(agQuality,dummyVal-(numPoints-(i))*0.005),xytext=(start,dummyVal-(numPoints-(i))*0.005),xycoords='data',arrowprops=dict(facecolor=color,arrowstyle='<-',linewidth=3,color=color),zorder=0)\n",
    "ax.annotate('',xy=(agQuality,dummyVal),xytext=(agQuality,-0.0005+dummyVal-(numPoints-(0))*0.005),xycoords='data',arrowprops=dict(facecolor='k',arrowstyle='-',linewidth=3,color='k'),zorder=200)\n",
    "ax.annotate('',xytext=(-3,dummyVal),xy=(13,dummyVal),xycoords='data',arrowprops=dict(facecolor='black',linewidth=2,width=0.5),zorder=0)\n",
    "\n",
    "ax.annotate('Single AA\\nmutations',xy=(valList[3]-2.5,0.985), xytext=(valList[3]-4.5, 0.985),ha='center',va='center',arrowprops=dict(arrowstyle='-[, widthB=2.0, lengthB=0.8',linewidth=1.5))\n",
    "#ax.annotate('Possible self-peptides (p$\\mathregular{^{MT}}$)',xy=(valList[3],1.01), xytext=(valList[3], 1.02),ha='center',va='center',arrowprops=dict(arrowstyle='-[, widthB=5.0, lengthB=0.8',linewidth=1.5))\n",
    "#ax.annotate('Selecting peptide (p$\\mathregular{^{WT}}$)',xy=(12,1.01), xytext=(12, 1.02),ha='center',va='center',arrowprops=dict(arrowstyle='-[, widthB=1.0, lengthB=0.8',linewidth=1.5))\n",
    "ax.annotate('Possible self-peptides\\n'+pSelf,xy=(valList[3],1.01), xytext=(valList[3], 1.02),ha='center',va='center',arrowprops=dict(arrowstyle='-[, widthB=5.0, lengthB=0.8',linewidth=1.5))\n",
    "ax.annotate('Agonist peptide\\n'+pAg,xy=(12,1.01), xytext=(12, 1.02),ha='center',va='center',arrowprops=dict(arrowstyle='-[, widthB=1.0, lengthB=0.8',linewidth=1.5))\n",
    "\n",
    "\n",
    "ax.annotate('Low impact',xy=(12.2,dummyVal-(numPoints-(4))*0.005),ha='left',va='top',color='g')\n",
    "ax.annotate('High impact',xy=(12.2,dummyVal-(numPoints-(0))*0.005),ha='left',va='bottom',color='r')\n",
    "\n",
    "#ax.annotate('Antigen\\nquality',xy=(-0.5,1),ha='center',va='center',bbox=dict(facecolor='w',edgecolor='w'))\n",
    "ax.annotate('Antigen\\nstrength',xy=(valList[3]-4.5,1),ha='center',va='center',bbox=dict(facecolor='w',edgecolor='w'))\n",
    "\n",
    "ax.set_ylabel('')\n",
    "ax.set_xlabel('')\n",
    "ax.spines[['left', 'bottom']].set_visible(False)\n",
    "ax.set_yticks([])\n",
    "ax.set_xticks([])\n",
    "\n",
    "if do_save_plots:\n",
    "    g.figure.savefig(pj(fig_dir, '5A_center-explanationSchematic.pdf'),bbox_inches='tight',transparent=True)"
   ]
  },
  {
   "cell_type": "code",
   "execution_count": null,
   "metadata": {
    "cellView": "form",
    "colab": {
     "base_uri": "https://localhost:8080/",
     "height": 271
    },
    "executionInfo": {
     "elapsed": 571,
     "status": "ok",
     "timestamp": 1720385264488,
     "user": {
      "displayName": "François Bourassa",
      "userId": "16183510541365563755"
     },
     "user_tz": 240
    },
    "id": "kBkgjE87syg0",
    "outputId": "5da37e97-9d32-46b1-fd7e-f81d0410f87e"
   },
   "outputs": [],
   "source": [
    "#@title Right: Cartoon representation (multiple strengths)\n",
    "numPoints = 5\n",
    "centerToSelectingDistance = 6\n",
    "resolution = 1\n",
    "agQuality = 12\n",
    "dummyVal = 1\n",
    "\n",
    "qualities = [12,10,8]\n",
    "\n",
    "trueValList = []\n",
    "trueIDlist = []\n",
    "dummyList = []\n",
    "for j in range(3):\n",
    "  valList = [qualities[j]]\n",
    "  idList = ['Selecting']\n",
    "  for i in range(numPoints):\n",
    "    newX = qualities[j] - centerToSelectingDistance-resolution*int(numPoints/2)\n",
    "    newX = newX+resolution*i\n",
    "    valList.append(newX)\n",
    "    if i == 0:\n",
    "      idList.append('Non-conservative')\n",
    "    elif i == numPoints-1:\n",
    "      idList.append('Conservative')\n",
    "    else:\n",
    "      idList.append('')\n",
    "  trueValList+=valList\n",
    "  trueIDlist+=idList\n",
    "  dummyList+=[1-j*0.01]*len(valList)\n",
    "\n",
    "valList = trueValList.copy()\n",
    "idList = trueIDlist.copy()\n",
    "\n",
    "df = pd.DataFrame({'Antigen Quality':valList,'Peptide':idList,'Dummy':dummyList})\n",
    "g = sns.relplot(data=df,y='Dummy',x='Antigen Quality',hue='Peptide',hue_order=['Selecting','Non-conservative','Conservative',''],palette=['k','r','g','grey'],s=500,zorder=100,edgecolor='k',linewidth=0,aspect=2,legend=False,style='Peptide',style_order=['','Non-conservative','Conservative','Selecting'],markers=['o','o','o','D'])\n",
    "ax = g.axes.flat[0]\n",
    "ax.set_ylim([0.97,1.05])\n",
    "ax.set_xlim([-3.5,13.5])\n",
    "for i in range(numPoints):\n",
    "    start = valList[i+1]\n",
    "    mid = (valList[0]-valList[1])/2\n",
    "    if i == 0:\n",
    "      color = 'r'\n",
    "    elif i == len(valList)-2:\n",
    "      color = 'g'\n",
    "    else:\n",
    "      color = 'grey'\n",
    "\n",
    "ax.axvspan(6.5,12.5,color='orange',alpha=0.3)\n",
    "ax.axvspan(1.5,5.5,color='purple',alpha=0.3)\n",
    "ax.axvline(color='k',linestyle=':',x=5.5)\n",
    "ax.axvline(color='k',linestyle=':',x=1.5)\n",
    "ax.axvline(color='k',linestyle=':',x=6.5)\n",
    "\n",
    "ax.set_ylabel('')\n",
    "ax.set_xlabel('')\n",
    "ax.spines[['left', 'bottom']].set_visible(False)\n",
    "ax.set_yticks([])\n",
    "ax.set_xticks([])\n",
    "\n",
    "ax.annotate('Strong',xy=(13.2,dummyVal),ha='left',va='center')\n",
    "ax.annotate('Medium',xy=(13.2,dummyVal-0.01),ha='left',va='center')\n",
    "ax.annotate('Weak',xy=(13.2,dummyVal-0.02),ha='left',va='center')\n",
    "\n",
    "ax.annotate('',xytext=(-3,dummyVal),xy=(13,dummyVal),xycoords='data',arrowprops=dict(facecolor='black',linewidth=2,width=0.5),zorder=0)\n",
    "ax.annotate('',xytext=(-3,dummyVal-0.01),xy=(13,dummyVal-0.01),xycoords='data',arrowprops=dict(facecolor='black',linewidth=2,width=0.5),zorder=0)\n",
    "ax.annotate('',xytext=(-3,dummyVal-0.02),xy=(13,dummyVal-0.02),xycoords='data',arrowprops=dict(facecolor='black',linewidth=2,width=0.5),zorder=0)\n",
    "\n",
    "ax.annotate('No effect',xy=(0,dummyVal+0.015),ha='center',va='center')#,fontweight='bold')\n",
    "ax.annotate('Antagonism',xy=(3.5,dummyVal+0.015),color='purple',ha='center',va='center')#,fontweight='bold')\n",
    "ax.annotate('Enhancement',xy=(9.5,dummyVal+0.015),color='orange',ha='center',va='center')#,fontweight='bold')\n",
    "\n",
    "ax.annotate('Agonist\\nstrength',xy=(14,dummyVal+0.015),ha='center',va='center',annotation_clip=False)\n",
    "\n",
    "if do_save_plots:\n",
    "    g.figure.savefig(pj(fig_dir, '5A_right-hypothesisSchematic.pdf'),bbox_inches='tight',transparent=True)"
   ]
  },
  {
   "cell_type": "markdown",
   "metadata": {
    "id": "iye1duvJ_GwQ"
   },
   "source": [
    "# Panel B: Experimental dose response curves"
   ]
  },
  {
   "cell_type": "code",
   "execution_count": null,
   "metadata": {
    "cellView": "form",
    "executionInfo": {
     "elapsed": 5,
     "status": "ok",
     "timestamp": 1720385264489,
     "user": {
      "displayName": "François Bourassa",
      "userId": "16183510541365563755"
     },
     "user_tz": 240
    },
    "id": "1Wb0veGrvj1k"
   },
   "outputs": [],
   "source": [
    "#@title Set threshold for antagonism and enhancement\n",
    "antagonism_threshold = 0.5\n",
    "enhancement_threshold = 2.0"
   ]
  },
  {
   "cell_type": "code",
   "execution_count": null,
   "metadata": {
    "cellView": "form",
    "executionInfo": {
     "elapsed": 4,
     "status": "ok",
     "timestamp": 1720385264489,
     "user": {
      "displayName": "François Bourassa",
      "userId": "16183510541365563755"
     },
     "user_tz": 240
    },
    "id": "MfB5EZyN6sTD"
   },
   "outputs": [],
   "source": [
    "#@title Plotting functions\n",
    "def normalized_hill(x, a, b, h, n):\n",
    "    if np.isfinite(h):\n",
    "        xnorm = x / h\n",
    "    else:\n",
    "        xnorm = 0.0\n",
    "    return (a - b) * xnorm**n / (xnorm**n + 1.0) + b\n",
    "\n",
    "\n",
    "def geo_mean_apply(ser):\n",
    "    return np.exp(np.mean(np.log(ser)))\n",
    "\n",
    "\n",
    "def load_n4_ref(dose_dir):\n",
    "    df_cd25_ec50s = (pd.read_hdf(pj(data_dir, \"dose_response\", \"experimental_peptide_ec50s_blasts.h5\"),\n",
    "                key=\"df\").xs(\"CD25fit\", level=\"Method\"))\n",
    "    df_cd25_ec50s = df_cd25_ec50s.groupby([\"TCR\", \"Peptide\"]).apply(geo_mean_apply)\n",
    "\n",
    "    # Rename HHAT peptides to HHAT-...\n",
    "    rename_dict = {p:\"HHAT-{}\".format(p) for p in df_cd25_ec50s.xs(\"HHAT\").index.unique()}\n",
    "    rename_dict.update({p:\"NYESO-{}\".format(p) for p in df_cd25_ec50s.xs(\"NYESO\").index.unique()})\n",
    "    rename_dict.update({p:\"OT1-{}\".format(p) for p in df_cd25_ec50s.xs(\"OT1\").index.unique()})\n",
    "    df_cd25_ec50s = df_cd25_ec50s.rename(rename_dict, level=\"Peptide\")\n",
    "\n",
    "    # Choose reference absolute EC50 for N4: use CD25 EC50s\n",
    "    # This means we will have different taus for OT-1 peptides vs. fig. 2\n",
    "    # But that's OK, we are using a different set of EC50s\n",
    "    # to illustrate the general procedure to predict antagonism\n",
    "    ref_ec50_n4 = df_cd25_ec50s.at[(\"OT1\", \"OT1-N4\")]  # M\n",
    "\n",
    "    # Load N4's reference EC50\n",
    "    ref_file = pj(data_dir, \"reference_pep_tau_maps.json\")\n",
    "    with open(ref_file, \"r\") as file:\n",
    "        tau_refs = json.load(file)\n",
    "\n",
    "    ref_tau_n4 = tau_refs.get(\"N4\")  # s\n",
    "\n",
    "    return ref_ec50_n4, ref_tau_n4\n",
    "\n",
    "\n",
    "def clean_nosub_duplicates(df):\n",
    "    for tcr in df.index.get_level_values(\"TCR\").unique():\n",
    "        params_tcr = df.xs(tcr, level=\"TCR\")\n",
    "        antigen = params_tcr.index.get_level_values(\"Antigen\").unique()[0]\n",
    "        # Find all false substitutions\n",
    "        wt_duplicates = {}\n",
    "        for pep in params_tcr.index.get_level_values(\"Peptide\").unique():\n",
    "            if pep[0] == pep[2]:\n",
    "                wt_duplicates[pep] = params_tcr.loc[(antigen, pep)]\n",
    "        # Check they were all identical\n",
    "        #print(wt_duplicates)\n",
    "        # Replace them all by one WT row\n",
    "        df = df.drop([(antigen, tcr, pep) for pep in wt_duplicates.keys()])\n",
    "        df.loc[(antigen, tcr, \"WT\")] = list(wt_duplicates.values())[0]\n",
    "    return df\n",
    "\n",
    "def plot_ec50_curves(df_data, df_params):\n",
    "    possible_concs = df_data[\"Dose (M)\"].unique()\n",
    "    conc_range = np.geomspace(possible_concs.min()*0.5, possible_concs.max()*2, 200)\n",
    "    x_min = conc_range.min()\n",
    "    # Compute each EC50 curve\n",
    "    df_params2 = df_params[[\"V_inf\", \"backgnd\", \"log_ec50_M\", \"n\"]].copy()\n",
    "    df_params2[\"ec50_M\"] = 10.0**df_params2[\"log_ec50_M\"]\n",
    "    df_params2 = df_params2.drop(\"log_ec50_M\", axis=1)\n",
    "    curves = np.stack([normalized_hill(conc_range, *df_params2.iloc[i])\n",
    "                        for i in range(df_params.shape[0])])\n",
    "    # colors: according to EC50\n",
    "    # Clip EC50s to reasonable range before defining color\n",
    "    norm = mpl.colors.Normalize(vmin=np.log(df_params2[\"ec50_M\"].min()),\n",
    "                    vmax=min(np.log(df_params2[\"ec50_M\"].max()), np.log(x_min*1e12)))\n",
    "    colors = [plt.cm.magma(1.0 - norm(np.log(df_params2.loc[p, \"ec50_M\"]))) for p in df_params.index]\n",
    "    labels = df_params2.index.get_level_values(\"Peptide\").values\n",
    "\n",
    "    # Activation marker\n",
    "    response_name = [lbl for lbl in df_data.columns if lbl.startswith(\"Response\")]\n",
    "    response_name = response_name[0]\n",
    "\n",
    "    # Plot\n",
    "    fig, ax = plt.subplots()\n",
    "    default_figsize = fig.get_size_inches()\n",
    "    fig.set_size_inches(default_figsize[0]*0.9, default_figsize[1]*0.9)\n",
    "    ax.set_xscale(\"log\")\n",
    "    # Plot dose response data first\n",
    "    for i, lbl in enumerate(df_params2.index):\n",
    "        data_pts = df_data.loc[lbl]\n",
    "        ax.plot(data_pts[\"Dose (M)\"], data_pts[response_name], mfc=\"grey\",\n",
    "        mec=colors[i], ls=\"-\", lw=1.5, marker=\"o\", ms=8, mew=0.75,\n",
    "        color=colors[i])\n",
    "\n",
    "    # Plot fitted curves\n",
    "    #for i in range(len(curves)):\n",
    "    #    ax.plot(conc_range, curves[i]*100.0, color=colors[i], lw=2.0, label=labels[i])\n",
    "\n",
    "    ylims = [-5.0, 105.0]  # %\n",
    "    ax.set_ylim(ylims)\n",
    "    #for i, p in enumerate(df_params.index):\n",
    "    #    if x_min <= df_params.loc[p, \"K_a\"] <= conc_range.max():\n",
    "    #        max_ampli = df_params.loc[p, \"A\"]*100.0\n",
    "    #        ax.plot(df_params.loc[p, \"K_a\"], max_ampli / 2.0, ls=\"none\",\n",
    "    #            marker=\"^\", color=colors[i], mec=\"r\", mew=1.0, ms=8.0 )\n",
    "            #ax.axvline(df_params.loc[p, \"K_a\"], ymin=0.0,\n",
    "            #        ymax=(max_ampli/2.0 - ylims[0]) / (ylims[1] - ylims[0]),\n",
    "            #        lw=1.0, ls=\"--\", color=colors[i])\n",
    "\n",
    "    ax.set_xlabel(r\"Dose (M)\")\n",
    "    ax.set_ylabel(response_name)\n",
    "    for side in [\"top\", \"right\"]:\n",
    "        ax.spines[side].set_visible(False)\n",
    "    #ax.set_xticklabels([])\n",
    "    #ax.set_yticklabels([])\n",
    "    #ax.set_xticks([])\n",
    "    #ax.set_yticks([])\n",
    "    #locmin = mpl.ticker.LogLocator(base=10.0, subs=np.arange(2, 10) * .1,\n",
    "    #                                      numticks=100)\n",
    "    #ax.xaxis.set_minor_locator(locmin)\n",
    "    fig.tight_layout()\n",
    "    return fig, ax\n",
    "\n",
    "\n",
    "def plot_model_curve(df_ec50s, model_curve, ec50_ref, tau_ref, npow=6):\n",
    "    \"\"\" model_curve also contains percentiles for CI plotting \"\"\"\n",
    "    # Convert mock EC50s to taus using the actual formula\n",
    "    ser_ec50s = df_ec50s[\"EC50 (M)\"]\n",
    "    #ec50_ref = 1e-11  # N4, in M\n",
    "    npow = 6\n",
    "    converter = lambda x: tau_ref * (ec50_ref / x)**(1/npow)\n",
    "    all_taus = ser_ec50s.apply(converter).values\n",
    "\n",
    "    # Clip tau values larger than the max in the curve\n",
    "    # we don't want the plot to shrink the antagonism region too much\n",
    "    # due to a couple of outlier very strong agonists\n",
    "    all_taus = all_taus.clip(min=-np.inf, max=model_curve.index.values.max())\n",
    "\n",
    "    # Find closest tau in the curves\n",
    "    where_closest = np.argmin(np.abs(model_curve.index.values[:, None] - all_taus[None, :]), axis=0)\n",
    "    model_points = model_curve[\"best\"].iloc[where_closest]\n",
    "\n",
    "    # Colors\n",
    "    # Clip EC50s to reasonable range before defining color\n",
    "    norm = mpl.colors.Normalize(vmin=np.log(ser_ec50s.min()),\n",
    "            vmax=min(np.log(ser_ec50s.max()), np.log(ser_ec50s.min()*1e12)))\n",
    "    colors = plt.cm.magma(1.0 - norm(np.log(ser_ec50s)))\n",
    "    labels = ser_ec50s.index.get_level_values(\"Peptide\").values\n",
    "\n",
    "    # Plot the model curve and highlight mock points\n",
    "    fig, ax = plt.subplots()\n",
    "    default_figsize = fig.get_size_inches()\n",
    "    fig.set_size_inches(default_figsize[0]*0.9, default_figsize[1]*0.85)\n",
    "    ax.set_yscale(\"log\", base=2)\n",
    "    ax.plot(model_curve.index.values, model_curve[\"best\"], ls=\"-\", color=\"k\", lw=3.0)\n",
    "    ax.fill_between(model_curve.index.values, model_curve[\"percentile_2.5\"], model_curve[\"percentile_97.5\"],\n",
    "                    color=\"k\", alpha=0.2)\n",
    "    ax.axhline(1.0, ls=\"--\", color=\"grey\")\n",
    "    for i in range(len(all_taus)):\n",
    "        ax.plot(all_taus[i], model_points.iloc[i], marker=\"o\", mfc=colors[i],\n",
    "                mec=\"k\", mew=0.75, ms=12)\n",
    "    ax.set_ylabel(r\"$FC_{\\mathrm{TCR/CAR}}$\")\n",
    "    ax.set_xlabel(r\"TCR antigenicity ($\\tau$)\", labelpad=10.0)\n",
    "    ax.set_xticklabels([])\n",
    "    ax.set_xticks([])\n",
    "    #ax.set_yticklabels([])\n",
    "    # highlight regions of antagonism, null, enhancement\n",
    "    ylims = ax.get_ylim()\n",
    "    ax.set_ylim(ylims)\n",
    "    ax.set_xlim(ax.get_xlim())\n",
    "    ax.fill_between(ax.get_xlim(), ylims[0], antagonism_threshold, color=\"purple\", alpha=0.3, zorder=0)\n",
    "    ax.fill_between(ax.get_xlim(), enhancement_threshold, ylims[1], color=\"orange\", alpha=0.3, zorder=0)\n",
    "    ax.annotate(\"Enhancement\", color=\"orange\", xy=(ax.get_xlim()[1]*0.95, 2.25), ha=\"right\", va=\"bottom\")\n",
    "    ax.annotate(\"Antagonism\", color=\"purple\", xy=(ax.get_xlim()[1]*0.95, 0.4), ha=\"right\", va=\"top\")\n",
    "    for side in [\"top\", \"right\"]:\n",
    "        ax.spines[side].set_visible(False)\n",
    "    fig.tight_layout()\n",
    "    return fig, ax\n",
    "\n",
    "\n",
    "def corner_plot_2d_mcmc(samples, pvec_best, pnames, sizes_kwargs={}, **kwargs):\n",
    "    \"\"\"\n",
    "    Args:\n",
    "        samples (np.ndarray): MCMC samples.\n",
    "            Using the first two parameters only.\n",
    "        pvec_best (np.ndarray): best parameter value\n",
    "        pnames (list): list of fitted parameter names, using the first two.\n",
    "        sizes_kwargs (dict): things like scaleup, small_lw, truth_lw, small_markersize.\n",
    "            Also truth_color.\n",
    "\n",
    "    Other kwargs are passed to corner.corner.\n",
    "\n",
    "    Returns:\n",
    "        fig (matplotlib.figure.Figure): cornerplot figure\n",
    "    \"\"\"\n",
    "    # Make the corner plot, using aesthetical parameters in sizes_kwargs\n",
    "    scaleup = sizes_kwargs.get(\"scaleup\", 1.0)\n",
    "    small_lw = sizes_kwargs.get(\"small_lw\", 0.8) * scaleup\n",
    "    truth_lw = sizes_kwargs.get(\"truth_lw\", 1.25) * scaleup\n",
    "    small_markersize = sizes_kwargs.get(\"small_markersize\", 1.0) * scaleup\n",
    "    tcr_color = np.asarray((0.0, 156.0, 75.0, 255.0)) / 255.0  # deep key lime green\n",
    "    truth_color = sizes_kwargs.get(\"truth_color\", tcr_color)\n",
    "    #\"xkcd:cornflower\", #\"xkcd:sage\"\n",
    "    reverse_plots = sizes_kwargs.get(\"reverse_plots\", False)\n",
    "    labelpad = sizes_kwargs.get(\"labelpad\", len(pvec_best)**3/200.0)\n",
    "\n",
    "    # Corner plot\n",
    "    hist2d_kwargs = {\"contour_kwargs\":{\"linewidths\":small_lw},\n",
    "                     \"data_kwargs\":{\"ms\":small_markersize}}\n",
    "    fig, ax = plt.subplots()\n",
    "    corner.hist2d(\n",
    "        x=samples[0].flatten(),\n",
    "        y=samples[1].flatten(),\n",
    "        ax=ax,\n",
    "        # Plot truths manually below to control line width\n",
    "        **hist2d_kwargs,\n",
    "        **kwargs\n",
    "    )\n",
    "    # Label the graph\n",
    "    ax.set(xlabel=pnames[0], ylabel=pnames[1])\n",
    "\n",
    "    # Add truths manually to control line width\n",
    "    ax.axvline(pvec_best[0], color=truth_color, lw=truth_lw)\n",
    "    ax.axhline(pvec_best[1], color=truth_color, lw=truth_lw)\n",
    "    ax.plot(pvec_best[0], pvec_best[1], ls=\"none\", marker=\"s\",\n",
    "            ms=5.0*small_markersize, mfc=truth_color, mec=truth_color)\n",
    "\n",
    "    fig.set_size_inches(sizes_kwargs.get(\"figsize\", fig.get_size_inches()))\n",
    "    for side in [\"top\", \"right\"]:\n",
    "        ax.spines[side].set_visible(False)\n",
    "    fig.tight_layout()\n",
    "    return fig, ax\n"
   ]
  },
  {
   "cell_type": "code",
   "execution_count": null,
   "metadata": {
    "cellView": "form",
    "colab": {
     "base_uri": "https://localhost:8080/"
    },
    "executionInfo": {
     "elapsed": 2085,
     "status": "ok",
     "timestamp": 1720385266570,
     "user": {
      "displayName": "François Bourassa",
      "userId": "16183510541365563755"
     },
     "user_tz": 240
    },
    "id": "BRD9a8Jb36fE",
    "outputId": "9b70dcba-2d47-4d9d-fd23-1b710551e769"
   },
   "outputs": [],
   "source": [
    "#@title Load MSKCC data\n",
    "# Import MSKCC dose response data, and our curve fitting parameters and ec50 data\n",
    "mskcc_data = pd.read_hdf(pj(data_dir, \"dose_response\", \"MSKCC_rawDf.hdf\")).sort_index()\n",
    "mskcc_params = pd.read_hdf(pj(res_dir, \"mskcc_antagonism_fc_predictions_corrected_revised.h5\"), key=\"EC50_fits\")\n",
    "choice_method = \"MAP\"\n",
    "mskcc_ec50s = (10.0 ** mskcc_params.loc[:, (choice_method, [\"log_ec50_M\", \"log_ec50_ugmL\"])]\n",
    "               .droplevel(\"Feature\", axis=1)\n",
    "                .rename({\"log_ec50_ugmL\":\"EC50 (ug/mL)\", \"log_ec50_M\":\"EC50 (M)\"}, axis=1)\n",
    "              )\n",
    "mskcc_params = mskcc_params.xs(choice_method, axis=1, level=0)\n",
    "for df in [mskcc_data, mskcc_params, mskcc_ec50s]:\n",
    "    print(df.index.get_level_values(\"Antigen\").unique())\n",
    "\n",
    "# In the parameters dataframe, drop all false substitutions, e.g. A7A:\n",
    "# these are all copies of the WT, duplicated for heatmap plotting convenience\n",
    "#mskcc_params = clean_nosub_duplicates(mskcc_params)\n",
    "\n",
    "# Rename CD137 to 4-1BB\n",
    "resp_name = \"Response (4-1BB+ %)\"\n",
    "mskcc_data = mskcc_data.rename({\"Response (CD137+ %)\":resp_name}, axis=1)\n",
    "\n",
    "# Change K_a from ug/ml to mol/l\n",
    "print(mskcc_data)\n",
    "print(mskcc_ec50s)\n",
    "mskcc_params[\"K_a\"] = mskcc_ec50s[\"EC50 (M)\"]\n",
    "print(mskcc_params)"
   ]
  },
  {
   "cell_type": "code",
   "execution_count": null,
   "metadata": {
    "executionInfo": {
     "elapsed": 243,
     "status": "ok",
     "timestamp": 1720385266811,
     "user": {
      "displayName": "François Bourassa",
      "userId": "16183510541365563755"
     },
     "user_tz": 240
    },
    "id": "0RnZIHdo4iOG"
   },
   "outputs": [],
   "source": [
    "df_response_inf = mskcc_data.copy()\n",
    "peps_without_ec50 = (mskcc_ec50s[\"EC50 (M)\"] == np.inf)\n",
    "df_response_inf[\"INF\"] = peps_without_ec50\n",
    "df_response_inf = df_response_inf.set_index(\"INF\", append=True).set_index(\"Dose (ug/mL)\", append=True)\n",
    "# Keep only the largest dose\n",
    "df_response_inf = df_response_inf.xs(100.0, level=\"Dose (ug/mL)\")[resp_name]"
   ]
  },
  {
   "cell_type": "code",
   "execution_count": null,
   "metadata": {
    "cellView": "form",
    "colab": {
     "base_uri": "https://localhost:8080/",
     "height": 255
    },
    "executionInfo": {
     "elapsed": 1481,
     "status": "ok",
     "timestamp": 1720385762320,
     "user": {
      "displayName": "François Bourassa",
      "userId": "16183510541365563755"
     },
     "user_tz": 240
    },
    "id": "eUHAA4iC4Cvh",
    "outputId": "37b32328-551c-44df-ac7e-54a195860e7c"
   },
   "outputs": [],
   "source": [
    "#@title Plot EC50 curves for the neoantigen\n",
    "fig, ax = plot_ec50_curves(mskcc_data.loc[\"Neoantigen\"], mskcc_params.loc[\"Neoantigen\"])\n",
    "if do_save_plots:\n",
    "    fig.savefig(pj(fig_dir, \"5B-mskcc_ec50_data.pdf\"), transparent=True, bbox_inches=\"tight\")\n",
    "plt.show()\n",
    "plt.close()"
   ]
  },
  {
   "cell_type": "markdown",
   "metadata": {
    "id": "ASno0tRO_oXU"
   },
   "source": [
    "# Panel C: EC50 heatmaps"
   ]
  },
  {
   "cell_type": "code",
   "execution_count": null,
   "metadata": {
    "cellView": "form",
    "colab": {
     "base_uri": "https://localhost:8080/",
     "height": 557
    },
    "executionInfo": {
     "elapsed": 2608,
     "status": "ok",
     "timestamp": 1720385767639,
     "user": {
      "displayName": "François Bourassa",
      "userId": "16183510541365563755"
     },
     "user_tz": 240
    },
    "id": "I-C5_1z1tsUN",
    "outputId": "9d7ca009-823d-48aa-eb95-1175a137707c"
   },
   "outputs": [],
   "source": [
    "#@title Plot\n",
    "from matplotlib.patches import Rectangle\n",
    "# For heatmaps, distributions: use the median sample\n",
    "# to avoid the clipped EC50s of null peptides\n",
    "# For WT peptides bar graphs: use 'best'\n",
    "stat_choice = \"median\"\n",
    "\n",
    "tcrDict = {'CMV':['1','2','3'],'gp100':['4','5','6'],'Neoantigen':['7']}\n",
    "tcrDict2 = {'7':'N1','4':'G1','6':'G2','5':'G3','1':'C1','2':'C2','3':'C3'}\n",
    "wtseqDict = {'CMV': 'NLVPMVATV','gp100': 'IMDQVPFSV', 'Neoantigen': 'GRLKALCQR'}\n",
    "for antigen in ['CMV','gp100','Neoantigen']:\n",
    "  for tcr in tcrDict[antigen]:\n",
    "    labeledCytDf = balachandranDf.xs(stat_choice, axis=1).query(\"Antigen == @antigen and TCR == @tcr\")\n",
    "    #KVPRNQDWL\n",
    "    wtseq = wtseqDict[antigen]\n",
    "    wtDf = pd.concat([labeledCytDf.query(\"Peptide == 'WT'\")]*len(wtseq),keys=[x+str(i+1)+x for i,x in enumerate(wtseq)]).droplevel('Peptide')\n",
    "    wtDf.index.names = ['Peptide']+list(wtDf.index.names)[1:]\n",
    "    wtDf = wtDf.reset_index().set_index(labeledCytDf.index.names)\n",
    "    labeledCytDf2 = labeledCytDf.query(\"Peptide != ['Irrelevant','WT']\")\n",
    "    labeledCytDf2 = pd.concat([labeledCytDf2,wtDf])\n",
    "    labeledCytDf2['WT'] = [x[:2] for x in labeledCytDf2.index.get_level_values('Peptide')]\n",
    "    labeledCytDf2['Mutant'] = [x[2] for x in labeledCytDf2.index.get_level_values('Peptide')]\n",
    "    labeledCytDf2 = labeledCytDf2.set_index(['WT','Mutant'],append=True)\n",
    "\n",
    "    fig = plt.figure(figsize=(5,10))\n",
    "    plottingDf = labeledCytDf2.droplevel(['Peptide']).loc[:,'EC50 (M)'].unstack('WT')\n",
    "    plottingDf = plottingDf[[x+str(i+1) for i,x in enumerate(wtseq)]]\n",
    "    mutantOrder = 'WFYCMLIVDENHRKQGPSAT'\n",
    "    plottingDf = plottingDf.droplevel(['Antigen','TCR']).reindex([x for x in mutantOrder],axis=0,level=0).astype(float)\n",
    "    plottingDf = np.log10(plottingDf)\n",
    "    #print('-'.join([tcr,antigen]))\n",
    "    #display(plottingDf.max().max())\n",
    "    #display(plottingDf.min().min())\n",
    "    plottingDf = np.clip(plottingDf,a_min=-11,a_max=0)\n",
    "    g = sns.heatmap(plottingDf,cbar_kws={'label':'EC$_{50}$ (M)', 'shrink':0.8}, cmap='magma_r')\n",
    "    wtposes = [[i,plottingDf.index.unique('Mutant').tolist().index(x)] for i,x in enumerate(wtseq)]\n",
    "    ax = plt.gca()\n",
    "    ax.set_title(antigen+', TCR '+tcrDict2[tcr])# + r\"$^{M\\L}$\")\n",
    "    for wtpose in wtposes:\n",
    "      ax.add_patch(Rectangle((wtpose[0], wtpose[1]), 1, 1, fill=False, edgecolor='w', lw=3))\n",
    "    g.set_xticklabels([x.get_text()[0] for x in g.get_xticklabels()],rotation=0)\n",
    "    #g.set_yticklabels([x for x in mutantOrder],rotation=0)\n",
    "    g.set_yticklabels([x.get_text()[0] for x in g.get_yticklabels()],rotation=0)\n",
    "    ax.set_xlabel('AA in '+pAg)\n",
    "    ax.set_ylabel('AA in '+pSelf)\n",
    "    ax.collections[0].colorbar.ax.tick_params(labelsize=14)\n",
    "\n",
    "    ogyticks = g.collections[0].colorbar.get_ticks()[1:]\n",
    "    newyticks = list(pd.unique([int(x) for x in ogyticks]))\n",
    "    newyticklabels = ['10$^{'+str(x)+'}$' for x in newyticks]\n",
    "    g.collections[0].colorbar.set_ticks(newyticks)\n",
    "    g.collections[0].colorbar.set_ticklabels(newyticklabels)\n",
    "\n",
    "    if tcr == \"7\":\n",
    "        if do_save_plots:\n",
    "            fig.savefig(pj(fig_dir, '5C-balachandranExperimentalEC50-Neoantigen7.pdf'),\n",
    "                bbox_inches='tight',transparent=True, dpi=300)\n",
    "        plt.show()\n",
    "    plt.close()"
   ]
  },
  {
   "cell_type": "markdown",
   "metadata": {
    "id": "55A2Aa_L_z8E"
   },
   "source": [
    "# Panel D: EC50 distributions"
   ]
  },
  {
   "cell_type": "code",
   "execution_count": null,
   "metadata": {
    "cellView": "form",
    "colab": {
     "base_uri": "https://localhost:8080/",
     "height": 931
    },
    "executionInfo": {
     "elapsed": 2108,
     "status": "ok",
     "timestamp": 1720385769742,
     "user": {
      "displayName": "François Bourassa",
      "userId": "16183510541365563755"
     },
     "user_tz": 240
    },
    "id": "RrhPSmZunK-W",
    "outputId": "fdc0df6e-1a6d-4284-b5fa-4cb8585e64e7"
   },
   "outputs": [],
   "source": [
    "#@title Plot\n",
    "stat_choice = \"median\"\n",
    "tcr_to_antigen_map = {\"1\":\"CMV\", \"2\":\"CMV\", \"3\":\"CMV\", \"4\":\"gp100\", \"5\":\"gp100\", \"6\":\"gp100\", \"7\":\"Neoantigen\"}\n",
    "# Find the EC50s that give enhancement, antagonism, or nothing\n",
    "# based on model predictions in PC9 at 1 uM\n",
    "balachandranMixedDf = pd.concat([balachandranDf[(stat_choice, \"EC50 (M)\")].to_frame(name=\"EC50 (M)\"),\n",
    "        (balachandranModelSamples[median_sample].xs(\"1uM\", level=dens_name, axis=0)\n",
    "         .to_frame(\"FC\"))], axis=1)\n",
    "# limit between null and antagonism: weakest peptide (largest EC50) producing FC < 1/2\n",
    "ec50_limit_null = np.amax(balachandranMixedDf[\"EC50 (M)\"].loc[balachandranMixedDf[\"FC\"] <= 0.5])# * 1e6\n",
    "# limit between antagonism and null2: strongest peptide (smallest EC50) producing FC < 1/2\n",
    "ec50_limit_null2 = np.amin(balachandranMixedDf[\"EC50 (M)\"].loc[balachandranMixedDf[\"FC\"] <= 0.5])# * 1e6\n",
    "# Limit between antagonism and agonist: weakest peptide (largest EC50) producing FC > 2\n",
    "ec50_limit_antag = np.amax(balachandranMixedDf[\"EC50 (M)\"].loc[balachandranMixedDf[\"FC\"] > 2.0])# * 1e6\n",
    "\n",
    "# plot histogram of 1/EC50, limit EC50s to 1e8 uM = 100 M\n",
    "fullPlottingDf = -(np.log10(balachandranDf.xs(stat_choice, axis=1)).clip(upper=2))\n",
    "ro = ['7','4','6','5','1','2','3']\n",
    "g = sns.displot(data=fullPlottingDf, x=\"EC50 (M)\",kind='kde',color='k',rug=True,row='TCR',\n",
    "                rug_kws={'height':0.1},facet_kws=dict(sharey=False),height=2.2,aspect=2.5,row_order=ro,zorder=300)\n",
    "figsize = g.figure.get_size_inches()\n",
    "g.figure.set_size_inches(figsize[0]*0.8, figsize[1])\n",
    "#,hue='TCR_Antigen_Density',palette=['k','grey'],hue_order=['1uM','1nM'])\n",
    "#titles = ['CMV (Strong), TCRs 1-3','gp100 (Weak) TCRs 4-6','Neoantigen (Very Weak), TCR 7']\n",
    "#titles = ['CMV, TCR 1','CMV, TCR 2','CMV, TCR 3','gp100, TCR 4','gp100, TCR 5','gp100, TCR 6','Neoantigen, TCR 7']\n",
    "titles = ['Neoantigen, TCR N1','gp100, TCR G1','gp100, TCR G2','gp100, TCR G3','CMV, TCR C1','CMV, TCR C2','CMV, TCR C3']\n",
    "tupleList = []\n",
    "for i,tcr in enumerate(ro):\n",
    "    axis = g.axes.flat[i]\n",
    "    axis.set_xlim([-2.5,12.5])\n",
    "    # Annotate where the WT peptide is\n",
    "    ag = tcr_to_antigen_map.get(tcr)\n",
    "    axis.set_ylim(axis.get_ylim()[0], axis.get_ylim()[1]*1.25)\n",
    "    x_wt = np.log10(1e0 / balachandranDf.at[(ag, tcr, \"WT\"), (stat_choice, \"EC50 (M)\")])\n",
    "    xfrac = (x_wt + 2.5) / 15\n",
    "    axis.axvline(x_wt, 0, 0.8, color=\"k\",linestyle='--',zorder=300)\n",
    "    where_below = (balachandranDf.loc[(ag, tcr), (stat_choice, \"EC50 (M)\")]\n",
    "                   > balachandranDf.at[(ag, tcr, \"WT\"),(stat_choice, \"EC50 (M)\")])\n",
    "    frac_below = where_below.sum() / where_below.size\n",
    "    frac_above = 1.0 - frac_below\n",
    "    axis.annotate(pAg, xy=(xfrac, 0.87), xycoords=\"axes fraction\", ha=\"center\",\n",
    "                  color=\"k\",fontsize=16,zorder=300)\n",
    "\n",
    "    plottingDf = fullPlottingDf.query(\"TCR == @tcr\")\n",
    "\n",
    "    axis.set_ylabel('# Peptides')\n",
    "    axis.set_xlabel(r'1/EC$_{50}$ (M$^{-1}$)')\n",
    "    axis.set_yticks([])\n",
    "    axis.set_title(titles[i])# +  r\"$^{M\\L}$\")\n",
    "    ogxticks = axis.get_xticks()\n",
    "    newxticklabels = ['10$^{'+str(int(x))+'}$' for x in ogxticks]\n",
    "    axis.set_xticks(ogxticks)\n",
    "    axis.set_xticklabels(newxticklabels)\n",
    "    tupleList.append(ag)\n",
    "    axis.set_xlim([-2.5,12.5])\n",
    "\n",
    "    axis.plot(x_wt,0.8*axis.get_ylim()[1],marker='o',color='k',markersize=6)\n",
    "\n",
    "if do_save_plots:\n",
    "    g.figure.savefig(pj(fig_dir, '5D-balachandranEC50distributions-7plot_rowWise.pdf'), \n",
    "                  bbox_inches='tight',transparent=True, dpi=300)\n",
    "plt.show()\n",
    "plt.close()"
   ]
  },
  {
   "cell_type": "markdown",
   "metadata": {
    "id": "U0d1mGJi_7nH"
   },
   "source": [
    "# Panel E: Model prediction pipeline"
   ]
  },
  {
   "cell_type": "code",
   "execution_count": null,
   "metadata": {
    "cellView": "form",
    "executionInfo": {
     "elapsed": 5,
     "status": "ok",
     "timestamp": 1720385769742,
     "user": {
      "displayName": "François Bourassa",
      "userId": "16183510541365563755"
     },
     "user_tz": 240
    },
    "id": "uP8WC-QMADiN"
   },
   "outputs": [],
   "source": [
    "#@title Top: Ligand/receptor cell cartoon"
   ]
  },
  {
   "cell_type": "code",
   "execution_count": null,
   "metadata": {
    "cellView": "form",
    "executionInfo": {
     "elapsed": 4,
     "status": "ok",
     "timestamp": 1720385769742,
     "user": {
      "displayName": "François Bourassa",
      "userId": "16183510541365563755"
     },
     "user_tz": 240
    },
    "id": "XIjYHysHADe3"
   },
   "outputs": [],
   "source": [
    "#@title Middle: Model schematic (from fig 2)"
   ]
  },
  {
   "cell_type": "code",
   "execution_count": null,
   "metadata": {
    "cellView": "form",
    "colab": {
     "base_uri": "https://localhost:8080/",
     "height": 191
    },
    "executionInfo": {
     "elapsed": 1953,
     "status": "ok",
     "timestamp": 1720385771692,
     "user": {
      "displayName": "François Bourassa",
      "userId": "16183510541365563755"
     },
     "user_tz": 240
    },
    "id": "GvXCK2G0kHvs",
    "outputId": "932e1d85-525e-4494-d256-c8228e3affef"
   },
   "outputs": [],
   "source": [
    "#@title Bottom: Example of MCMC distribution\n",
    "truth_color = np.asarray((1.0, 103.0, 146.0, 255.0)) / 255.0  # CAR blue\n",
    "# Load best fit\n",
    "best_kmf = \"(1, 2, 1)\"\n",
    "with open(pj(root_dir, \"results\", \"mcmc\", \"mcmc_analysis_tcr_car_both_conc.json\"), \"r\") as f:\n",
    "    best_fits = np.asarray(json.load(f).get(best_kmf)\n",
    "                .get(\"param_estimates\").get(\"MAP best\"))  # log10\n",
    "with open(pj(root_dir, \"results\", \"mcmc\", \"mcmc_analysis_tcr_car_both_conc.json\"), \"r\") as f:\n",
    "    burn_in_frac = json.load(f).get(best_kmf).get(\"burn_in_frac\")\n",
    "    \n",
    "# Load parameter samples (log10 of parameters) from full MCMC file (it's on Google Drive anyways)\n",
    "best_kmf = \"(1, 2, 1)\"\n",
    "param_choice = [0, 1]\n",
    "param_names = [r\"$\\log_{10} C^C_{m,th}$\", r\"$\\log_{10} I^C_{th}$\"]\n",
    "with h5py.File(pj(root_dir, \"results\", \"mcmc\", \"mcmc_results_tcr_car_both_conc.h5\"), \"r\") as f:\n",
    "    # Burn-in fraction\n",
    "    n_steps = f.get(\"samples\").get(best_kmf).shape[2]\n",
    "    # C_mth and I_th selected\n",
    "    param_samples = f.get(\"samples\").get(best_kmf)[param_choice, :, int(n_steps*burn_in_frac):]\n",
    "\n",
    "best_fits = best_fits[param_choice]\n",
    "\n",
    "fig, ax = corner_plot_2d_mcmc(param_samples, best_fits, param_names,\n",
    "        sizes_kwargs={\"scaleup\":1.75, \"truth_color\":truth_color,\n",
    "            \"figsize\":(4.25, 3.25)})\n",
    "if do_save_plots:\n",
    "    fig.savefig(pj(fig_dir, \"5E_bottom-mcmc_distribution_example.pdf\"), transparent=True, bbox_inches=\"tight\")\n",
    "plt.show()\n",
    "plt.close()\n"
   ]
  },
  {
   "cell_type": "markdown",
   "metadata": {
    "id": "G8bLKUEYAS9u"
   },
   "source": [
    "# Panel F: Model FC curve for the neoantigen"
   ]
  },
  {
   "cell_type": "code",
   "execution_count": null,
   "metadata": {
    "colab": {
     "base_uri": "https://localhost:8080/",
     "height": 241
    },
    "executionInfo": {
     "elapsed": 3929,
     "status": "ok",
     "timestamp": 1720385775619,
     "user": {
      "displayName": "François Bourassa",
      "userId": "16183510541365563755"
     },
     "user_tz": 240
    },
    "id": "LlDHhYJaG8GV",
    "outputId": "92914285-4a4d-4962-f58b-5a7b12b8f305"
   },
   "outputs": [],
   "source": [
    "#@title Plot\n",
    "# Import precomputed model curve for the selected APC type\n",
    "model_curve = modelCurves.loc[(\"HHAT\", \"1uM\")]\n",
    "\n",
    "# CMV is assumed to be like N4 in the CD25 EC50 dataset\n",
    "ec50_n4, tau_n4 = load_n4_ref(data_dir)\n",
    "\n",
    "fig, ax = plot_model_curve(mskcc_ec50s, model_curve, ec50_ref=ec50_n4, tau_ref=tau_n4)\n",
    "ax.annotate(\"No effect\", xy=(0.81, 0.41), xycoords=\"axes fraction\",va='center', ha=\"center\",\n",
    "             color=\"grey\",zorder=300,bbox=dict(facecolor='white', edgecolor='none'))\n",
    "ax.axhline(color='k',linestyle=':',y=antagonism_threshold)\n",
    "ax.axhline(color='k',linestyle=':',y=enhancement_threshold)\n",
    "if do_save_plots:\n",
    "    fig.savefig(pj(fig_dir, \"5F-mskcc_neoag_on_model_curve.pdf\"), transparent=True, bbox_inches=\"tight\")\n",
    "plt.show()\n",
    "plt.close()\n"
   ]
  },
  {
   "cell_type": "markdown",
   "metadata": {
    "id": "ir30iPRaAZMt"
   },
   "source": [
    "# Panel G: Model FC heatmap for neoantigen"
   ]
  },
  {
   "cell_type": "code",
   "execution_count": null,
   "metadata": {
    "cellView": "form",
    "colab": {
     "base_uri": "https://localhost:8080/",
     "height": 557
    },
    "executionInfo": {
     "elapsed": 5349,
     "status": "ok",
     "timestamp": 1720385782633,
     "user": {
      "displayName": "François Bourassa",
      "userId": "16183510541365563755"
     },
     "user_tz": 240
    },
    "id": "G1TQU_IItw8w",
    "outputId": "7a461bb8-117a-497d-d5f2-8355459c8d76"
   },
   "outputs": [],
   "source": [
    "#@title Plot\n",
    "from matplotlib.patches import Rectangle\n",
    "\n",
    "tcrDict = {'CMV':['1','2','3'],'gp100':['4','5','6'],'Neoantigen':['7']}\n",
    "tcrDict2 = {'7':'N1','4':'G1','6':'G2','5':'G3','1':'C1','2':'C2','3':'C3'}\n",
    "wtseqDict = {'CMV': 'NLVPMVATV','gp100': 'IMDQVPFSV', 'Neoantigen': 'GRLKALCQR'}\n",
    "for antigen in ['CMV','gp100','Neoantigen']:\n",
    "  for tcr in tcrDict[antigen]:\n",
    "    for agDensity in ['1uM','1nM']:\n",
    "      labeledCytDf = (balachandranModelSamples[median_sample].to_frame(\"FC\")\n",
    "                    .query(\"Antigen == @antigen and TCR == @tcr\"))\n",
    "      #KVPRNQDWL\n",
    "      wtseq = wtseqDict[antigen]\n",
    "      wtDf = pd.concat([labeledCytDf.query(\"Peptide == 'WT'\")]*len(wtseq),keys=[x+str(i+1)+x for i,x in enumerate(wtseq)]).droplevel('Peptide')\n",
    "      wtDf.index.names = ['Peptide']+list(wtDf.index.names)[1:]\n",
    "      wtDf = wtDf.reset_index().set_index(labeledCytDf.index.names)\n",
    "      labeledCytDf2 = labeledCytDf.query(\"Peptide != ['Irrelevant','WT']\")\n",
    "      labeledCytDf2 = pd.concat([labeledCytDf2,wtDf])\n",
    "      labeledCytDf2['WT'] = [x[:2] for x in labeledCytDf2.index.get_level_values('Peptide')]\n",
    "      labeledCytDf2['Mutant'] = [x[2] for x in labeledCytDf2.index.get_level_values('Peptide')]\n",
    "      labeledCytDf2 = labeledCytDf2.set_index(['WT','Mutant'],append=True)\n",
    "\n",
    "      fig = plt.figure(figsize=(5,10))\n",
    "      plottingDf = labeledCytDf2.droplevel(['Peptide']).loc[:,'FC'].xs(agDensity, level=dens_name).unstack('WT')\n",
    "      plottingDf = plottingDf[[x+str(i+1) for i,x in enumerate(wtseq)]]\n",
    "      mutantOrder = 'WFYCMLIVDENHRKQGPSAT'\n",
    "      plottingDf = plottingDf.droplevel(['Antigen','TCR']).reindex([x for x in mutantOrder],axis=0,level=0).astype(float)\n",
    "      plottingDf = np.log2(plottingDf)\n",
    "      #print('-'.join([tcr,antigen]))\n",
    "      #display(plottingDf.max().max())\n",
    "      #display(plottingDf.min().min())\n",
    "      #plottingDf = np.clip(plottingDf,a_min=-11,a_max=0)\n",
    "      g = sns.heatmap(plottingDf,cbar_kws={'label':r'$FC_{\\mathrm{TCR/CAR}}$', 'shrink':0.8},cmap='PuOr_r',center=0)\n",
    "      wtposes = [[i,plottingDf.index.unique('Mutant').tolist().index(x)] for i,x in enumerate(wtseq)]\n",
    "      ax = plt.gca()\n",
    "      ax.set_title(antigen+', TCR '+tcrDict2[tcr])# + r\"$^{M\\L}$\")\n",
    "      for wtpose in wtposes:\n",
    "        ax.add_patch(Rectangle((wtpose[0], wtpose[1]), 1, 1, fill=False, edgecolor='k', lw=3))\n",
    "      g.set_xticklabels([x.get_text()[0] for x in g.get_xticklabels()],rotation=0)\n",
    "      #g.set_yticklabels([x for x in mutantOrder],rotation=0)\n",
    "      g.set_yticklabels([x.get_text()[0] for x in g.get_yticklabels()],rotation=0)\n",
    "      ax.set_xlabel('AA in '+pAg)\n",
    "      ax.set_ylabel('AA in '+pSelf)\n",
    "      ax.collections[0].colorbar.ax.tick_params(labelsize=14)\n",
    "      ogyticks = g.collections[0].colorbar.get_ticks()[1:]\n",
    "      newyticks = list(pd.unique([int(x) for x in ogyticks]))[:-1]\n",
    "      newyticklabels = ['2$^{'+str(x)+'}$' for x in newyticks]\n",
    "      g.collections[0].colorbar.set_ticks(newyticks)\n",
    "      g.collections[0].colorbar.set_ticklabels(newyticklabels)\n",
    "      if tcr == \"7\" and agDensity == \"1uM\":\n",
    "          if do_save_plots:\n",
    "              fig.savefig(pj(fig_dir, '5G-balachandranModelFC-'+antigen+','+tcr+'-'+agDensity+'.pdf'), \n",
    "                          bbox_inches=\"tight\", transparent=True, dpi=300)\n",
    "          plt.show()\n",
    "      plt.close()"
   ]
  },
  {
   "cell_type": "markdown",
   "metadata": {
    "id": "UMz8HBPuBTIa"
   },
   "source": [
    "# Panel H: FC Distributions"
   ]
  },
  {
   "cell_type": "code",
   "execution_count": null,
   "metadata": {
    "cellView": "form",
    "colab": {
     "base_uri": "https://localhost:8080/",
     "height": 930
    },
    "executionInfo": {
     "elapsed": 2098,
     "status": "ok",
     "timestamp": 1720385784729,
     "user": {
      "displayName": "François Bourassa",
      "userId": "16183510541365563755"
     },
     "user_tz": 240
    },
    "id": "H5wFkPniC-tA",
    "outputId": "971dc9e2-4b69-4dcc-d7ac-f5e4b3f88a07"
   },
   "outputs": [],
   "source": [
    "#@title Plot\n",
    "antigenList1,antigenList2,tupleList = [],[],[]\n",
    "ro = ['7','4','6','5','1','2','3']\n",
    "distrib_all_mcmc_samples = False\n",
    "if distrib_all_mcmc_samples:\n",
    "    fullPlottingDf = (np.log2(balachandranModelSamples).query(\"TCR_Antigen_Pulse_uM == '1uM'\")\n",
    "                .stack().to_frame(\"FC\"))\n",
    "    show_rug = False\n",
    "else:\n",
    "    fullPlottingDf = np.log2(balachandranModelSamples[median_sample].to_frame(\"FC\")\n",
    "                            .query(\"TCR_Antigen_Pulse_uM == '1uM'\"))\n",
    "    show_rug = True\n",
    "g = sns.displot(data=fullPlottingDf,x='FC',kind='kde',color='k',rug=show_rug,row='TCR',rug_kws={'height':0.1},\n",
    "                facet_kws=dict(sharey=False),height=2.2,aspect=2.5,row_order=ro)\n",
    "titles = ['Neoantigen, TCR N1','gp100, TCR G1','gp100, TCR G2','gp100, TCR G3','CMV, TCR C1','CMV, TCR C2','CMV, TCR C3']\n",
    "#titles = [x+'$^{\\mathrm{M\\L}}$' for x in titles]\n",
    "figsize = g.figure.get_size_inches()\n",
    "g.figure.set_size_inches(figsize[0]*0.8, figsize[1])\n",
    "for i,ag in enumerate(ro):\n",
    "  axis = g.axes.flat[i]\n",
    "  plottingDf = fullPlottingDf.query(\"TCR == @ag\")\n",
    "  axis.axvline(color='k',linestyle=':',x=-1)\n",
    "  axis.axvline(color='k',linestyle=':',x=1)\n",
    "  antagonistPercent = 100*plottingDf[plottingDf['FC'] <= -1].shape[0]/plottingDf.shape[0]\n",
    "  enhancerPercent = 100*plottingDf[plottingDf['FC'] >= 1].shape[0]/plottingDf.shape[0]\n",
    "  axis.axvspan(axis.get_xlim()[0],-1,color='purple',alpha=0.3)\n",
    "  axis.axvspan(1,axis.get_xlim()[1],color='orange',alpha=0.3)\n",
    "  axis.set_xlim([-5,5])\n",
    "  axis.set_ylabel('# Peptides')\n",
    "  axis.set_xlabel(r'$FC_{\\mathrm{TCR/CAR}}$')\n",
    "  axis.set_yticks([])\n",
    "  axis.set_title(titles[i])# +  r\"$^{M\\L}$\")\n",
    "  ogyticks = g.axes.flat[i].get_xticks()\n",
    "  newyticks = [-4,-2,0,2,4]\n",
    "  newyticklabels = ['2$^{'+str(x)+'}$' for x in newyticks]\n",
    "  axis.set_xticks(newyticks)\n",
    "  axis.set_xticklabels(newyticklabels)\n",
    "\n",
    "if do_save_plots:\n",
    "    g.figure.savefig(pj(fig_dir, '5H-balachandranModelFCdistributions-7plot_rowWise.pdf'), \n",
    "                     bbox_inches='tight',transparent=True, dpi=300)\n",
    "plt.show()\n",
    "plt.close()"
   ]
  },
  {
   "cell_type": "markdown",
   "metadata": {
    "id": "N_bToWOeBXIp"
   },
   "source": [
    "# Panel I: pWT EC50s"
   ]
  },
  {
   "cell_type": "code",
   "execution_count": null,
   "metadata": {
    "colab": {
     "base_uri": "https://localhost:8080/",
     "height": 283
    },
    "executionInfo": {
     "elapsed": 3115,
     "status": "ok",
     "timestamp": 1720385787840,
     "user": {
      "displayName": "François Bourassa",
      "userId": "16183510541365563755"
     },
     "user_tz": 240
    },
    "id": "Mb3IwKKMVn5g",
    "outputId": "9f2bbb25-a3ce-46d7-8092-aadea04dd363"
   },
   "outputs": [],
   "source": [
    "#@title Plot\n",
    "stat_choice = \"best\"\n",
    "p = sns.color_palette(sns.color_palette(),10)\n",
    "p = p[1:4]\n",
    "p = ['orange','purple','white']\n",
    "plottingDf = balachandranDf.xs(stat_choice, axis=1).query(\"Peptide == 'WT'\").reset_index()\n",
    "categoryDict = {'1':'Enhancer','2':'Enhancer','3':'Enhancer','4':'Antagonist','5':'Enhancer','6':'Antagonist','7':'Null'}\n",
    "plottingDf['Category'] = [categoryDict[x] for x in plottingDf['TCR']]\n",
    "renamingDict = {'7':'A','4':'A','6':'B','5':'C','1':'A','2':'B','3':'C'}\n",
    "plottingDf = plottingDf.set_index('TCR').rename(renamingDict).reset_index()\n",
    "g = sns.catplot(data=plottingDf,height=5,aspect=0.7,sharex=False,col_order=['Neoantigen','gp100','CMV'],y='EC50 (M)',order=['A','B','C'],x='TCR',hue='Category',kind='bar',dodge=False,linewidth=1,edgecolor='k',palette=['k','k','k'],hue_order=['Enhancer','Antagonist','Null'],legend=False,col='Antigen')\n",
    "g.set(yscale='log')\n",
    "g.axes.flat[0].set_ylabel('p$\\mathregular{^{Ag}}$ EC50 (M)')\n",
    "for axis in g.axes.flat:\n",
    "    title = axis.get_title().split(' = ')[1].replace('Neoantigen','Neoag')\n",
    "    axis.set_title(title)\n",
    "    firstChar = title[0].upper()\n",
    "    newlabels = [firstChar+str(i+1) for i,x in enumerate(axis.get_xticklabels())]\n",
    "    axis.set_xticklabels(newlabels)\n",
    "if do_save_plots:\n",
    "    g.figure.savefig(pj(fig_dir, 'balachandranModelEndogenousEC50s-horizontal-separateTCR.pdf'),bbox_inches='tight',transparent=True)\n",
    "plt.show()\n",
    "plt.close()"
   ]
  },
  {
   "cell_type": "code",
   "execution_count": null,
   "metadata": {
    "cellView": "form",
    "colab": {
     "base_uri": "https://localhost:8080/",
     "height": 283
    },
    "executionInfo": {
     "elapsed": 5055,
     "status": "ok",
     "timestamp": 1720385792893,
     "user": {
      "displayName": "François Bourassa",
      "userId": "16183510541365563755"
     },
     "user_tz": 240
    },
    "id": "FICPaEtZfPbL",
    "outputId": "56899bee-0c9e-4012-be99-a1dc7530a3fc"
   },
   "outputs": [],
   "source": [
    "#@title Plot\n",
    "p = sns.color_palette(sns.color_palette(),10)\n",
    "p = p[1:4]\n",
    "p = ['orange','purple','white']\n",
    "plottingDf = balachandranDf.xs(stat_choice, axis=1).query(\"Peptide == 'WT'\").reset_index()\n",
    "categoryDict = {'1':'Enhancer','2':'Enhancer','3':'Enhancer','4':'Antagonist','5':'Enhancer','6':'Antagonist','7':'Null'}\n",
    "plottingDf['Category'] = [categoryDict[x] for x in plottingDf['TCR']]\n",
    "renamingDict = {'7':'A','4':'A','6':'B','5':'C','1':'A','2':'B','3':'C'}\n",
    "plottingDf = plottingDf.set_index('TCR').rename(renamingDict).reset_index()\n",
    "plottingDf['1/EC50 (uM)'] = [1/(x) for x in plottingDf['EC50 (M)']]\n",
    "g = sns.catplot(data=plottingDf,height=5,aspect=0.7,sharex=False,col_order=['Neoantigen','gp100','CMV'],y='1/EC50 (uM)',order=['A','B','C'],x='TCR',hue='Category',kind='bar',dodge=False,linewidth=1,edgecolor='k',palette=['k','k','k'],hue_order=['Enhancer','Antagonist','Null'],legend=False,col='Antigen')\n",
    "g.set(yscale='log')\n",
    "minVal = min(plottingDf['1/EC50 (uM)'])\n",
    "minVal = np.power(10,np.floor(np.log10(minVal)))\n",
    "maxVal = max(plottingDf['1/EC50 (uM)'])\n",
    "#maxVal = np.power(10,np.ceil(np.log10(maxVal)))\n",
    "#g.axes.flat[0].set_ylabel('p$\\mathregular{^{Ag}}$ EC50 (M)')\n",
    "g.axes.flat[0].set_ylabel(pAg+' 1/EC$_{50}$ (M$^{-1}$)')\n",
    "g.axes.flat[0].set_ylim([minVal,maxVal*1.1])\n",
    "for axis in g.axes.flat:\n",
    "  title = axis.get_title().split(' = ')[1].replace('Neoantigen','Neoag')\n",
    "  #axis.set_title('')# g.axes.flat[0].set_xlabel('')\n",
    "  axis.set_title(title)\n",
    "  firstChar = title[0].upper()\n",
    "  newlabels = [firstChar+str(i+1) for i,x in enumerate(axis.get_xticklabels())]\n",
    "  axis.set_xticklabels(newlabels)\n",
    "if do_save_plots:\n",
    "    g.figure.savefig(pj(fig_dir, '5I-balachandranModelEndogenousEC50s-horizontal-separateTCR-invertedEC50.pdf'),\n",
    "                     bbox_inches='tight',transparent=True)\n",
    "plt.show()"
   ]
  },
  {
   "cell_type": "markdown",
   "metadata": {
    "id": "adgdDuA6CZPl"
   },
   "source": [
    "# Panel J: Peptide type distribution summary"
   ]
  },
  {
   "cell_type": "code",
   "execution_count": null,
   "metadata": {
    "cellView": "form",
    "colab": {
     "base_uri": "https://localhost:8080/",
     "height": 314
    },
    "executionInfo": {
     "elapsed": 8231,
     "status": "ok",
     "timestamp": 1720385946268,
     "user": {
      "displayName": "François Bourassa",
      "userId": "16183510541365563755"
     },
     "user_tz": 240
    },
    "id": "W5SeAs9xLGVK",
    "outputId": "0d452583-5222-4154-e0c2-34aeb536eabf"
   },
   "outputs": [],
   "source": [
    "#@title Plot\n",
    "stats_choice = \"best\"\n",
    "plottingDf = antagonistPercentageDf2.copy().stack(\"sample\").to_frame(\"Percentage\")\n",
    "agDict = {'1':'CMV','2':'CMV','3':'CMV','4':'gp100','5':'gp100','6':'gp100','7':'Neoantigen'}\n",
    "plottingDf['Antigen'] = [agDict[x] for x in plottingDf.index.get_level_values('TCR')]\n",
    "g = sns.catplot(data=plottingDf.rename({'Neoantigen':'Neoag'}).reset_index(),x='Percentage',y='Antigen',\n",
    "                hue='Type',dodge=False,palette=['purple','white','orange'],hue_order=['Antagonist','Null','Enhancer'],\n",
    "                kind='bar',linewidth=1,edgecolor='k',height=3,aspect=1.6)\n",
    "sns.move_legend(g, \"center\", bbox_to_anchor=(.5, 1), ncol=3, title='')\n",
    "g.axes.flat[0].set_xticks([0,25,50,75,100])\n",
    "g.axes.flat[0].set_xlabel('Peptides (%)')\n",
    "if do_save_plots:\n",
    "    g.figure.savefig(pj(fig_dir, '5J-balachandranModelFCdistributions-summaryLegend.pdf'),bbox_inches='tight',transparent=True)\n",
    "plt.clf()\n",
    "\n",
    "renamingDict = {'7':'A','4':'A','6':'B','5':'C','1':'A','2':'B','3':'C'}\n",
    "plottingDf = pd.concat({\"Percentage\":antagonistPercentageDf1.copy()}, axis=1, names=[\"Feature\"]).stack(\"sample\")\n",
    "agDict = {'1':'CMV','2':'CMV','3':'CMV','4':'gp100','5':'gp100','6':'gp100','7':'Neoantigen'}\n",
    "plottingDf['Antigen'] = [agDict[x] for x in plottingDf.index.get_level_values('TCR')]\n",
    "g = sns.catplot(data=plottingDf.rename({'Neoantigen':'Neoag'}).rename(renamingDict,level='TCR').reset_index(),\n",
    "                col='Antigen',y='Percentage',x='TCR',hue='Type',dodge=False,palette=['purple','white','orange'][::-1],\n",
    "                hue_order=['Antagonist','Null','Enhancer'][::-1],kind='bar',linewidth=1,edgecolor='k',height=5,legend=False,\n",
    "                order=['A','B','C'],col_order=['Neoantigen','gp100','CMV'],aspect=0.7,sharex=False,\n",
    "                errorbar=('pi', 95))\n",
    "#sns.move_legend(g, \"center\", bbox_to_anchor=(.5, 1), ncol=3, title='')\n",
    "g.axes.flat[0].set_yticks([0,25,50,75,100])\n",
    "g.axes.flat[0].set_ylabel('Probability (%)')\n",
    "for axis in g.axes.flat:\n",
    "  title = axis.get_title().split(' = ')[1].replace('Neoantigen','Neoag')\n",
    "  #axis.set_title('')# g.axes.flat[0].set_xlabel('')\n",
    "  axis.set_title(title)\n",
    "  firstChar = title[0].upper()\n",
    "  newlabels = [firstChar+str(i+1) for i,x in enumerate(axis.get_xticklabels())]\n",
    "  axis.set_xticklabels(newlabels)\n",
    "if do_save_plots:\n",
    "    g.figure.savefig(pj(fig_dir, '5J-balachandranModelFCdistributions-7plot-summary-horizontal-separateTCR.pdf'),\n",
    "                     bbox_inches='tight',transparent=True)\n",
    "plt.show()\n",
    "plt.close()"
   ]
  },
  {
   "cell_type": "code",
   "execution_count": null,
   "metadata": {
    "cellView": "form",
    "id": "pDpXxEg1hGkF"
   },
   "outputs": [],
   "source": [
    "#@title Dose response plots\n",
    "ln10 = np.log(10.0)\n",
    "def normalized_loghill(x, xmin, logh, n, a):\n",
    "    xnorm = np.log(x / xmin) / (logh - np.log(xmin))\n",
    "    return np.exp(a * xnorm**n / (xnorm**n + 1.0) * ln10)\n",
    "\n",
    "conc_range = np.logspace(-3, 2, 200)  # uM\n",
    "x_min = conc_range.min()\n",
    "mock_ec50s = [8e-3, 4e-1, 1e1]\n",
    "mock_amplitudes = [1.0, 0.8, 0.3]\n",
    "mock_curves = np.stack([normalized_loghill(conc_range, x_min,\n",
    "        np.log(mock_ec50s[i]), 4, mock_amplitudes[i]) for i in range(len(mock_amplitudes))])\n",
    "#mock_colors = sns.color_palette(n_colors=len(mock_ec50s))\n",
    "mock_colors = [\"orange\", \"grey\", \"purple\"]\n",
    "# Smaller plot than usual, cartoon\n",
    "fig, ax = plt.subplots()\n",
    "default_figsize = fig.get_size_inches()\n",
    "fig.set_size_inches(default_figsize[0]*0.6, default_figsize[1]*0.5)\n",
    "ax.set(xscale=\"log\", yscale=\"log\")\n",
    "for i in range(len(mock_ec50s)):\n",
    "    ax.plot(conc_range, mock_curves[i], color=mock_colors[i], lw=5.0)\n",
    "ylims = ax.get_ylim()\n",
    "for i in range(len(mock_ec50s)):\n",
    "    ax.axvline(mock_ec50s[i], ymin=0.0,\n",
    "               ymax=(0.5*mock_amplitudes[i] - np.log10(ylims[0]))/(np.log10(ylims[1]/ylims[0])),\n",
    "               lw=2.0, ls=\"--\", color=mock_colors[i])\n",
    "ax.set(xlabel=r\"Dose\", ylabel=\"Activation\")\n",
    "for side in [\"top\", \"right\"]:\n",
    "    ax.spines[side].set_visible(False)\n",
    "ax.set_xticklabels([])\n",
    "ax.set_yticklabels([])\n",
    "#ax.set_xticks([])\n",
    "#ax.set_yticks([])\n",
    "ax.set_xticks(np.logspace(-3, 2, 6))\n",
    "locmin = mpl.ticker.LogLocator(base=10.0, subs=np.arange(2, 10) * .1,\n",
    "                                      numticks=100)\n",
    "ax.xaxis.set_minor_locator(locmin)\n",
    "fig.tight_layout()\n",
    "#fig.savefig(fig_dir + \"5a_cartoon_antigen_ec50s.pdf\",\n",
    "#            transparent=True, bbox_inches=\"tight\")\n",
    "plt.show()\n",
    "plt.close()"
   ]
  },
  {
   "cell_type": "code",
   "execution_count": null,
   "metadata": {
    "id": "arYAVk92MH2i"
   },
   "outputs": [],
   "source": []
  }
 ],
 "metadata": {
  "colab": {
   "provenance": []
  },
  "kernelspec": {
   "display_name": "Python 3 (ipykernel)",
   "language": "python",
   "name": "python3"
  },
  "language_info": {
   "codemirror_mode": {
    "name": "ipython",
    "version": 3
   },
   "file_extension": ".py",
   "mimetype": "text/x-python",
   "name": "python",
   "nbconvert_exporter": "python",
   "pygments_lexer": "ipython3",
   "version": "3.12.7"
  }
 },
 "nbformat": 4,
 "nbformat_minor": 4
}

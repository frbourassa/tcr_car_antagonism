{
 "cells": [
  {
   "cell_type": "markdown",
   "metadata": {},
   "source": [
    "# Surface molecule numbers compendium\n",
    "Counts of TCR, pMHC as a function of antigen pulse concentration, tumor antigens, etc. on each tumor and T cell line for which I have data. \n",
    "\n",
    "All calibrations (except the oldest ones) were done with Bangs Labs kits, which tend to have higher counts than BD kits. As long as we are consistent, that's fine. \n",
    "\n",
    "Using the concatenated dataframe from Sooraj. Simply computing the geometric mean of each molecule on each cell type; we don't need more than that. "
   ]
  },
  {
   "cell_type": "code",
   "execution_count": 1,
   "metadata": {},
   "outputs": [],
   "source": [
    "import numpy as np\n",
    "import pandas as pd\n",
    "import matplotlib.pyplot as plt\n",
    "import seaborn as sns\n",
    "from scipy.optimize import curve_fit, lsq_linear\n",
    "from scipy.stats import linregress\n",
    "import os\n",
    "\n",
    "# Local modules\n",
    "import sys\n",
    "if \"../\" not in sys.path:\n",
    "    sys.path.insert(1, \"../\")\n",
    "from utils.preprocess import geo_mean_apply"
   ]
  },
  {
   "cell_type": "code",
   "execution_count": 2,
   "metadata": {},
   "outputs": [],
   "source": [
    "data_folder = \"../data/surface_counts/\"\n",
    "do_save_stats = False"
   ]
  },
  {
   "cell_type": "markdown",
   "metadata": {},
   "source": [
    "## Useful functions"
   ]
  },
  {
   "cell_type": "code",
   "execution_count": 3,
   "metadata": {},
   "outputs": [],
   "source": [
    "def michaelis_menten(x, a, h):\n",
    "    normx = (x / h)\n",
    "    return a * normx / (1.0 + normx)\n",
    "\n",
    "def loglog_michaelis_menten(logx, a, h):\n",
    "    logh = np.log(h)\n",
    "    return np.log(a * np.exp(logx - logh) / (1.0 + np.exp(logx - logh)))\n",
    "\n",
    "def loglog_michaelis_background(logx, a, h, back):\n",
    "    logh = np.log(h)\n",
    "    # a is the real amplitude, there is a background on top, additive. \n",
    "    return np.log(a*np.exp(logx - logh) / (1.0 + np.exp(logx - logh)) + back)\n",
    "\n",
    "def bootstrap_f_ci(x, f, a=0.05, reps=100, rel_size=0.8, rgen=None):\n",
    "    # Generate reps bootstrap samples, compute f of each, compute 95 % CI of f\n",
    "    # f could be geometric mean for instance. \n",
    "    if rgen is None:\n",
    "        rgen = np.random.default_rng()\n",
    "    boot_f_samples = []\n",
    "    for i in range(reps):\n",
    "        bootsamp = rgen.choice(x, size=int(rel_size*x.size), replace=True)\n",
    "        boot_f_samples.append(f(bootsamp))\n",
    "    # Confidence intervals\n",
    "    boot_f_samples = np.asarray(boot_f_samples)\n",
    "    ci_bounds = np.quantile(boot_f_samples, [a/2, 1.0-a/2])\n",
    "    labels = [\"CI \"+str(round(x, 3)) for x in [a/2, 1.0-a/2]]\n",
    "    return {labels[i]:ci_bounds[i] for i in range(2)}\n",
    "\n",
    "def geo_mean(x):\n",
    "    return np.exp(np.log(x).mean())\n",
    "\n",
    "def stdev_of_log10(x):\n",
    "    return np.std(np.log10(x), ddof=1)\n",
    "\n",
    "def stats_from_single_cells(ser, by, seed=None, boot_kws={}):\n",
    "    boot_kws.setdefault(\"a\", 0.05)\n",
    "    boot_kws.setdefault(\"reps\", 1000)\n",
    "    boot_kws.setdefault(\"rel_size\", 0.8)\n",
    "    ser_stats = (ser.groupby(by).aggregate(**{\n",
    "                    \"Mean\": \"mean\", \n",
    "                    \"Geometric mean\": geo_mean,\n",
    "                    \"Percentile 2.5\": lambda x: np.quantile(x, 0.025), \n",
    "                    \"Percentile 97.5\": lambda x: np.quantile(x, 0.975), \n",
    "                    \"Median\": \"median\", \n",
    "                    \"Standard deviation\": \"std\",\n",
    "                    \"Stdev log10\": stdev_of_log10, \n",
    "                    \"dof\": \"count\"\n",
    "                }))\n",
    "    rgen = np.random.default_rng(seed)\n",
    "    # CI on mean\n",
    "    new_cols = [\"Mean CI 0.025\", \"Mean CI 0.975\"]\n",
    "    ser_stats[new_cols] = (ser.groupby(by).apply(\n",
    "                            bootstrap_f_ci, np.mean, \n",
    "                            **boot_kws, rgen=rgen).unstack(-1))\n",
    "    # CI on geometric mean\n",
    "    new_cols = [\"Geometric mean CI 0.025\", \"Geometric mean CI 0.975\"]\n",
    "    ser_stats[new_cols] = (ser.groupby(by).apply(\n",
    "                            bootstrap_f_ci, geo_mean, \n",
    "                            **boot_kws, rgen=rgen).unstack(-1))\n",
    "    return ser_stats"
   ]
  },
  {
   "cell_type": "markdown",
   "metadata": {},
   "source": [
    "## MHC loading vs pulse concentration (from RMA-S cells)\n",
    "How do pulse concentrations relate to loaded pMHCs? The pulse vs pMHC calibration was done on B6 splenocytes, not on all tumor cells, for which we only know the total number of MHCs available for binding. Can we infer ligand numbers at all pulse concentrations for the latter?\n",
    "\n",
    "Well, from a simple ligand-receptor binding model, where ligand=antigen and receptor=pMHC, the number of bound receptors $M$, as a function of ligand concentration $L$, obeys:\n",
    "\n",
    "$$ \\dot{M} = \\kappa (M_{tot} - M) L - \\lambda M $$\n",
    "\n",
    "with steady-state \n",
    "\n",
    "$$ M = M_{tot} \\frac{L}{L + K_D}  \\quad \\text{where } K_D = \\lambda/\\kappa $$\n",
    "\n",
    "The $K_D$ is the point at which receptors start to saturate, and it depends only on the affinity (binding and unbinding rates) of the antigen-MHC pair, *not* on the total number of receptors. So, $K_D$ can be assumed constant across APC types (at least for SIINFEKL peptides); changing the total number of MHC on APCs simply scales $M$ proportionally, while the $L$ concentration saturating the $M_{tot}$ receptors does not change. So for instance, 1 $\\mu$ M pulses will always saturate MHCs, no matter if the APC has $10^4$ or $10^6$ MHCs on its surface.   \n",
    "\n",
    "In fact, we can fit $K_D$ on MFI data, then scale to absolute receptor numbers just using the total MHC count, available for tumor cells at least. \n",
    "\n",
    "\n",
    "### Final word on how to convert pulse concentration to pMHC number\n",
    "In the end, all we need to store is the pulse-loading $K_D$, fitted once, and the total number of MHC available on each cell type (converted from MFI measurement). WE will do the latter later; here let's just infer the loading $K_D$ from the RMAs assays. \n",
    "\n",
    "### Fitting Michaelis-Menten relationship\n",
    "\n",
    "For an actual fit, we need to fit the background as well, and to force the amplitude and background around the actual values we see. Otherwise, can't fit a MM function on data that starts at $10^3$! The right model to fit is MM + background. "
   ]
  },
  {
   "cell_type": "code",
   "execution_count": null,
   "metadata": {},
   "outputs": [],
   "source": [
    "df_rmas = pd.read_hdf(data_folder + \"combinedRMASDf_MFI.hdf\", key=\"df\")\n",
    "# Convert concentrations to uM, more convenient to read. \n",
    "df_rmas = df_rmas.rename(lambda x: x*1e6, level=\"Concentration_M\")\n",
    "# Reorder levels to more convenient form\n",
    "df_rmas = df_rmas.reorder_levels([\"Experiment\", \"Replicate\", \"Peptide\", \"Concentration_M\"])\n",
    "df_rmas.index = df_rmas.index.set_names([\"Experiment\", \"Replicate\", \"Peptide\", \"Concentration_uM\"])\n",
    "df_rmas"
   ]
  },
  {
   "cell_type": "markdown",
   "metadata": {},
   "source": [
    "For every peptide, every replicate, fit Michaelis-Menten $R = R_0 L / (L + K_D)$, but fit in log-log scale: if $y=\\log(R)$ and $x=\\log(L)$, fit $y$ vs $x$ in the following relationship: $y = \\log\\left(\\frac{R_0  e^x}{e^x + K_D} \\right)$. \n",
    "So MM parameters describe relationship in linear scale, we just fitted them to minimize error on log-scale to ensure multiple orders of magnitude are well captured. This is a linear MM relationship plotted in log-log, not a MM function fitted on the log-log plot. "
   ]
  },
  {
   "cell_type": "code",
   "execution_count": 5,
   "metadata": {},
   "outputs": [],
   "source": [
    "def fit_ligand_receptor_mm(df):\n",
    "    \"\"\" To be applied on the sub-dataframe corresponding to one dose-response. \"\"\"\n",
    "    x = np.log(df.index.get_level_values(\"Concentration_uM\").values)\n",
    "    y = df.values.flatten()\n",
    "    pbounds = np.asarray([(0.7*np.amax(y), np.exp(x.min())/10.0, 0.5*np.amin(y)), \n",
    "               (2.0*np.amax(y), np.exp(x.max())*10, 1.5*np.amin(y))])\n",
    "    y = np.log(y)\n",
    "    l_conc_mm_params = curve_fit(loglog_michaelis_background, x, y, p0=np.mean(pbounds, axis=0), bounds=pbounds)[0]\n",
    "    return l_conc_mm_params"
   ]
  },
  {
   "cell_type": "code",
   "execution_count": null,
   "metadata": {},
   "outputs": [],
   "source": [
    "all_params = []\n",
    "gby = df_rmas.groupby([\"Experiment\", \"Replicate\", \"Peptide\"])\n",
    "for lbl, gp in gby:\n",
    "    fit_params = fit_ligand_receptor_mm(gp)\n",
    "    all_params.append(fit_params)\n",
    "all_params = pd.DataFrame(all_params, index=pd.MultiIndex.from_tuples(gby.groups, \n",
    "                names=[\"Experiment\", \"Replicate\", \"Peptide\"]), \n",
    "                columns=[\"amplitude\", \"ec50\", \"background\"])\n",
    "all_params = all_params.reorder_levels([\"Experiment\", \"Replicate\", \"Peptide\"])\n",
    "all_params"
   ]
  },
  {
   "cell_type": "code",
   "execution_count": null,
   "metadata": {},
   "outputs": [],
   "source": [
    "# Plot fits to make sure they are reasonable\n",
    "plot_idx = all_params.index.droplevel([\"Peptide\"]).unique()\n",
    "n_plots = len(plot_idx)\n",
    "fig, axes = plt.subplots(1, n_plots)\n",
    "fig.set_size_inches(10, 3.5)\n",
    "axes = axes.flatten()\n",
    "all_params = all_params.sort_index()\n",
    "df_rmas = df_rmas.sort_index()\n",
    "df_curves = {}\n",
    "for i, k in enumerate(plot_idx):\n",
    "    for pep in all_params.loc[k].index.unique():\n",
    "        x = df_rmas.loc[k+(pep,)].index.get_level_values(\"Concentration_uM\").values\n",
    "        xrange = np.geomspace(x.min(), x.max(), 101)\n",
    "        y = df_rmas.loc[k+(pep,)].values.flatten()\n",
    "        pms = all_params.loc[k+(pep,)]\n",
    "        ymod = np.exp(loglog_michaelis_background(np.log(xrange), *pms))\n",
    "        xy_df = pd.DataFrame(np.stack([xrange, ymod], axis=1), \n",
    "                             index=pd.RangeIndex(101, name=\"Point\"), \n",
    "                             columns=[\"x\", \"y\"])\n",
    "        df_curves[tuple(k) + (pep,)] = xy_df.copy()\n",
    "        li, = axes[i].plot(xrange, ymod, label=pep)\n",
    "        c = li.get_color()\n",
    "        axes[i].plot(x, y, color=c, mfc=c, mec=c, marker=\"o\", ms=6, ls=\"none\")\n",
    "        axes[i].axvline(pms[1], ls=\"--\", lw=1.0, color=c)\n",
    "    axes[i].set_title(k)\n",
    "    axes[i].set(xlabel=\"Concentration (uM)\", ylabel=\"MFI\", yscale=\"log\", xscale=\"log\")\n",
    "\n",
    "df_curves = pd.concat(df_curves, names=all_params.index.names)\n",
    "df_curves\n",
    "\n",
    "fig.tight_layout()\n",
    "plt.show()\n",
    "plt.close()"
   ]
  },
  {
   "cell_type": "code",
   "execution_count": null,
   "metadata": {},
   "outputs": [],
   "source": [
    "#@title Statistics of loading EC50s\n",
    "randomgen = np.random.default_rng(0x339788df8e03ab6f23168dec3dd313f3)\n",
    "booted_params = np.log(all_params.T.copy())\n",
    "booted_params = booted_params.apply(bootstrap_f_ci, axis=1, raw=False, args=(np.mean,), \n",
    "                        a=0.05, reps=1000, rel_size=0.8, rgen=randomgen, result_type=\"expand\")\n",
    "# Add mean\n",
    "booted_params = np.exp(booted_params)\n",
    "booted_params[\"Geometric mean\"] = all_params.T.apply(geo_mean, axis=1)\n",
    "\n",
    "# We only need the K_D; amplitude and background are relative to specific MFI here\n",
    "# And will be replaced by the number of MHC on each APC type. \n",
    "mhc_pulse_kd = booted_params.loc[\"ec50\"]\n",
    "mhc_pulse_kd.name = \"K_D (uM)\"\n",
    "\n",
    "# Add 95 % CI of the distribution (not just CI of mean)\n",
    "booted_lower_ci = np.log(all_params.T).apply(bootstrap_f_ci, axis=1, raw=False, \n",
    "                                             args=(lambda x: np.quantile(x, 0.025),), \n",
    "                        a=0.05, reps=1000, rel_size=0.8, rgen=randomgen, result_type=\"expand\")\n",
    "booted_upper_ci = np.log(all_params.T).apply(bootstrap_f_ci, axis=1, raw=False, \n",
    "                                             args=(lambda x: np.quantile(x, 0.975),), \n",
    "                        a=0.05, reps=1000, rel_size=0.8, rgen=randomgen, result_type=\"expand\")\n",
    "mhc_pulse_kd.loc[\"Quantile 0.025\"] = np.exp(booted_lower_ci.loc[\"ec50\"].mean())\n",
    "mhc_pulse_kd.loc[\"Quantile 0.975\"] = np.exp(booted_upper_ci.loc[\"ec50\"].mean())\n",
    "mhc_pulse_kd.loc[\"dof\"] = all_params[\"ec50\"].count()\n",
    "mhc_pulse_kd  # in uM"
   ]
  },
  {
   "cell_type": "markdown",
   "metadata": {},
   "source": [
    "## All surface molecule numbers\n",
    "Includes:\n",
    "- MHC numbers (to combine with fraction of loaded MHC at a given pulse concentration)\n",
    "- CAR antigens numbers\n",
    "- TCR numbers\n",
    "- CAR numbers"
   ]
  },
  {
   "cell_type": "code",
   "execution_count": null,
   "metadata": {},
   "outputs": [],
   "source": [
    "full_file = \"completeMoleculeNumberDf.hdf\"\n",
    "df = pd.read_hdf(data_folder + full_file)\n",
    "df"
   ]
  },
  {
   "cell_type": "code",
   "execution_count": null,
   "metadata": {},
   "outputs": [],
   "source": [
    "df_surface_numbers_stats = stats_from_single_cells(df[\"Molecules (#)\"], by=[\"Cell\", \"Marker\"], \n",
    "                                    seed=0xfdcef4d3def776989b198568b5886be6)\n",
    "df_surface_numbers_stats"
   ]
  },
  {
   "cell_type": "code",
   "execution_count": null,
   "metadata": {},
   "outputs": [],
   "source": [
    "# Check that the numbers agree well with what I had before\n",
    "df_surface_numbers_stats[\"Geometric mean\"].loc[([\"BEAS2B\", \"PC9\"], \"MHC\")]"
   ]
  },
  {
   "cell_type": "markdown",
   "metadata": {},
   "source": [
    "## Save results to one hdf file with both dataframes"
   ]
  },
  {
   "cell_type": "code",
   "execution_count": 12,
   "metadata": {},
   "outputs": [],
   "source": [
    "filename = data_folder + \"surface_molecule_summary_stats.h5\"\n",
    "useful_frames = {\n",
    "    \"mhc_pulse_kd\": mhc_pulse_kd, \n",
    "    \"surface_numbers_stats\": df_surface_numbers_stats, \n",
    "}\n",
    "if do_save_stats:\n",
    "    for nm, df in useful_frames.items():\n",
    "        df.to_hdf(filename, key=nm)"
   ]
  },
  {
   "cell_type": "code",
   "execution_count": 13,
   "metadata": {},
   "outputs": [],
   "source": [
    "# Export to LateX for manuscript: this is now done by the dedicated Python script\n",
    "# secondary_scripts/mcmc_ci_to_latex.py. \n",
    "# secondary_scripts/print_dataset_sizes.py also prints \n",
    "# important information for the Supplementary Tables. "
   ]
  },
  {
   "cell_type": "code",
   "execution_count": null,
   "metadata": {},
   "outputs": [],
   "source": [
    "# Also export MHC pulse KD to a small tex string to be inserted\n",
    "# Round to significant figure\n",
    "pulse_kd_tex = np.log10(1e3*mhc_pulse_kd[[\"Geometric mean\", \"Quantile 0.975\", \"Quantile 0.025\"]])\n",
    "pulse_kd_tex.index = pd.Index([\"m\", \"up\", \"lo\"])\n",
    "# Find last significant digit\n",
    "decimal_place = min(abs(pulse_kd_tex[\"up\"] - pulse_kd_tex[\"m\"]), \n",
    "                      abs(pulse_kd_tex[\"m\"] - pulse_kd_tex[\"lo\"]))\n",
    "decimal_place = abs(np.floor(np.log10(decimal_place)).astype(int))\n",
    "\n",
    "\n",
    "\n",
    "kd_load_str = (r\"$\\log_{10} (K_{\\mathrm{D,\\, load}}/1\\mathrm{nM}) = \" \n",
    "            + str(round(pulse_kd_tex[\"m\"], decimal_place))\n",
    "            + r\"^{+\" \n",
    "            + str(round(pulse_kd_tex[\"up\"] - pulse_kd_tex[\"m\"], decimal_place)) \n",
    "            + r\"}_{-\"\n",
    "            + str(round(pulse_kd_tex[\"m\"] - pulse_kd_tex[\"lo\"], decimal_place))\n",
    "            + r\"}$\"\n",
    ")\n",
    "print(kd_load_str)\n",
    "if do_save_stats:\n",
    "    with open(\"../results/for_plots/mhc_pulse_kd_string.tex\", \"w\") as f:\n",
    "        f.write(kd_load_str)"
   ]
  },
  {
   "cell_type": "code",
   "execution_count": null,
   "metadata": {},
   "outputs": [],
   "source": []
  }
 ],
 "metadata": {
  "kernelspec": {
   "display_name": "py312",
   "language": "python",
   "name": "python3"
  },
  "language_info": {
   "codemirror_mode": {
    "name": "ipython",
    "version": 3
   },
   "file_extension": ".py",
   "mimetype": "text/x-python",
   "name": "python",
   "nbconvert_exporter": "python",
   "pygments_lexer": "ipython3",
   "version": "3.12.7"
  }
 },
 "nbformat": 4,
 "nbformat_minor": 4
}

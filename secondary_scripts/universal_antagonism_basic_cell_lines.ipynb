{
 "cells": [
  {
   "cell_type": "markdown",
   "metadata": {},
   "source": [
    "# Universal antagonism classification for a few cell lines\n",
    "Generate model curves for different surface molecule numbers corresponding to different cell lines. We use EC50s consistently based on our CD25 dose response curves for the purpose of comparing these cell lines in this notebook. From these curves, for any antigen cognate to some TCR given its EC$_{50}$, we can predict whether it will be an agonist or antagonist at a given dose, against some other dose of CAR antigen. "
   ]
  },
  {
   "cell_type": "code",
   "execution_count": 1,
   "metadata": {},
   "outputs": [],
   "source": [
    "import numpy as np\n",
    "import pandas as pd\n",
    "import matplotlib.pyplot as plt\n",
    "import seaborn as sns\n",
    "import json, h5py\n",
    "import os\n",
    "import sys\n",
    "if not \"../\" in sys.path:\n",
    "    sys.path.insert(1, \"../\")"
   ]
  },
  {
   "cell_type": "code",
   "execution_count": 2,
   "metadata": {},
   "outputs": [],
   "source": [
    "from utils.preprocess import michaelis_menten, geo_mean_apply\n",
    "from models.conversion import convert_ec50_tau_relative\n",
    "from mcmc.plotting import change_log_ticks\n",
    "from utils.preprocess import geo_mean_apply, write_conc_uM\n",
    "from mcmc.costs_tcr_car_antagonism import antag_ratio_panel_tcr_car\n",
    "from mcmc.ci_predictions_molec_numbers import confidence_predictions_car_antagonism"
   ]
  },
  {
   "cell_type": "code",
   "execution_count": 3,
   "metadata": {},
   "outputs": [],
   "source": [
    "# Choose 10 for quick test run, 1000 for adequate statistics\n",
    "n_boot = 1000\n",
    "# Change to True to save results and plots\n",
    "do_save_outputs = False\n",
    "do_save_plots = False"
   ]
  },
  {
   "cell_type": "markdown",
   "metadata": {},
   "source": [
    "## Aesthetic parameters"
   ]
  },
  {
   "cell_type": "code",
   "execution_count": null,
   "metadata": {},
   "outputs": [],
   "source": [
    "with open(os.path.join(\"..\", \"results\", \"for_plots\", \"perturbations_palette.json\"), \"r\") as f:\n",
    "    perturb_palette = json.load(f)\n",
    "perturb_palette[\"None\"] = [0., 0., 0., 1.]  # Black\n",
    "sns.palplot(perturb_palette.values())"
   ]
  },
  {
   "cell_type": "markdown",
   "metadata": {},
   "source": [
    "# EC50 to $\\tau$ conversion"
   ]
  },
  {
   "cell_type": "code",
   "execution_count": null,
   "metadata": {},
   "outputs": [],
   "source": [
    "# Import CD25-based EC50s, to compute taus across different TCRs (murine, human, etc.)\n",
    "# In M\n",
    "df_cd25_ec50s = (pd.read_hdf(os.path.join(\"..\", \"data\", \"dose_response\", \"experimental_peptide_ec50s_blasts.h5\"), \n",
    "                key=\"df\").xs(\"CD25fit\", level=\"Method\"))\n",
    "df_cd25_ec50s = df_cd25_ec50s.groupby([\"TCR\", \"Peptide\"]).apply(geo_mean_apply)\n",
    "\n",
    "# Rename HHAT peptides to HHAT-...\n",
    "rename_dict = {p:\"HHAT-{}\".format(p) for p in df_cd25_ec50s.xs(\"HHAT\").index.unique()}\n",
    "rename_dict.update({p:\"NYESO-{}\".format(p) for p in df_cd25_ec50s.xs(\"NYESO\").index.unique()})\n",
    "rename_dict.update({p:\"OT1-{}\".format(p) for p in df_cd25_ec50s.xs(\"OT1\").index.unique()})\n",
    "df_cd25_ec50s = df_cd25_ec50s.rename(rename_dict, level=\"Peptide\")\n",
    "\n",
    "df_cd25_ec50s"
   ]
  },
  {
   "cell_type": "code",
   "execution_count": 6,
   "metadata": {},
   "outputs": [],
   "source": [
    "# Choose reference point: N4 at 10 s\n",
    "ref_file = os.path.join(\"..\", \"data\", \"reference_pep_tau_maps.json\")\n",
    "with open(ref_file, \"r\") as file:\n",
    "    tau_refs = json.load(file)\n",
    "\n",
    "ref_tau_n4 = tau_refs.get(\"N4\")\n",
    "\n",
    "# Also choose reference absolute EC50 for N4: use CD25 EC50s\n",
    "# This means we will have different taus for OT-1 peptides vs. fig. 2\n",
    "# But that's OK, we are using a different set of EC50s\n",
    "# to illustrate the general procedure to predict antagonism\n",
    "ref_ec50_n4 = df_cd25_ec50s.at[(\"OT1\", \"OT1-N4\")]\n",
    "\n",
    "def ec50_to_tau(ec50: np.float64, ec50_ref=ref_ec50_n4, tau_ref=ref_tau_n4):\n",
    "    \"\"\" \n",
    "    Convert an absolute EC50 (in M) to a binding time, \n",
    "    with SIINFEKL = 10 s as a reference. \n",
    "    \"\"\"\n",
    "    return convert_ec50_tau_relative(ec50 / ec50_ref, tau_ref, npow=6)"
   ]
  },
  {
   "cell_type": "markdown",
   "metadata": {},
   "source": [
    "# Other conversions and parameter loading"
   ]
  },
  {
   "cell_type": "markdown",
   "metadata": {},
   "source": [
    "## Load model parameters"
   ]
  },
  {
   "cell_type": "code",
   "execution_count": 7,
   "metadata": {},
   "outputs": [],
   "source": [
    "# Load model best fits\n",
    "fit_conc = [\"1uM\", \"1nM\"]\n",
    "analysis_res_fname = \"mcmc_analysis_tcr_car_both_conc.json\"\n",
    "with open(os.path.join(\"..\", \"results\", \"mcmc\", analysis_res_fname), \"r\") as jfile:\n",
    "    all_results_dicts = json.load(jfile)\n",
    "    del jfile\n",
    "\n",
    "# Go back to linear-scale parameters\n",
    "chosen_kmf = (1, 2, 1)\n",
    "pvec_best = np.asarray(all_results_dicts.get(str(chosen_kmf)).get(\"param_estimates\").get(\"MAP best\"))"
   ]
  },
  {
   "cell_type": "markdown",
   "metadata": {},
   "source": [
    "## Pulse concentration to antigen number conversion\n",
    "Assuming the peptides load correctly on tumor cells. \n",
    "\n",
    "In other words, loading EC50 of the peptide is the same as for OT1 peptides. Obviously, this is not always true.  "
   ]
  },
  {
   "cell_type": "code",
   "execution_count": 8,
   "metadata": {},
   "outputs": [],
   "source": [
    "# Load constant parameter values\n",
    "samples_fname = samples_fname = \"mcmc_results_tcr_car_both_conc.h5\"\n",
    "with h5py.File(os.path.join(\"..\", \"results\", \"mcmc\", samples_fname), \"r\") as rfile:\n",
    "    data_group = rfile.get(\"data\")\n",
    "    # Load samples too, for CI generation\n",
    "    mcmc_samples_car = rfile.get(\"samples\").get(str(chosen_kmf))[()]\n",
    "    fit_param_names = list(rfile.get(\"samples\").attrs.get(\"param_names\"))\n",
    "    l_conc_mm_params = data_group.get(\"l_conc_mm_params\")[()]\n",
    "    cost_args_loaded = [data_group.get(a)[()]\n",
    "                        for a in data_group.attrs.get(\"cost_args_names\")]\n",
    "    del data_group, rfile"
   ]
  },
  {
   "cell_type": "code",
   "execution_count": 9,
   "metadata": {},
   "outputs": [],
   "source": [
    "# Multiply this by the number of MHC per tumor cell\n",
    "def pulse_to_frac_loaded(conc):\n",
    "    \"\"\" Compute the fraction of MHC that will be loaded at a pulse conc (in uM)\"\"\"\n",
    "    return michaelis_menten(conc, 1.0, l_conc_mm_params[1])"
   ]
  },
  {
   "cell_type": "markdown",
   "metadata": {},
   "source": [
    "## Load surface molecule numbers"
   ]
  },
  {
   "cell_type": "code",
   "execution_count": null,
   "metadata": {},
   "outputs": [],
   "source": [
    "# Load all CAR and TCR antigen numbers on the tumor lines used for each TCR line\n",
    "molec_counts_filename = \"../data/surface_counts/surface_molecule_summary_stats.h5\"\n",
    "mtc = \"Geometric mean\"\n",
    "tumors = [\"E2APBX\", \"Nalm6\", \"PC9\", \"BEAS2B\"]\n",
    "\n",
    "# Maping each TCR line to a tumor type\n",
    "# Let HHAT peptides both be on PC9, the tumor line\n",
    "# As a proxy for MSKCC data, K562 (which we havent' characterized) is most similar to Nalm6\n",
    "tcr_to_tumor = {\"OT1\":(\"E2APBX\",), \"NYESO\":(\"Nalm6\",), \"HHAT\":(\"BEAS2B\", \"PC9\"), \"MSKCC\":(\"Nalm6\",)}\n",
    "\n",
    "# Surface area of cells, relative to E2aPBX\n",
    "# Unsure about surface area of PC9 and BEAS2B, using 1.0\n",
    "size_factors = {\"E2APBX\":1.0, \"Nalm6\":2.0, \"PC9\":1.0, \"BEAS2B\":1.0}\n",
    "\n",
    "# Prepare DataFrame with MHC and tumor antigen levels\n",
    "df_carag_mhc = pd.DataFrame(np.zeros([len(tumors), 2]), index=pd.Index(tumors, name=\"Tumor\"), \n",
    "                           columns=pd.Index([\"MHC\", \"CAR_Ag\"], name=\"Molecule\"))\n",
    "\n",
    "# E2aPBX\n",
    "molec_stats = pd.read_hdf(molec_counts_filename, key=\"surface_numbers_stats\")\n",
    "df_carag_mhc.loc[\"E2APBX\", \"MHC\"] = molec_stats.loc[(\"E2aPBX_WT\", \"MHC\"), mtc] / size_factors[\"E2APBX\"]\n",
    "df_carag_mhc.loc[\"E2APBX\", \"CAR_Ag\"] = molec_stats.loc[(\"E2aPBX_WT\", \"CD19\"), mtc]\n",
    "\n",
    "# NYESO: on Nalm6\n",
    "df_carag_mhc.loc[\"Nalm6\", \"MHC\"] = molec_stats.loc[(\"Nalm6_19hi\", \"MHC\"), mtc] / size_factors[\"Nalm6\"]\n",
    "df_carag_mhc.loc[\"Nalm6\", \"CAR_Ag\"] = molec_stats.at[(\"Nalm6_19hi\", \"CD19\"), mtc] / size_factors[\"Nalm6\"]\n",
    "\n",
    "# HHAT: assume both on the tumor line, PC9 (disregard healthy tissue BEAS2B)\n",
    "for tum in [\"PC9\", \"BEAS2B\"]:\n",
    "    df_carag_mhc.loc[tum, \"MHC\"] = molec_stats.loc[(tum, \"MHC\"), mtc] / size_factors[tum]\n",
    "    df_carag_mhc.loc[tum, \"CAR_Ag\"] = molec_stats.loc[(tum, \"Her2\"), mtc] / size_factors[tum]\n",
    "\n",
    "df_carag_mhc"
   ]
  },
  {
   "cell_type": "markdown",
   "metadata": {},
   "source": [
    "# Antagonism as a function of EC50 for various TCR kinds\n",
    "Continuous model curve vs tau (or EC50?) for each TCR line, with appropriate tumor numbers"
   ]
  },
  {
   "cell_type": "code",
   "execution_count": 11,
   "metadata": {},
   "outputs": [],
   "source": [
    "dens_name = \"TCR_Antigen_Density_uM\""
   ]
  },
  {
   "cell_type": "code",
   "execution_count": null,
   "metadata": {},
   "outputs": [],
   "source": [
    "# Generate model curves as a function of tau for each tumor line\n",
    "# Do 1 uM and 1 nM. Will correspond to different ligand numbers\n",
    "# since the number of MHC varies per APC line. \n",
    "tau_range = np.linspace(tau_refs[\"None\"], tau_refs[\"N4\"], 200)\n",
    "pulse_concs = [1e0, 1e-3]\n",
    "cond_index = pd.MultiIndex.from_product(\n",
    "    [pulse_concs, tau_range], names=[dens_name, \"TCR_Antigen_tau\"]\n",
    ").sort_values()\n",
    "model_curves = {}\n",
    "n_tumors = len(sum(tuple(a for a in tcr_to_tumor.values()), ()))\n",
    "seedlist = np.random.SeedSequence(0xe55069716ae615153a71f0cebb4211c6).spawn(n_tumors)\n",
    "tum_i = 0\n",
    "for tcr, tumor in tcr_to_tumor.items():\n",
    "    # For HHAT, different tumor in fact for p8f or WT peptide\n",
    "    # Else, one tumor type, still need the level in the dataframe\n",
    "    for tum in tumor:\n",
    "        tumor_line_info = {\n",
    "            \"l_conc_mm_params\":[df_carag_mhc.loc[tum, \"MHC\"], l_conc_mm_params[1]], \n",
    "            \"car_ag\":df_carag_mhc.loc[tum, \"CAR_Ag\"]\n",
    "        }\n",
    "        # Compute model predictions of antagonism ratio. Not adjusting any parameter\n",
    "        # since we are making predictions about cytokines. \n",
    "        model_curves[(tcr, tum)] = confidence_predictions_car_antagonism(\n",
    "            antag_ratio_panel_tcr_car, \n",
    "            mcmc_samples_car,\n",
    "            pvec_best,\n",
    "            chosen_kmf,\n",
    "            cond_index,\n",
    "            other_args=cost_args_loaded,\n",
    "            cell_info=tumor_line_info, \n",
    "            n_samp=n_boot, \n",
    "            seed=seedlist[tum_i], \n",
    "            tcr_pulse_lvl=dens_name\n",
    "        )\n",
    "        tum_i += 1\n",
    "        # Rename ligand numbers to concentrations\n",
    "        model_curves[(tcr, tum)] = (model_curves[(tcr, tum)]\n",
    "                             .rename(write_conc_uM, level=dens_name))\n",
    "        print(\"Finished tumor line {}\".format(tum))\n",
    "    print(\"Generated model curves for {} TCR\".format(tcr))\n",
    "    print()\n",
    "\n",
    "\n",
    "model_curves = pd.concat(model_curves, names=[\"TCR\", \"Tumor\"])\n",
    "model_curves.name = \"FC\"\n",
    "model_curves"
   ]
  },
  {
   "cell_type": "markdown",
   "metadata": {},
   "source": [
    "## Predictions for various TCR antigens\n",
    "For each antigen, predict at 1 $\\mu$M and at 1 nM. Then make a bar graph of $\\log_2 FC$, with 2 bars for each antigen (black and red). "
   ]
  },
  {
   "cell_type": "code",
   "execution_count": 13,
   "metadata": {},
   "outputs": [],
   "source": [
    "def add_pep_names(df, ser_ec50s):\n",
    "    # Inverse mapping\n",
    "    pep_names_map = {ser_ec50s.loc[pep]:pep for pep in ser_ec50s.index.get_level_values(\"Peptide\")}\n",
    "    \n",
    "    # Create a new column with peptide names and set_index with it\n",
    "    df[\"Peptide\"] = df.index.get_level_values(\"TCR_Antigen_tau\").map(pep_names_map)\n",
    "    df = df.set_index(\"Peptide\", append=True, drop=True)\n",
    "    return df"
   ]
  },
  {
   "cell_type": "code",
   "execution_count": null,
   "metadata": {},
   "outputs": [],
   "source": [
    "# Convert the EC50s of all peptides to binding times, based on OT1-N4\n",
    "# In preparation of the pandas Indexes specifying conditions to predict\n",
    "tcr_lines_ags_taus = df_cd25_ec50s.apply(ec50_to_tau)\n",
    "tcr_lines_ags_taus.name = \"tau\"\n",
    "pulse_concs = [1e0, 1e-3]  # predict 1 uM and 1 nM\n",
    " \n",
    "n_tumors = len(sum(tuple(a for a in tcr_to_tumor.values()), start=()))\n",
    "seedlist = np.random.SeedSequence(0x1fc5b69b24110469fe30e2879cdf983f).spawn(n_tumors)\n",
    "tum_i = 0\n",
    "model_preds_tcr_ags = {}\n",
    "for tcr, tumor in tcr_to_tumor.items():\n",
    "    if tcr == \"MSKCC\": continue  # Skip this, we don't have CD25 EC50s here\n",
    "    for tum in tumor:\n",
    "        # Prepare MultiIndex specifying L, tau \n",
    "        cond_index_tumor = pd.MultiIndex.from_product(\n",
    "            [pulse_concs, tcr_lines_ags_taus.xs(tcr, level=\"TCR\")], \n",
    "            names=[dens_name, \"TCR_Antigen_tau\"]\n",
    "        ).sort_values()\n",
    "        # Prepare cell line info\n",
    "        tumor_line_info = {\n",
    "            \"l_conc_mm_params\":[df_carag_mhc.loc[tum, \"MHC\"], l_conc_mm_params[1]], \n",
    "            \"car_ag\":df_carag_mhc.loc[tum, \"CAR_Ag\"]\n",
    "        }\n",
    "        # Compute CI\n",
    "        model_preds_tcr_ags[(tcr, tum)] = confidence_predictions_car_antagonism(\n",
    "                antag_ratio_panel_tcr_car, \n",
    "                mcmc_samples_car,\n",
    "                pvec_best,\n",
    "                chosen_kmf,\n",
    "                cond_index_tumor, \n",
    "                other_args=cost_args_loaded,\n",
    "                cell_info=tumor_line_info, \n",
    "                n_samp=n_boot, \n",
    "                seed=seedlist[tum_i], \n",
    "                tcr_pulse_lvl=dens_name\n",
    "        )\n",
    "        tum_i += 1  # increment to next tumor, tcr combination\n",
    "        # Convert pulse concentration to string label\n",
    "        model_preds_tcr_ags[(tcr, tum)] = (model_preds_tcr_ags[(tcr, tum)]\n",
    "                .rename(write_conc_uM, level=dens_name))\n",
    "        # Also add peptide names as an index level\n",
    "        model_preds_tcr_ags[(tcr, tum)] = add_pep_names(\n",
    "            model_preds_tcr_ags[(tcr, tum)], tcr_lines_ags_taus.droplevel(\"TCR\"))\n",
    "        print(\"Finished tumor line {}\".format(tum))\n",
    "    print(\"Generated model curves for {} TCR\".format(tcr))\n",
    "    print()\n",
    "\n",
    "model_preds_tcr_ags = (pd.concat(model_preds_tcr_ags, names=[\"TCR\", \"Tumor\"])\n",
    "    .reorder_levels([\"TCR\", \"Tumor\", \"Peptide\", \"TCR_Antigen_tau\", dens_name])\n",
    "    .droplevel(\"TCR_Antigen_tau\")\n",
    "    .sort_index()\n",
    ")\n",
    "# Immediately drop the incorrect pairs of HHAT-tumor\n",
    "model_preds_tcr_ags = model_preds_tcr_ags.drop([(\"HHAT\", \"BEAS2B\", \"HHAT-p8F\"), (\"HHAT\", \"PC9\", \"HHAT-WT\")])\n",
    "# In fact, back to both peptides on PC9, so keep both tumors for both antigens\n",
    "model_preds_tcr_ags = model_preds_tcr_ags.sort_index()\n",
    "model_preds_tcr_ags"
   ]
  },
  {
   "cell_type": "code",
   "execution_count": null,
   "metadata": {},
   "outputs": [],
   "source": [
    "# Plotting the results\n",
    "agdens_palette = {\"1uM\": perturb_palette[\"None\"], \"1nM\": perturb_palette[\"AgDens\"]}\n",
    "nice_pulse_name = \"TCR Ag pulse\"\n",
    "plotDf = np.log2(model_preds_tcr_ags[\"best\"]).to_frame()\n",
    "plotDf[\"FC\"] = plotDf[\"best\"]\n",
    "plotDf = plotDf.drop(\"best\", axis=1)\n",
    "# Sort peptides according to 1 uM antagonism\n",
    "sorted_peps = (plotDf.xs(\"1uM\", level=dens_name)\n",
    "               .sort_values(by=\"FC\").index.get_level_values(\"Peptide\"))\n",
    "# Sort by antigen tau or EC50 instead?\n",
    "#sorted_peps = sorted(plotDf.index.get_level_values(\"Peptide\").unique(), \n",
    "#                    key=lambda x: tcr_lines_ags_taus.loc[(x.split(\"-\")[0], x)])\n",
    "plotDf.index = plotDf.index.rename(names=nice_pulse_name, level=dens_name)\n",
    "facet = sns.FacetGrid(\n",
    "    data=plotDf.reset_index(), \n",
    "    hue=nice_pulse_name, \n",
    "    palette=agdens_palette, \n",
    "    hue_order=[\"1uM\", \"1nM\"],\n",
    "    col=nice_pulse_name, \n",
    "    col_order=[\"1uM\", \"1nM\"],\n",
    ")\n",
    "facet.map(sns.barplot, \"FC\", \"Peptide\", \n",
    "         order=sorted_peps)\n",
    "for ax in facet.axes.flat:\n",
    "    ax.axvline(0.0, ls=\"--\", color=\"k\", lw=1.0)\n",
    "facet.figure.set_size_inches(facet.fig.get_size_inches()[0], facet.fig.get_size_inches()[1]*2)\n",
    "change_log_ticks(facet.axes.flat[0], which=\"x\")\n",
    "change_log_ticks(facet.axes.flat[1], which=\"x\")\n",
    "if do_save_plots:\n",
    "    facet.figure.savefig(\"figures/extra_predictions/tcr_kinds_antagonism_barplots.pdf\", \n",
    "                                        transparent=True, bbox_inches=\"tight\")\n",
    "plt.show()\n",
    "plt.close()"
   ]
  },
  {
   "cell_type": "code",
   "execution_count": null,
   "metadata": {},
   "outputs": [],
   "source": [
    "# Plot the model curves\n",
    "fig, axes = plt.subplots(3, 1, sharex=True)\n",
    "axes = axes.flatten()\n",
    "fig.set_size_inches(2.5 + 1.5, 2.25*3)\n",
    "\n",
    "for i, tcr in enumerate([\"OT1\", \"NYESO\", \"HHAT\"]):\n",
    "    axes[i].axhline(0.0, ls=\"--\", color=\"grey\", lw=1.0)\n",
    "    # Plot the model curve\n",
    "    for ag_dens in model_curves.index.get_level_values(dens_name).unique()[::-1]:\n",
    "        tum_vals = (model_curves.loc[(tcr, slice(None), ag_dens)].index\n",
    "                    .remove_unused_levels().get_level_values(\"Tumor\").unique().values)\n",
    "        lstyles = [\"-\", \"--\"]\n",
    "        for j, tum in enumerate(tum_vals):\n",
    "            curve = model_curves.loc[(tcr, tum, ag_dens, tau_range), \"best\"].values\n",
    "            clr = perturb_palette[\"None\"] if ag_dens == \"1uM\" else perturb_palette[\"AgDens\"]\n",
    "            axes[i].plot(tau_range, np.log2(curve), label=\", \".join([tum, ag_dens]), \n",
    "                         color=clr, lw=2.0, ls=lstyles[j])\n",
    "            # Mark the experimental antigens on these curves\n",
    "            peps = (model_preds_tcr_ags.loc[(tcr, tum), \"best\"].index\n",
    "                    .get_level_values(\"Peptide\").unique())\n",
    "            for pep in peps:\n",
    "                tau = tcr_lines_ags_taus.loc[(tcr, pep)]\n",
    "                y = np.log2(model_preds_tcr_ags.loc[(tcr, tum, pep, ag_dens), \"best\"])\n",
    "                axes[i].plot(tau, y, ls=\"none\", ms=6, marker=\"o\", mfc=clr, mec=clr)\n",
    "    # Label this plot\n",
    "    axes[i].set(ylabel=r\"$FC_{\\mathrm{TCR \\rightarrow CAR}}$\")\n",
    "    change_log_ticks(axes[i], base=2, which=\"y\")\n",
    "    axes[i].set_title(tcr + \" – \" + \"/\".join(tcr_to_tumor.get(tcr)))\n",
    "    axes[i].legend(loc=\"upper left\", bbox_to_anchor=(1, 1))\n",
    "    for side in [\"top\", \"right\"]:\n",
    "        axes[i].spines[side].set_visible(False)\n",
    "    \n",
    "axes[-1].set_xlabel(r\"TCR Antigen $\\tau^T$ (s)\")\n",
    "\n",
    "fig.tight_layout(h_pad=2.0)\n",
    "if do_save_plots:\n",
    "    fig.savefig(\"figures/extra_predictions/tcr_kinds_model_antagonism_curves.pdf\", \n",
    "                      transparent=True, bbox_inches=\"tight\")\n",
    "plt.show()\n",
    "plt.close()"
   ]
  },
  {
   "cell_type": "code",
   "execution_count": 17,
   "metadata": {},
   "outputs": [],
   "source": [
    "# Save the model curves, the extra peptide predictions, and the EC50s and taus of peptides\n",
    "plot_data_filename = \"results/for_plots/tcr_kinds_universal_antagonism_model.h5\"\n",
    "\n",
    "if do_save_outputs:\n",
    "    model_curves.to_hdf(plot_data_filename, key=\"model_curves\")\n",
    "    model_preds_tcr_ags.to_hdf(plot_data_filename, key=\"model_predictions_tcr_ags\")\n",
    "    tcr_lines_ags_taus.to_hdf(plot_data_filename, key=\"tcr_lines_antigen_taus\")"
   ]
  },
  {
   "cell_type": "code",
   "execution_count": null,
   "metadata": {},
   "outputs": [],
   "source": []
  }
 ],
 "metadata": {
  "kernelspec": {
   "display_name": "py312",
   "language": "python",
   "name": "python3"
  },
  "language_info": {
   "codemirror_mode": {
    "name": "ipython",
    "version": 3
   },
   "file_extension": ".py",
   "mimetype": "text/x-python",
   "name": "python",
   "nbconvert_exporter": "python",
   "pygments_lexer": "ipython3",
   "version": "3.12.7"
  }
 },
 "nbformat": 4,
 "nbformat_minor": 4
}

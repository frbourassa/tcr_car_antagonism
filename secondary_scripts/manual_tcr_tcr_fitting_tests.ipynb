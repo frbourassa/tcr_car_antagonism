{
 "cells": [
  {
   "cell_type": "markdown",
   "metadata": {},
   "source": [
    "# Parameter exploration for TCR/TCR antagonism in the revised AKPR model\n",
    "Notebook to explore the revised AKPR model TCR/TCR antagonism results as a function of parameters. We define a few plotting functions that make it easy to change values in the vector of best parameter fits and visualize the corresponding antagonism curves. "
   ]
  },
  {
   "cell_type": "code",
   "execution_count": 25,
   "metadata": {},
   "outputs": [],
   "source": [
    "import numpy as np\n",
    "import pandas as pd\n",
    "import matplotlib.pyplot as plt\n",
    "import json\n",
    "\n",
    "import sys, os\n",
    "# Local modules\n",
    "if not \"../\" in sys.path:\n",
    "    sys.path.insert(1, \"../\")\n",
    "\n",
    "from mcmc.costs_tcr_tcr_antagonism import cost_antagonism_akpr_i\n",
    "from mcmc.costs_tcr_tcr_antagonism import antag_ratio_panel_akpr_i, steady_akpr_i_1ligand\n",
    "from mcmc.mcmc_analysis import find_best_grid_point\n",
    "from utils.preprocess import string_to_tuple\n",
    "from mcmc.utilities_tcr_tcr_antagonism import (\n",
    "    prepare_data, check_fit_model_antagonism, check_model_output, load_tcr_tcr_molec_numbers, plot_fit_antagonism\n",
    ")\n",
    "from models.akpr_i_model import activation_function, steady_akpr_i_2ligands"
   ]
  },
  {
   "cell_type": "code",
   "execution_count": 26,
   "metadata": {},
   "outputs": [],
   "source": [
    "# Import data\n",
    "# Number of TCR per T cell, L-pulse conversion parameters, peptide taus\n",
    "molec_counts_fi = os.path.join(\"..\", \"data\", \"surface_counts\", \"surface_molecule_summary_stats.h5\")\n",
    "mtc = \"Geometric mean\"\n",
    "nums = load_tcr_tcr_molec_numbers(molec_counts_fi, mtc, tcell_type=\"OT1_Naive\")\n",
    "tcr_number, l_conc_mm_params, pep_tau_map_ot1 = nums\n",
    "\n",
    "## Antagonism ratio fitting\n",
    "# Prepare data for fitting antagonism ratios\n",
    "data_file_name = os.path.join(\"..\", \"data\", \"antagonism\", \"allManualSameCellAntagonismDfs_v3.h5\")\n",
    "df = pd.read_hdf(data_file_name)\n",
    "df_data, df_err, tau_agonist = prepare_data(df, l_conc_mm_params, pep_tau_map_ot1)"
   ]
  },
  {
   "cell_type": "code",
   "execution_count": 27,
   "metadata": {},
   "outputs": [],
   "source": [
    "# Set other parameters\n",
    "# Model parameters\n",
    "# Define the parameters that will remain the same throughout\n",
    "# Parameters related to the cascade of phosphorylations\n",
    "phi = 0.2\n",
    "kappa = 1e-4\n",
    "psi_0 = 0.0\n",
    "I_tot = 1.0\n",
    "N = 6\n",
    "R_tot = tcr_number\n",
    "\n",
    "# Bounds on parameters: phi, cmthresh, sthresh, psi_0\n",
    "# Use relatively tight bounds based on previous runs.\n",
    "# Use the log of parameters so the MCMC steps are even in log scale\n",
    "fit_bounds = [(0.05, 5.0), (1, 10*R_tot), (1e-5, 1000*I_tot), (1e-8, 5.0)]\n",
    "fit_bounds = [np.log10(np.asarray(a)) for a in zip(*fit_bounds)]\n",
    "\n",
    "# Wrapping up parameters\n",
    "rates_others = [kappa]  # k_I will be gridded over\n",
    "total_RI = [R_tot, I_tot]"
   ]
  },
  {
   "cell_type": "markdown",
   "metadata": {},
   "source": [
    "## Start by plotting the best fits"
   ]
  },
  {
   "cell_type": "code",
   "execution_count": 28,
   "metadata": {},
   "outputs": [],
   "source": [
    "# Import analysis results\n",
    "with open (\"../results/mcmc/mcmc_analysis_akpr_i.json\", \"r\") as h:\n",
    "    akpr_analysis = json.load(h)"
   ]
  },
  {
   "cell_type": "code",
   "execution_count": null,
   "metadata": {},
   "outputs": [],
   "source": [
    "# Load best parameter fit to begin \n",
    "best_kmf, best_pvec, best_cost = find_best_grid_point(akpr_analysis, strat=\"best\")\n",
    "kmf_tuple = string_to_tuple(best_kmf)\n",
    "nmf_best = [N, *kmf_tuple[1:]]\n",
    "other_rates_best = rates_others + [kmf_tuple[0]]\n",
    "print(\"Best kmf:\", best_kmf)\n",
    "print(\"Best fit:\", 10.0**best_pvec)\n",
    "print(\"Cost:\", best_cost)"
   ]
  },
  {
   "cell_type": "code",
   "execution_count": 30,
   "metadata": {},
   "outputs": [],
   "source": [
    "def change_log_ticks(axis, base=2, which=\"y\"):\n",
    "    if which == \"y\" or which == \"both\":\n",
    "        ogyticks = axis.get_yticks()\n",
    "        newyticks = list(np.unique([int(x) for x in ogyticks]))\n",
    "        newyticklabels = [str(base)+'$^{'+str(x)+'}$' for x in newyticks]\n",
    "        axis.set_yticks(newyticks)\n",
    "        axis.set_yticklabels(newyticklabels)\n",
    "    if which == \"x\" or which == \"both\":\n",
    "        ogxticks = axis.get_xticks()\n",
    "        newxticks = list(np.unique([int(x) for x in ogxticks]))\n",
    "        newxticklabels = [str(base)+'$^{'+str(x)+'}$' for x in newxticks]\n",
    "        axis.set_xticks(newxticks)\n",
    "        axis.set_xticklabels(newxticklabels)\n",
    "    return axis\n",
    "    \n",
    "def plot_fit_cost(pvec, bounds, kmf, other_rates, rstots, n_p, tau_ag, df_ratio, df_ci, mm_params, \n",
    "                 panel_fct=antag_ratio_panel_akpr_i, cost_fct=cost_antagonism_akpr_i):\n",
    "    # First, compute a model panel\n",
    "    other_args = [other_rates, rstots, n_p, tau_ag]\n",
    "    df_mod = check_fit_model_antagonism(panel_fct, pvec, kmf, \n",
    "                                      df_ratio, df_ci, other_args=other_args, n_taus=101)\n",
    "    \n",
    "    # Compute the cost function too and print it\n",
    "    cost_val = cost_fct(pvec, bounds, kmf, other_rates, rstots, n_p, tau_ag, df_ratio, df_ci)\n",
    "    print(\"Cost function:\", cost_val)\n",
    "\n",
    "    plot_fit_antagonism(df_ratio, df_mod, mm_params, df_ci, cost=cost_val, model_ci=None)\n",
    "    return df_mod, cost_val"
   ]
  },
  {
   "cell_type": "code",
   "execution_count": 31,
   "metadata": {},
   "outputs": [],
   "source": [
    "def plot_model_output(expvec, other_rates, rstots, kmf, n_p):\n",
    "    model_rates = [expvec[0], other_rates[0]] + list(expvec[1:3]) + [kmf[0], expvec[3]]\n",
    "    res = check_model_output(steady_akpr_i_1ligand, model_rates, rstots, [n_p, *kmf[1:]])\n",
    "\n",
    "    l_range, tau_range, outputs = res\n",
    "    fig, ax = plt.subplots()\n",
    "    fig.set_size_inches(5.5, 4.0)\n",
    "    for i, tau in enumerate(tau_range):\n",
    "        ax.plot(l_range, outputs[i], label=r\"$\\tau = {:.0f}$ s\".format(tau))\n",
    "    ax.set(xscale=\"log\", yscale=\"log\", xlabel=r\"$L$\", ylabel=r\"$C_N$\", title=\"AKPR SHP-1 model\")\n",
    "    ax.legend(loc=\"lower right\")\n",
    "    ax.annotate(r\"Best $k_I, m, f$ : $({}, {}, {})$\".format(*kmf) + \"\\n\"\n",
    "                + r\"Best $C_{m, thresh}$ : \" + \"{:.1f}\\n\".format(expvec[0])\n",
    "                + r\"Best $S_{thresh}$ : \" + \"{:.2e}\\n\".format(expvec[1]),\n",
    "                xy=(0.05, 0.95), ha=\"left\", va=\"top\",\n",
    "                xycoords=\"axes fraction\")\n",
    "    fig.tight_layout()\n",
    "\n",
    "    plt.show()\n",
    "    plt.close()\n",
    "    return l_range, tau_range, outputs"
   ]
  },
  {
   "cell_type": "code",
   "execution_count": null,
   "metadata": {},
   "outputs": [],
   "source": [
    "# Check the best fit from the simulations first\n",
    "df_model, cost_test = plot_fit_cost(best_pvec, fit_bounds, kmf_tuple, rates_others, total_RI, \n",
    "                                     N, tau_agonist, df_data, df_err, l_conc_mm_params)\n",
    "\n",
    "_ = plot_model_output(10**best_pvec, rates_others, total_RI, kmf_tuple, N)"
   ]
  },
  {
   "cell_type": "markdown",
   "metadata": {},
   "source": [
    "## Try varying parameters and see the corresponding model curves\n",
    "For instance, is there a way to better capture the 10 pM agonist, 1 nM antagonist condition, maybe at the expense of other parts of the fit? Try to manually adjust parameters to get there. It is possible, but then, there is too much enhancement at 1 uM antagonist. "
   ]
  },
  {
   "cell_type": "code",
   "execution_count": null,
   "metadata": {},
   "outputs": [],
   "source": [
    "# Best kmf:  1, 4, 1\n",
    "# Best fit: \n",
    "print(10**best_pvec)\n",
    "kmf_tuple = (1, 4, 1)\n",
    "tweak_pvec = np.log10([0.2, 2e3, 3e-6, 8e-6])\n",
    "\n",
    "df_model, cost_test = plot_fit_cost(tweak_pvec, fit_bounds, kmf_tuple, rates_others, total_RI, \n",
    "                                     N, tau_agonist, df_data, df_err, l_conc_mm_params)"
   ]
  },
  {
   "cell_type": "code",
   "execution_count": null,
   "metadata": {},
   "outputs": [],
   "source": [
    "# Try a different k, m, f for fun\n",
    "tweak_kmf = (1, 3, 2)\n",
    "# Best pvec for the chosen kmf\n",
    "best_pvec_tweak_kmf = np.asarray(akpr_analysis.get(str(tweak_kmf)).get(\"param_estimates\").get(\"MAP best\"))\n",
    "print(\"Best pvec for chosen kmf:\", 10**best_pvec_tweak_kmf)\n",
    "\n",
    "\n",
    "df_model, cost_test = plot_fit_cost(best_pvec_tweak_kmf, fit_bounds, tweak_kmf, rates_others, total_RI, \n",
    "                                     N, tau_agonist, df_data, df_err, l_conc_mm_params)"
   ]
  },
  {
   "cell_type": "markdown",
   "metadata": {},
   "source": [
    "# Try adding an activation function on $C_N$\n",
    "For TCR/CAR, the individual receptor outputs are passed through Hill functions before being combined. Here, we wonder whether we should look directly at $C_N$ to compute the TCR/TCR antagonism ratio (as we did) or use a Hill-transformed output before computing that ratio. I had tried by MCMC before, but it did not seem to matter; the bare receptor outputs capture antagonism well enough. Let's try to see why here. "
   ]
  },
  {
   "cell_type": "code",
   "execution_count": 35,
   "metadata": {},
   "outputs": [],
   "source": [
    "### AKPR SHP-1 model ###\n",
    "ln10 = np.log(10.0)\n",
    "eps_for_log = 1e-8\n",
    "def antag_ratio_panel_akpr_i_activ(pvec, kmf, other_rates, rstot, n_p, ag_tau, cond_index):\n",
    "    expvec = np.exp(pvec*ln10)\n",
    "    all_rates = [expvec[0]] + list(other_rates[:1]) + list(expvec[1:3]) + [kmf[0], expvec[3]]\n",
    "    nmf = (n_p,) + tuple(kmf[1:])\n",
    "\n",
    "    inames = cond_index.names\n",
    "    df_ratio = pd.Series(np.zeros(len(cond_index)), index=cond_index)\n",
    "    ag_alone = {}\n",
    "    cn_thresh = expvec[4]\n",
    "    for l_ag in cond_index.get_level_values(inames[0]).unique():\n",
    "        cn_alone = steady_akpr_i_1ligand(all_rates, ag_tau, l_ag, rstot, nmf)[n_p]\n",
    "        ag_alone[l_ag] = activation_function(cn_alone, cn_thresh)\n",
    "    # Now, for each condition, compute model output for the mixture\n",
    "    for l_ag, l_antag, antag_tau in cond_index:\n",
    "        taus = np.asarray([ag_tau, antag_tau])\n",
    "        lvec = np.asarray([l_ag, l_antag])\n",
    "        complexes_mix = steady_akpr_i_2ligands(all_rates, taus, lvec, rstot, nmf)\n",
    "        out_mix = activation_function(complexes_mix[nmf[0]] + complexes_mix[2*nmf[0]+1], cn_thresh)\n",
    "        df_ratio[(l_ag, l_antag, antag_tau)] = out_mix / ag_alone[l_ag]\n",
    "    return df_ratio\n",
    "\n",
    "\n",
    "# Main AKPR SHP-1 cost function\n",
    "def cost_antagonism_akpr_i_activ(pvec, pbounds, kmf, other_rates, rstot, n_p,\n",
    "    ag_tau, df_ratio, df_err, weight_smallagconc=4.0):\n",
    "    \"\"\"\n",
    "    Args:\n",
    "        pvec (np.ndarray): cm_thresh, s_thresh, cn_thresh\n",
    "        pbounds (list of 2 arrays): array of lower bounds, array of upper\n",
    "        kmf (list): k_I, m, f\n",
    "        other_rates (list): phi, kappa, psi_0\n",
    "        rstot (list of 2 floats): R_tot, I_tot\n",
    "        n_p (int): N\n",
    "        ag_tau (float): tau of agonist. For the MI calculation, this will be used\n",
    "            as one of the two taus to distinguish.\n",
    "        df_ratio (pd.DataFrame): antagonism ratio data for a fixed agonist.\n",
    "            Should have its three last index levels be the L1 (3rd to last), L2 (2nd to last)\n",
    "            and tau2 (last).\n",
    "        df_err (pd.DataFrame): log-scale error bars on the antagonism ratios.\n",
    "\n",
    "    Returns:\n",
    "        cost (float): total scalar cost.\n",
    "    \"\"\"\n",
    "    # Check parameter boundaries\n",
    "    if np.any(pvec < pbounds[0]) or np.any(pvec > pbounds[1]):\n",
    "        return -np.inf\n",
    "    # Part 1: compute antagonism ratio for each data condition\n",
    "    # For each agonist L, compute agonist alone output\n",
    "    # Then for each L2, tau2, compute the ratio\n",
    "    try:\n",
    "        df_ratio_model = antag_ratio_panel_akpr_i_activ(pvec, kmf, other_rates,\n",
    "                            rstot, n_p, ag_tau, df_ratio.index)\n",
    "    except ValueError as e:\n",
    "        print(e)\n",
    "        ratio_dists = np.inf\n",
    "        print(\"Error with log10 parameter values {} and m,f={}\".format(pvec, kmf[1:]))\n",
    "    else:\n",
    "        bonus_lvl = \"AgonistConcentration\"\n",
    "        smallagconc = df_ratio.index.get_level_values(bonus_lvl).min()\n",
    "        ratios = (np.log2(df_ratio_model/df_ratio+eps_for_log)/df_err)**2\n",
    "        ratios.loc[ratios.index.isin([smallagconc], level=bonus_lvl)] *= weight_smallagconc\n",
    "        ratio_dists = np.sum(ratios)\n",
    "\n",
    "    return -ratio_dists"
   ]
  },
  {
   "cell_type": "code",
   "execution_count": null,
   "metadata": {},
   "outputs": [],
   "source": [
    "# Check the tweaked best fit from the simulations\n",
    "tweak_kmf = tuple(string_to_tuple(best_kmf))\n",
    "activ_pvec = np.concatenate([best_pvec, [1.0]])\n",
    "activ_bounds = [(0.05, 5.0), (1, 10*R_tot), (1e-5, 1000*I_tot), (1e-8, 5.0), (1e-4, 1e6)]\n",
    "activ_bounds = [np.log10(np.asarray(a)) for a in zip(*activ_bounds)]\n",
    "\n",
    "df_model, cost_tweak = plot_fit_cost(activ_pvec, activ_bounds, tweak_kmf, rates_others, total_RI, \n",
    "                                N, tau_agonist, df_data, df_err, l_conc_mm_params,\n",
    "                                panel_fct=antag_ratio_panel_akpr_i_activ, \n",
    "                                cost_fct=cost_antagonism_akpr_i_activ)\n"
   ]
  },
  {
   "cell_type": "markdown",
   "metadata": {},
   "source": [
    "The activation function does not give a better fit, it is visually similar to the previous one, but has poorer log-posterior value. "
   ]
  },
  {
   "cell_type": "markdown",
   "metadata": {},
   "source": []
  }
 ],
 "metadata": {
  "kernelspec": {
   "display_name": "py312",
   "language": "python",
   "name": "python3"
  },
  "language_info": {
   "codemirror_mode": {
    "name": "ipython",
    "version": 3
   },
   "file_extension": ".py",
   "mimetype": "text/x-python",
   "name": "python",
   "nbconvert_exporter": "python",
   "pygments_lexer": "ipython3",
   "version": "3.12.7"
  }
 },
 "nbformat": 4,
 "nbformat_minor": 4
}

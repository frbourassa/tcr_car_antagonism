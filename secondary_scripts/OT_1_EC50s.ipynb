{
 "cells": [
  {
   "cell_type": "code",
   "execution_count": null,
   "metadata": {
    "id": "nrMwKasEvr9q"
   },
   "outputs": [],
   "source": [
    "import os\n",
    "import json\n",
    "import matplotlib.pyplot as plt\n",
    "import matplotlib as mpl\n",
    "import numpy as np\n",
    "import pandas as pd\n",
    "import scipy as sp\n",
    "from scipy import optimize, stats\n",
    "import seaborn as sns\n",
    "sns.set_context('talk')\n",
    "import warnings\n",
    "#warnings.filterwarnings('ignore')\n",
    "idx = pd.IndexSlice\n",
    "import sys"
   ]
  },
  {
   "cell_type": "code",
   "execution_count": null,
   "metadata": {
    "colab": {
     "base_uri": "https://localhost:8080/"
    },
    "id": "ZKo66evWwS86",
    "outputId": "84e21e5b-9da6-4163-b92e-1865cdfa701b"
   },
   "outputs": [],
   "source": [
    "# Relevant folders\n",
    "root_dir = \"../\"\n",
    "if root_dir not in sys.path:\n",
    "    sys.path.insert(1, root_dir)\n",
    "data_dir = root_dir + 'data/dose_response/'\n",
    "fig_dir = root_dir + 'figures/dose_response/'\n",
    "\n",
    "#If local\n",
    "#base_dir = ''"
   ]
  },
  {
   "cell_type": "markdown",
   "metadata": {
    "id": "vTNPEa-CwVF7"
   },
   "source": [
    "# Import data\n",
    "\n",
    "## Important: this dose response is with mock-transduced T cells!\n",
    "So blast T cells, T cells that go through the same process as our CD19 CAR-T cells but without transduction of a CAR.  \n",
    "\n",
    "This means that the dose response will be very sharp, and that V4, G4 might cause very little activation. Moreover, the absolute pulse concentration EC50s might be smaller than with naive T cells. However, relative to NB4, EC50s of other peptides should line up still (except we might have problems with V4, G4). "
   ]
  },
  {
   "cell_type": "code",
   "execution_count": null,
   "metadata": {
    "colab": {
     "base_uri": "https://localhost:8080/",
     "height": 455
    },
    "id": "kiL63OFhwTEH",
    "outputId": "710deefc-2040-4aae-c780-ba404da00c49"
   },
   "outputs": [],
   "source": [
    "df = pd.read_hdf(data_dir+\"ot1cytEC50Df.hdf\", key=\"df\")\n",
    "# Rename Concentration_M\n",
    "new_names = list(df.index.names)\n",
    "new_names[new_names.index(\"Concentration_M\")] = \"Concentration (M)\"\n",
    "df.index = df.index.set_names(new_names)\n",
    "\n",
    "df"
   ]
  },
  {
   "cell_type": "code",
   "execution_count": null,
   "metadata": {
    "colab": {
     "base_uri": "https://localhost:8080/",
     "height": 1000
    },
    "id": "bqRGBtfCyJwr",
    "outputId": "50f2edb6-57d3-48f0-9b14-a65cc58149f8"
   },
   "outputs": [],
   "source": [
    "plotDf = df.reset_index()\n",
    "log10conc_lbl = r\"$\\log_{10}$ Concentration (M)\"\n",
    "plotDf[log10conc_lbl] = np.log10(plotDf[\"Concentration (M)\"])\n",
    "g = sns.relplot(data=plotDf, x=r\"$\\log_{10}$ Concentration (M)\", y=24.0, row=\"Cytokine\", \n",
    "            col=\"CAR\", style=\"Spleen\", hue=\"Peptide\", kind=\"line\")\n",
    "for ax in g.axes.flat:\n",
    "    ax.set_yscale(\"log\")\n",
    "plt.show()\n",
    "plt.close()"
   ]
  },
  {
   "cell_type": "markdown",
   "metadata": {
    "id": "a6soSgWrz5fX"
   },
   "source": [
    "## Data cleanup\n",
    "- Remove cytokines without significant signal. Basically, keep IL-2, TNF, IFNg. \n",
    "- Remove mispipette accident for Q4 at 1 pM. \n",
    "- Clip IFNg data at value for None, highest concentration. Since all \"None\" conditions were just unpulsed tumors, they should all be identical, yet there is a systematic bias in the background noise, which increases with pulse concentration, especially in IFNg. This might be due to layout on the plate. Anyways, to prevent fitting Hill curves on this low ramp, I clip IFNg to the highest baseline value available; everything below is noise and should be treated as lower LOD. "
   ]
  },
  {
   "cell_type": "code",
   "execution_count": null,
   "metadata": {
    "colab": {
     "base_uri": "https://localhost:8080/"
    },
    "id": "sSiVBsQNy0CZ",
    "outputId": "423e60b8-957c-46b6-e1f9-7faa86a6e853"
   },
   "outputs": [],
   "source": [
    "# Detectable cytokines\n",
    "df_clean = df.loc[df.index.isin([\"IFNg\", \"IL-2\", \"TNFa\"], level=\"Cytokine\")]\n",
    "\n",
    "# Mispipette of Q4 1 pM\n",
    "sizes_before_after = [df_clean.shape[0]]\n",
    "df_clean = df_clean.query(\"Peptide != 'Q4' or Concentration != '1pM'\")\n",
    "sizes_before_after.append(df_clean.shape[0])\n",
    "print(\"Size before: {0[0]}\\nSize after: {0[1]}\".format(sizes_before_after))\n",
    "assert df.loc[([\"IFNg\", \"IL-2\", \"TNFa\"], slice(None), slice(None), \"Q4\", \"1pM\")].shape[0] == (sizes_before_after[0] - sizes_before_after[1])\n",
    "\n",
    "# Clip IFNg. Baseline from Mock CARs\n",
    "baseline_ifng = df_clean.loc[(\"IFNg\", \"Mock\", slice(None), \"None\", \"10nM\"), :].max().max()\n",
    "df_clean.loc[\"IFNg\", :] = df_clean.loc[\"IFNg\",:].clip(lower=baseline_ifng).values"
   ]
  },
  {
   "cell_type": "code",
   "execution_count": null,
   "metadata": {
    "cellView": "form",
    "colab": {
     "base_uri": "https://localhost:8080/",
     "height": 1000
    },
    "id": "HLNjnonQ4Umt",
    "outputId": "ee12b1aa-4160-4a81-d594-15a42a694b92"
   },
   "outputs": [],
   "source": [
    "#@title Cleaned up data\n",
    "plotDf = df_clean.reset_index()\n",
    "log10conc_lbl = r\"$\\log_{10}$ Concentration (M)\"\n",
    "plotDf[log10conc_lbl] = np.log10(plotDf[\"Concentration (M)\"])\n",
    "g = sns.relplot(data=plotDf, x=r\"$\\log_{10}$ Concentration (M)\", y=24.0, row=\"Cytokine\", \n",
    "            col=\"CAR\", style=\"Spleen\", hue=\"Peptide\", kind=\"line\")\n",
    "for ax in g.axes.flat:\n",
    "    ax.set_yscale(\"log\")\n",
    "plt.show()\n",
    "plt.close()"
   ]
  },
  {
   "cell_type": "code",
   "execution_count": null,
   "metadata": {
    "colab": {
     "base_uri": "https://localhost:8080/",
     "height": 1000
    },
    "id": "lJazlP8IAFZI",
    "outputId": "164e21ca-7aed-40d8-afcf-b189f0b67239"
   },
   "outputs": [],
   "source": [
    "#@title Plot as a function of antigen quality\n",
    "# To see how sharp antigen discrimination is, at various antigen concentrations. \n",
    "plotDf = df_clean.copy()\n",
    "log10conc_lbl = r\"$\\log_{10}$ Concentration (M)\"\n",
    "\n",
    "pep_order = [\"N4\", \"A2\", \"Q4\", \"T4\", \"V4\", \"G4\", \"E1\", \"None\"]\n",
    "pep_order = [pep for pep in pep_order if pep in df_clean.index.get_level_values(\"Peptide\").unique()]\n",
    "sort_fct = lambda x: pd.Index([len(pep_order) - pep_order.index(a) for a in x], name=x.name)\n",
    "plotDf = plotDf.sort_index(level=\"Peptide\", key=sort_fct)\n",
    "plotDf = plotDf.reset_index()\n",
    "plotDf[log10conc_lbl] = np.log10(plotDf[\"Concentration (M)\"])\n",
    "g = sns.relplot(data=plotDf, x=\"Peptide\", y=24.0, row=\"Cytokine\", \n",
    "            col=\"CAR\", style=\"Spleen\", hue=r\"$\\log_{10}$ Concentration (M)\", kind=\"line\")\n",
    "for ax in g.axes.flat:\n",
    "    ax.set_yscale(\"log\")\n",
    "plt.show()\n",
    "plt.close()\n"
   ]
  },
  {
   "cell_type": "markdown",
   "metadata": {
    "id": "jXssv06EQBp2"
   },
   "source": [
    "# Hill fits\n",
    "\n",
    "I fit Hill function in log-log scale. In other words, for $x = \\log_{10} L$ with $L$ the pulse concentration, and $y = \\log_{10} C$, with $C$ the cytokine concentration, I fit\n",
    "\n",
    "$$ y = y_0 \\frac{x^h}{x^h + k^h} + b $$\n",
    "\n",
    "where $y_0$ is the amplitude, $h$ is the Hill exponent, $k$ is the EC50, and $b$ is the background. "
   ]
  },
  {
   "cell_type": "code",
   "execution_count": null,
   "metadata": {},
   "outputs": [],
   "source": [
    "from utils.fitting import (\n",
    "    hillFunction, \n",
    "    inverseHill, \n",
    "    r_squared, \n",
    "    student_t_ci, \n",
    "    find_bounds_on_min, \n",
    "    linear_error_from_log_bar, \n",
    "    cost_fit_hill, \n",
    "    cramer_rao_fisher_pcov\n",
    ")"
   ]
  },
  {
   "cell_type": "code",
   "execution_count": null,
   "metadata": {
    "cellView": "form",
    "id": "V08IU-ReGrbF"
   },
   "outputs": [],
   "source": [
    "#@title Define a cost function to fit one line (averaged over replicates)\n",
    "\n",
    "# Function to apply to each CAR type and each cytokine\n",
    "def fit_hill_cyto_each_peptide(ser, hill_k_bounds=(4, 10), conc_lbl=None, reg_rate=0.2):\n",
    "    \"\"\" Input should be the log of cytokines. \n",
    "    Grid search over all integer Hill k. Consider from 1 up to max_hill. \n",
    "    \"\"\"\n",
    "    hill_params_dict = {}\n",
    "    if conc_lbl is None:\n",
    "        conc_lbl = \"Concentration\"\n",
    "    min_conc = np.min(ser.index.get_level_values(conc_lbl).values)\n",
    "    # Compute mean and CI for each data point\n",
    "    # Get CI from assuming normality of residuals and using Student-t distribution\n",
    "    # Note that with 3 data points this is overkill...\n",
    "    allmean_ser = ser.groupby(level=ser.index.names.difference(['Replicate', 'Spleen'])).mean()\n",
    "    allci_ser = ser.groupby(level=ser.index.names.difference(['Replicate', 'Spleen'])).aggregate(student_t_ci, alpha=0.05)\n",
    "    allci_ser = allci_ser.clip(lower=0.1)\n",
    "    concentrations = np.log10(allmean_ser.index.get_level_values(conc_lbl).values)\n",
    "    concentrations -= np.log10(min_conc)\n",
    "    conc_ser = pd.Series(concentrations, index=allmean_ser.index, name=\"log10 Concentration\")\n",
    "    allstats = pd.concat({\"Mean\":allmean_ser, \"CI\": allci_ser, \"log10 Concentration\":conc_ser}, axis=1)\n",
    "    for peptide in pd.unique(ser.index.get_level_values('Peptide')):\n",
    "        mean_ser = allmean_ser.xs(peptide, level=\"Peptide\")\n",
    "        mean_ser = mean_ser.sort_index(level=conc_lbl)\n",
    "        ci_ser = allci_ser.xs(peptide, level=\"Peptide\").loc[mean_ser.index]\n",
    "        concentrations = allstats.xs(peptide, level=\"Peptide\").loc[mean_ser.index, \"log10 Concentration\"]\n",
    "        \n",
    "        data = mean_ser.values.flatten()\n",
    "        err = ci_ser.values.flatten()\n",
    "\n",
    "        # Finding bounds on the parameter values\n",
    "        # Background limits\n",
    "        min_back, max_back = find_bounds_on_min(data)\n",
    "        \n",
    "        # Concentration limits: always lower=0 because rescaled\n",
    "        max_conc = np.max(concentrations)*2\n",
    "        if max_conc == 0:\n",
    "            max_conc = 6\n",
    "        \n",
    "        min_conc2 = np.min(concentrations)\n",
    "        data_replicates = ser.xs(peptide, level=\"Peptide\")\n",
    "        max_amplitude = (np.max(data_replicates) - np.min(data_replicates))*1.3\n",
    "        if max_amplitude == 0.0:\n",
    "            max_amplitude = 0.01\n",
    "        lowerbounds = np.asarray([0.0, 0, min_back])\n",
    "        upperbounds = np.asarray([max_amplitude, max_conc, max_back])\n",
    "        # Constrain amplitude to max value recorded for that cytokine. \n",
    "        # Assume increasing further concentration would not increase further plateau level\n",
    "\n",
    "        # Try without bounds for now\n",
    "        # Params: amplitude, ec50, background\n",
    "        regul_p0 = np.zeros(3)\n",
    "        # Regularize EC50 to be as large as possible. \n",
    "        regul_p0[1] = np.max(concentrations) + 2\n",
    "        init_p0 = (lowerbounds + upperbounds) / 2\n",
    "        # Cost args: xpts, ypts, yerr, p0]\n",
    "        cost_args = (concentrations, data, err, regul_p0)\n",
    "        cost_kwargs = {\"hill_k\": 1, \"reg_rate\":reg_rate}\n",
    "        grid_res = {}\n",
    "        \n",
    "        # Grid search over Hill exponent. Keep all K fits for traceback purposes\n",
    "        for k in range(hill_k_bounds[0], hill_k_bounds[1]+1):\n",
    "            cost_kwargs[\"hill_k\"] = k\n",
    "            result = sp.optimize.least_squares(cost_fit_hill, init_p0, \n",
    "                        method=\"trf\", args=cost_args,\n",
    "                        kwargs=cost_kwargs,\n",
    "                        bounds=[lowerbounds, upperbounds],\n",
    "                        )\n",
    "            grid_res[k] = result\n",
    "        # Find best k\n",
    "        best_r2, best_k, best_res = -np.inf, hill_k_bounds[0], None\n",
    "        for k in grid_res.keys():\n",
    "            popt = grid_res[k].x\n",
    "            r2 = round(r_squared(concentrations, data, hillFunction, popt, hill_k=k), 3)\n",
    "            if r2 >= best_r2:\n",
    "                best_r2, best_k, best_res = r2, k, grid_res[k]\n",
    "        \n",
    "        key = (peptide,)\n",
    "        popt = best_res.x\n",
    "        pcov = cramer_rao_fisher_pcov(best_res)\n",
    "        # Dump off-diagonal terms, keep variances only. \n",
    "        hill_params_dict[key] = pd.Series(list(popt) + [best_k] + list(np.diagonal(pcov)), \n",
    "            name=\"Parameters\", index=[\"amplitude\", \"ec50\", \"background\", \n",
    "                  \"hill_power\", \"cov_amplitude\", \"cov_ec50\", \"cov_background\"])\n",
    "        hill_params_dict[key][\"rsquared\"] = best_r2\n",
    "\n",
    "    df_params = pd.concat(hill_params_dict, names=[\"Peptide\", \"Parameters\"], axis=0)\n",
    "    df_params = df_params.unstack(\"Parameters\")\n",
    "    return df_params, allstats"
   ]
  },
  {
   "cell_type": "code",
   "execution_count": null,
   "metadata": {
    "colab": {
     "base_uri": "https://localhost:8080/"
    },
    "id": "p4gPKQfz-gyH",
    "outputId": "a7059a8f-9b61-4528-932e-6a769d8c9636"
   },
   "outputs": [],
   "source": [
    "#@title Test the fits\n",
    "df_fit = np.log10(df_clean / df_clean.groupby(\"Cytokine\").min())\n",
    "min_hill_k, max_hill_k = 4, 16\n",
    "fit_res, df_all_stats = fit_hill_cyto_each_peptide(df_fit.loc[(\"IFNg\", \"Mock\"), 24.0], \n",
    "              hill_k_bounds=(min_hill_k, max_hill_k), conc_lbl=\"Concentration (M)\", reg_rate=0.5)"
   ]
  },
  {
   "cell_type": "code",
   "execution_count": null,
   "metadata": {
    "cellView": "form",
    "colab": {
     "base_uri": "https://localhost:8080/",
     "height": 305
    },
    "id": "kDCk1AJkZEEp",
    "outputId": "813b6f04-6385-40c6-b973-b53883c714ca"
   },
   "outputs": [],
   "source": [
    "#@title Plot the test fits.\n",
    "fig, ax = plt.subplots()\n",
    "pep_order = [\"N4\", \"A2\", \"Q4\", \"T4\", \"V4\", \"G4\", \"E1\", \"None\"]\n",
    "pep_order = [pep for pep in pep_order if pep in df_all_stats.index.get_level_values(\"Peptide\").unique()]\n",
    "palette = sns.color_palette(n_colors=len(pep_order))\n",
    "for i, pep in enumerate(pep_order):\n",
    "    x = df_all_stats.xs(pep, level=\"Peptide\").loc[:, \"log10 Concentration\"].values\n",
    "    xfit = np.linspace(x.min(), x.max(), 201)\n",
    "    y = df_all_stats.xs(pep, level=\"Peptide\").loc[:, \"Mean\"].values\n",
    "    yerr = df_all_stats.xs(pep, level=\"Peptide\").loc[:, \"CI\"].values\n",
    "    pms = fit_res.loc[pep, \"amplitude\":\"background\"].values\n",
    "    yfit = hillFunction(xfit, pms, hill_k=fit_res.loc[pep, \"hill_power\"])\n",
    "    ax.errorbar(x, y, yerr=yerr, marker=\"o\", mfc=palette[i], ls=\"none\")\n",
    "    ax.plot(xfit, yfit, color=palette[i], label=pep)\n",
    "ax.legend(loc=\"upper left\", bbox_to_anchor=(1, 1))\n",
    "ax.set(xlabel=r\"$\\log_{10}$ Concentration\", ylabel=r\"$\\log_{10}$ Cytokine\")\n",
    "plt.show()\n",
    "plt.close()\n"
   ]
  },
  {
   "cell_type": "code",
   "execution_count": null,
   "metadata": {
    "cellView": "form",
    "colab": {
     "base_uri": "https://localhost:8080/",
     "height": 341
    },
    "id": "Et8GnXFF4jw2",
    "outputId": "3374318d-a0e9-4fce-e14c-64a5b8e2f99e"
   },
   "outputs": [],
   "source": [
    "#@title Test on a condition that seems problematic below\n",
    "df_fit = np.log10(df_clean / df_clean.groupby(\"Cytokine\").min())\n",
    "min_hill_k, max_hill_k = 4, 16\n",
    "fit_res, df_all_stats = fit_hill_cyto_each_peptide(df_fit.loc[(\"IL-2\", \"CAR_Mut\"), 24.0], \n",
    "              hill_k_bounds=(min_hill_k, max_hill_k), conc_lbl=\"Concentration (M)\", reg_rate=0.25)\n",
    "# Plot the test fits. Expecting they're very bad. \n",
    "fig, ax = plt.subplots()\n",
    "pep_order = [\"N4\", \"A2\", \"Q4\", \"T4\", \"V4\", \"G4\", \"E1\", \"None\"]\n",
    "pep_order = [pep for pep in pep_order if pep in df_all_stats.index.get_level_values(\"Peptide\").unique()]\n",
    "palette = sns.color_palette(n_colors=len(pep_order))\n",
    "for i, pep in enumerate(pep_order):\n",
    "    x = df_all_stats.xs(pep, level=\"Peptide\").loc[:, \"log10 Concentration\"].values\n",
    "    xfit = np.linspace(x.min(), x.max(), 201)\n",
    "    y = df_all_stats.xs(pep, level=\"Peptide\").loc[:, \"Mean\"].values\n",
    "    yerr = df_all_stats.xs(pep, level=\"Peptide\").loc[:, \"CI\"].values\n",
    "    pms = fit_res.loc[pep, \"amplitude\":\"background\"].values\n",
    "    yfit = hillFunction(xfit, pms, hill_k=fit_res.loc[pep, \"hill_power\"])\n",
    "    ax.errorbar(x, y, yerr=yerr, marker=\"o\", mfc=palette[i], ls=\"none\")\n",
    "    ax.plot(xfit, yfit, color=palette[i], label=pep)\n",
    "ax.legend(loc=\"upper left\", bbox_to_anchor=(1, 1))\n",
    "ax.set(xlabel=r\"$\\log_{10}$ Concentration\", ylabel=r\"$\\log_{10}$ Cytokine\")\n",
    "plt.show()\n",
    "plt.close()\n"
   ]
  },
  {
   "cell_type": "markdown",
   "metadata": {
    "id": "OKy8SKMgQR-W"
   },
   "source": [
    "## Fit all dose response curves\n",
    "It takes a couple minutes to run because of the grid search on Hill powers. "
   ]
  },
  {
   "cell_type": "code",
   "execution_count": null,
   "metadata": {
    "colab": {
     "base_uri": "https://localhost:8080/",
     "height": 651
    },
    "id": "Ez8K8ugpQRJ9",
    "outputId": "7b26fb63-a874-4d08-e026-0fe74855a7c1"
   },
   "outputs": [],
   "source": [
    "df_fit = np.log10(df_clean / df_clean.groupby(\"Cytokine\").min())\n",
    "min_hill_k, max_hill_k = 4, 16\n",
    "# Different reg. rate for each parameter. Constrain amplitude a lot. \n",
    "# amplitude, ec50, background\n",
    "regular_rate = 0.5\n",
    "\n",
    "all_fit_results = {}\n",
    "data_to_plot = {}\n",
    "for cyt in df_clean.index.get_level_values(\"Cytokine\").unique():\n",
    "    for car in df_clean.index.get_level_values(\"CAR\").unique():\n",
    "        print(\"Fitting {}, {}\".format(cyt, car))\n",
    "        fit_res, df_all_stats = fit_hill_cyto_each_peptide(df_fit.loc[(cyt, car), 24.0], \n",
    "              hill_k_bounds=(min_hill_k, max_hill_k), conc_lbl=\"Concentration (M)\", reg_rate=regular_rate)\n",
    "        all_fit_results[(cyt, car)] = fit_res\n",
    "        data_to_plot[(cyt, car)] = df_all_stats\n",
    "all_fit_results = pd.concat(all_fit_results, names=(\"Cytokine\", \"CAR\")).sort_index()\n",
    "data_to_plot = pd.concat(data_to_plot, names=(\"Cytokine\", \"CAR\")).sort_index()\n",
    "all_fit_results"
   ]
  },
  {
   "cell_type": "code",
   "execution_count": null,
   "metadata": {
    "colab": {
     "base_uri": "https://localhost:8080/",
     "height": 748
    },
    "id": "YFQcDPY3V0dA",
    "outputId": "d1e0009e-3190-4175-e0aa-fb548ec025ec"
   },
   "outputs": [],
   "source": [
    "#@title Plot all fit results\n",
    "pep_order = [\"N4\", \"A2\", \"Q4\", \"T4\", \"V4\", \"G4\", \"E1\", \"None\"]\n",
    "pep_order = [pep for pep in pep_order if pep in df_fit.index.get_level_values(\"Peptide\").unique()]\n",
    "palette = sns.color_palette(n_colors=len(pep_order))\n",
    "\n",
    "# rows = cytokines, columns = CAR type\n",
    "cytos, cars = df_fit.index.get_level_values(\"Cytokine\").unique(), df_fit.index.get_level_values(\"CAR\").unique()\n",
    "#cytos = [\"IL-2\"]\n",
    "fig, axes = plt.subplots(len(cytos), len(cars), sharey=\"row\", sharex=True)\n",
    "#axes = axes[None, :]\n",
    "fig.set_size_inches(len(cars)*4.0, len(cytos)*3.5)\n",
    "cytos_min_conc = df_clean.groupby(\"Cytokine\").min()\n",
    "pulse_min_conc = np.log10(np.min(df_fit.index.get_level_values(\"Concentration (M)\").values))\n",
    "for i, cyt in enumerate(cytos):\n",
    "    for j, car in enumerate(cars):\n",
    "        df_all_stats = data_to_plot.loc[(cyt, car)].sort_index()\n",
    "        fit_res = all_fit_results.loc[(cyt, car)].sort_index()\n",
    "        ax = axes[i, j]\n",
    "        \n",
    "        for p, pep in enumerate(pep_order):\n",
    "            x = df_all_stats.xs(pep, level=\"Peptide\").loc[:, \"log10 Concentration\"].values\n",
    "            xfit = np.linspace(x.min(), x.max(), 201)\n",
    "            y = df_all_stats.xs(pep, level=\"Peptide\").loc[:, \"Mean\"].values\n",
    "            yerr = df_all_stats.xs(pep, level=\"Peptide\").loc[:, \"CI\"].values\n",
    "            pms = fit_res.loc[pep, \"amplitude\":\"background\"].values\n",
    "            yfit = hillFunction(xfit, pms, hill_k=fit_res.loc[pep, \"hill_power\"])\n",
    "            # Restore absolute cytokine scale (for y axis)\n",
    "            # Error doesn't change: abs. scale is just adding a constant in log scale\n",
    "            # so error bar is still y_log +- error. \n",
    "            y = y + np.log10(cytos_min_conc.loc[cyt].values)\n",
    "            yfit = yfit + np.log10(cytos_min_conc.loc[cyt].values)\n",
    "            yerr = linear_error_from_log_bar(y, yerr, base=10.0)\n",
    "\n",
    "            # Restore absolute pulse scale (for x axis)\n",
    "            x, xfit = x + pulse_min_conc, xfit + pulse_min_conc\n",
    "\n",
    "            # Back to linear scale for plotting\n",
    "            x, xfit = 10**x, 10**xfit\n",
    "            y, yfit = 10**y, 10**yfit\n",
    "            # Plot dose in uM, so multiply M doses by 1e6 \n",
    "            ax.errorbar(x*1e6, y, yerr=yerr, marker=\"o\", mfc=palette[p], ls=\"none\")\n",
    "            ax.plot(xfit*1e6, yfit, color=palette[p], label=pep)\n",
    "        ax.set(xscale=\"log\", yscale=\"log\")\n",
    "# Label and legend as appropriate\n",
    "for j in range(len(cars)):\n",
    "    axes[-1, j].set_xlabel(r\"Pulse ($\\mu$M)\")\n",
    "    axes[0, j].set_title(cars[j])\n",
    "for i in range(len(cytos)):\n",
    "    axes[i, 0].set_ylabel(\"[{}] (nM)\".format(cytos[i]))\n",
    "fig.legend(*axes[0, 0].get_legend_handles_labels(), loc=\"upper left\", bbox_to_anchor=(0.95, 0.95))\n",
    "fig.tight_layout()\n",
    "plt.show()\n",
    "plt.close()"
   ]
  },
  {
   "cell_type": "markdown",
   "metadata": {
    "id": "8Q432kbMaoaD"
   },
   "source": [
    "## Summarize fitted EC50s\n",
    "And other statistics"
   ]
  },
  {
   "cell_type": "code",
   "execution_count": null,
   "metadata": {
    "cellView": "form",
    "colab": {
     "base_uri": "https://localhost:8080/",
     "height": 1000
    },
    "id": "T7BHwk4ZapPn",
    "outputId": "b45262d1-c00a-42aa-d11a-ca769a18fc74"
   },
   "outputs": [],
   "source": [
    "#@title Plot all hill fit parameters\n",
    "#Each spleen separately\n",
    "plottingDf = all_fit_results.copy()\n",
    "\n",
    "# Sort peptides\n",
    "sort_fct = lambda x: pd.Index([pep_order.index(a) for a in x], name=x.name)\n",
    "plottingDf = plottingDf.sort_index(level=\"Peptide\", key=sort_fct)\n",
    "\n",
    "# Absolute pulse concentration in uM: EC50\n",
    "plottingDf[\"ec50\"] = 10**(plottingDf[\"ec50\"] + pulse_min_conc) * 1e6\n",
    "plottingDf[\"amplitude\"] = 10**plottingDf[\"amplitude\"]\n",
    "plottingDf[\"background\"] = 10**plottingDf[\"background\"]\n",
    "\n",
    "\n",
    "plottingDf.columns.name = 'Statistic'\n",
    "\n",
    "plottingDf = plottingDf.stack().to_frame('Value')\n",
    "g = sns.catplot(data=plottingDf.reset_index(),x='Peptide',y='Value',row='Statistic',\n",
    "                hue='CAR',kind='point',col='Cytokine',sharey=\"row\",margin_titles=True, \n",
    "                hue_order=[\"Mock\", \"CAR_WT\", \"CAR_Mut\"])\n",
    "for i in range(g.axes.shape[0]):\n",
    "    if all_fit_results.columns[i] in [\"hill_power\", \"rsquared\"]: continue\n",
    "    for j in range(g.axes.shape[1]):\n",
    "        g.axes[i, j].set_yscale(\"log\")\n",
    "plt.show()\n",
    "plt.close()"
   ]
  },
  {
   "cell_type": "markdown",
   "metadata": {
    "id": "yCXhTTA-4zIx"
   },
   "source": [
    "# Explore other possibilities "
   ]
  },
  {
   "cell_type": "markdown",
   "metadata": {
    "id": "XnjAuU_5WLTX"
   },
   "source": [
    "# Fit each spleen separately\n",
    "This gives statistics on the resulting EC50s, an assessment of the quality of fit, etc. \n",
    "\n",
    "Also better biologically speaking: 3 spleens are 3 separate systems responding to the different antigens. \n",
    "The response of each could be different in principle (the goal is to minimize that difference by controlling external factors in the lab though), so each should have its own fit. \n",
    "\n",
    "Also, avoids having to compute error bars. \n"
   ]
  },
  {
   "cell_type": "code",
   "execution_count": null,
   "metadata": {},
   "outputs": [],
   "source": [
    "from utils.fitting import hillFunction4p, cost_fit_hill4p"
   ]
  },
  {
   "cell_type": "code",
   "execution_count": null,
   "metadata": {
    "cellView": "form",
    "id": "oIslr_qX42q8"
   },
   "outputs": [],
   "source": [
    "def hillFunction4p(x, params):\n",
    "    amplitude = params[0]\n",
    "    ec50 = params[1]\n",
    "    background = params[2]\n",
    "    hill_k = params[3]\n",
    "    return amplitude * x**hill_k/(ec50**hill_k + x**hill_k) + background\n",
    "\n",
    "\n",
    "# Function which computes the vector of residuals, with the signature fun(x, *args, **kwargs)\n",
    "# Fitting Hill in log-log. \n",
    "def cost_fit_hill4p(hill_pms, xpts, ypts, yerr, p0, reg_rate=0.2):\n",
    "    \"\"\" p0: value around which to regularize each param. L1 regularization =\"\"\"\n",
    "    # Compute Hill function at xpts\n",
    "    y_fit = hillFunction4p(xpts, hill_pms)\n",
    "    resids = (ypts - y_fit) / yerr\n",
    "    # Add in L1 regularization\n",
    "    regul = np.sqrt(reg_rate*np.abs(hill_pms - p0))\n",
    "    resids = np.concatenate([resids, regul])\n",
    "    return resids\n",
    "\n",
    "\n",
    "#@title Function to apply to each CAR type and each cytokine\n",
    "# Fit Hill exponent too as grid search will be too slow for my patience otherwise\n",
    "def fit_hill_cyto_each_peptide_replicate(ser, hill_k_bounds=(4, 16), conc_lbl=None, reg_rate=0.2):\n",
    "    \"\"\" Input should be the log of cytokines. \n",
    "    Grid search over all integer Hill k. Consider from 1 up to max_hill. \n",
    "    \"\"\"\n",
    "    hill_params_dict = {}\n",
    "    if conc_lbl is None:\n",
    "        conc_lbl = \"Concentration\"\n",
    "    min_conc = np.min(ser.index.get_level_values(conc_lbl).values)\n",
    "    concentrations = np.log10(ser.index.get_level_values(conc_lbl).values / min_conc)\n",
    "    conc_ser = pd.Series(concentrations, index=ser.index, name=\"log10 Concentration\")\n",
    "    df_fit_data = pd.concat({\"log10 Cytokine\":ser, \"log10 Concentration\":conc_ser}, axis=1)\n",
    "    for peptide in pd.unique(ser.index.get_level_values('Peptide')):\n",
    "        # Loop on all subdivisions other than peptide concentration, which is the x axis\n",
    "        pep_ser = ser.xs(peptide, level=\"Peptide\")\n",
    "        pep_conc_ser = conc_ser.xs(peptide, level=\"Peptide\")\n",
    "        drop_lvls = [a for a in pep_ser.index.names if a.startswith(\"Concentr\")]\n",
    "        loop_idx = pep_ser.droplevel(drop_lvls).index.unique()\n",
    "        # Reorder levels\n",
    "        pep_ser = pep_ser.reorder_levels(list(loop_idx.names) + drop_lvls)\n",
    "        pep_conc_ser = pep_conc_ser.reorder_levels(list(loop_idx.names) + drop_lvls)\n",
    "        for ky in loop_idx:\n",
    "            y_ser = pep_ser.loc[ky]\n",
    "            x_ser = pep_conc_ser.loc[ky]\n",
    "            data = y_ser.values.flatten()\n",
    "            err = 1.0\n",
    "\n",
    "            # Finding bounds on the parameter values\n",
    "            # Background limits\n",
    "            min_back, max_back = find_bounds_on_min(data)\n",
    "\n",
    "            # Concentration limits: always lower=0 because rescaled\n",
    "            max_conc = np.max(x_ser)*2\n",
    "            if max_conc == 0:\n",
    "                max_conc = 6\n",
    "        \n",
    "            min_conc2 = np.min(x_ser)\n",
    "            data_replicates = ser.xs(peptide, level=\"Peptide\")\n",
    "            max_amplitude = (np.max(data) - np.min(data))*2.0\n",
    "            if max_amplitude == 0.0:\n",
    "                max_amplitude = 0.01\n",
    "            lowerbounds = np.asarray([0.0, 0, min_back, hill_k_bounds[0]])\n",
    "            upperbounds = np.asarray([max_amplitude, max_conc, max_back, hill_k_bounds[1]])\n",
    "            # Constrain amplitude to max value recorded for that cytokine. \n",
    "            # Assume increasing further concentration would not increase further plateau level\n",
    "\n",
    "            # Try without bounds for now\n",
    "            # Params: amplitude, ec50, background, k\n",
    "            regul_p0 = np.zeros(4)\n",
    "            # Regularize amplitude to be at the observed amplitude, roughly\n",
    "            regul_p0[0] = 0.5 * (upperbounds[0] - lowerbounds[0])\n",
    "            # Regularize EC50 to be as large as possible. \n",
    "            regul_p0[1] = np.max(x_ser) + 2\n",
    "            # And Hill exponent as small as possible\n",
    "            regul_p0[3] = hill_k_bounds[0]\n",
    "            init_p0 = (lowerbounds + upperbounds) / 2\n",
    "            # Cost args: xpts, ypts, yerr, p0]\n",
    "            cost_args = (x_ser, data, err, regul_p0)\n",
    "            cost_kwargs = {\"reg_rate\":reg_rate}\n",
    "            \n",
    "            result = sp.optimize.least_squares(cost_fit_hill4p, init_p0, \n",
    "                        method=\"trf\", args=cost_args,\n",
    "                        kwargs=cost_kwargs,\n",
    "                        bounds=[lowerbounds, upperbounds],\n",
    "                )\n",
    "\n",
    "            popt = result.x\n",
    "            r2 = round(r_squared(x_ser, data, hillFunction4p, popt), 3)\n",
    "            \n",
    "            key = (peptide,) + tuple(ky)\n",
    "            hill_params_dict[key] = pd.Series(list(popt), name=\"Parameters\",\n",
    "                index=[\"amplitude\", \"ec50\", \"background\", \"hill_power\"])\n",
    "            hill_params_dict[key][\"rsquared\"] = r2\n",
    "    lvl_names = [\"Peptide\"] + list(loop_idx.names) + [\"Parameters\"]\n",
    "    df_params = pd.concat(hill_params_dict, names=lvl_names, axis=0)\n",
    "    df_params = df_params.unstack(\"Parameters\")\n",
    "    conc_names = [a for a in df_fit_data.index.names if a.startswith(\"Concentration\")]\n",
    "    df_fit_data = df_fit_data.reorder_levels(lvl_names[:-1] + conc_names)\n",
    "    return df_params, df_fit_data"
   ]
  },
  {
   "cell_type": "code",
   "execution_count": null,
   "metadata": {
    "colab": {
     "base_uri": "https://localhost:8080/"
    },
    "id": "i-tDtN_xk7Nn",
    "outputId": "7933fcf8-3bb9-4e0f-d466-69ba89c07a8d"
   },
   "outputs": [],
   "source": [
    "#@title Test on a condition that seemed problematic\n",
    "df_fit = np.log10(df_clean / df_clean.groupby(\"Cytokine\").min())\n",
    "min_hill_k, max_hill_k = 4, 16\n",
    "fit_res,  df_fit_data = fit_hill_cyto_each_peptide_replicate(df_fit.loc[(\"IL-2\", \"CAR_Mut\"), 24.0], \n",
    "              hill_k_bounds=(min_hill_k, max_hill_k), conc_lbl=\"Concentration (M)\", reg_rate=0.02)"
   ]
  },
  {
   "cell_type": "code",
   "execution_count": null,
   "metadata": {
    "colab": {
     "base_uri": "https://localhost:8080/",
     "height": 305
    },
    "id": "lp86ObdKmIJ1",
    "outputId": "04aff175-69f9-46dc-abe1-c80a76cf9a4f"
   },
   "outputs": [],
   "source": [
    "# Plot the test fits. \n",
    "fig, ax = plt.subplots()\n",
    "pep_order = [\"N4\", \"A2\", \"Q4\", \"T4\", \"V4\", \"G4\", \"E1\", \"None\"]\n",
    "pep_order = [pep for pep in pep_order if pep in fit_res.index.get_level_values(\"Peptide\").unique()]\n",
    "palette = sns.color_palette(n_colors=len(pep_order))\n",
    "styles = [\"-\", \"--\", \":\"]\n",
    "df_data = df_fit.loc[(\"IL-2\", \"CAR_Mut\"), 24.0]\n",
    "for i, pep in enumerate(pep_order):\n",
    "    fit_res_pep = fit_res.xs(pep, level=\"Peptide\").sort_index()\n",
    "    df_fit_pep = df_fit_data.xs(pep, level=\"Peptide\").sort_index()\n",
    "    for j, rep in enumerate(fit_res_pep.index.get_level_values(\"Spleen\").unique()):\n",
    "        x = df_fit_pep.loc[rep, \"log10 Concentration\"].values\n",
    "        xfit = np.linspace(x.min(), x.max(), 201)\n",
    "        y = df_fit_pep.loc[rep, \"log10 Cytokine\"].values\n",
    "        pms = fit_res_pep.loc[rep, \"amplitude\":\"hill_power\"].values\n",
    "        yfit = hillFunction4p(xfit, pms)\n",
    "        ax.plot(x, y, marker=\"o\", mfc=palette[i], mec=palette[i], ls=\"none\")\n",
    "        lbl = pep if j == 0 else None\n",
    "        ax.plot(xfit, yfit, color=palette[i], label=lbl, ls=styles[j])\n",
    "ax.legend(loc=\"upper left\", bbox_to_anchor=(1, 1))\n",
    "ax.set(xlabel=r\"$\\log_{10}$ Concentration\", ylabel=r\"$\\log_{10}$ Cytokine\")\n",
    "plt.show()\n",
    "plt.close()"
   ]
  },
  {
   "cell_type": "code",
   "execution_count": null,
   "metadata": {
    "colab": {
     "base_uri": "https://localhost:8080/",
     "height": 651
    },
    "id": "ikT6GFdtQ2SG",
    "outputId": "fc2e9611-ae7f-41db-94ab-31660568ac44"
   },
   "outputs": [],
   "source": [
    "#@title Fit all dose response curves\n",
    "df_fit = np.log10(df_clean / df_clean.groupby(\"Cytokine\").min())\n",
    "min_hill_k, max_hill_k = 4, 16\n",
    "# Different reg. rate for each parameter. Constrain amplitude a lot. \n",
    "# amplitude, ec50, background\n",
    "regular_rate = 0.01\n",
    "\n",
    "all_fit_results4p = {}\n",
    "data_to_plot4p = {}\n",
    "for cyt in df_clean.index.get_level_values(\"Cytokine\").unique():\n",
    "    for car in df_clean.index.get_level_values(\"CAR\").unique():\n",
    "        print(\"Fitting {}, {}\".format(cyt, car))\n",
    "        fit_res, df_all_stats = fit_hill_cyto_each_peptide_replicate(df_fit.loc[(cyt, car), 24.0], \n",
    "              hill_k_bounds=(min_hill_k, max_hill_k), conc_lbl=\"Concentration (M)\", reg_rate=regular_rate)\n",
    "        all_fit_results4p[(cyt, car)] = fit_res\n",
    "        data_to_plot4p[(cyt, car)] = df_all_stats\n",
    "all_fit_results4p = pd.concat(all_fit_results4p, names=(\"Cytokine\", \"CAR\")).sort_index()\n",
    "data_to_plot4p = pd.concat(data_to_plot4p, names=(\"Cytokine\", \"CAR\")).sort_index()\n",
    "all_fit_results4p"
   ]
  },
  {
   "cell_type": "code",
   "execution_count": null,
   "metadata": {
    "cellView": "form",
    "colab": {
     "base_uri": "https://localhost:8080/",
     "height": 748
    },
    "id": "ayioM8VaS1yx",
    "outputId": "0220b8b0-5eaf-4337-ca60-cc9f54eacde1"
   },
   "outputs": [],
   "source": [
    "# @title Plot all fit results\n",
    "pep_order = [\"N4\", \"A2\", \"Q4\", \"T4\", \"V4\", \"G4\", \"E1\", \"None\"]\n",
    "pep_order = [pep for pep in pep_order if pep in df_fit.index.get_level_values(\"Peptide\").unique()]\n",
    "palette = sns.color_palette(n_colors=len(pep_order))\n",
    "markers = [\"o\", \"s\", \"v\"]\n",
    "styles = [\"-\", \"--\", \":\"]\n",
    "\n",
    "# rows = cytokines, columns = CAR type\n",
    "cytos, cars = df_fit.index.get_level_values(\"Cytokine\").unique(), df_fit.index.get_level_values(\"CAR\").unique()\n",
    "#cytos = [\"IL-2\"]\n",
    "fig, axes = plt.subplots(len(cytos), len(cars), sharey=\"row\", sharex=True)\n",
    "#axes = axes[None, :]\n",
    "fig.set_size_inches(len(cars)*4.0, len(cytos)*3.5)\n",
    "cytos_min_conc = df_clean.groupby(\"Cytokine\").min()\n",
    "pulse_min_conc = np.log10(np.min(df_fit.index.get_level_values(\"Concentration (M)\").values))\n",
    "for i, cyt in enumerate(cytos):\n",
    "    for j, car in enumerate(cars):\n",
    "        df_plot = data_to_plot4p.loc[(cyt, car)]\n",
    "        fit_res = all_fit_results4p.loc[(cyt, car)]\n",
    "        ax = axes[i, j]\n",
    "        for p, pep in enumerate(pep_order):\n",
    "            for r, rep in enumerate(fit_res.index.get_level_values(\"Spleen\").unique()):\n",
    "                x = df_plot.loc[(pep, rep), \"log10 Concentration\"].values\n",
    "                xfit = np.linspace(x.min(), x.max(), 201)\n",
    "                y = df_plot.loc[(pep, rep), \"log10 Cytokine\"].values\n",
    "                pms = fit_res.loc[(pep, rep), \"amplitude\":\"hill_power\"].values\n",
    "                yfit = hillFunction4p(xfit, pms)\n",
    "                # Restore absolute cytokine scale (for y axis)\n",
    "                # Error doesn't change: abs. scale is just adding a constant in log scale\n",
    "                # so error bar is still y_log +- error. \n",
    "                y = y + np.log10(cytos_min_conc.loc[cyt].values)\n",
    "                yfit = yfit + np.log10(cytos_min_conc.loc[cyt].values)\n",
    "\n",
    "                # Restore absolute pulse scale (for x axis)\n",
    "                x, xfit = x + pulse_min_conc, xfit + pulse_min_conc\n",
    "\n",
    "                # Back to linear scale for plotting\n",
    "                x, xfit = 10**x, 10**xfit\n",
    "                y, yfit = 10**y, 10**yfit\n",
    "                # Plot dose in uM, so multiply M doses by 1e6 \n",
    "                lbl = (pep if r == 0 else None)\n",
    "                ax.plot(x*1e6, y, marker=markers[r], mfc=palette[p], mec=palette[p], ls=\"none\", ms=6)\n",
    "                ax.plot(xfit*1e6, yfit, color=palette[p], label=lbl, ls=styles[r])\n",
    "        ax.set(xscale=\"log\", yscale=\"log\")\n",
    "# Label and legend as appropriate\n",
    "for j in range(len(cars)):\n",
    "    axes[-1, j].set_xlabel(r\"Pulse ($\\mu$M)\")\n",
    "    axes[0, j].set_title(cars[j])\n",
    "for i in range(len(cytos)):\n",
    "    axes[i, 0].set_ylabel(\"[{}] (nM)\".format(cytos[i]))\n",
    "leg = fig.legend(*axes[0, 0].get_legend_handles_labels(), loc=\"upper left\", \n",
    "                 bbox_to_anchor=(0.99, 0.95), frameon=False)\n",
    "fig.tight_layout()\n",
    "#fig.savefig(\"../figures/dose_response/ot1_ec50_dose_response_log_hill_fits.pdf\", transparent=True, \n",
    "#            bbox_inches=\"tight\", bbox_extra_artists=(leg,))\n",
    "plt.show()\n",
    "plt.close()"
   ]
  },
  {
   "cell_type": "code",
   "execution_count": null,
   "metadata": {},
   "outputs": [],
   "source": [
    "# Thesis version with only 2 cytokines, takes less space\n",
    "# @title Plot all fit results\n",
    "pep_order = [\"N4\", \"A2\", \"Q4\", \"T4\", \"V4\", \"G4\", \"E1\", \"None\"]\n",
    "pep_order = [pep for pep in pep_order if pep in df_fit.index.get_level_values(\"Peptide\").unique()]\n",
    "palette = sns.color_palette(n_colors=len(pep_order))\n",
    "markers = [\"o\", \"s\", \"v\"]\n",
    "styles = [\"-\", \"--\", \":\"]\n",
    "\n",
    "# rows = cytokines, columns = CAR type\n",
    "cytos, cars = df_fit.index.get_level_values(\"Cytokine\").unique(), df_fit.index.get_level_values(\"CAR\").unique()\n",
    "cars = [\"Mock\"]\n",
    "fig, axes = plt.subplots(1, len(cytos), sharex=True)\n",
    "axes = axes[:, None]\n",
    "fig.set_size_inches(len(cytos)*4.2, 4.0)\n",
    "cytos_min_conc = df_clean.groupby(\"Cytokine\").min()\n",
    "pulse_min_conc = np.log10(np.min(df_fit.index.get_level_values(\"Concentration (M)\").values))\n",
    "for i, cyt in enumerate(cytos):\n",
    "    for j, car in enumerate(cars):\n",
    "        df_plot = data_to_plot4p.loc[(cyt, car)]\n",
    "        fit_res = all_fit_results4p.loc[(cyt, car)]\n",
    "        ax = axes[i, j]\n",
    "        for p, pep in enumerate(pep_order):\n",
    "            for r, rep in enumerate(fit_res.index.get_level_values(\"Spleen\").unique()):\n",
    "                x = df_plot.loc[(pep, rep), \"log10 Concentration\"].values\n",
    "                xfit = np.linspace(x.min(), x.max(), 201)\n",
    "                y = df_plot.loc[(pep, rep), \"log10 Cytokine\"].values\n",
    "                pms = fit_res.loc[(pep, rep), \"amplitude\":\"hill_power\"].values\n",
    "                yfit = hillFunction4p(xfit, pms)\n",
    "                # Restore absolute cytokine scale (for y axis)\n",
    "                # Error doesn't change: abs. scale is just adding a constant in log scale\n",
    "                # so error bar is still y_log +- error. \n",
    "                y = y + np.log10(cytos_min_conc.loc[cyt].values)\n",
    "                yfit = yfit + np.log10(cytos_min_conc.loc[cyt].values)\n",
    "\n",
    "                # Restore absolute pulse scale (for x axis)\n",
    "                x, xfit = x + pulse_min_conc, xfit + pulse_min_conc\n",
    "\n",
    "                # Back to linear scale for plotting\n",
    "                x, xfit = 10**x, 10**xfit\n",
    "                y, yfit = 10**y, 10**yfit\n",
    "                # Plot dose in uM, so multiply M doses by 1e6 \n",
    "                lbl = (pep if r == 0 else None)\n",
    "                ax.plot(x*1e6, y, marker=markers[r], mfc=palette[p], mec=palette[p], ls=\"none\", ms=6)\n",
    "                ax.plot(xfit*1e6, yfit, color=palette[p], label=lbl, ls=styles[r])\n",
    "        ax.set(xscale=\"log\", yscale=\"log\")\n",
    "# Label and legend as appropriate\n",
    "for i in range(len(cytos)):\n",
    "    cytolbl = \"TNF\" if cytos[i] == \"TNFa\" else cytos[i]\n",
    "    axes[i, 0].set_xlabel(r\"Pulse ($\\mu$M)\")\n",
    "    axes[i, 0].set_title(cytolbl)\n",
    "    axes[i, 0].set_ylabel(\"[{}] (nM)\".format(cytolbl))\n",
    "leg = fig.legend(*axes[0, 0].get_legend_handles_labels(), loc=\"upper left\", \n",
    "                 bbox_to_anchor=(0.98, 0.95), frameon=False)\n",
    "fig.tight_layout()\n",
    "#fig.savefig(\"../figures/dose_response/ot1_ec50_dose_response_phdthesis.pdf\", transparent=True, \n",
    "#            bbox_inches=\"tight\", bbox_extra_artists=(leg,))\n",
    "plt.show()\n",
    "plt.close()"
   ]
  },
  {
   "cell_type": "code",
   "execution_count": null,
   "metadata": {
    "colab": {
     "base_uri": "https://localhost:8080/",
     "height": 1000
    },
    "id": "BYHX1KQ1X0ph",
    "outputId": "bde7b384-b5a5-445c-b44f-c8199d3341d5"
   },
   "outputs": [],
   "source": [
    "#@title Plot all hill fit parameters\n",
    "#Each spleen separately\n",
    "plottingDf = all_fit_results4p.copy()\n",
    "\n",
    "# Sort peptides\n",
    "sort_fct = lambda x: pd.Index([pep_order.index(a) for a in x], name=x.name)\n",
    "plottingDf = plottingDf.sort_index(level=\"Peptide\", key=sort_fct)\n",
    "\n",
    "# Absolute pulse concentration in uM: EC50\n",
    "plottingDf[\"ec50\"] = 10**(plottingDf[\"ec50\"] + pulse_min_conc) * 1e6\n",
    "plottingDf[\"amplitude\"] = 10**plottingDf[\"amplitude\"]\n",
    "plottingDf[\"background\"] = 10**plottingDf[\"background\"]\n",
    "\n",
    "\n",
    "plottingDf.columns.name = 'Statistic'\n",
    "\n",
    "plottingDf = plottingDf.stack().to_frame('Value')\n",
    "g = sns.catplot(data=plottingDf.reset_index(),x='Peptide',y='Value',row='Statistic',\n",
    "                hue='CAR',kind='point',col='Cytokine',sharey=\"row\",margin_titles=True, \n",
    "                hue_order=[\"Mock\", \"CAR_WT\", \"CAR_Mut\"])\n",
    "for i in range(g.axes.shape[0]):\n",
    "    if all_fit_results.columns[i] in [\"hill_power\", \"rsquared\"]: continue\n",
    "    for j in range(g.axes.shape[1]):\n",
    "        g.axes[i, j].set_yscale(\"log\")\n",
    "plt.show()\n",
    "plt.close()"
   ]
  },
  {
   "cell_type": "markdown",
   "metadata": {
    "id": "z9kPSXbAvwca"
   },
   "source": [
    "# Fit sigmoidal functions\n",
    "For $x = \\log_{10}(p / p_{min})$ with $p$ the pulse concentration and $p_{min}$ the minimum pulse concentration, and $y = \\log_{10}(c / c_{min})$ the cytokine concentration scaled by the minimum level detected, we want to fit\n",
    "\n",
    "$$ y = a \\frac12 \\left(1 + \\tanh{h\\left(x - x_{50}\\right)}  \\right) + b  = \\frac{a}{1 + e^{-2h(x-x_{50})}} + b$$\n",
    "\n",
    "which is a sigmoidal function with EC50 given by $x_{50}$, slope $h$ at the mid-point, amplitude $a$, and background $b$. \n",
    "\n",
    "The inverse of this function, if we need it, is\n",
    "\n",
    "$$ x = x_0 + \\frac{1}{2h} \\ln{\\left(\\frac{y-b}{a+b-y} \\right)} $$"
   ]
  },
  {
   "cell_type": "code",
   "execution_count": null,
   "metadata": {
    "id": "0o9Hk8CypSTU"
   },
   "outputs": [],
   "source": [
    "def sigmoid(x, parameters):\n",
    "    a = parameters[0]\n",
    "    ec50 = parameters[1]\n",
    "    h = parameters[2]\n",
    "    background = parameters[3]\n",
    "    return a / (1.0 + np.exp(-2.0*h*(x - ec50))) + background\n",
    "\n",
    "\n",
    "def inverse_sigmoid(y, parameters):\n",
    "    a = parameters[0]\n",
    "    ec50 = parameters[1]\n",
    "    h = parameters[2]\n",
    "    background = parameters[3]\n",
    "    return ec50 + np.log((y - background) / (a + background - y)) / (2.0*h)"
   ]
  },
  {
   "cell_type": "code",
   "execution_count": null,
   "metadata": {
    "cellView": "form",
    "id": "3FEBxT9H1W0N"
   },
   "outputs": [],
   "source": [
    "#@title Define a cost function to fit one line per replicate\n",
    "#Function which computes the vector of residuals, with the signature fun(x, *args, **kwargs)\n",
    "# Fitting sigmoid function\n",
    "def cost_fit_sigmo(sigmo_pms, xpts, ypts, yerr, p0, reg_rate=0.2):\n",
    "    \"\"\" p0: value around which to regularize each param. L1 regularization =\"\"\"\n",
    "    # Compute sigmoid function at xpts\n",
    "    y_fit = sigmoid(xpts, sigmo_pms)\n",
    "    resids = (ypts - y_fit) / yerr\n",
    "    # Add in L1 regularization\n",
    "    regul = np.sqrt(reg_rate*np.abs(sigmo_pms - p0))\n",
    "    resids = np.concatenate([resids, regul])\n",
    "    return resids\n",
    "\n",
    "\n",
    "def fit_sigmo_cyto_each_peptide_replicate(ser, conc_lbl=None, reg_rate=0.2):\n",
    "    \"\"\" Input should be the log of cytokines. \n",
    "    \"\"\"\n",
    "    sigmo_params_dict = {}\n",
    "    if conc_lbl is None:\n",
    "        conc_lbl = \"Concentration\"\n",
    "    min_conc = np.min(ser.index.get_level_values(conc_lbl).values)\n",
    "    concentrations = np.log10(ser.index.get_level_values(conc_lbl).values / min_conc)\n",
    "    conc_ser = pd.Series(concentrations, index=ser.index, name=\"log10 Concentration\")\n",
    "    df_fit_data = pd.concat({\"log10 Cytokine\":ser, \"log10 Concentration\":conc_ser}, axis=1)\n",
    "    for peptide in pd.unique(ser.index.get_level_values('Peptide')):\n",
    "        # Loop on all subdivisions other than peptide concentration, which is the x axis\n",
    "        pep_ser = ser.xs(peptide, level=\"Peptide\")\n",
    "        pep_conc_ser = conc_ser.xs(peptide, level=\"Peptide\")\n",
    "        drop_lvls = [a for a in pep_ser.index.names if a.startswith(\"Concentr\")]\n",
    "        loop_idx = pep_ser.droplevel(drop_lvls).index.unique()\n",
    "        # Reorder levels\n",
    "        pep_ser = pep_ser.reorder_levels(list(loop_idx.names) + drop_lvls)\n",
    "        pep_conc_ser = pep_conc_ser.reorder_levels(list(loop_idx.names) + drop_lvls)\n",
    "        for ky in loop_idx:\n",
    "            y_ser = pep_ser.loc[ky]\n",
    "            x_ser = pep_conc_ser.loc[ky]\n",
    "            data = y_ser.values.flatten()\n",
    "            err = 1.0\n",
    "\n",
    "            # Finding bounds on the parameter values\n",
    "            # Background limits\n",
    "            min_back, max_back = find_bounds_on_min(data)\n",
    "            \n",
    "            # Concentration limits: always lower=0 because rescaled\n",
    "            max_conc = np.max(x_ser)*2\n",
    "            if max_conc == 0:\n",
    "                max_conc = 6\n",
    "        \n",
    "            min_conc2 = np.min(x_ser)\n",
    "            max_amplitude = (np.max(data) - np.min(data))*1.5\n",
    "            if max_amplitude == 0.0:\n",
    "                max_amplitude = 0.01\n",
    "            # Max slope: should be OK if such that the width is 1/100 of the full range\n",
    "            max_slope = 100 * (max_conc - min_conc)\n",
    "            # Parameter order: a, ec50, h, background\n",
    "            lowerbounds = np.asarray([0.0, 0.0, 0.0, min_back])\n",
    "            upperbounds = np.asarray([max_amplitude, max_conc, max_slope, max_back])\n",
    "            # Constrain amplitude to max value recorded for that cytokine. \n",
    "            # Assume increasing further concentration would not increase further plateau level\n",
    "\n",
    "            # Try without bounds for now\n",
    "            # Params: amplitude, ec50, h, background\n",
    "            regul_p0 = np.zeros(4)\n",
    "            # Regularize EC50 to be as large as possible. \n",
    "            regul_p0[1] = np.max(x_ser) + 2\n",
    "            init_p0 = (lowerbounds + upperbounds) / 2\n",
    "            init_p0[2] = 0.1  # slope, start slow\n",
    "            # Cost args: xpts, ypts, yerr, p0]\n",
    "            cost_args = (x_ser, data, err, regul_p0)\n",
    "            cost_kwargs = {\"reg_rate\":reg_rate}\n",
    "            \n",
    "            # Fitting\n",
    "            result = sp.optimize.least_squares(cost_fit_sigmo, init_p0, \n",
    "                        method=\"trf\", args=cost_args,\n",
    "                        kwargs=cost_kwargs,\n",
    "                        bounds=[lowerbounds, upperbounds],\n",
    "                    )\n",
    "            popt = result.x\n",
    "            r2 = round(r_squared(x_ser, data, sigmoid, popt), 3)\n",
    "            \n",
    "            key = (peptide,) + tuple(ky)\n",
    "            sigmo_params_dict[key] = pd.Series(list(popt), name=\"Parameters\",\n",
    "                index=[\"amplitude\", \"ec50\", \"slope\", \"background\"])\n",
    "            sigmo_params_dict[key][\"rsquared\"] = r2\n",
    "    lvl_names = [\"Peptide\"] + list(loop_idx.names) + [\"Parameters\"]\n",
    "    df_params = pd.concat(sigmo_params_dict, names=lvl_names, axis=0)\n",
    "    df_params = df_params.unstack(\"Parameters\")\n",
    "    conc_names = [a for a in df_fit_data.index.names if a.startswith(\"Concentration\")]\n",
    "    df_fit_data = df_fit_data.reorder_levels(lvl_names[:-1] + conc_names)\n",
    "    return df_params, df_fit_data"
   ]
  },
  {
   "cell_type": "code",
   "execution_count": null,
   "metadata": {
    "colab": {
     "base_uri": "https://localhost:8080/"
    },
    "id": "2IuEaTmK3Mak",
    "outputId": "25ae00fe-2cef-4649-838f-f6a20c83dba7"
   },
   "outputs": [],
   "source": [
    "#@title Test on a condition that seemed problematic, see if better now\n",
    "df_fit = np.log10(df_clean / df_clean.groupby(\"Cytokine\").min())\n",
    "fit_res, df_fit_data = fit_sigmo_cyto_each_peptide_replicate(df_fit.loc[(\"IL-2\", \"CAR_Mut\"), 24.0], \n",
    "              conc_lbl=\"Concentration (M)\", reg_rate=0.01)"
   ]
  },
  {
   "cell_type": "code",
   "execution_count": null,
   "metadata": {
    "colab": {
     "base_uri": "https://localhost:8080/",
     "height": 305
    },
    "id": "1RqgZYBY3uG3",
    "outputId": "e93d7d4a-7972-4f7c-fa86-07830afb862b"
   },
   "outputs": [],
   "source": [
    "# Plot the test fits. Expecting they're very bad. \n",
    "fig, ax = plt.subplots()\n",
    "pep_order = [\"N4\", \"A2\", \"Q4\", \"T4\", \"V4\", \"G4\", \"E1\", \"None\"]\n",
    "pep_order = [pep for pep in pep_order if pep in fit_res.index.get_level_values(\"Peptide\").unique()]\n",
    "palette = sns.color_palette(n_colors=len(pep_order))\n",
    "styles = [\"-\", \"--\", \":\"]\n",
    "df_data = df_fit.loc[(\"IL-2\", \"CAR_Mut\"), 24.0]\n",
    "for i, pep in enumerate(pep_order):\n",
    "    fit_res_pep = fit_res.xs(pep, level=\"Peptide\").sort_index()\n",
    "    df_fit_pep = df_fit_data.xs(pep, level=\"Peptide\").sort_index()\n",
    "    for j, rep in enumerate(fit_res_pep.index.get_level_values(\"Spleen\").unique()):\n",
    "        x = df_fit_pep.loc[rep, \"log10 Concentration\"].values\n",
    "        xfit = np.linspace(x.min(), x.max(), 201)\n",
    "        y = df_fit_pep.loc[rep, \"log10 Cytokine\"].values\n",
    "        pms = fit_res_pep.loc[rep, \"amplitude\":\"background\"].values\n",
    "        yfit = sigmoid(xfit, pms)\n",
    "        ax.plot(x, y, marker=\"o\", mfc=palette[i], mec=palette[i], ls=\"none\")\n",
    "        lbl = pep if j == 0 else None\n",
    "        ax.plot(xfit, yfit, color=palette[i], label=lbl, ls=styles[j])\n",
    "ax.legend(loc=\"upper left\", bbox_to_anchor=(1, 1))\n",
    "ax.set(xlabel=r\"$\\log_{10}$ Concentration\", ylabel=r\"$\\log_{10}$ Cytokine\")\n",
    "plt.show()\n",
    "plt.close()"
   ]
  },
  {
   "cell_type": "code",
   "execution_count": null,
   "metadata": {
    "colab": {
     "base_uri": "https://localhost:8080/",
     "height": 651
    },
    "id": "AuNKKZ5W34zO",
    "outputId": "84b56fdc-14b4-434d-c912-8b070b2075ec"
   },
   "outputs": [],
   "source": [
    "#@title Fit all dose response curves with sigmoid. Fit each spleen separately. \n",
    "df_fit = np.log10(df_clean / df_clean.groupby(\"Cytokine\").min())\n",
    "# Different reg. rate for each parameter. Constrain amplitude a lot. \n",
    "# amplitude, ec50, background\n",
    "regular_rate = 0.02\n",
    "\n",
    "all_fit_results_sig = {}\n",
    "data_to_plot_sig = {}\n",
    "for cyt in df_clean.index.get_level_values(\"Cytokine\").unique():\n",
    "    for car in df_clean.index.get_level_values(\"CAR\").unique():\n",
    "        print(\"Fitting {}, {}\".format(cyt, car))\n",
    "        fit_res, fit_data = fit_sigmo_cyto_each_peptide_replicate(df_fit.loc[(cyt, car), 24.0], \n",
    "              conc_lbl=\"Concentration (M)\", reg_rate=regular_rate)\n",
    "        all_fit_results_sig[(cyt, car)] = fit_res\n",
    "        data_to_plot_sig[(cyt, car)] = fit_data\n",
    "all_fit_results_sig = pd.concat(all_fit_results_sig, names=(\"Cytokine\", \"CAR\"))\n",
    "data_to_plot_sig = pd.concat(data_to_plot_sig, names=(\"Cytokine\", \"CAR\"))\n",
    "all_fit_results_sig = all_fit_results_sig.sort_index()\n",
    "data_to_plot_sig = data_to_plot_sig.sort_index()\n",
    "all_fit_results_sig"
   ]
  },
  {
   "cell_type": "code",
   "execution_count": null,
   "metadata": {
    "cellView": "form",
    "colab": {
     "base_uri": "https://localhost:8080/",
     "height": 748
    },
    "id": "5W_1_KvW6XiN",
    "outputId": "14145141-8ee4-4ca9-d74a-caa3d94f2973"
   },
   "outputs": [],
   "source": [
    "# @title Plot all fit results\n",
    "pep_order = [\"N4\", \"A2\", \"Q4\", \"T4\", \"V4\", \"G4\", \"E1\", \"None\"]\n",
    "pep_order = [pep for pep in pep_order if pep in df_fit.index.get_level_values(\"Peptide\").unique()]\n",
    "palette = sns.color_palette(n_colors=len(pep_order))\n",
    "markers = [\"o\", \"s\", \"v\"]\n",
    "styles = [\"-\", \"--\", \":\"]\n",
    "\n",
    "# rows = cytokines, columns = CAR type\n",
    "cytos, cars = df_fit.index.get_level_values(\"Cytokine\").unique(), df_fit.index.get_level_values(\"CAR\").unique()\n",
    "#cytos = [\"IL-2\"]\n",
    "fig, axes = plt.subplots(len(cytos), len(cars), sharey=\"row\", sharex=True)\n",
    "#axes = axes[None, :]\n",
    "fig.set_size_inches(len(cars)*4.0, len(cytos)*3.5)\n",
    "cytos_min_conc = df_clean.groupby(\"Cytokine\").min()\n",
    "pulse_min_conc = np.log10(np.min(df_fit.index.get_level_values(\"Concentration (M)\").values))\n",
    "for i, cyt in enumerate(cytos):\n",
    "    for j, car in enumerate(cars):\n",
    "        df_plot = data_to_plot_sig.loc[(cyt, car)]\n",
    "        fit_res = all_fit_results_sig.loc[(cyt, car)]\n",
    "        ax = axes[i, j]\n",
    "        for p, pep in enumerate(pep_order):\n",
    "            for r, rep in enumerate(fit_res.index.get_level_values(\"Spleen\").unique()):\n",
    "                x = df_plot.loc[(pep, rep), \"log10 Concentration\"].values\n",
    "                xfit = np.linspace(x.min(), x.max(), 201)\n",
    "                y = df_plot.loc[(pep, rep), \"log10 Cytokine\"].values\n",
    "                pms = fit_res.loc[(pep, rep), \"amplitude\":\"background\"].values\n",
    "                yfit = sigmoid(xfit, pms)\n",
    "                # Restore absolute cytokine scale (for y axis)\n",
    "                # Error doesn't change: abs. scale is just adding a constant in log scale\n",
    "                # so error bar is still y_log +- error. \n",
    "                y = y + np.log10(cytos_min_conc.loc[cyt].values)\n",
    "                yfit = yfit + np.log10(cytos_min_conc.loc[cyt].values)\n",
    "\n",
    "                # Restore absolute pulse scale (for x axis)\n",
    "                x, xfit = x + pulse_min_conc, xfit + pulse_min_conc\n",
    "\n",
    "                # Back to linear scale for plotting\n",
    "                x, xfit = 10**x, 10**xfit\n",
    "                y, yfit = 10**y, 10**yfit\n",
    "                # Plot dose in uM, so multiply M doses by 1e6 \n",
    "                lbl = (pep if r == 0 else None)\n",
    "                ax.plot(x*1e6, y, marker=markers[r], mfc=palette[p], mec=palette[p], ls=\"none\", ms=6)\n",
    "                ax.plot(xfit*1e6, yfit, color=palette[p], label=lbl, ls=styles[r])\n",
    "        ax.set(xscale=\"log\", yscale=\"log\")\n",
    "# Label and legend as appropriate\n",
    "for j in range(len(cars)):\n",
    "    axes[-1, j].set_xlabel(r\"Pulse ($\\mu$M)\")\n",
    "    axes[0, j].set_title(cars[j])\n",
    "for i in range(len(cytos)):\n",
    "    axes[i, 0].set_ylabel(\"[{}] (nM)\".format(cytos[i]))\n",
    "fig.legend(*axes[0, 0].get_legend_handles_labels(), loc=\"upper left\", bbox_to_anchor=(0.95, 0.95))\n",
    "fig.tight_layout()\n",
    "plt.show()\n",
    "plt.close()"
   ]
  },
  {
   "cell_type": "code",
   "execution_count": null,
   "metadata": {
    "cellView": "form",
    "colab": {
     "base_uri": "https://localhost:8080/",
     "height": 1000
    },
    "id": "lSqYdA4f55OJ",
    "outputId": "78acdadd-2fab-47c5-9802-f0aaf229c353"
   },
   "outputs": [],
   "source": [
    "#@title Plot all hill fit parameters\n",
    "#Each spleen separately\n",
    "plottingDf = all_fit_results_sig.copy()\n",
    "\n",
    "# Sort peptides\n",
    "sort_fct = lambda x: pd.Index([pep_order.index(a) for a in x], name=x.name)\n",
    "plottingDf = plottingDf.sort_index(level=\"Peptide\", key=sort_fct)\n",
    "\n",
    "# Absolute pulse concentration in uM: EC50\n",
    "plottingDf[\"ec50\"] = 10**(plottingDf[\"ec50\"] + pulse_min_conc) * 1e6\n",
    "plottingDf[\"amplitude\"] = 10**plottingDf[\"amplitude\"]\n",
    "plottingDf[\"background\"] = 10**plottingDf[\"background\"]\n",
    "plottingDf[\"slope\"] = 10**plottingDf[\"slope\"]\n",
    "\n",
    "\n",
    "plottingDf.columns.name = 'Statistic'\n",
    "\n",
    "plottingDf = plottingDf.stack().to_frame('Value')\n",
    "#g = sns.catplot(data=plottingDf.reset_index(),x='Peptide',y='Value',row='Statistic',\n",
    "#                hue='CAR',kind='point',col='Cytokine',sharey=\"row\",margin_titles=True, \n",
    "#                hue_order=[\"Mock\", \"CAR_WT\", \"CAR_Mut\"], style=\"Spleen\")\n",
    "g = sns.relplot(data=plottingDf.reset_index(),x='Peptide',y='Value',row='Statistic',\n",
    "                hue='CAR',kind='line',col='Cytokine', \n",
    "                hue_order=[\"Mock\", \"CAR_WT\", \"CAR_Mut\"], style=\"Spleen\", \n",
    "                marker=\"o\", facet_kws={\"sharey\":\"row\", \"margin_titles\":True})\n",
    "for i in range(g.axes.shape[0]):\n",
    "    if all_fit_results_sig.columns[i] in [\"rsquared\"]: continue\n",
    "    for j in range(g.axes.shape[1]):\n",
    "        g.axes[i, j].set_yscale(\"log\")\n",
    "plt.show()\n",
    "plt.close()"
   ]
  },
  {
   "cell_type": "code",
   "execution_count": null,
   "metadata": {
    "colab": {
     "base_uri": "https://localhost:8080/",
     "height": 455
    },
    "id": "OL3_zVXn_LYP",
    "outputId": "50a2da5e-e458-4c18-f929-1fe6452e178e",
    "scrolled": true
   },
   "outputs": [],
   "source": [
    "plottingDf"
   ]
  },
  {
   "cell_type": "markdown",
   "metadata": {},
   "source": [
    "# EC50s based on CD25"
   ]
  },
  {
   "cell_type": "code",
   "execution_count": null,
   "metadata": {},
   "outputs": [],
   "source": [
    "df_cd25 = pd.read_hdf(data_dir + \"fullCD25EC50df.hdf\", key=\"df\")\n",
    "new_names = list(df_cd25.index.names)\n",
    "new_names[new_names.index(\"Concentration_M\")] = \"Concentration (M)\"\n",
    "df_cd25.index = df_cd25.index.set_names(new_names)\n",
    "df_cd25"
   ]
  },
  {
   "cell_type": "code",
   "execution_count": null,
   "metadata": {},
   "outputs": [],
   "source": [
    "#@title Fit all dose response curves with sigmoid. Fit each spleen separately. \n",
    "df_fit = df_cd25  #np.log10(df_cd25)# / df_cd25.min())\n",
    "# Different reg. rate for each parameter. Constrain amplitude a lot. \n",
    "# amplitude, ec50, background\n",
    "regular_rate = 0.05\n",
    "\n",
    "all_fit_results_cd25 = {}\n",
    "data_to_plot_cd25 = {}\n",
    "for tcr in df_cd25.index.get_level_values(\"TCR\").unique():\n",
    "    print(\"Fitting {}\".format(tcr))\n",
    "    fit_res, fit_data = fit_hill_cyto_each_peptide_replicate(df_fit.loc[tcr, \"Percent_CD25+\"], \n",
    "          conc_lbl=\"Concentration (M)\", reg_rate=regular_rate)\n",
    "    all_fit_results_cd25[tcr] = fit_res\n",
    "    data_to_plot_cd25[tcr] = fit_data\n",
    "all_fit_results_cd25 = pd.concat(all_fit_results_cd25, names=(\"TCR\",))\n",
    "data_to_plot_cd25 = pd.concat(data_to_plot_cd25, names=(\"TCR\",))\n",
    "all_fit_results_cd25 = all_fit_results_cd25.sort_index()\n",
    "data_to_plot_cd25 = data_to_plot_cd25.sort_index()\n",
    "all_fit_results_cd25"
   ]
  },
  {
   "cell_type": "code",
   "execution_count": null,
   "metadata": {},
   "outputs": [],
   "source": [
    "# @title Plot all fit results\n",
    "tcr_order = [\"OT1\", \"NYESO\", \"HHAT\"]\n",
    "pep_orders = {\n",
    "    \"OT1\": [\"N4\", \"A2\", \"Q4\", \"T4\", \"V4\", \"G4\", \"E1\"], \n",
    "    \"NYESO\": [\"9V\", \"9C\", \"8S\", \"8K\", \"4A5P8K\"], \n",
    "    \"HHAT\": [\"p8F\", \"WT\"]\n",
    "}\n",
    "palettes = {\n",
    "    \"OT1\": sns.color_palette(n_colors=len(pep_orders[\"OT1\"])), \n",
    "    \"NYESO\": sns.color_palette(\"Set2\", n_colors=len(pep_orders[\"NYESO\"])), \n",
    "    \"HHAT\": [\"r\", \"b\"]\n",
    "}\n",
    "markers = [\"o\", \"s\", \"v\"]\n",
    "styles = [\"-\", \"--\", \":\"]\n",
    "\n",
    "# rows = cytokines, columns = CAR type\n",
    "tcrs = df_fit.index.get_level_values(\"TCR\").unique()\n",
    "#cytos = [\"IL-2\"]\n",
    "fig, axes = plt.subplots(1, len(tcrs), sharey=True, sharex=True)\n",
    "axes = axes.flatten()\n",
    "\n",
    "#fig.set_size_inches(6., 5.*len(tcrs))\n",
    "fig.set_size_inches(5*len(tcrs), 5.0)\n",
    "cd25_min_conc = df_cd25.min().values\n",
    "pulse_min_conc = np.log10(np.min(df_cd25.index.get_level_values(\"Concentration (M)\").values))\n",
    "for i, tcr in enumerate(tcrs):\n",
    "    df_plot = data_to_plot_cd25.loc[tcr]\n",
    "    fit_res = all_fit_results_cd25.loc[tcr]\n",
    "    ax = axes[i]\n",
    "    palette = palettes[tcr]\n",
    "    pep_order = pep_orders[tcr]\n",
    "    for p, pep in enumerate(pep_order):\n",
    "        for r, rep in enumerate(fit_res.index.get_level_values(\"Replicate\").unique()):\n",
    "            x = df_plot.loc[(pep, rep), \"log10 Concentration\"].values\n",
    "            xfit = np.linspace(x.min(), x.max(), 201)\n",
    "            y = df_plot.loc[(pep, rep), \"log10 Cytokine\"].values\n",
    "            pms = fit_res.loc[(pep, rep), \"amplitude\":\"hill_power\"].values\n",
    "            yfit = hillFunction4p(xfit, pms)\n",
    "            # Restore absolute cytokine scale (for y axis)\n",
    "            # Error doesn't change: abs. scale is just adding a constant in log scale\n",
    "            # so error bar is still y_log +- error. \n",
    "\n",
    "            # Restore absolute pulse scale (for x axis)\n",
    "            x, xfit = x + pulse_min_conc, xfit + pulse_min_conc\n",
    "\n",
    "            # Back to linear scale for plotting\n",
    "            x, xfit = 10**x, 10**xfit\n",
    "            # Plot dose in uM, so multiply M doses by 1e6 \n",
    "            lbl = (pep if r == 0 else None)\n",
    "            ax.plot(x*1e6, y, marker=markers[r], mfc=palette[p], mec=palette[p], ls=\"none\", ms=6)\n",
    "            ax.plot(xfit*1e6, yfit, color=palette[p], label=lbl, ls=styles[r])\n",
    "    ax.set(xscale=\"log\")\n",
    "# Label and legend as appropriate\n",
    "axes[0].set_ylabel(\"% CD25+\")\n",
    "for j in range(len(tcrs)):\n",
    "    axes[j].set_xlabel(r\"Pulse ($\\mu$M)\")\n",
    "    axes[j].set_xlim([5e-8, 3e1])\n",
    "    axes[j].set_title(tcrs[j])\n",
    "    axes[j].legend()#loc=\"upper left\", bbox_to_anchor=(0.98, 0.95))\n",
    "fig.tight_layout()\n",
    "#fig.savefig(\"../figures/dose_response/cd25_dose_response_fits.pdf\", transparent=True, bbox_inches=\"tight\")\n",
    "plt.show()\n",
    "plt.close()"
   ]
  },
  {
   "cell_type": "markdown",
   "metadata": {
    "id": "WWkNYtBqvf3M"
   },
   "source": [
    "# Collect all fitted EC50s with various methods"
   ]
  },
  {
   "cell_type": "code",
   "execution_count": null,
   "metadata": {
    "id": "WtXAiv_BnfOa"
   },
   "outputs": [],
   "source": [
    "#@title Function to scale back parameters to absolute concentrations\n",
    "def put_back_absolute_scales(fitres, df_dat, ylog=True):\n",
    "    # Rename \"Cytokine\" to \"Marker\", if relevant\n",
    "    # Put back absolute lower bounds in log scale\n",
    "    rename_dict = {\"Cytokine\":\"Marker\", \"Spleen\":\"Replicate\"}\n",
    "    fitres.index = fitres.index.rename([rename_dict.get(a, a) for a in fitres.index.names])\n",
    "    for cyt in fitres.index.get_level_values(\"Marker\").unique():\n",
    "        for car in fitres.index.get_level_values(\"CAR\").unique():\n",
    "            min_conc = float(np.min(df_dat.index.get_level_values(\"Concentration (M)\").values))\n",
    "            fitres.loc[(cyt, car), \"ec50\"] = fitres.loc[(cyt, car), \"ec50\"].add(np.log10(min_conc)).values\n",
    "            \n",
    "        min_cyto = float(df_dat.loc[cyt].min())\n",
    "        fitres.loc[cyt, \"background\"] = fitres.loc[cyt, \"background\"].add(np.log10(min_cyto)).values\n",
    "    \n",
    "    # Convert to linear scale amplitude, ec50, background. \n",
    "    # amplitude = fold-change. Linear-scale response ranges from 10^b to 10^(a+b), \n",
    "    # so 10^a = fold-change wrt background\n",
    "    if ylog:\n",
    "        fitres.loc[:, [\"amplitude\", \"ec50\", \"background\"]] = (\n",
    "                    10**fitres.loc[:, [\"amplitude\", \"ec50\", \"background\"]])\n",
    "    else:\n",
    "        fitres.loc[:, \"ec50\"] = 10**fitres.loc[:, \"ec50\"]\n",
    "    \n",
    "    # If there are parameter covariances, convert to lower and upper bounds on param values\n",
    "    # If error on log(x) is s, then x_up = x * 10**s, x_low = x * 10**(-s)\n",
    "    for col in fitres.columns:\n",
    "        if col.startswith(\"cov_\"):\n",
    "            pname = col[4:]\n",
    "            s = np.sqrt(fitres.loc[:, col])\n",
    "            if ylog:\n",
    "                fitres[\"lower_\"+pname] = fitres[pname] * 10**(-s)\n",
    "                fitres[\"upper_\"+pname] = fitres[pname] * 10**s\n",
    "            else:\n",
    "                fitres[\"lower_\"+pname] = fitres[pname] - s\n",
    "                fitres[\"upper_\"+pname] = fitres[pname] + s\n",
    "            fitres = fitres.drop(col, axis=1)\n",
    "    return fitres"
   ]
  },
  {
   "cell_type": "code",
   "execution_count": null,
   "metadata": {
    "id": "nQXYU_CjT2aQ"
   },
   "outputs": [],
   "source": [
    "#@title Put back absolute scales. EC50 is in M and background is in nM\n",
    "final_results_hill_averaged = put_back_absolute_scales(all_fit_results.copy(), df_clean)\n",
    "final_results_hill_4p = put_back_absolute_scales(all_fit_results4p.copy(), df_clean)\n",
    "final_results_sig = put_back_absolute_scales(all_fit_results_sig.copy(), df_clean)\n",
    "\n",
    "# Add a TCR level\n",
    "final_results_hill_averaged = pd.concat({\"OT1\":final_results_hill_averaged}, names=[\"TCR\"])\n",
    "final_results_hill_4p = pd.concat({\"OT1\":final_results_hill_4p}, names=[\"TCR\"])\n",
    "final_results_sig = pd.concat({\"OT1\":final_results_sig}, names=[\"TCR\"])\n",
    "\n",
    "all_cd25_2 = pd.concat([all_fit_results_cd25.copy()], keys=[(\"CD25\", \"CAR_WT\")], names=[\"Marker\", \"CAR\"])\n",
    "df_cd25_data = pd.concat([df_cd25.copy()], keys=[(\"CD25\",)], names=[\"Marker\"])\n",
    "final_results_cd25 = put_back_absolute_scales(all_cd25_2, df_cd25_data, ylog=False)\n",
    "final_results_cd25 = final_results_cd25.reorder_levels(final_results_sig.index.names, axis=0)"
   ]
  },
  {
   "cell_type": "code",
   "execution_count": null,
   "metadata": {
    "colab": {
     "base_uri": "https://localhost:8080/"
    },
    "id": "CDlmnYsNxTG_",
    "outputId": "541817e0-3399-4eb0-81be-b7371280d35e",
    "scrolled": true
   },
   "outputs": [],
   "source": [
    "# Make a final plot of the EC50s from all methods. They should all agree pretty well. \n",
    "hill_indiv_dummy = final_results_hill_averaged.copy()\n",
    "hill_indiv_dummy[\"Replicate\"] = \"1\"\n",
    "hill_indiv_dummy = hill_indiv_dummy.reset_index().set_index([\"TCR\", \"Marker\", \"CAR\", \"Peptide\", \"Replicate\"])\n",
    "all_ec50_df = pd.concat({\n",
    "    \"Hill_combined\": hill_indiv_dummy, \n",
    "    \"Hill_individual\": final_results_hill_4p,\n",
    "    \"Sigmoid\": final_results_sig, \n",
    "    \"CD25fit\": final_results_cd25\n",
    "}, names=[\"Method\"])\n",
    "all_ec50_df = all_ec50_df[\"ec50\"]\n",
    "all_ec50_df"
   ]
  },
  {
   "cell_type": "code",
   "execution_count": null,
   "metadata": {
    "colab": {
     "base_uri": "https://localhost:8080/",
     "height": 1000
    },
    "id": "mipBQFaHx2so",
    "outputId": "3ba4f345-da48-4f52-d55d-edb785238366"
   },
   "outputs": [],
   "source": [
    "g = sns.relplot(data=all_ec50_df.sort_index().reset_index(), x=\"Marker\", y=\"ec50\", \n",
    "                hue=\"Method\", style=\"CAR\", col=\"Peptide\", s=144, alpha=0.4, col_wrap=3,\n",
    "                facet_kws={\"margin_titles\":True, \"sharex\":False}, height=5.0, \n",
    "               hue_order=[\"CD25fit\", \"Hill_combined\", \"Hill_individual\", \"Sigmoid\"])\n",
    "#g = sns.stripplot(data=all_ec50_df.reset_index(), x=\"Peptide\", y=\"ec50\", hue=\"Method\", \n",
    "#                alpha=0.4)\n",
    "for ax in g.axes.flat:\n",
    "    ax.set_yscale(\"log\")\n",
    "plt.show()\n",
    "plt.close()"
   ]
  },
  {
   "cell_type": "markdown",
   "metadata": {
    "id": "7fOx_jSf5CZ7"
   },
   "source": [
    "# Conclusions\n",
    "The methods I used are pretty consistent, the CAR makes only a small difference, while the cytokine chosen makes the biggest difference.\n",
    "\n",
    "The CD25 EC50 is also very similar. "
   ]
  },
  {
   "cell_type": "code",
   "execution_count": null,
   "metadata": {},
   "outputs": [],
   "source": [
    "all_ec50_df.name = \"ec50_M\"\n",
    "#all_ec50_df.to_hdf(\"../data/dose_response/experimental_peptide_ec50s_blasts.h5\", key=\"df\")"
   ]
  },
  {
   "cell_type": "code",
   "execution_count": null,
   "metadata": {},
   "outputs": [],
   "source": [
    "summary_ec50 = np.log10(all_ec50_df).xs(\"CD25\", level=\"Marker\").groupby(\"Peptide\").mean()\n",
    "summary_ec50 = 10**summary_ec50\n",
    "summary_ec50\n",
    "\n",
    "relative_ec50 = summary_ec50 / summary_ec50.min()\n",
    "relative_ec50"
   ]
  },
  {
   "cell_type": "code",
   "execution_count": null,
   "metadata": {},
   "outputs": [],
   "source": [
    "# CD25 only, and compare to historical results\n",
    "zehn_daniels_achar2021_relative = pd.read_json(\"../data/dose_response/potencies_df_2021.json\")\n",
    "# Print difference\n",
    "relative_cd25_ec50 = 10**(np.log10(all_ec50_df).xs(\"CD25\", level=\"Marker\").groupby(\"Peptide\").mean())\n",
    "relative_cd25_ec50 /= relative_cd25_ec50.min()\n",
    "#(np.log10(zehn_daniels_achar2021_relative).mean(axis=1) - np.log10(relative_ec50)).dropna()\n",
    "(np.log10(zehn_daniels_achar2021_relative).mean(axis=1) - np.log10(relative_cd25_ec50)).dropna()"
   ]
  },
  {
   "cell_type": "code",
   "execution_count": null,
   "metadata": {},
   "outputs": [],
   "source": [
    "# Check the binding times it would give\n",
    "tau_n4 = 10.0\n",
    "kpr_n = 6\n",
    "taus_test = tau_n4*relative_ec50**(-1.0/kpr_n)\n",
    "print(taus_test)"
   ]
  },
  {
   "cell_type": "markdown",
   "metadata": {},
   "source": [
    "## Solution to EC50 comparison across TCR lines\n",
    "### Problem\n",
    "Most recent EC50 experiment really over-estimates most EC50s (i.e. under-estimates potencies) compared to historical data. In particular, it puts V4 at a value too weak. A little annoying, as the CD25 data must be used for EC50 comparison across TCR lines.  \n",
    "The real cause of the issue is N4 which is super strong in that assay. \n",
    "\n",
    "### Solution!!!\n",
    "Use a weaker OT-1 peptide as the reference point for determining the $\\tau$ of other peptides based on the CD25 data. Use Q4 or T4 and their $\\tau$ determined from historical data, then compute the relative CD25 EC50 of NY-ESO or HHAT peptides compared to the CD25 EC50 of Q4 or T4. \n",
    "\n",
    "So, for NY-ESO or HHAT, use\n",
    "\n",
    "$$ \\tau_{\\mathrm{pep}} = \\tau_{\\mathrm{Q4}} \\left( \\frac{\\mathrm{EC}_{50, \\mathrm{pep}}}{\\mathrm{EC}_{50, \\mathrm{Q4}}} \\right)^{-1/N} $$\n",
    "\n",
    "or the same but with T4, whichever seems best. "
   ]
  },
  {
   "cell_type": "markdown",
   "metadata": {
    "id": "LqYQ7xKqhuFG"
   },
   "source": [
    "# Sooraj EC50 barplots"
   ]
  },
  {
   "cell_type": "code",
   "execution_count": null,
   "metadata": {
    "colab": {
     "base_uri": "https://localhost:8080/",
     "height": 370
    },
    "id": "skw_hX_W5KMK",
    "outputId": "7bbef121-6aaa-431d-8522-4d4473edd38d"
   },
   "outputs": [],
   "source": [
    "plottingDf = all_fit_results_sig.copy()\n",
    "\n",
    "# Sort peptides\n",
    "pep_order = ['E1','G4','V4','T4','Q4','A2','N4']\n",
    "\n",
    "# Absolute pulse concentration in uM: EC50\n",
    "pulse_min_conc = np.log10(np.min(df_fit.index.get_level_values(\"Concentration (M)\").values))\n",
    "plottingDf[\"ec50\"] = 10**(plottingDf[\"ec50\"] + pulse_min_conc) * 1e6\n",
    "plottingDf[\"amplitude\"] = 10**plottingDf[\"amplitude\"]\n",
    "plottingDf[\"background\"] = 10**plottingDf[\"background\"]\n",
    "plottingDf[\"slope\"] = 10**plottingDf[\"slope\"]\n",
    "plottingDf[\"1/ec50\"] = np.divide(1,plottingDf[\"ec50\"])\n",
    "\n",
    "g = sns.catplot(data=plottingDf.query(\"Cytokine == 'IFNg' and CAR == 'Mock'\").reset_index(),x='Peptide',y='1/ec50',\n",
    "                kind='bar',order=pep_order,hue_order=pep_order[::-1],errorbar='sd',linewidth=1,edgecolor='k',dodge=False,hue='Peptide',capsize=0.2,errwidth=2)\n",
    "g.set(yscale='log')"
   ]
  },
  {
   "cell_type": "code",
   "execution_count": null,
   "metadata": {
    "colab": {
     "base_uri": "https://localhost:8080/",
     "height": 370
    },
    "id": "MrSLvSMYiGZK",
    "outputId": "b389e4a9-34a2-41c2-d40b-f512bf1b8a33"
   },
   "outputs": [],
   "source": [
    "plottingDf = all_fit_results_sig.copy()\n",
    "\n",
    "# Sort peptides\n",
    "pep_order = ['E1','G4','V4','T4','Q4','A2','N4']\n",
    "\n",
    "# Absolute pulse concentration in uM: EC50\n",
    "pulse_min_conc = np.log10(np.min(df_fit.index.get_level_values(\"Concentration (M)\").values))\n",
    "plottingDf[\"ec50\"] = 10**(plottingDf[\"ec50\"] + pulse_min_conc) * 1e6\n",
    "plottingDf[\"amplitude\"] = 10**plottingDf[\"amplitude\"]\n",
    "plottingDf[\"background\"] = 10**plottingDf[\"background\"]\n",
    "plottingDf[\"slope\"] = 10**plottingDf[\"slope\"]\n",
    "plottingDf[\"1/ec50\"] = np.divide(1,plottingDf[\"ec50\"])\n",
    "\n",
    "palette = ['grey','grey','blue','grey','grey','grey','red']\n",
    "\n",
    "g = sns.catplot(data=plottingDf.query(\"Cytokine == 'IFNg' and CAR == 'Mock' and Peptide != 'None'\").reset_index(),x='Peptide',y='1/ec50',\n",
    "                kind='bar',order=pep_order,hue_order=pep_order[::-1],errorbar='sd',linewidth=1,edgecolor='k',dodge=False,hue='Peptide',capsize=0.2,errwidth=2,palette=palette[::-1])\n",
    "g.set(yscale='log')\n",
    "\n",
    "g.axes.flat[0].set_ylabel('TCR Antigen Strength')\n",
    "g.axes.flat[0].set_xlabel('TCR Antigen')"
   ]
  },
  {
   "cell_type": "code",
   "execution_count": null,
   "metadata": {
    "id": "Ui1d_mdEi4UB"
   },
   "outputs": [],
   "source": []
  }
 ],
 "metadata": {
  "colab": {
   "provenance": []
  },
  "kernelspec": {
   "display_name": "Python 3 (ipykernel)",
   "language": "python",
   "name": "python3"
  },
  "language_info": {
   "codemirror_mode": {
    "name": "ipython",
    "version": 3
   },
   "file_extension": ".py",
   "mimetype": "text/x-python",
   "name": "python",
   "nbconvert_exporter": "python",
   "pygments_lexer": "ipython3",
   "version": "3.11.3"
  }
 },
 "nbformat": 4,
 "nbformat_minor": 4
}

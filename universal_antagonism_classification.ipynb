{
 "cells": [
  {
   "cell_type": "markdown",
   "metadata": {},
   "source": [
    "# Universal antagonism classification\n",
    "For any antigen cognate to some TCR given its EC$_{50}$, predict whether it will be an agonist or antagonist at a given dose, against some other dose of CAR antigen. \n",
    "\n",
    "In fact, if a peptide is acting as an agonist at 1 $\\mu$M but as an antagonist at 1 nM, classify it as a partial agonist. That could give 3 categories\n",
    "\n",
    "### 6 antigen classes?\n",
    "Any way to define 6 categories instead? Compute antagonism of the 6 prototypical categories of the Science paper, and classify real peptides based on which they are closest to in their antagonism vs  $L^T$ curve ? That would be nice. \n",
    "On the other hand it's a little surfeit, since we could just do that based on EC50?"
   ]
  },
  {
   "cell_type": "code",
   "execution_count": null,
   "metadata": {},
   "outputs": [],
   "source": [
    "import numpy as np\n",
    "import pandas as pd\n",
    "import matplotlib.pyplot as plt\n",
    "import matplotlib as mpl\n",
    "import seaborn as sns\n",
    "import json, h5py\n",
    "import os"
   ]
  },
  {
   "cell_type": "code",
   "execution_count": null,
   "metadata": {},
   "outputs": [],
   "source": [
    "from models.tcr_car_akpr_model import (\n",
    "    activation_function, steady_akpr_i_receptor_types, \n",
    "    steady_akpr_i_1ligand, get_threshold\n",
    ")\n",
    "from utils.preprocess import (\n",
    "    michaelis_menten, loglog_michaelis_menten, inverse_michaelis_menten, geo_mean_apply\n",
    ")\n",
    "from models.conversion import convert_ec50_tau_relative\n",
    "from mcmc.costs_tcr_car_antagonism import repackage_tcr_car_params, antag_ratio_panel_tcr_car\n",
    "from mcmc.plotting import change_log_ticks\n",
    "from utils.preprocess import geo_mean_apply, write_conc_uM"
   ]
  },
  {
   "cell_type": "markdown",
   "metadata": {},
   "source": [
    "## Aesthetic parameters"
   ]
  },
  {
   "cell_type": "code",
   "execution_count": null,
   "metadata": {},
   "outputs": [],
   "source": [
    "with open(\"results/for_plots/perturbations_palette.json\", \"r\") as f:\n",
    "    perturb_palette = json.load(f)\n",
    "perturb_palette[\"None\"] = [0., 0., 0., 1.]  # Black\n",
    "sns.palplot(perturb_palette.values())"
   ]
  },
  {
   "cell_type": "markdown",
   "metadata": {},
   "source": [
    "# EC50 to $\\tau$ conversion"
   ]
  },
  {
   "cell_type": "code",
   "execution_count": null,
   "metadata": {},
   "outputs": [],
   "source": [
    "# Import CD25-based EC50s, to compute taus across different TCRs (murine, human, etc.)\n",
    "# In M\n",
    "df_cd25_ec50s = (pd.read_hdf(\"data/dose_response/experimental_peptide_ec50s_blasts.h5\", \n",
    "                key=\"df\").xs(\"CD25fit\", level=\"Method\"))\n",
    "df_cd25_ec50s = df_cd25_ec50s.groupby([\"TCR\", \"Peptide\"]).apply(geo_mean_apply)\n",
    "\n",
    "# Rename HHAT peptides to HHAT-...\n",
    "rename_dict = {p:\"HHAT-{}\".format(p) for p in df_cd25_ec50s.xs(\"HHAT\").index.unique()}\n",
    "rename_dict.update({p:\"NYESO-{}\".format(p) for p in df_cd25_ec50s.xs(\"NYESO\").index.unique()})\n",
    "rename_dict.update({p:\"OT1-{}\".format(p) for p in df_cd25_ec50s.xs(\"OT1\").index.unique()})\n",
    "df_cd25_ec50s = df_cd25_ec50s.rename(rename_dict, level=\"Peptide\")\n",
    "\n",
    "df_cd25_ec50s"
   ]
  },
  {
   "cell_type": "code",
   "execution_count": null,
   "metadata": {},
   "outputs": [],
   "source": [
    "# Choose reference point: N4 at 10 s\n",
    "ref_file = \"data/reference_pep_tau_maps.json\"\n",
    "with open(ref_file, \"r\") as file:\n",
    "    tau_refs = json.load(file)\n",
    "\n",
    "ref_tau_n4 = tau_refs.get(\"N4\")\n",
    "\n",
    "# Also choose reference absolute EC50 for N4: use CD25 EC50s\n",
    "# This means we will have different taus for OT-1 peptides vs. fig. 2\n",
    "# But that's OK, we are using a different set of EC50s\n",
    "# to illustrate the general procedure to predict antagonism\n",
    "ref_ec50_n4 = df_cd25_ec50s.at[(\"OT1\", \"OT1-N4\")]\n",
    "\n",
    "def ec50_to_tau(ec50: np.float64, ec50_ref=ref_ec50_n4, tau_ref=ref_tau_n4):\n",
    "    \"\"\" \n",
    "    Convert an absolute EC50 (in M) to a binding time, \n",
    "    with SIINFEKL = 10 s as a reference. \n",
    "    \"\"\"\n",
    "    return convert_ec50_tau_relative(ec50 / ec50_ref, tau_ref, npow=6)"
   ]
  },
  {
   "cell_type": "markdown",
   "metadata": {},
   "source": [
    "# Other conversions and parameter loading"
   ]
  },
  {
   "cell_type": "markdown",
   "metadata": {},
   "source": [
    "## Pulse concentration to antigen number conversion\n",
    "Assuming the peptides load correctly on tumor cells. \n",
    "\n",
    "In other words, loading EC50 of the peptide is the same as for OT1 peptides. Obviously, this is not always true.  "
   ]
  },
  {
   "cell_type": "code",
   "execution_count": null,
   "metadata": {},
   "outputs": [],
   "source": [
    "# Load constant parameter values\n",
    "samples_fname = samples_fname = \"mcmc_results_tcr_car_both_conc.h5\"\n",
    "with h5py.File(os.path.join(\"results\", \"mcmc\", samples_fname), \"r\") as rfile:\n",
    "    data_group = rfile.get(\"data\")\n",
    "    fit_param_names = list(rfile.get(\"samples\").attrs.get(\"param_names\"))\n",
    "    l_conc_mm_params = data_group.get(\"l_conc_mm_params\")[()]\n",
    "    cost_args_loaded = [data_group.get(a)[()]\n",
    "                        for a in data_group.attrs.get(\"cost_args_names\")]\n",
    "    del data_group, rfile"
   ]
  },
  {
   "cell_type": "code",
   "execution_count": null,
   "metadata": {},
   "outputs": [],
   "source": [
    "# Multiply this by the number of MHC per tumor cell\n",
    "def pulse_to_frac_loaded(conc):\n",
    "    \"\"\" Compute the fraction of MHC that will be loaded at a pulse conc (in uM)\"\"\"\n",
    "    return michaelis_menten(conc, 1.0, l_conc_mm_params[1])"
   ]
  },
  {
   "cell_type": "markdown",
   "metadata": {},
   "source": [
    "## Load surface molecule numbers"
   ]
  },
  {
   "cell_type": "code",
   "execution_count": null,
   "metadata": {},
   "outputs": [],
   "source": [
    "# Load all CAR and TCR antigen numbers on the tumor lines used for each TCR line\n",
    "molec_counts_filename = \"data/surface_counts/surface_molecule_summary_stats.h5\"\n",
    "mtc = \"Geometric mean\"\n",
    "tumors = [\"E2APBX\", \"Nalm6\", \"PC9\", \"BEAS2B\"]\n",
    "\n",
    "# Maping each TCR line to a tumor type\n",
    "# Let HHAT peptides both be on PC9, the tumor line\n",
    "# As a proxy for MSKCC data, K562 (which we havent' characterized) is most similar to Nalm6\n",
    "tcr_to_tumor = {\"OT1\":(\"E2APBX\",), \"NYESO\":(\"Nalm6\",), \"HHAT\":(\"BEAS2B\", \"PC9\"), \"MSKCC\":(\"Nalm6\",)}  \n",
    "#tcr_to_tumor = {\"OT1\":(\"E2APBX\",), \"NYESO\":(\"Nalm6\",), \"HHAT\":(\"PC9\",), \"MSKCC\":(\"Nalm6\",)}  \n",
    "\n",
    "# Surface area of cells, relative to E2aPBX\n",
    "# Unsure about surface area of PC9 and BEAS2B, using 1.0\n",
    "size_factors = {\"E2APBX\":1.0, \"Nalm6\":2.0, \"PC9\":1.0, \"BEAS2B\":1.0}\n",
    "\n",
    "# Prepare DataFrame with MHC and tumor antigen levels\n",
    "df_carag_mhc = pd.DataFrame(np.zeros([len(tumors), 2]), index=pd.Index(tumors, name=\"Tumor\"), \n",
    "                           columns=pd.Index([\"MHC\", \"CAR_Ag\"], name=\"Molecule\"))\n",
    "\n",
    "# E2aPBX\n",
    "molec_stats = pd.read_hdf(molec_counts_filename, key=\"surface_numbers_stats\")\n",
    "df_carag_mhc.loc[\"E2APBX\", \"MHC\"] = molec_stats.loc[(\"E2aPBX_WT\", \"MHC\"), mtc] / size_factors[\"E2APBX\"]\n",
    "df_carag_mhc.loc[\"E2APBX\", \"CAR_Ag\"] = molec_stats.loc[(\"E2aPBX_WT\", \"CD19\"), mtc]\n",
    "\n",
    "# NYESO: on Nalm6\n",
    "df_carag_mhc.loc[\"Nalm6\", \"MHC\"] = molec_stats.loc[(\"Nalm6_19hi\", \"MHC\"), mtc] / size_factors[\"Nalm6\"]\n",
    "df_carag_mhc.loc[\"Nalm6\", \"CAR_Ag\"] = molec_stats.at[(\"Nalm6_19hi\", \"CD19\"), mtc] / size_factors[\"Nalm6\"]\n",
    "\n",
    "# HHAT: assume both on the tumor line, PC9 (disregard healthy tissue BEAS2B)\n",
    "for tum in [\"PC9\", \"BEAS2B\"]:\n",
    "    df_carag_mhc.loc[tum, \"MHC\"] = molec_stats.loc[(tum, \"MHC\"), mtc] / size_factors[tum]\n",
    "    df_carag_mhc.loc[tum, \"CAR_Ag\"] = molec_stats.loc[(tum, \"Her2\"), mtc] / size_factors[tum]\n",
    "\n",
    "df_carag_mhc"
   ]
  },
  {
   "cell_type": "markdown",
   "metadata": {},
   "source": [
    "## Load model parameters"
   ]
  },
  {
   "cell_type": "code",
   "execution_count": null,
   "metadata": {},
   "outputs": [],
   "source": [
    "# Load model best fits\n",
    "fit_conc = [\"1uM\", \"1nM\"]\n",
    "analysis_res_fname = \"mcmc_analysis_tcr_car_both_conc.json\"\n",
    "with open(os.path.join(\"results\", \"mcmc\", analysis_res_fname), \"r\") as jfile:\n",
    "    all_results_dicts = json.load(jfile)\n",
    "    del jfile\n",
    "\n",
    "# Go back to linear-scale parameters\n",
    "chosen_kmf = (1, 2, 1)\n",
    "pvec_best = np.asarray(all_results_dicts.get(str(chosen_kmf)).get(\"param_estimates\").get(\"MAP best\"))\n",
    "\n",
    "# Rearrange loaded parameters in the correct format \n",
    "other_rates, ritot, nmf_fixed, cd19_tau_l = cost_args_loaded\n",
    "res = repackage_tcr_car_params(pvec_best, chosen_kmf, *cost_args_loaded[:3])\n",
    "(\n",
    "all_rates, tcr_rates, car_rates, ritot_vec, tcr_ri, car_ri,\n",
    "nmf_both, tcr_nmf, car_nmf, threshold_taus\n",
    ") = res\n",
    "\n",
    "# Compute thresholds\n",
    "tcr_thresh = steady_akpr_i_1ligand(tcr_rates, threshold_taus[0],\n",
    "        10*tcr_ri[0], tcr_ri, tcr_nmf, large_l=True)[tcr_nmf[0]]\n",
    "car_thresh = steady_akpr_i_1ligand(car_rates, threshold_taus[1],\n",
    "        10*car_ri[0], car_ri, car_nmf, large_l=True)[car_nmf[0]]"
   ]
  },
  {
   "cell_type": "markdown",
   "metadata": {},
   "source": [
    "# Antagonism as a function of EC50 for various TCR kinds\n",
    "Continuous model curve vs tau (or EC50?) for each TCR line, with appropriate tumor numbers"
   ]
  },
  {
   "cell_type": "code",
   "execution_count": null,
   "metadata": {},
   "outputs": [],
   "source": [
    "# Generate model curves as a function of tau for each tumor line\n",
    "# Do 1 uM and 1 nM. Will correspond to different\n",
    "tau_range = np.linspace(tau_refs[\"None\"], tau_refs[\"N4\"], 200)\n",
    "pulse_concs = [1e0, 1e-3]\n",
    "model_curves = {}\n",
    "for tcr, tumor in tcr_to_tumor.items():\n",
    "    # For HHAT, different tumor in fact for p8f or WT peptide\n",
    "    # Else, one tumor type, still need the level in the dataframe\n",
    "    for tum in tumor:\n",
    "        # Get L^C and max. L^T\n",
    "        car_ag_tau_l = (cd19_tau_l[0], df_carag_mhc.loc[tum, \"CAR_Ag\"])\n",
    "        # Prepare MultiIndex of L^T, tau^T\n",
    "        l_range = [df_carag_mhc.loc[tum, \"MHC\"] * pulse_to_frac_loaded(c) \n",
    "                   for c in pulse_concs]\n",
    "        tcr_index = pd.MultiIndex.from_product([l_range, tau_range], \n",
    "                                names=[\"TCR_Antigen_Density\", \"TCR_Antigen\"])\n",
    "        # Compute model predictions of antagonism ratio. Not adjusting any parameter\n",
    "        # since we are making predictions about cytokines. \n",
    "        model_curves[(tcr, tum)] = antag_ratio_panel_tcr_car(pvec_best, chosen_kmf, \n",
    "                            other_rates, ritot, nmf_fixed, car_ag_tau_l, tcr_index)\n",
    "        # Rename ligand numbers to concentrations\n",
    "        rename_l = {l_range[i]:pulse_concs[i] for i in range(len(pulse_concs))}\n",
    "        model_curves[(tcr, tum)] = (model_curves[(tcr, tum)].rename(rename_l, level=\"TCR_Antigen_Density\")\n",
    "                             .rename(write_conc_uM, level=\"TCR_Antigen_Density\"))\n",
    "    print(\"Generated model curves for {} TCR\".format(tcr))\n",
    "\n",
    "\n",
    "model_curves = pd.concat(model_curves, names=[\"TCR\", \"Tumor\"])\n",
    "model_curves.name = \"FC\"\n",
    "model_curves"
   ]
  },
  {
   "cell_type": "markdown",
   "metadata": {},
   "source": [
    "## Predictions for various TCR antigens\n",
    "For each antigen, predict at 1 $\\mu$M and at 1 nM. Then make a bar graph of $\\log_2 FC$, with 2 bars for each antigen (black and red). "
   ]
  },
  {
   "cell_type": "code",
   "execution_count": null,
   "metadata": {},
   "outputs": [],
   "source": [
    "# Main function to predict if an antigen will be an antagonist at a given pulse conc. \n",
    "def predict_antagonism(tcr_ec50, tcr_pulse_conc, **kwargs):\n",
    "    \"\"\" \n",
    "    Args:\n",
    "        tcr_ec50 (float): TCR antigen EC50, in M\n",
    "        tcr_pulse_conc (float): TCR antigen pulse concentration, in uM\n",
    "        \n",
    "    Keyword args:\n",
    "        car_l (float): number of CAR ligand molecules per tumor cell. Default: E2aPBX numbers. \n",
    "        car_tau (float): CAR ligand binding time. Default: 50s, as used in MCMC\n",
    "        max_mhc (float): number of MHC per tumor cell. Default: E2aPBX numbers. \n",
    "        tcr_num (float): number of TCRs per T cell. Default: OT-1/CAR numbers\n",
    "        car_num (float): number of CARs per T cell. Default: OT-1/CAR numbers. \n",
    "        ec50_ref (float): reference ec50, in M\n",
    "        tau_ref (float): reference tau, in s\n",
    "    \n",
    "    Returns:\n",
    "        \n",
    "    \"\"\"\n",
    "    # Manage keyword arguments\n",
    "    car_l = kwargs.get(\"car_l\", cd19_tau_l[1])\n",
    "    car_tau = kwargs.get(\"car_tau\", cd19_tau_l[0])\n",
    "    max_mhc = kwargs.get(\"max_mhc\", l_conc_mm_params[0])\n",
    "    tcr_num = kwargs.get(\"tcr_num\", tcr_ri[0])\n",
    "    car_num = kwargs.get(\"car_num\", car_ri[0])\n",
    "    ec50_ref = kwargs.get(\"ec50_ref\", ref_ec50_n4)\n",
    "    tau_ref = kwargs.get(\"tau_ref\", ref_tau_n4)\n",
    "    \n",
    "    ritot_vec_loc = ritot_vec.copy()\n",
    "    ritot_vec_loc[0] = np.asarray([tcr_num, car_num])\n",
    "    car_ri_loc = car_ri.copy()\n",
    "    car_ri_loc[0] = car_num\n",
    "    \n",
    "    # Convert ec50, pulse to tau, L\n",
    "    tcr_tau = ec50_to_tau(tcr_ec50, ec50_ref=ec50_ref, tau_ref=tau_ref)\n",
    "    tcr_l = max_mhc * pulse_to_frac_loaded(tcr_pulse_conc)\n",
    "    \n",
    "    # Compute response to CAR antigen alone\n",
    "    ag_alone = steady_akpr_i_1ligand(car_rates, car_tau, car_l, car_ri_loc, car_nmf)[car_nmf[0]]\n",
    "    ag_alone = activation_function(ag_alone, car_thresh)\n",
    "    \n",
    "    # Compute antagonism ratio\n",
    "    lvec = np.asarray([tcr_l, car_l])\n",
    "    tauvec = np.asarray([tcr_tau, car_tau])\n",
    "    out_mix = steady_akpr_i_receptor_types(all_rates, tauvec, lvec, ritot_vec_loc, nmf_both)\n",
    "    z_tcr = activation_function(out_mix[0][nmf_both[0][0]], tcr_thresh)\n",
    "    z_car = activation_function(out_mix[1][nmf_both[0][1]], car_thresh)\n",
    "    ratio = (z_tcr + z_car) / ag_alone\n",
    "    return ratio\n",
    "    "
   ]
  },
  {
   "cell_type": "code",
   "execution_count": null,
   "metadata": {},
   "outputs": [],
   "source": [
    "# For each TCR line, wrap predict_antagonism with the correct MHC and CAR Ag numbers\n",
    "# Predict each antigen on each tumor type for that TCR; when plotting, \n",
    "# select the right (tumor, antigen) pair. \n",
    "model_preds_tcr_ags = {}\n",
    "for tcr, tumor in tcr_to_tumor.items():\n",
    "    if tcr == \"MSKCC\": continue  # Skip this, we don't have CD25 EC50s here\n",
    "    for tum in tumor:\n",
    "        predict_kwargs = {\n",
    "            \"car_l\": df_carag_mhc.loc[tum, \"CAR_Ag\"], \n",
    "            \"max_mhc\": df_carag_mhc.loc[tum, \"MHC\"], \n",
    "            # Other kwargs are defaults: \n",
    "            # N4 tau and CD25 EC50 as ref, \n",
    "            # TCR and CAR receptor numbers, \n",
    "            # CAR antigen tau is same as CD19\n",
    "        }\n",
    "        def predict_antagonism_applicable(x):\n",
    "            return pd.Series((predict_antagonism(x, 1e0, **predict_kwargs), \n",
    "                              predict_antagonism(x, 1e-3, **predict_kwargs)))\n",
    "        df = df_cd25_ec50s.xs(tcr, level=\"TCR\").apply(func=predict_antagonism_applicable)\n",
    "        df.columns = pd.MultiIndex.from_product([[\"FC\"], [\"1uM\", \"1nM\"]], \n",
    "                                                names=[\"Quantity\", \"TCR_Antigen_Density\"])\n",
    "        model_preds_tcr_ags[(tcr, tum)] = df.copy()\n",
    "\n",
    "# Also compute the taus of these peptides\n",
    "tcr_lines_ags_taus = df_cd25_ec50s.apply(ec50_to_tau)\n",
    "tcr_lines_ags_taus.name = \"tau\"\n",
    "model_preds_tcr_ags = pd.concat(model_preds_tcr_ags, names=[\"TCR\", \"Tumor\"])\n",
    "# Immediately drop the incorrect pairs of HHAT-tumor\n",
    "#model_preds_tcr_ags = model_preds_tcr_ags.drop([(\"HHAT\", \"BEAS2B\", \"HHAT-p8F\"), (\"HHAT\", \"PC9\", \"HHAT-WT\")])\n",
    "# In fact, back to both peptides on PC9, so keep both tumors for both antigens\n",
    "model_preds_tcr_ags = model_preds_tcr_ags.sort_index()\n",
    "model_preds_tcr_ags"
   ]
  },
  {
   "cell_type": "code",
   "execution_count": null,
   "metadata": {},
   "outputs": [],
   "source": [
    "# Plotting the results\n",
    "agdens_palette = {\"1uM\": perturb_palette[\"None\"], \"1nM\": perturb_palette[\"AgDens\"]}\n",
    "nice_pulse_name = \"TCR Ag pulse\"\n",
    "\n",
    "plotDf = (np.log2(model_preds_tcr_ags)\n",
    "            .stack(\"TCR_Antigen_Density\")\n",
    "         )\n",
    "# Sort peptides according to 1 uM antagonism\n",
    "sorted_peps = (plotDf.xs(\"1uM\", level=\"TCR_Antigen_Density\")\n",
    "               .sort_values(by=\"FC\").index.get_level_values(\"Peptide\"))\n",
    "# Sort by antigen tau or EC50 instead?\n",
    "#sorted_peps = sorted(plotDf.index.get_level_values(\"Peptide\").unique(), \n",
    "#                    key=lambda x: tcr_lines_ags_taus.loc[(x.split(\"-\")[0], x)])\n",
    "plotDf.index = plotDf.index.rename(names=nice_pulse_name, level=\"TCR_Antigen_Density\")\n",
    "facet = sns.FacetGrid(\n",
    "    data=plotDf.reset_index(), \n",
    "    hue=nice_pulse_name, \n",
    "    palette=agdens_palette, \n",
    "    hue_order=[\"1uM\", \"1nM\"],\n",
    "    col=nice_pulse_name, \n",
    "    col_order=[\"1uM\", \"1nM\"],\n",
    ")\n",
    "facet.map(sns.barplot, \"FC\", \"Peptide\", \n",
    "         order=sorted_peps)\n",
    "for ax in facet.axes.flat:\n",
    "    ax.axvline(0.0, ls=\"--\", color=\"k\", lw=1.0)\n",
    "facet.fig.set_size_inches(facet.fig.get_size_inches()[0], facet.fig.get_size_inches()[1]*2)\n",
    "change_log_ticks(facet.axes.flat[0], which=\"x\")\n",
    "change_log_ticks(facet.axes.flat[1], which=\"x\")\n",
    "#facet.fig.savefig(\"figures/extra_predictions/tcr_kinds_antagonism_barplots.pdf\", \n",
    "#                  transparent=True, bbox_inches=\"tight\")\n",
    "plt.show()\n",
    "plt.close()"
   ]
  },
  {
   "cell_type": "code",
   "execution_count": null,
   "metadata": {},
   "outputs": [],
   "source": [
    "# Plot the model curves\n",
    "fig, axes = plt.subplots(3, 1, sharex=True)\n",
    "axes = axes.flatten()\n",
    "fig.set_size_inches(2.5, 2.25*3)\n",
    "\n",
    "for i, tcr in enumerate([\"OT1\", \"NYESO\", \"HHAT\"]):\n",
    "    axes[i].axhline(0.0, ls=\"--\", color=\"grey\", lw=1.0)\n",
    "    # Plot the model curve\n",
    "    for ag_dens in model_curves.index.get_level_values(\"TCR_Antigen_Density\").unique()[::-1]:\n",
    "        tum_vals = (model_curves.loc[(tcr, slice(None), ag_dens)].index\n",
    "                    .remove_unused_levels().get_level_values(\"Tumor\").unique().values)\n",
    "        lstyles = [\"-\", \"--\"]\n",
    "        for j, tum in enumerate(tum_vals):\n",
    "            curve = model_curves.loc[(tcr, tum, ag_dens, tau_range)].values\n",
    "            clr = perturb_palette[\"None\"] if ag_dens == \"1uM\" else perturb_palette[\"AgDens\"]\n",
    "            axes[i].plot(tau_range, np.log2(curve), label=ag_dens, color=clr, lw=2.0, \n",
    "                        ls=lstyles[j])\n",
    "            # Mark the experimental antigens on these curves\n",
    "            peps = (model_preds_tcr_ags.loc[(tcr, tum)].index\n",
    "                    .get_level_values(\"Peptide\").unique())\n",
    "            for pep in peps:\n",
    "                tau = tcr_lines_ags_taus.loc[(tcr, pep)]\n",
    "                y = np.log2(model_preds_tcr_ags.loc[(tcr, tum, pep), (\"FC\", ag_dens)])\n",
    "                axes[i].plot(tau, y, ls=\"none\", ms=6, marker=\"o\", mfc=clr, mec=clr)\n",
    "    # Label this plot\n",
    "    axes[i].set(ylabel=r\"$FC_{\\mathrm{TCR \\rightarrow CAR}}$\")\n",
    "    change_log_ticks(axes[i], base=2, which=\"y\")\n",
    "    axes[i].set_title(tcr + \" – \" + \"/\".join(tcr_to_tumor.get(tcr)))\n",
    "    for side in [\"top\", \"right\"]:\n",
    "        axes[i].spines[side].set_visible(False)\n",
    "    \n",
    "axes[-1].set_xlabel(r\"TCR Antigen $\\tau^T$ (s)\")\n",
    "\n",
    "fig.tight_layout(h_pad=2.0)\n",
    "#fig.savefig(\"figures/extra_predictions/tcr_kinds_model_antagonism_curves.pdf\", \n",
    "#                  transparent=True, bbox_inches=\"tight\")\n",
    "plt.show()\n",
    "plt.close()"
   ]
  },
  {
   "cell_type": "code",
   "execution_count": null,
   "metadata": {},
   "outputs": [],
   "source": [
    "# Save the model curves, the extra peptide predictions, and the EC50s and taus of peptides\n",
    "plot_data_filename = \"results/for_plots/tcr_kinds_universal_antagonism_model.h5\"\n",
    "\n",
    "#model_curves.to_hdf(plot_data_filename, key=\"model_curves\")\n",
    "#model_preds_tcr_ags.to_hdf(plot_data_filename, key=\"model_predictions_tcr_ags\")\n",
    "#tcr_lines_ags_taus.to_hdf(plot_data_filename, key=\"tcr_lines_antigen_taus\")"
   ]
  },
  {
   "cell_type": "markdown",
   "metadata": {},
   "source": [
    "# Predictions for neoantigens\n",
    "\n",
    "Public data from Luksza, ..., Balachandran, 2022. \n",
    "\n",
    "Notice these EC50s have poor resolution (they screened a lot of them). 3 concentration points, linear-scale marker (% cells with some active marker). The WT peptides typically almost saturate the response curve; most peptides produce less response. \n",
    "\n",
    "Important bias: they did not measure full EC50 curves for all CMV-derived peptides (and only for CMV) with response below ~50 % at max. dose. This removes most potential antagonists and severely biases the distribution. **It is not fair to set these peptides to infinite EC50 as if they were null, because they do produce a lot of response**. So, we need to correct these missing EC50s, or drop CMV altogether. "
   ]
  },
  {
   "cell_type": "markdown",
   "metadata": {},
   "source": [
    "### Illustrating the bias\n",
    "\n"
   ]
  },
  {
   "cell_type": "code",
   "execution_count": null,
   "metadata": {},
   "outputs": [],
   "source": [
    "df_mut2 = pd.read_hdf(\"data/dose_response/MSKCC_EC50Df.hdf\", key=\"df\")\n",
    "df_mut2 = df_mut2.drop(\"EC50 (ug/mL)\", axis=1).rename({\"EC50 (M)\":\"ec50_M\"}, axis=1)\n",
    "df_raw = pd.read_hdf(\"data/dose_response/MSKCC_rawDf.hdf\")\n",
    "df_raw\n",
    "\n",
    "peps_with_inf = (df_mut2 == np.inf)\n",
    "df_plot = df_raw.copy().xs(\"CMV\", level=\"Antigen\")\n",
    "df_plot[\"not_measured_inf\"] = peps_with_inf.xs(\"CMV\", level=\"Antigen\")\n",
    "\n",
    "ec50_threshold_antagonists = 1e-3   # DETERMINE FROM FC PREDICTIONS?\n",
    "avg_max_response_antagonists = df_mut2[df_mut2[\"ec50_M\"] < ec50_threshold_antagonists]"
   ]
  },
  {
   "cell_type": "code",
   "execution_count": null,
   "metadata": {},
   "outputs": [],
   "source": [
    "sns.ecdfplot(data=df_plot.loc[df_plot[\"Dose (ug/mL)\"] == 100.0].reset_index(), \n",
    "             x=\"Response (CD137+ %)\", hue=\"not_measured_inf\")\n",
    "plt.show()\n",
    "plt.close()"
   ]
  },
  {
   "cell_type": "markdown",
   "metadata": {},
   "source": [
    "### Fixing the bias and making model predictions\n",
    "gp100 and neoantigens had no such bias so we can use them to infer the missing CMV EC50s. \n",
    "Sooraj correlated the response at max. dose with the EC50 for all fully measured peptides (across all TCRs and antigens). "
   ]
  },
  {
   "cell_type": "code",
   "execution_count": null,
   "metadata": {},
   "outputs": [],
   "source": [
    "pd.read_hdf(\"data/dose_response/correctedBalachandranEC50s.hdf\")"
   ]
  },
  {
   "cell_type": "code",
   "execution_count": null,
   "metadata": {},
   "outputs": [],
   "source": [
    "df_mut_ec50s = pd.read_hdf(\"data/dose_response/correctedBalachandranEC50s.hdf\")\n",
    "# Keep only the corrected EC50s (identical to original if provided, inferred if missing originally)\n",
    "df_mut_ec50s = df_mut_ec50s.xs(\"Yes\", level=\"Corrected\")\n",
    "df_mut_ec50s = df_mut_ec50s.drop(\"EC50 (ug/mL)\", axis=1).rename({\"EC50 (M)\":\"ec50_M\"}, axis=1)\n",
    "#df_mut_ec50s = df_mut_ec50s.clip(upper=1e16)\n",
    "df_mut_ec50s"
   ]
  },
  {
   "cell_type": "markdown",
   "metadata": {},
   "source": [
    "## Reference point\n",
    "They don't have N4 unfortunately. Let's assume CMV is something like N4. \n",
    "\n",
    "Now, a lot will depend on the choice of that reference: everything will be an antagonist if we choose that too low; nothing will be if we choose too high. So better associate CMV to something too high, so we certainly don't hyperinflate the number of antagonists we predict. "
   ]
  },
  {
   "cell_type": "code",
   "execution_count": null,
   "metadata": {},
   "outputs": [],
   "source": [
    "ref_tau_cmv = 10.0\n",
    "ref_ec50_cmv = df_mut_ec50s.loc[(\"CMV\", slice(None), \"WT\"), \"ec50_M\"].min()\n",
    "print(\"Reference: EC50 = {} M, tau = {} s\".format(ref_ec50_cmv, ref_tau_cmv))"
   ]
  },
  {
   "cell_type": "code",
   "execution_count": null,
   "metadata": {},
   "outputs": [],
   "source": [
    "def predict_antagonism_applicable_mut(x):\n",
    "    # Use Nalm6 MHC and CAR antigen numbers\n",
    "    mut_kwargs = {\n",
    "        \"ec50_ref\": ref_ec50_cmv, \n",
    "        \"tau_ref\": ref_tau_cmv, \n",
    "        \"max_mhc\": df_carag_mhc.at[\"Nalm6\", \"MHC\"],\n",
    "        \"car_l\": df_carag_mhc.at[\"Nalm6\", \"CAR_Ag\"]\n",
    "    }\n",
    "    return pd.Series((predict_antagonism(x, 1e0, **mut_kwargs), \n",
    "                      predict_antagonism(x, 1e-3, **mut_kwargs)))"
   ]
  },
  {
   "cell_type": "code",
   "execution_count": null,
   "metadata": {},
   "outputs": [],
   "source": [
    "df_antagonism_mut = df_mut_ec50s[\"ec50_M\"].apply(func=predict_antagonism_applicable_mut)\n",
    "df_antagonism_mut.columns = pd.MultiIndex.from_product([[\"FC\"], [\"1uM\", \"1nM\"]], \n",
    "                                            names=[\"Quantity\", \"TCR_Antigen_Density\"])\n",
    "df_antagonism_mut = df_antagonism_mut.dropna()"
   ]
  },
  {
   "cell_type": "code",
   "execution_count": null,
   "metadata": {},
   "outputs": [],
   "source": [
    "df_antagonism_mut"
   ]
  },
  {
   "cell_type": "code",
   "execution_count": null,
   "metadata": {},
   "outputs": [],
   "source": [
    "# Plotting the results\n",
    "agdens_palette = {\"1uM\": perturb_palette[\"None\"], \"1nM\": perturb_palette[\"AgDens\"]}\n",
    "nice_pulse_name = \"TCR Ag pulse\"\n",
    "plotDf = np.log2(df_antagonism_mut)\n",
    "new_lvl = \"Antigen & mutation\"\n",
    "plotDf[(\"Index\", new_lvl)] = (plotDf.index.get_level_values(\"Antigen\") \n",
    "                                           + \"-\" + plotDf.index.get_level_values(\"Peptide\"))\n",
    "plotDf = plotDf.set_index((\"Index\", new_lvl), append=True)\n",
    "plotDf.index = plotDf.index.set_names(names=new_lvl, level=-1)\n",
    "plotDf = (plotDf.groupby(new_lvl).mean()  # Average across receptors\n",
    "            .stack(\"TCR_Antigen_Density\")\n",
    "            .sort_values(\"FC\")\n",
    "         )\n",
    "plotDf.index = plotDf.index.rename(names=nice_pulse_name, level=\"TCR_Antigen_Density\")\n",
    "\n",
    "facet = sns.FacetGrid(\n",
    "    data=plotDf.reset_index(), \n",
    "    hue=nice_pulse_name, \n",
    "    palette=agdens_palette, \n",
    "    hue_order=[\"1uM\", \"1nM\"],\n",
    "    col=nice_pulse_name, \n",
    "    col_order=[\"1uM\", \"1nM\"],\n",
    ")\n",
    "facet.map(sns.histplot, \"FC\", bins=20)\n",
    "#for ax in facet.axes.flat:\n",
    "#    ax.axvline(0.0, ls=\"--\", color=\"k\", lw=1.0)\n",
    "facet.fig.set_size_inches(facet.fig.get_size_inches()[0], facet.fig.get_size_inches()[1]*2)\n",
    "change_log_ticks(facet.axes.flat[0], which=\"x\")\n",
    "change_log_ticks(facet.axes.flat[1], which=\"x\")\n",
    "\n",
    "# Annotate with the fraction of antigens below FC = 1.0\n",
    "for i in range(2):\n",
    "    xlims =  facet.axes.flat[i].get_xlim()\n",
    "    facet.axes.flat[i].set_xlim(xlims[0]-0.1, xlims[1])\n",
    "    frac_below = np.sum(df_antagonism_mut.iloc[:, i] < 1.0) / df_antagonism_mut.iloc[:, i].count()\n",
    "    facet.axes.flat[i].axvline(0.0, ls=\"--\", color=\"grey\", lw=1.0)\n",
    "    ymax = facet.axes.flat[i].get_ylim()[1]\n",
    "    facet.axes.flat[i].annotate(\"{:.1f} %\".format(100.0*frac_below), xy=(-0.075, ymax*.98), \n",
    "                                va=\"top\", ha=\"right\")\n",
    "    facet.axes.flat[i].annotate(\"{:.1f} %\".format(100.0*(1.0 - frac_below)), xy=(0.075, ymax*.98), \n",
    "                                va=\"top\", ha=\"left\")\n",
    "\n",
    "facet.axes.flat[0].set_ylabel(\"Number of peptides (#)\")\n",
    "facet.fig.tight_layout()\n",
    "#facet.fig.savefig(\"figures/extra_predictions/mskcc_antagonism_fc_distributions.pdf\", \n",
    "#                  transparent=True, bbox_inches=\"tight\")\n",
    "plt.show()\n",
    "plt.close()"
   ]
  },
  {
   "cell_type": "markdown",
   "metadata": {},
   "source": [
    "# Imagine MSKCC antigens on PC9 tumors\n",
    "The amount of antagonism predicted will be much higher because CD19 is lower there. "
   ]
  },
  {
   "cell_type": "code",
   "execution_count": null,
   "metadata": {},
   "outputs": [],
   "source": [
    "def predict_antagonism_applicable_mut_pc9(x):\n",
    "    # Use Nalm6 MHC and CAR antigen numbers\n",
    "    mut_kwargs = {\n",
    "        \"ec50_ref\": ref_ec50_cmv, \n",
    "        \"tau_ref\": ref_tau_cmv, \n",
    "        \"max_mhc\": df_carag_mhc.at[\"PC9\", \"MHC\"],\n",
    "        \"car_l\": df_carag_mhc.at[\"PC9\", \"CAR_Ag\"]\n",
    "    }\n",
    "    return pd.Series((predict_antagonism(x, 1e0, **mut_kwargs), \n",
    "                      predict_antagonism(x, 1e-3, **mut_kwargs)))"
   ]
  },
  {
   "cell_type": "code",
   "execution_count": null,
   "metadata": {},
   "outputs": [],
   "source": [
    "df_antagonism_mut_pc9 = df_mut_ec50s[\"ec50_M\"].apply(func=predict_antagonism_applicable_mut_pc9)\n",
    "df_antagonism_mut_pc9.columns = pd.MultiIndex.from_product([[\"FC\"], [\"1uM\", \"1nM\"]], \n",
    "                                            names=[\"Quantity\", \"TCR_Antigen_Density\"])\n",
    "df_antagonism_mut_pc9 = df_antagonism_mut_pc9.dropna()\n",
    "\n",
    "\n",
    "\n",
    "# Plotting the results\n",
    "agdens_palette = {\"1uM\": perturb_palette[\"None\"], \"1nM\": perturb_palette[\"AgDens\"]}\n",
    "nice_pulse_name = \"TCR Ag pulse\"\n",
    "plotDf = np.log2(df_antagonism_mut_pc9)\n",
    "new_lvl = \"Antigen & mutation\"\n",
    "plotDf[(\"Index\", new_lvl)] = (plotDf.index.get_level_values(\"Antigen\") \n",
    "                                           + \"-\" + plotDf.index.get_level_values(\"Peptide\"))\n",
    "plotDf = plotDf.set_index((\"Index\", new_lvl), append=True)\n",
    "plotDf.index = plotDf.index.rename(names=new_lvl, level=-1)\n",
    "plotDf = (plotDf.groupby(new_lvl).mean()  # Average across receptors\n",
    "            .stack(\"TCR_Antigen_Density\")\n",
    "            .sort_values(\"FC\")\n",
    "         )\n",
    "plotDf.index = plotDf.index.rename(names=nice_pulse_name, level=\"TCR_Antigen_Density\")\n",
    "\n",
    "facet = sns.FacetGrid(\n",
    "    data=plotDf.reset_index(), \n",
    "    hue=nice_pulse_name, \n",
    "    palette=agdens_palette, \n",
    "    hue_order=[\"1uM\", \"1nM\"],\n",
    "    col=nice_pulse_name, \n",
    "    col_order=[\"1uM\", \"1nM\"],\n",
    ")\n",
    "facet.map(sns.histplot, \"FC\", bins=20)\n",
    "#for ax in facet.axes.flat:\n",
    "#    ax.axvline(0.0, ls=\"--\", color=\"k\", lw=1.0)\n",
    "facet.fig.set_size_inches(facet.fig.get_size_inches()[0], facet.fig.get_size_inches()[1]*2)\n",
    "change_log_ticks(facet.axes.flat[0], which=\"x\")\n",
    "change_log_ticks(facet.axes.flat[1], which=\"x\")\n",
    "\n",
    "# Annotate with the fraction of antigens below FC = 1.0\n",
    "for i in range(2):\n",
    "    xlims =  facet.axes.flat[i].get_xlim()\n",
    "    facet.axes.flat[i].set_xlim(xlims[0]-0.1, xlims[1])\n",
    "    frac_below = np.sum(df_antagonism_mut_pc9.iloc[:, i] < 1.0) / df_antagonism_mut_pc9.iloc[:, i].count()\n",
    "    facet.axes.flat[i].axvline(0.0, ls=\"--\", color=\"grey\", lw=1.0)\n",
    "    ymax = facet.axes.flat[i].get_ylim()[1]\n",
    "    facet.axes.flat[i].annotate(\"{:.1f} %\".format(100.0*frac_below), xy=(-0.075, ymax*.98), \n",
    "                                va=\"top\", ha=\"right\")\n",
    "    facet.axes.flat[i].annotate(\"{:.1f} %\".format(100.0*(1.0 - frac_below)), xy=(0.075, ymax*.98), \n",
    "                                va=\"top\", ha=\"left\")\n",
    "facet.axes.flat[0].set_ylabel(\"Number of peptides (#)\")\n",
    "\n",
    "facet.fig.tight_layout()\n",
    "#facet.fig.savefig(\"figures/extra_predictions/mskcc_antagonism_fc_distributions_pc9.pdf\", \n",
    "#                  transparent=True, bbox_inches=\"tight\")\n",
    "plt.show()\n",
    "plt.close()"
   ]
  },
  {
   "cell_type": "code",
   "execution_count": null,
   "metadata": {},
   "outputs": [],
   "source": [
    "# Save the predictions\n",
    "#df_antagonism_mut.to_hdf(\"results/for_plots/mskcc_antagonism_fc_predictions_corrected.h5\", key=\"Nalm6\")\n",
    "#df_antagonism_mut_pc9.to_hdf(\"results/for_plots/mskcc_antagonism_fc_predictions_corrected.h5\", key=\"PC9\")"
   ]
  },
  {
   "cell_type": "markdown",
   "metadata": {},
   "source": [
    "## How does antagonist fraction and amplitude change with pulse concentration?\n",
    "I can easily compute predictions for the MSKCC antigens at any pulse concentration I want, and compute the median antagonism and fraction of antagonists for each concentration. \n",
    "\n",
    "But do I care? "
   ]
  },
  {
   "cell_type": "code",
   "execution_count": null,
   "metadata": {},
   "outputs": [],
   "source": [
    "def predict_antagonism_applicable_manyconc(x, lrange=None):\n",
    "    # Use Nalm6 MHC and CAR antigen numbers\n",
    "    mut_kwargs = {\n",
    "        \"ec50_ref\": ref_ec50_cmv, \n",
    "        \"tau_ref\": ref_tau_cmv, \n",
    "        \"max_mhc\": df_carag_mhc.at[\"Nalm6\", \"MHC\"],\n",
    "        \"car_l\": df_carag_mhc.at[\"Nalm6\", \"CAR_Ag\"]\n",
    "    }\n",
    "    if lrange is None:\n",
    "        lrange = np.geomspace(1e-5, 1e0, 21)  # From 10 pM to 1 uM\n",
    "    predictions_vs_l = [predict_antagonism(x, l, **mut_kwargs) for l in lrange]\n",
    "    return pd.Series(predictions_vs_l)\n",
    "\n",
    "def median_subgroup(ser, thresh):\n",
    "    # Find the median of the values in ser below a certain threshold\n",
    "    ser_group = ser.loc[ser < thresh]\n",
    "    return ser_group.median()"
   ]
  },
  {
   "cell_type": "code",
   "execution_count": null,
   "metadata": {},
   "outputs": [],
   "source": [
    "conc_range = np.geomspace(1e-5, 1e0, 21)\n",
    "df_antagonism_mut_vs_l = df_mut_ec50s[\"ec50_M\"].apply(func=predict_antagonism_applicable_manyconc, \n",
    "                                                     lrange=conc_range)\n",
    "df_antagonism_mut_vs_l.columns = pd.Index(conc_range, name=\"Pulse_concentration\")\n",
    "df_antagonism_mut_vs_l = df_antagonism_mut_vs_l.dropna()\n",
    "\n",
    "# For each l, compute the fraction of antagonists, and the median antagonist value\n",
    "ser_frac_mut = (df_antagonism_mut_vs_l < 1.0).sum(axis=0) / df_antagonism_mut_vs_l.count(axis=0)\n",
    "ser_med_antag_fc = df_antagonism_mut_vs_l.apply(median_subgroup, thresh=1.0, axis=0)"
   ]
  },
  {
   "cell_type": "code",
   "execution_count": null,
   "metadata": {},
   "outputs": [],
   "source": [
    "fig, axes = plt.subplots(2, 1, sharex=True)\n",
    "axes = axes.flatten()\n",
    "axes[0].plot(conc_range, ser_frac_mut.values)\n",
    "axes[0].set(xscale=\"log\", ylabel=\"Fraction of antagonists\")\n",
    "axes[1].plot(conc_range, ser_med_antag_fc.values)\n",
    "axes[1].set(xscale=\"log\", xlabel=r\"Pulse concentration ($\\mu$M)\", ylabel=\"Median FC of antagonists\")\n",
    "axes[1].axhline(1.0, ls=\"--\", color=\"grey\", lw=1.0)\n",
    "plt.show()\n",
    "plt.close()"
   ]
  },
  {
   "cell_type": "code",
   "execution_count": null,
   "metadata": {},
   "outputs": [],
   "source": [
    "# Consider as antagonists only peptides producing FC < threshold\n",
    "antag_thresh = 0.85\n",
    "# For each l, compute the fraction of antagonists, and the median antagonist value\n",
    "ser_frac_mut_thresh = (df_antagonism_mut_vs_l < antag_thresh).sum(axis=0) / df_antagonism_mut_vs_l.count(axis=0)\n",
    "ser_med_antag_fc_thresh = df_antagonism_mut_vs_l.apply(median_subgroup, thresh=antag_thresh, axis=0)\n",
    "\n",
    "# Plot\n",
    "fig, axes = plt.subplots(2, 1, sharex=True)\n",
    "axes = axes.flatten()\n",
    "axes[0].plot(conc_range, ser_frac_mut_thresh.values)\n",
    "axes[0].set(xscale=\"log\", ylabel=\"Fraction of antagonists\")\n",
    "axes[1].plot(conc_range, ser_med_antag_fc_thresh.values)\n",
    "axes[1].set(xscale=\"log\", xlabel=r\"Pulse concentration ($\\mu$M)\", ylabel=\"Median FC of antagonists\")\n",
    "axes[1].axhline(1.0, ls=\"--\", color=\"grey\", lw=1.0)\n",
    "plt.show()\n",
    "plt.close()"
   ]
  },
  {
   "cell_type": "code",
   "execution_count": null,
   "metadata": {},
   "outputs": [],
   "source": []
  }
 ],
 "metadata": {
  "kernelspec": {
   "display_name": "py311",
   "language": "python",
   "name": "py311"
  },
  "language_info": {
   "codemirror_mode": {
    "name": "ipython",
    "version": 3
   },
   "file_extension": ".py",
   "mimetype": "text/x-python",
   "name": "python",
   "nbconvert_exporter": "python",
   "pygments_lexer": "ipython3",
   "version": "3.11.3"
  }
 },
 "nbformat": 4,
 "nbformat_minor": 4
}

{
 "cells": [
  {
   "cell_type": "markdown",
   "metadata": {},
   "source": [
    "# Parameter exploration for TCR/CAR antagonism in the revised AKPR model\n",
    "Notebook to explore the revised AKPR model TCR/CAR antagonism results as a function of parameters. We define a few plotting functions that make it easy to change values in the vector of best parameter fits and visualize the corresponding antagonism curves. "
   ]
  },
  {
   "cell_type": "code",
   "execution_count": null,
   "metadata": {},
   "outputs": [],
   "source": [
    "import numpy as np\n",
    "import pandas as pd\n",
    "import json\n",
    "\n",
    "import sys, os\n",
    "# Local modules\n",
    "import sys, os\n",
    "if not \"../\" in sys.path:\n",
    "    sys.path.insert(1, \"../\")\n",
    "\n",
    "from mcmc.costs_tcr_car_antagonism import antag_ratio_panel_tcr_car, cost_antagonism_tcr_car\n",
    "from mcmc.mcmc_analysis import find_best_grid_point\n",
    "from utils.preprocess import (michaelis_menten, string_to_tuple)\n",
    "from mcmc.utilities_tcr_car_antagonism import (prepare_car_antagonism_data, load_tcr_car_molec_numbers, \n",
    "                        load_tcr_tcr_akpr_fits, check_fit_model_antagonism, plot_fit_car_antagonism)"
   ]
  },
  {
   "cell_type": "markdown",
   "metadata": {},
   "source": [
    "## Data and parameter fits loading"
   ]
  },
  {
   "cell_type": "code",
   "execution_count": null,
   "metadata": {},
   "outputs": [],
   "source": [
    "# plotting functions\n",
    "def change_log_ticks(axis, base=2, which=\"y\"):\n",
    "    if which == \"y\" or which == \"both\":\n",
    "        ogyticks = axis.get_yticks()\n",
    "        newyticks = list(np.unique([int(x) for x in ogyticks]))\n",
    "        newyticklabels = [str(base)+'$^{'+str(x)+'}$' for x in newyticks]\n",
    "        axis.set_yticks(newyticks)\n",
    "        axis.set_yticklabels(newyticklabels)\n",
    "    if which == \"x\" or which == \"both\":\n",
    "        ogxticks = axis.get_xticks()\n",
    "        newxticks = list(np.unique([int(x) for x in ogxticks]))\n",
    "        newxticklabels = [str(base)+'$^{'+str(x)+'}$' for x in newxticks]\n",
    "        axis.set_xticks(newxticks)\n",
    "        axis.set_xticklabels(newxticklabels)\n",
    "    return axis\n",
    "    "
   ]
  },
  {
   "cell_type": "code",
   "execution_count": null,
   "metadata": {},
   "outputs": [],
   "source": [
    "# Extracting fixed parameters from TCR/TCR fits and calibration\n",
    "# Number of TCR and CAR per T cell, CD19 per tumor, pulse KD, peptide taus\n",
    "molec_counts_fi = os.path.join(\"..\", \"data\", \"surface_counts\", \"surface_molecule_summary_stats.h5\")\n",
    "mtc = \"Geometric mean\"\n",
    "res = load_tcr_car_molec_numbers(molec_counts_fi, mtc, tcell_type=\"OT1_CAR\")\n",
    "tcr_number, car_number, cd19_number, l_conc_mm_params, pep_tau_map = res\n",
    "\n",
    "# Prepare data for fitting antagonism ratios\n",
    "data_file_name = os.path.join(\"..\", \"data\", \"antagonism\", \"combined_OT1-CAR_antagonism.hdf\")\n",
    "df = pd.read_hdf(data_file_name)\n",
    "chosen_fit_conc = \"1uM\"\n",
    "data_prep = prepare_car_antagonism_data(df, l_conc_mm_params,\n",
    "                pep_tau_map, cyto=\"IL-2\", do_plot=False,\n",
    "                tcr_conc=[\"1nM\", \"1uM\"], tcr_itams=\"10\", car_itams=\"3\")\n",
    "df_data, df_err = data_prep  # Processed antagonism data\n",
    "\n",
    "# Load TCR best fit parameters\n",
    "tcr_results_file = os.path.join(\"..\", \"results\", \"mcmc\", \"mcmc_results_akpr_i.h5\")\n",
    "tcr_analysis_file = os.path.join(\"..\", \"results\", \"mcmc\", \"mcmc_analysis_akpr_i.json\")\n",
    "tcr_loads = load_tcr_tcr_akpr_fits(tcr_results_file, tcr_analysis_file)\n",
    "# params: phi, kappa, cmthresh, S0p, kp, psi0, gamma_tt\n",
    "# Then, [N, m, f] and I_tot\n",
    "tcr_params, tcr_nmf, tcr_itot = tcr_loads\n",
    "\n",
    "# Choose tau, and use experimentally calibrated L for CD19\n",
    "cd19_tau_l = (500.0, cd19_number)\n",
    "\n",
    "phi_car = tcr_params[0]*0.005   # phi < 100x slower for CAR than TCR, as suggested in Harris, 2018\n",
    "fcmin = df_data.min()\n",
    "# psi0_factor = psi0*tau / (psi0*tau + 1) = FC_min * phi_factor\n",
    "# Invert: psi0 = psi0_factor / (1 - psi0_factor)\n",
    "psi0_factor_car = fcmin * phi_car / (1.0 + phi_car*cd19_tau_l[0])\n",
    "psi0_car = psi0_factor_car / (1.0 - psi0_factor_car*cd19_tau_l[0])\n",
    "\n",
    "# And then smaller, so cmthresh is not pushed too high\n",
    "# and there can still be antagonism at high CAR antigen densities.\n",
    "psi0_car /= 3.0\n",
    "\n",
    "# Fixed parameters for CAR: phi, kappa, psi0, gamma_cc\n",
    "# Fix gamma_cc = 1.0, because s_thresh_car can compensate it.\n",
    "# Faster binding, slower phosphorylation (Harris et al., 2018)\n",
    "car_params = [\n",
    "    tcr_params[0]*0.005,   # phi 200x slower\n",
    "    tcr_params[1]*10.0,  # kappa 10x larger, so antigen's KD 100x larger\n",
    "    tcr_params[6],        # gamma_tt = gamma_cc = 1.0\n",
    "    psi0_car\n",
    "]\n",
    "# Wrapping up parameters. Fixed ones:\n",
    "# phi_tcr, kappa_tcr, cmthresh_tcr, S0p, kp, psi0, gamma_tt\n",
    "# then phi_car, kappa_car, psi0_car\n",
    "tcr_car_params = tcr_params + car_params\n",
    "\n",
    "# Total R (both types) and S: fixed. R, I of TCR, then R of CAR\n",
    "tcr_rs = [tcr_number, tcr_itot]\n",
    "tcr_car_ritots = tcr_rs + [car_number]\n",
    "\n",
    "# N, m, f for 6Y TCR and 3-ITAM CAR: fixed ones, n_tcr, m_tcr, f_tcr, n_car\n",
    "n_car = 3\n",
    "tcr_car_nmf = tcr_nmf + [n_car]\n",
    "\n",
    "# Parameter boundaries: log10 of C_m_thresh_car, I_thresh_car,\n",
    "# gamma_{TC}, gamma_{CT}, tau_c_tcr, tau_c_car\n",
    "fit_bounds = [(1, 100*tcr_car_ritots[2]), (1e-5, 1000.0*tcr_car_ritots[1])]\n",
    "fit_bounds += [(1e-4, 1e3), (1e-2, 1e4)]\n",
    "fit_bounds += [(1.0, 20.0), (5.0, 5e2)]\n",
    "# Rearrange as one array of lower, one array of upper bounds\n",
    "fit_bounds = [np.log10(np.asarray(a)) for a in zip(*fit_bounds)]"
   ]
  },
  {
   "cell_type": "code",
   "execution_count": null,
   "metadata": {},
   "outputs": [],
   "source": [
    "print(\"TCR best parameters\")\n",
    "print(\"tcr_params:\", tcr_params)\n",
    "print(\"tcr_nmf:\", tcr_nmf)\n",
    "print(\"1 nM TCR Ag =\", michaelis_menten(1e-3, *l_conc_mm_params), \"ligands\")\n",
    "print(\"1 uM TCR Ag =\", michaelis_menten(1e0, *l_conc_mm_params), \"ligands\")          \n",
    "\n",
    "# Import analysis results\n",
    "with open(os.path.join(\"..\", \"results\", \"mcmc\", \"mcmc_analysis_tcr_car_both_conc.json\"), \"r\") as h:\n",
    "    car_analysis = json.load(h)\n",
    "best_kmf, best_pvec, best_cost = find_best_grid_point(car_analysis, strat=\"best\")\n",
    "kmf_tuple = string_to_tuple(best_kmf)\n",
    "print(\"Best kmf:\", best_kmf)\n",
    "print(\"Best fit:\", 10.0**best_pvec)\n",
    "print(\"Cost:\", best_cost)"
   ]
  },
  {
   "cell_type": "code",
   "execution_count": null,
   "metadata": {},
   "outputs": [],
   "source": [
    "def plot_fit_cost_car(pvec, bounds, kmf, other_rates, rstots, nmf_fixed, cd19_tau_l, df_ratio, df_ci, mm_params, \n",
    "                     panel_fct=antag_ratio_panel_tcr_car, cost_fct=cost_antagonism_tcr_car):\n",
    "    # First, compute a model panel\n",
    "    other_args = [other_rates, rstots, nmf_fixed, cd19_tau_l]\n",
    "    df_mod = check_fit_model_antagonism(panel_fct, pvec, kmf, \n",
    "                    df_ratio, df_ci, other_args=other_args, \n",
    "                    n_taus=101, antagonist_lvl=\"TCR_Antigen\")\n",
    "    \n",
    "    # Compute the cost function too and print it\n",
    "    cost_val = cost_fct(pvec, bounds, kmf, other_rates, rstots, \n",
    "                        nmf_fixed, cd19_tau_l, df_ratio, df_ci)\n",
    "    \n",
    "    fig, ax = plot_fit_car_antagonism(df_ratio, df_mod, mm_params, df_ci, cost=cost_val, model_ci=None)\n",
    "    \n",
    "    return fig, ax"
   ]
  },
  {
   "cell_type": "markdown",
   "metadata": {},
   "source": [
    "## Best fit visualization"
   ]
  },
  {
   "cell_type": "code",
   "execution_count": null,
   "metadata": {},
   "outputs": [],
   "source": [
    "# Check the best fit from the simulations first\n",
    "df_model, cost_test = plot_fit_cost_car(best_pvec, fit_bounds, kmf_tuple, tcr_car_params, tcr_car_ritots, \n",
    "                                     tcr_car_nmf, cd19_tau_l, df_data, df_err, l_conc_mm_params)"
   ]
  },
  {
   "cell_type": "markdown",
   "metadata": {},
   "source": [
    "## Try varying the best fit parameters"
   ]
  },
  {
   "cell_type": "code",
   "execution_count": null,
   "metadata": {},
   "outputs": [],
   "source": [
    "# Try different parameters here\n",
    "# pvec: cmthresh_car, ithresh_car, gamma_tc, gamma_ct, psi0_car, tau_c_tcr, tau_c_car\n",
    "tweak_kmf_tuple = (2, 2, 2)\n",
    "tweak_pvec = np.asarray(car_analysis.get(str(tweak_kmf_tuple)).get(\"param_estimates\").get(\"MAP best\"))\n",
    "tweak_pvec[1] += 0.1  # try changing ithresh_car\n",
    "\n",
    "df_model, cost_test = plot_fit_cost_car(tweak_pvec, fit_bounds, tweak_kmf_tuple, tcr_car_params, tcr_car_ritots, \n",
    "                                     tcr_car_nmf, cd19_tau_l, df_data, df_err, l_conc_mm_params)"
   ]
  },
  {
   "cell_type": "code",
   "execution_count": null,
   "metadata": {},
   "outputs": [],
   "source": [
    "# Try changing the ligand number-pulse concentration conversion\n",
    "mm_params_alt = [1.05e5, l_conc_mm_params[1]/10.0]\n",
    "data_prep = prepare_car_antagonism_data(df, mm_params_alt,\n",
    "                pep_tau_map, cyto=\"IL-2\", do_plot=False,\n",
    "                tcr_conc=[\"1nM\", \"1uM\"], tcr_itams=\"10\", car_itams=\"3\")\n",
    "df_data_alt, df_err_alt = data_prep  # Processed antagonism data\n",
    "print(cd19_tau_l)\n",
    "cd19_tau_l_alt = (500.0, 3e4)  # 30,000 CD19\n",
    "tcr_car_ritots_alt = [3e4, 1.0, 6e4]  # [TCR number, I_tot, CAR number]\n",
    "car_kmf_alt = (1, 1, 2)\n",
    "pvec_alt = np.asarray(car_analysis.get(str(car_kmf_alt)).get(\"param_estimates\").get(\"MAP best\"))\n",
    "df_model_alt, cost_test_alt = plot_fit_cost_car(pvec_alt, \n",
    "            fit_bounds, car_kmf_alt, tcr_car_params, tcr_car_ritots_alt,  \n",
    "            tcr_car_nmf, cd19_tau_l_alt, df_data_alt, df_err_alt, mm_params_alt)"
   ]
  },
  {
   "cell_type": "markdown",
   "metadata": {},
   "source": [
    "## Importance of $\\psi_0$\n",
    "Whereas $\\psi_0^T$ does not matter much for TCR/TCR antagonism, it seems to be important to have $\\psi_0^C > 0$, although the precise value is unimportant and can be compensated for in the fits.  \n",
    "\n",
    "Setting it to zero in CAR and TCR just doesn't work, it makes antagonism too sensitive to ligand concentration and ligand quality because any small change in TCR completely changes the CAR output. Having a small constant $\\psi_0^C$ helps antagonism modulate CAR output in part, but never too drastically. This $\\psi_0^C$ is also important because it allows a large $\\gamma_{TC}$, so the TCR can positively feed back on itself by deactivating the CAR-caused inhibition of the TCR. "
   ]
  },
  {
   "cell_type": "code",
   "execution_count": null,
   "metadata": {},
   "outputs": [],
   "source": [
    "# Using an old, hardcoded fit for illustration purposes. \n",
    "# Try just setting psi_0 = 0.1 * base value, and compensating for that with other parameters\n",
    "# tcr_car_params: phi_tcr, kappa_tcr, cmthresh_tcr, S0p, kp, psi0, gamma_tt\n",
    "# then phi_car, kappa_car, psi0_car\n",
    "tcr_car_params_psi0 = np.asarray([1.61686906e-01, 1.0e-04, 1.92387094e+04, 1.06286931e-05, \n",
    "    1.0, 1.86356706e-07, 1.0, 8.08434532e-04, 1.0e-03, 1.0, 1.04089744e-05])\n",
    "tcr_car_params_psi0[-1] *= 0.1\n",
    "\n",
    "# pvec: cmthresh_car, ithresh_car, gamma_tc, gamma_ct, psi0_car, tau_c_tcr, tau_c_car\n",
    "# Compensate\n",
    "kmf_psi0 = (2, 3, 2)\n",
    "pvec_psi0 = np.asarray([4.33187832, -2.89906409, -0.38345636,  3.52120797,  0.55109948,  2.37069387])\n",
    "# Roughly compensating\n",
    "pvec_psi0[0] += -2\n",
    "pvec_psi0[1] += -3\n",
    "pvec_psi0[2] += 2\n",
    "pvec_psi0[3] += 0\n",
    "df_model, cost_test = plot_fit_cost_car(pvec_psi0, fit_bounds, kmf_psi0, tcr_car_params_psi0, tcr_car_ritots, \n",
    "                                     tcr_car_nmf, cd19_tau_l, df_data, df_err, l_conc_mm_params)\n",
    "\n",
    "# However, if psi0 = 0, we just couldn't compensate that. "
   ]
  },
  {
   "cell_type": "code",
   "execution_count": null,
   "metadata": {},
   "outputs": [],
   "source": []
  }
 ],
 "metadata": {
  "kernelspec": {
   "display_name": "Python 3 (ipykernel)",
   "language": "python",
   "name": "python3"
  },
  "language_info": {
   "codemirror_mode": {
    "name": "ipython",
    "version": 3
   },
   "file_extension": ".py",
   "mimetype": "text/x-python",
   "name": "python",
   "nbconvert_exporter": "python",
   "pygments_lexer": "ipython3",
   "version": "3.12.7"
  }
 },
 "nbformat": 4,
 "nbformat_minor": 4
}

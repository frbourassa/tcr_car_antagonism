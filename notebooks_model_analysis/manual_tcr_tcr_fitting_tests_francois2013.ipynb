{
 "cells": [
  {
   "cell_type": "markdown",
   "metadata": {},
   "source": [
    "# Parameter exploration for TCR/TCR antagonism in the classical model\n",
    "The goal is to visualize why the François et al., 2013 model works badly on TCR/TCR antagonism data, and to ensure this does not stem from coding mistakes by verifying known outputs from that 2013 paper. "
   ]
  },
  {
   "cell_type": "code",
   "execution_count": null,
   "metadata": {},
   "outputs": [],
   "source": [
    "import numpy as np\n",
    "import pandas as pd\n",
    "import matplotlib.pyplot as plt\n",
    "import seaborn as sns\n",
    "import json\n",
    "\n",
    "# Local modules\n",
    "import sys, os\n",
    "if not \"../\" in sys.path:\n",
    "    sys.path.insert(1, \"../\")\n",
    "\n",
    "from mcmc.costs_tcr_tcr_antagonism import cost_antagonism_shp1\n",
    "from mcmc.costs_tcr_tcr_antagonism import (antag_ratio_panel_shp1, steady_shp1_1ligand)\n",
    "from mcmc.mcmc_analysis import find_best_grid_point, string_to_tuple\n",
    "from mcmc.utilities_tcr_tcr_antagonism import (\n",
    "    prepare_data, \n",
    "    check_fit_model_antagonism, \n",
    "    check_model_output,\n",
    "    load_tcr_tcr_molec_numbers, \n",
    "    plot_fit_antagonism\n",
    ")\n",
    "from models.shp1_model import steady_shp1_1ligand, steady_shp1_2ligands"
   ]
  },
  {
   "cell_type": "code",
   "execution_count": null,
   "metadata": {},
   "outputs": [],
   "source": [
    "# Import data\n",
    "# Number of TCR per T cell, L-pulse conversion parameters, peptide taus\n",
    "molec_counts_fi = os.path.join(\"..\", \"data\", \"surface_counts\", \"surface_molecule_summary_stats.h5\")\n",
    "mtc = \"Geometric mean\"\n",
    "nums = load_tcr_tcr_molec_numbers(molec_counts_fi, mtc,\n",
    "                                    tcell_type=\"OT1_Naive\")\n",
    "tcr_number, l_conc_mm_params, pep_tau_map_ot1 = nums\n",
    "\n",
    "## Antagonism ratio fitting\n",
    "# Prepare data for fitting antagonism ratios\n",
    "data_file_name = os.path.join(\"..\", \"data\", \"antagonism\", \"allManualSameCellAntagonismDfs_v3.h5\")\n",
    "df = pd.read_hdf(data_file_name)\n",
    "df_data, df_err, tau_agonist = prepare_data(df, l_conc_mm_params, pep_tau_map_ot1)"
   ]
  },
  {
   "cell_type": "code",
   "execution_count": null,
   "metadata": {},
   "outputs": [],
   "source": [
    "# Set other parameters\n",
    "# Model parameters\n",
    "# Define the parameters that will remain the same throughout\n",
    "# Parameters related to the cascade of phosphorylations\n",
    "phi = 0.09\n",
    "kappa = 1e-4\n",
    "b = 0.04\n",
    "gamma = 1.2e-6\n",
    "N = 5\n",
    "R_tot = tcr_number\n",
    "I_tot = 6e5\n",
    "\n",
    "# Bounds on parameters: phi, cmthresh, I_tot\n",
    "# Use relatively tight bounds based on previous runs.\n",
    "# Use the log of parameters so the MCMC steps are even in log scale\n",
    "fit_bounds = [(0.05, 5.0), (1, 10*R_tot), (0.001*I_tot, 100*I_tot)]\n",
    "fit_bounds = [np.log10(np.asarray(a)) for a in zip(*fit_bounds)]\n",
    "\n",
    "# Wrapping up parameters\n",
    "rates_others = [b, gamma, kappa]  # k_S will be gridded over"
   ]
  },
  {
   "cell_type": "code",
   "execution_count": null,
   "metadata": {},
   "outputs": [],
   "source": [
    "# Import analysis results\n",
    "with open (os.path.join(\"..\", \"results\", \"mcmc\", \"mcmc_analysis_shp1.json\"), \"r\") as h:\n",
    "    francois2013_analysis = json.load(h)"
   ]
  },
  {
   "cell_type": "code",
   "execution_count": null,
   "metadata": {},
   "outputs": [],
   "source": [
    "best_m, best_pvec, best_cost = find_best_grid_point(francois2013_analysis, strat=\"best\")\n",
    "m_tuple = string_to_tuple(best_m)\n",
    "nm_best = [N, m_tuple[0]]\n",
    "print(\"Best kmf:\", best_m)\n",
    "print(\"Best fit:\", 10.0**best_pvec)\n",
    "print(\"Cost:\", best_cost)"
   ]
  },
  {
   "cell_type": "code",
   "execution_count": null,
   "metadata": {},
   "outputs": [],
   "source": [
    "from mcmc.plotting import data_model_handles_legend"
   ]
  },
  {
   "cell_type": "code",
   "execution_count": null,
   "metadata": {},
   "outputs": [],
   "source": [
    "def change_log_ticks(axis, base=2, which=\"y\"):\n",
    "    if which == \"y\" or which == \"both\":\n",
    "        ogyticks = axis.get_yticks()\n",
    "        newyticks = list(np.unique([int(x) for x in ogyticks]))\n",
    "        newyticklabels = [str(base)+'$^{'+str(x)+'}$' for x in newyticks]\n",
    "        axis.set_yticks(newyticks)\n",
    "        axis.set_yticklabels(newyticklabels)\n",
    "    if which == \"x\" or which == \"both\":\n",
    "        ogxticks = axis.get_xticks()\n",
    "        newxticks = list(np.unique([int(x) for x in ogxticks]))\n",
    "        newxticklabels = [str(base)+'$^{'+str(x)+'}$' for x in newxticks]\n",
    "        axis.set_xticks(newxticks)\n",
    "        axis.set_xticklabels(newxticklabels)\n",
    "    return axis\n",
    "    \n",
    "def plot_fit_cost(pvec, bounds, m_fit, other_rates, rtot, n_p, tau_ag, df_ratio, df_ci, mm_params, \n",
    "                 panel_fct=antag_ratio_panel_shp1, cost_fct=cost_antagonism_shp1):\n",
    "    # First, compute a model panel\n",
    "    other_args = [other_rates, rtot, n_p, tau_ag]\n",
    "    df_mod = check_fit_model_antagonism(panel_fct, pvec, m_fit, \n",
    "                        df_ratio, df_ci, other_args=other_args, n_taus=101)\n",
    "    \n",
    "    # Compute the cost function too and print it\n",
    "    cost_val = cost_fct(pvec, bounds, m_fit, other_rates, rtot, n_p, tau_ag, df_ratio, df_ci)\n",
    "    print(\"Cost function:\", cost_val)\n",
    "    \n",
    "    # Make a nice plot \n",
    "    fig, ax = plot_fit_antagonism(df_ratio, df_mod, mm_params, df_ci, cost=cost_val, model_ci=None)\n",
    "    \n",
    "    return fig, ax"
   ]
  },
  {
   "cell_type": "code",
   "execution_count": null,
   "metadata": {},
   "outputs": [],
   "source": [
    "def plot_model_output(expvec, other_rates, rtot, m_fit, n_p):\n",
    "    model_rates = [expvec[0]] + list(other_rates) + [expvec[1]]\n",
    "    ritot = [rtot, expvec[2]]\n",
    "    res = check_model_output(steady_shp1_1ligand, model_rates, ritot, [n_p, m_fit[0]])\n",
    "\n",
    "    l_range, tau_range, outputs = res\n",
    "    fig, ax = plt.subplots()\n",
    "    fig.set_size_inches(5.5, 4.0)\n",
    "    for i, tau in enumerate(tau_range):\n",
    "        ax.plot(l_range, outputs[i], label=r\"$\\tau = {:.0f}$ s\".format(tau))\n",
    "    ax.set(xscale=\"log\", yscale=\"log\", xlabel=r\"$L$\", ylabel=r\"$C_N$\", title=\"AKPR SHP-1 model\")\n",
    "    ax.legend(loc=\"lower right\")\n",
    "    ax.annotate(r\"Best $m$ : ${}$\".format(m_fit[0]) + \"\\n\"\n",
    "                + r\"Best $\\phi$ : \" + \"{:.2f}\\n\".format(expvec[0])\n",
    "                + r\"Best $C_{m,thresh}$ : \" + \"{:.2e}\\n\".format(expvec[1])\n",
    "                + r\"Best $S_{tot}$ :\" + \"{:.2e}\".format(expvec[2]),\n",
    "                xy=(0.05, 0.95), ha=\"left\", va=\"top\",\n",
    "                xycoords=\"axes fraction\")\n",
    "    fig.tight_layout()\n",
    "\n",
    "    plt.show()\n",
    "    plt.close()\n",
    "    return l_range, tau_range, outputs"
   ]
  },
  {
   "cell_type": "code",
   "execution_count": null,
   "metadata": {},
   "outputs": [],
   "source": [
    "# Check the best fit from the simulations first\n",
    "df_model, cost_test = plot_fit_cost(best_pvec, fit_bounds, m_tuple, rates_others, R_tot, \n",
    "                                     N, tau_agonist, df_data, df_err, l_conc_mm_params)\n",
    "\n",
    "_ = plot_model_output(10**best_pvec, rates_others, R_tot, m_tuple, N)"
   ]
  },
  {
   "cell_type": "markdown",
   "metadata": {},
   "source": [
    "What the hell is happening with this model?"
   ]
  },
  {
   "cell_type": "markdown",
   "metadata": {},
   "source": [
    "# Try manually tweaking the best fit\n",
    "To capture better the 1 nM antagonist, 10 pM agonist condition. "
   ]
  },
  {
   "cell_type": "code",
   "execution_count": null,
   "metadata": {},
   "outputs": [],
   "source": [
    "# Try kind of default parameters, see how they predict antagonism\n",
    "tweak_pvec = np.log10([0.1, 500, 6e5])\n",
    "\n",
    "df_model, cost_test = plot_fit_cost(tweak_pvec, fit_bounds, [1], rates_others, R_tot, \n",
    "                                     N, tau_agonist, df_data, df_err, l_conc_mm_params)\n",
    "\n",
    "_ = plot_model_output(10**tweak_pvec, rates_others, R_tot, [1], N)"
   ]
  },
  {
   "cell_type": "markdown",
   "metadata": {},
   "source": [
    "## Reproduce a figure from François *et al*., 2013 as a final check"
   ]
  },
  {
   "cell_type": "code",
   "execution_count": null,
   "metadata": {},
   "outputs": [],
   "source": [
    "# Reproduce a figure from François 2013 as a final check\n",
    "l1_axis = np.logspace(0, 4, 101)\n",
    "tau2_axis = [0.5, 1.0, 1.5, 2.0, 2.5]\n",
    "l2_fixed = 1e4\n",
    "tau1_fixed = 10.0\n",
    "original_rates = [0.09, 0.04, 1.2e-6, 1e-4, 500.0]\n",
    "ritots_original = [3e4, 6e5]\n",
    "nmp_original = [5, 1]\n",
    "\n",
    "# Even reusing the colors of the original PNAS 2013 figure 3C\n",
    "colors = plt.cm.jet(np.linspace(0.0, 1.0, 9))\n",
    "colors = colors[1:len(tau2_axis)+2]\n",
    "\n",
    "antagonism_curves = np.zeros([len(tau2_axis)+1, len(l1_axis)])\n",
    "for j in range(len(l1_axis)):\n",
    "    # No antagonist curve\n",
    "    antagonism_curves[0, j] = steady_shp1_1ligand(original_rates, tau1_fixed, \n",
    "                                        l1_axis[j], ritots_original, nmp_original)[nmp_original[0]]\n",
    "for i in range(1, antagonism_curves.shape[0]):\n",
    "    for j in range(antagonism_curves.shape[1]):\n",
    "        complexes = steady_shp1_2ligands(original_rates, tau1_fixed, tau2_axis[i-1],\n",
    "                             l1_axis[j], l2_fixed, ritots_original, nmp_original)\n",
    "        antagonism_curves[i, j] = complexes[nmp_original[0]] + complexes[2*nmp_original[0]+1]\n",
    "\n",
    "fig, ax = plt.subplots()\n",
    "ax.axhline(0.2, ls=\":\", color=\"grey\")\n",
    "ax.plot(l1_axis, antagonism_curves[0], label=\"No antagonist\", color=colors[0])\n",
    "for i in range(1, antagonism_curves.shape[0]):\n",
    "    ax.plot(l1_axis, antagonism_curves[i], label=r\"$\\tau = {:.1f}$ s\".format(tau2_axis[i-1]), \n",
    "           color=colors[i])\n",
    "ax.set(xscale=\"log\", yscale=\"log\", xlabel=\"L\", ylabel=r\"$C_N + D_N$\")\n",
    "\n",
    "ax.legend()\n",
    "plt.show()\n",
    "plt.close()"
   ]
  },
  {
   "cell_type": "markdown",
   "metadata": {},
   "source": [
    "So there does not seem to be anything wrong in the code. The model just cannot capture well the real shape of antagonism (at the level of cytokines, at least).  "
   ]
  }
 ],
 "metadata": {
  "kernelspec": {
   "display_name": "Python 3 (ipykernel)",
   "language": "python",
   "name": "python3"
  },
  "language_info": {
   "codemirror_mode": {
    "name": "ipython",
    "version": 3
   },
   "file_extension": ".py",
   "mimetype": "text/x-python",
   "name": "python",
   "nbconvert_exporter": "python",
   "pygments_lexer": "ipython3",
   "version": "3.12.7"
  }
 },
 "nbformat": 4,
 "nbformat_minor": 4
}

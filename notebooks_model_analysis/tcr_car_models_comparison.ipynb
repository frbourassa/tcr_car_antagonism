{
 "cells": [
  {
   "cell_type": "markdown",
   "metadata": {},
   "source": [
    "# Comparing typical antagonism curves from both models\n",
    "The point is to show that the François 2013 model produce antagonism curves very far from the data. Use hand-picked, default parameters to illustrate how different the two models' antagonism curves are. "
   ]
  },
  {
   "cell_type": "code",
   "execution_count": null,
   "metadata": {},
   "outputs": [],
   "source": [
    "import numpy as np\n",
    "import scipy as sp\n",
    "import pandas as pd\n",
    "import matplotlib.pyplot as plt\n",
    "import seaborn as sns\n",
    "import json\n",
    "import os, sys\n",
    "if \"../\" not in sys.path:\n",
    "    sys.path.insert(1, \"../\")\n",
    "\n",
    "from utils.preprocess import write_conc_uM, michaelis_menten, inverse_michaelis_menten\n",
    "from mcmc.utilities_tcr_car_antagonism import load_tcr_car_molec_numbers, prepare_car_antagonism_data\n",
    "from models.tcr_car_akpr_model import (steady_akpr_i_receptor_types, steady_akpr_i_1ligand)\n",
    "from models.tcr_car_francois2013 import (solution_francois2013_many_receptor_types, \n",
    "                            solution_francois2013_single_type, get_thresholds_francois2013)"
   ]
  },
  {
   "cell_type": "code",
   "execution_count": null,
   "metadata": {},
   "outputs": [],
   "source": [
    "do_save_plots = False\n",
    "do_save_outputs = False\n",
    "\n",
    "mcmc_folder = os.path.join(\"..\", \"results\", \"mcmc\")\n",
    "res_folder = os.path.join(\"..\", \"results\", \"for_plots\")\n",
    "fig_folder = os.path.join(\"..\", \"figures\", \"model_comparison\")"
   ]
  },
  {
   "cell_type": "code",
   "execution_count": null,
   "metadata": {},
   "outputs": [],
   "source": [
    "def activation_function(x, h, pwr=1):\n",
    "    return x**pwr / (x**pwr + h**pwr)"
   ]
  },
  {
   "cell_type": "markdown",
   "metadata": {},
   "source": [
    "## Aesthetic parameters"
   ]
  },
  {
   "cell_type": "code",
   "execution_count": null,
   "metadata": {},
   "outputs": [],
   "source": [
    "with open(os.path.join(res_folder, \"perturbations_palette.json\"), \"r\") as h:\n",
    "    perturbations_palette = json.load(h)\n",
    "sns.palplot(perturbations_palette.values())"
   ]
  },
  {
   "cell_type": "code",
   "execution_count": null,
   "metadata": {},
   "outputs": [],
   "source": [
    "def change_log_ticks(axis, base=2, which=\"y\"):\n",
    "    if which == \"y\" or which == \"both\":\n",
    "        ogyticks = axis.get_yticks()\n",
    "        newyticks = list(np.unique([int(x) for x in ogyticks]))\n",
    "        newyticklabels = [str(base)+'$^{'+str(x)+'}$' for x in newyticks]\n",
    "        axis.set_yticks(newyticks)\n",
    "        axis.set_yticklabels(newyticklabels)\n",
    "    if which == \"x\" or which == \"both\":\n",
    "        ogxticks = axis.get_xticks()\n",
    "        newxticks = list(np.unique([int(x) for x in ogxticks]))\n",
    "        newxticklabels = [str(base)+'$^{'+str(x)+'}$' for x in newxticks]\n",
    "        axis.set_xticks(newxticks)\n",
    "        axis.set_xticklabels(newxticklabels)\n",
    "    return axis"
   ]
  },
  {
   "cell_type": "markdown",
   "metadata": {},
   "source": [
    "## Import external parameters: receptors and ligand numbers"
   ]
  },
  {
   "cell_type": "code",
   "execution_count": null,
   "metadata": {},
   "outputs": [],
   "source": [
    "# Number of TCR and CAR per T cell, CD19 per tumor, pulse KD, peptide taus\n",
    "molec_counts_fi = os.path.join(\"..\", \"data\", \n",
    "    \"surface_counts\", \"surface_molecule_summary_stats.h5\")\n",
    "mtc = \"Geometric mean\"\n",
    "res = load_tcr_car_molec_numbers(molec_counts_fi, mtc, tcell_type=\"OT1_CAR\", data_fold=\"../data/\")\n",
    "tcr_number, car_number, cd19_number = res[:3]\n",
    "l_conc_mm_params, pep_tau_map = res[3:]"
   ]
  },
  {
   "cell_type": "code",
   "execution_count": null,
   "metadata": {},
   "outputs": [],
   "source": [
    "def reverse_mm_fitted(x):\n",
    "    return inverse_michaelis_menten(x, *l_conc_mm_params)"
   ]
  },
  {
   "cell_type": "markdown",
   "metadata": {},
   "source": [
    "## Import and preprocess CAR-TCR antagonism data\n",
    "Goal: have antagonism ratio at 1 nM and 1 uM TCR antigen density. "
   ]
  },
  {
   "cell_type": "code",
   "execution_count": null,
   "metadata": {},
   "outputs": [],
   "source": [
    "data_file_name = os.path.join(\"..\", \"data\", \"antagonism\", \"combined_OT1-CAR_antagonism.hdf\")\n",
    "data_f = pd.read_hdf(data_file_name)\n",
    "chosen_fit_conc = \"1uM\"\n",
    "data_prep = prepare_car_antagonism_data(data_f, l_conc_mm_params,\n",
    "                pep_tau_map, cyto=\"IL-2\", do_plot=False, dropn4=False,\n",
    "                tcr_conc=[\"1uM\", \"1nM\"], tcr_itams=\"10\", car_itams=\"3\", data_fold=\"data/\")\n",
    "df_ratios, df_ci_log2 = data_prep"
   ]
  },
  {
   "cell_type": "markdown",
   "metadata": {},
   "source": [
    "# Extended François 2013 model with CARs and TCRs\n",
    "The two types of receptors have different ligands, but they are coupled through the protein mediating the negative feedback. \n",
    "\n",
    "Here I am not going to reuse the extended model I had up to September 2022, because that one contained some ideas now in the new model, such as a negative feedback asymmetry between CAR and TCR, and sub-species $I^C$ and $I^T$. In fact, it's not really the François 2013 model anymore. Here, I really want to show that the original François 2013 model, minimally extended to CARs, does not work, and we need supplementary tweaks. The \"best\" extended François 2013 model with asymmetric $I$ is archived. For clarity, when cleaning up the final paper repository, remove the François 2013 model with asymmetric feedback. \n",
    "\n",
    "Also, no reference to my model in Gaud et al. 2022: this was complicated, with multiple normalized $C_n$s entering the output, to explain the 6Y-6F difference. Again, not what we want to focus on here. \n",
    "\n",
    "\n",
    "### Total output\n",
    "Simply the sum of the TCR and CAR outputs, which could represent the total active ZAP-70 bound to either kind of receptor in the T cell:\n",
    "\n",
    "$$ Z_{tot} = Z_{CAR} + Z_{TCR} $$"
   ]
  },
  {
   "cell_type": "markdown",
   "metadata": {},
   "source": [
    "## Negative feedback asymmetry between CAR and TCR\n",
    "I am not adding this in yet in the model, however, each receptor can be dephosphorylated by $I$ with a different rate $\\gamma^i$. \n",
    "\n"
   ]
  },
  {
   "cell_type": "code",
   "execution_count": null,
   "metadata": {},
   "outputs": [],
   "source": [
    "# Define model rates\n",
    "f2013_rates = [\n",
    "    np.asarray([0.1, 0.001]),     # phi\n",
    "    np.asarray([0.04, 0.0004]),    # b\n",
    "    np.asarray([1.2e-6, 2e-7]),  # gamma\n",
    "    np.asarray([1e-4, 1e-3])     # kappa\n",
    "]\n",
    "f2013_rsp = np.asarray([tcr_number, car_number])\n",
    "f2013_iparams = [6e5, np.asarray([1000, car_number*100])]  # CAR very poor at activating I\n",
    "f2013_nparams = [\n",
    "    np.asarray([6, 3]), \n",
    "    np.asarray([3, 1])\n",
    "]\n",
    "f2013_tau_crits = [10.0, 700.0]\n",
    "cd19_l_tau = [cd19_number, 500.0]"
   ]
  },
  {
   "cell_type": "markdown",
   "metadata": {},
   "source": [
    "## Check model outputs of TCR and CAR separately"
   ]
  },
  {
   "cell_type": "code",
   "execution_count": null,
   "metadata": {},
   "outputs": [],
   "source": [
    "tcr_rates = [a[0] for a in f2013_rates]\n",
    "tcr_ip = [f2013_iparams[0], f2013_iparams[1][0]]\n",
    "tcr_np = [a[0] for a in f2013_nparams]\n",
    "\n",
    "car_rates = [a[1] for a in f2013_rates]\n",
    "car_ip = [f2013_iparams[0], f2013_iparams[1][1]]\n",
    "car_np = [a[1] for a in f2013_nparams]\n",
    "\n",
    "l_range_tcr = np.logspace(0, 6, 101)\n",
    "tau_range_tcr = np.asarray([1, 3, 5, 7, 9], dtype=np.float64)\n",
    "l_range_car = np.logspace(1, 7, 101)\n",
    "tau_range_car = tau_range_tcr * 100.0\n",
    "\n",
    "# (ratep, taup, Lp, Rp, iparams, nparams, precision=1e-6\n",
    "car_outputs = np.zeros([tau_range_car.size, l_range_car.size])\n",
    "tcr_outputs = np.zeros([tau_range_tcr.size, l_range_tcr.size])\n",
    "for i in range(len(tau_range_tcr)):\n",
    "    for j in range(len(l_range_tcr)):\n",
    "        complexes = solution_francois2013_single_type(tcr_rates, tau_range_tcr[i], l_range_tcr[j], \n",
    "                                                  f2013_rsp[0], tcr_ip, tcr_np)\n",
    "        tcr_outputs[i, j] = complexes[-2]\n",
    "        complexes = solution_francois2013_single_type(car_rates, tau_range_car[i], l_range_car[j], \n",
    "                                                  f2013_rsp[1], car_ip, car_np)\n",
    "        car_outputs[i, j] = complexes[-2]\n",
    "\n",
    "fig, axes = plt.subplots(1, 2)\n",
    "axes = axes.flatten()\n",
    "fig.set_size_inches(9, 3.5)\n",
    "for i in range(len(tau_range_tcr)):\n",
    "    axes[0].plot(l_range_tcr, tcr_outputs[i], label=tau_range_tcr[i])\n",
    "    axes[1].plot(l_range_car, car_outputs[i], label=tau_range_car[i])\n",
    "axes[0].set(xlabel=r\"TCR antigen $L$\", ylabel=\"Output\", xscale=\"log\", yscale=\"log\")\n",
    "axes[1].set(xlabel=r\"CAR antigen $L$\", ylabel=\"Output\", xscale=\"log\", yscale=\"log\")\n",
    "axes[0].legend(title=r\"$\\tau$\")\n",
    "axes[1].legend(title=r\"$\\tau$\")\n",
    "fig.tight_layout()\n",
    "plt.show()\n",
    "plt.close()"
   ]
  },
  {
   "cell_type": "markdown",
   "metadata": {},
   "source": [
    "## Compute antagonism ratio"
   ]
  },
  {
   "cell_type": "code",
   "execution_count": null,
   "metadata": {},
   "outputs": [],
   "source": [
    "# Compute antagonism ratio curves for a few different L_TCR, as a function of tau_TCR\n",
    "def francois2013_antag_panel(ratesp, l_tau_car, Rsp, iparams, nparams, \n",
    "                mm_params, tau_cs, tcr_tau_max=10.0, tcr_conc_select=[1.0, 1e-3]):  # tcr_conc in uM\n",
    "    # Prepare tcr l and tau (x axis and lines in plots)\n",
    "    tcr_tau_range = np.linspace(0.001, tcr_tau_max, 101)\n",
    "    tcr_l_select = np.asarray([michaelis_menten(a, *mm_params) for a in tcr_conc_select])\n",
    "    #tcr_l_select = np.asarray([60000, 6000, 600], dtype=np.float64)\n",
    "    \n",
    "    # Compute thresholds\n",
    "    tcr_car_threshs = get_thresholds_francois2013(ratesp, tau_cs, Rsp, iparams, nparams)\n",
    "    # Compute CAR alone \n",
    "    car_rates = [a[1] for a in ratesp]\n",
    "    car_ip = [iparams[0], iparams[1][1]]\n",
    "    car_np = [a[1] for a in nparams]\n",
    "    # (ratep, taup, Lp, Rp, iparams, nparams, precision=1e-6\n",
    "    car_alone = solution_francois2013_single_type(car_rates, l_tau_car[1], l_tau_car[0], \n",
    "                                                  Rsp[1], car_ip, car_np)[car_np[0]]\n",
    "    car_alone = activation_function(car_alone, tcr_car_threshs[1], pwr=1)\n",
    "    # For each choice of condition, compute antagonism ratio\n",
    "    ratios = np.zeros([tcr_l_select.size, tcr_tau_range.size])\n",
    "    for i in range(tcr_l_select.size):\n",
    "        lvec = np.asarray([tcr_l_select[i], l_tau_car[0]])\n",
    "        for j in range(tcr_tau_range.size):\n",
    "            tauvec = np.asarray([tcr_tau_range[j], l_tau_car[1]])\n",
    "            #solution_francois2013_many_receptor_types(ratesp, tausp, Lsp, Rsp, iparams, nparams, precision=1e-6)\n",
    "            complexes = solution_francois2013_many_receptor_types(ratesp, tauvec, lvec, Rsp, iparams, nparams)\n",
    "            ztcr = activation_function(complexes[0][-1], tcr_car_threshs[0], pwr=1)\n",
    "            zcar = activation_function(complexes[1][-1], tcr_car_threshs[1], pwr=1)\n",
    "            ratios[i, j] = (ztcr + zcar) / car_alone\n",
    "    return tcr_l_select, tcr_conc_select, tcr_tau_range, ratios"
   ]
  },
  {
   "cell_type": "code",
   "execution_count": null,
   "metadata": {},
   "outputs": [],
   "source": [
    "res = francois2013_antag_panel(f2013_rates, cd19_l_tau, f2013_rsp, f2013_iparams, \n",
    "        f2013_nparams, l_conc_mm_params, f2013_tau_crits)\n",
    "l_range, pulse_range, tau_range, model_ratios = res"
   ]
  },
  {
   "cell_type": "code",
   "execution_count": null,
   "metadata": {},
   "outputs": [],
   "source": [
    "fig, ax = plt.subplots()\n",
    "fig.set_size_inches(2.5, 2.5)\n",
    "palet = {\"1uM\":(0., 0., 0., 1.), \"1nM\": perturbations_palette[\"AgDens\"]}\n",
    "#palet = sns.dark_palette(perturbations_palette[\"AgDens\"], n_colors=len(pulse_range))[::-1]\n",
    "for i in range(len(l_range)):\n",
    "    conc_lbl = write_conc_uM(pulse_range[i])\n",
    "    ax.plot(tau_range, model_ratios[i], label=conc_lbl, color=palet[conc_lbl])\n",
    "ax.set(xlabel=r\"TCR antigen model $\\tau$ (s)\", ylabel=r\"FC$_{TCR \\rightarrow CAR}$\")\n",
    "ax.set_yscale(\"log\", base=2)\n",
    "ax.axhline(1.0, ls=\"--\", color=\"grey\", lw=1.0)\n",
    "ax.legend(title=r\"TCR Ag Density\", frameon=False, borderaxespad=0.1,)\n",
    "for side in [\"top\", \"right\"]:\n",
    "    ax.spines[side].set_visible(False)\n",
    "fig.tight_layout()\n",
    "if do_save_plots:\n",
    "    fig.savefig(os.path.join(fig_folder, \"francois2013_tcr_car_typical_antagonism.pdf\"), \n",
    "               transparent=True, bbox_inches=\"tight\")\n",
    "plt.show()\n",
    "plt.close()"
   ]
  },
  {
   "cell_type": "code",
   "execution_count": null,
   "metadata": {},
   "outputs": [],
   "source": [
    "## Saving to disk for plotting elsewhere\n",
    "# Compute more intermediate TCR Ag densities\n",
    "illustrated_tcr_pulse_concs = np.logspace(-3, 0.0, 4)\n",
    "\n",
    "res = francois2013_antag_panel(f2013_rates, cd19_l_tau, f2013_rsp, f2013_iparams, \n",
    "        f2013_nparams, l_conc_mm_params, f2013_tau_crits, tcr_conc_select=illustrated_tcr_pulse_concs)\n",
    "l_range, pulse_range, tau_range, model_ratios = res\n",
    "\n",
    "df_model = pd.DataFrame(model_ratios, \n",
    "             index=pd.MultiIndex.from_arrays([pulse_range, l_range], names=[\"pulse_concentration\", \"L\"]), \n",
    "             columns=pd.Index(tau_range, name=\"tau\"))\n",
    "\n",
    "# Write these model curves to disk for plotting elsewhere\n",
    "typical_curves_file = os.path.join(res_folder, \"typical_tcr_car_model_curves.h5\")\n",
    "if do_save_outputs:\n",
    "    df_model.to_hdf(typical_curves_file,  key=\"francois2013\")"
   ]
  },
  {
   "cell_type": "markdown",
   "metadata": {},
   "source": [
    "### Remark\n",
    "The Francois 2013 model has some rightwards shift of the antagonism curve when the TCR antigen density is decreased, but the amplitude of antagonism depends on that parameter too strongly. "
   ]
  },
  {
   "cell_type": "code",
   "execution_count": null,
   "metadata": {},
   "outputs": [],
   "source": [
    "# Wrapper around solution_francois2013_receptor_types, to be minimized wrt tau_t\n",
    "def log_total_output_francois2013(taut, lt, ratesp, cd19, rsp, iparams, nparams, tc_threshs):\n",
    "    tauvec = np.asarray([taut, cd19[1]])\n",
    "    lvec = np.asarray([lt, cd19[0]])\n",
    "    complexes = solution_francois2013_many_receptor_types(ratesp, tauvec, lvec, \n",
    "                                        rsp, iparams, nparams)\n",
    "    ztot = activation_function(complexes[0][-1], tc_threshs[0], pwr=1)\n",
    "    ztot += activation_function(complexes[1][-1], tc_threshs[1], pwr=1)\n",
    "    return np.log10(ztot)\n",
    "\n",
    "def log_ilevel_francois2013(taut, lt, ratesp, cd19, rsp, iparams, nparams, tc_threshs):\n",
    "    tauvec = np.asarray([taut, cd19[1]])\n",
    "    lvec = np.asarray([lt, cd19[0]])\n",
    "    complexes = solution_francois2013_many_receptor_types(ratesp, tauvec, lvec, \n",
    "                                        rsp, iparams, nparams)\n",
    "    return np.log10(complexes[-1])\n",
    "\n",
    "# Compute max antagonism amplitude and tau as a function of L^T, show it's nothing like data\n",
    "def find_max_antagonism(lt, *output_args):\n",
    "    # Find minimum tau\n",
    "    res = sp.optimize.minimize_scalar(log_total_output_francois2013, \n",
    "                    bracket=[1e-6, 1.0, 20.0], bounds=[1e-6, 20.0],\n",
    "                    args=(lt, *output_args))\n",
    "    best_antag_tau = res.x\n",
    "    \n",
    "    # Compute antagonism amplitude at that tau\n",
    "    output_at_max = 10.0**log_total_output_francois2013(best_antag_tau, lt, *output_args)\n",
    "    \n",
    "    # Also compute I at the max antagonism\n",
    "    i_at_max = 10.0**log_ilevel_francois2013(best_antag_tau, lt, *output_args)\n",
    "    \n",
    "    # Take care of dividing by agonist alone outside of this function\n",
    "    return best_antag_tau, output_at_max, i_at_max"
   ]
  },
  {
   "cell_type": "code",
   "execution_count": null,
   "metadata": {},
   "outputs": [],
   "source": [
    "def francois2013_max_antagonism_curves(ratesp, l_tau_car, Rsp, iparams, nparams, mm_params, tau_cs):\n",
    "    # Agonist alone and thresholds\n",
    "    # Compute thresholds\n",
    "    tcr_car_threshs = get_thresholds_francois2013(ratesp, tau_cs, Rsp, iparams, nparams)\n",
    "    # Compute CAR alone \n",
    "    car_rates = [a[1] for a in ratesp]\n",
    "    car_ip = [iparams[0], iparams[1][1]]\n",
    "    car_np = [a[1] for a in nparams]\n",
    "    # (ratep, taup, Lp, Rp, iparams, nparams, precision=1e-6\n",
    "    car_alone = solution_francois2013_single_type(car_rates, l_tau_car[1], l_tau_car[0], \n",
    "                                                  Rsp[1], car_ip, car_np)[car_np[0]]\n",
    "    car_alone = activation_function(car_alone, tcr_car_threshs[1], pwr=1)\n",
    "    \n",
    "    pulse_conc_range = np.logspace(0.0, -4.0, 101)\n",
    "    ltrange = [michaelis_menten(l, *mm_params) for l in pulse_conc_range]\n",
    "    min_taus, min_outputs, min_ilvls = [], [], []\n",
    "   \n",
    "    for l in ltrange:\n",
    "        res = find_max_antagonism(l, ratesp, l_tau_car, Rsp, iparams, nparams, tcr_car_threshs)\n",
    "        min_taus.append(res[0])\n",
    "        min_outputs.append(res[1] / car_alone)\n",
    "        min_ilvls.append(res[2])\n",
    "    \n",
    "    min_taus = np.asarray(min_taus)\n",
    "    min_outputs = np.asarray(min_outputs)\n",
    "    min_ilvls = np.asarray(min_ilvls)\n",
    "    \n",
    "    print(\"Finished computing the optimum curves\")\n",
    "    \n",
    "    fig, axes = plt.subplots(3, sharex=True, sharey=False)\n",
    "    x = pulse_conc_range\n",
    "    axes[0].plot(x, min_taus)\n",
    "    axes[1].plot(x, min_outputs)\n",
    "    axes[2].plot(x, min_ilvls)\n",
    "    #axes[0].plot(ltrange, min_taus)\n",
    "    #axes[1].plot(ltrange, min_outputs)\n",
    "    axes[0].set(ylabel=r\"Best antagonist $\\tau$\", xscale=\"log\")\n",
    "    axes[1].set(ylabel=\"Maximal antagonism\", xscale=\"log\")\n",
    "    axes[1].set_yscale(\"log\", base=2)\n",
    "    axes[2].set(ylabel=\"I at optimum\", xscale=\"log\", yscale=\"log\", xlabel=r\"TCR Antigen Density ($\\mu$M)\")\n",
    "    fig.tight_layout()\n",
    "    return pulse_conc_range, ltrange, min_taus, min_outputs, [fig, axes]"
   ]
  },
  {
   "cell_type": "code",
   "execution_count": null,
   "metadata": {},
   "outputs": [],
   "source": [
    "res_ = francois2013_max_antagonism_curves(f2013_rates, cd19_l_tau, f2013_rsp, f2013_iparams, \n",
    "                                                    f2013_nparams, l_conc_mm_params, f2013_tau_crits)\n",
    "pulse_conc_range, ltrange, min_taus, min_outputs, figaxes = res_\n",
    "plt.show()\n",
    "plt.close()"
   ]
  },
  {
   "cell_type": "code",
   "execution_count": null,
   "metadata": {},
   "outputs": [],
   "source": [
    "# Compare scaling of max antagonism and peak position to data for 1 nM and 1 uM antagonists\n",
    "most_antagonism_data = (df_ratios.groupby(\"TCR_Antigen_Density\").min()\n",
    "                        .rename(reverse_mm_fitted, axis=0, level=\"TCR_Antigen_Density\"))\n",
    "most_antagonism_peptides = (df_ratios.groupby(\"TCR_Antigen_Density\").idxmin()\n",
    "                        .rename(reverse_mm_fitted, axis=0, level=\"TCR_Antigen_Density\")\n",
    "                        .rename(write_conc_uM, axis=0, level=\"TCR_Antigen_Density\"))\n",
    "most_antagonism_ci = (df_ci_log2.loc[most_antagonism_peptides]\n",
    "                        .rename(reverse_mm_fitted, axis=0, level=\"TCR_Antigen_Density\")\n",
    "                        .droplevel(\"TCR_Antigen\"))\n",
    "\n",
    "# Plotting in log scale, changing y ticks labels later\n",
    "fig, ax = plt.subplots()\n",
    "fig.set_size_inches(2.5, 2.5)\n",
    "ax.axhline(0.0, ls=\"--\", color=\"grey\", lw=1.0)\n",
    "palet = {\"1uM\":(0., 0., 0., 1.), \"1nM\": perturbations_palette[\"AgDens\"]}\n",
    "markers = {\"1uM\": \"o\", \"1nM\": \"s\"}\n",
    "# Francois 2013 model\n",
    "ax.plot(pulse_conc_range, np.log2(min_outputs), label=\"Model\", color=\"k\")\n",
    "# Data\n",
    "for i, conc in enumerate(most_antagonism_data.index):\n",
    "    conc_lbl = write_conc_uM(conc)\n",
    "    clr = palet.get(conc_lbl)\n",
    "    lbl = \"Data \" + conc_lbl\n",
    "    ax.errorbar(conc, np.log2(most_antagonism_data.loc[conc]), yerr=most_antagonism_ci.loc[conc], \n",
    "               ls=\"none\", marker=markers.get(conc_lbl), mfc=clr, mec=clr, ms=6, label=lbl, \n",
    "               color=clr)\n",
    "\n",
    "conc_lbl = r\"TCR Ag Density ($\\mu$M)\"\n",
    "ax.set(xlabel=conc_lbl, ylabel=r\"Peak antagonism FC$_{TCR \\rightarrow CAR}$\", xscale=\"log\")\n",
    "change_log_ticks(ax, base=2, which=\"y\")\n",
    "ax.set_ylim([ax.get_ylim()[0], 0.2])\n",
    "ax.legend(frameon=False, borderaxespad=0.1, fontsize=9)\n",
    "for side in [\"top\", \"right\"]:\n",
    "    ax.spines[side].set_visible(False)\n",
    "fig.tight_layout()\n",
    "if do_save_plots:\n",
    "    fig.savefig(os.path.join(fig_folder, \"francois2013_tcr_car_peak_antagonism.pdf\"), \n",
    "               transparent=True, bbox_inches=\"tight\")\n",
    "plt.show()\n",
    "plt.close()"
   ]
  },
  {
   "cell_type": "code",
   "execution_count": null,
   "metadata": {},
   "outputs": [],
   "source": [
    "# Concatenate some stuff for simplicity\n",
    "# Get the tau of the most antagonizing peptide now that we have sliced with it\n",
    "peak_peptide = most_antagonism_peptides.map(lambda x: x[1])\n",
    "peak_peptide.name = \"tau\"\n",
    "# Rename concentrations in data and ci now that we have sliced them\n",
    "peak_amplitude = most_antagonism_data.rename(write_conc_uM, axis=0, level=\"TCR_Antigen_Density\")\n",
    "peak_amplitude_ci = most_antagonism_ci.rename(write_conc_uM, axis=0, level=\"TCR_Antigen_Density\")\n",
    "\n",
    "peak_info_data = pd.concat({\n",
    "    \"amplitude\": peak_amplitude, \n",
    "    \"amplitude_CI\": peak_amplitude_ci, \n",
    "    \"peptide\": peak_peptide\n",
    "    }, names=[\"measurement\"], axis=1\n",
    ")\n",
    "# pulse_conc_range, ltrange, min_taus, min_outputs,\n",
    "peak_info_model = pd.DataFrame(\n",
    "    np.stack([min_outputs, min_taus], axis=1), \n",
    "    index=pd.MultiIndex.from_arrays([pulse_conc_range, ltrange], \n",
    "        names=[\"pulse_concentration\", \"L\"]), \n",
    "    columns=pd.Index([\"amplitude\", \"tau\"], name=\"measurement\")\n",
    ")\n",
    "\n",
    "# Save to disk\n",
    "filename_most_antagonism = os.path.join(res_folder, \"peak_antagonism_tcr_car.h5\")\n",
    "if do_save_outputs:\n",
    "    peak_info_data.to_hdf(filename_most_antagonism, key=\"data\")\n",
    "    peak_info_model.to_hdf(filename_most_antagonism, key=\"model_francois2013\")"
   ]
  },
  {
   "cell_type": "markdown",
   "metadata": {},
   "source": [
    "# Improved AKPR model\n",
    "\n",
    "Make the same kind of diagram for reasonable parameter values. Hopefully, it shows that the peak antagonism does shift with TCR antigen density, while the amplitude of the peak does not. "
   ]
  },
  {
   "cell_type": "code",
   "execution_count": null,
   "metadata": {},
   "outputs": [],
   "source": [
    "def split_tcr_car_params_revised(all_rates, ritot, nparams):\n",
    "    \"\"\" \n",
    "    Args:\n",
    "        all_rates: list of arrays of parameters, ordered\n",
    "            phi_arr, kappa_arr, cmthresh, ithresh_arr,  k_arr, gamma_mat, psi_arr]\n",
    "        ri_tots: [[R_TCR, R_CAR], I_tot]\n",
    "        nparams: [Ns, ms, fs]\n",
    "    \"\"\"\n",
    "    psi0_arr = all_rates[-1]\n",
    "    tcr_rates = tuple(p[0] for p in all_rates[:5]) + (psi0_arr[0],)\n",
    "    car_rates = tuple(p[1] for p in all_rates[:5]) + (psi0_arr[1],)\n",
    "\n",
    "    # R, I params and n, m, f params\n",
    "    tcr_ri = (ritot[0][0], ritot[1])\n",
    "    car_ri = (ritot[0][1], ritot[1])\n",
    "    tcr_nmf = tuple(p[0] for p in nparams)\n",
    "    car_nmf = tuple(p[1] for p in nparams)\n",
    "    return tcr_rates, car_rates, tcr_ri, car_ri, tcr_nmf, car_nmf\n",
    "\n",
    "def get_thresholds_revised_akpr(all_rates, taucs, ritot, nparams):\n",
    "    \"\"\" Compute the thresholds on TCR and CAR, given combined parameters \"\"\"\n",
    "    res = split_tcr_car_params_revised(all_rates, ritot, nparams)\n",
    "    tcr_rates, car_rates, tcr_ri, car_ri, tcr_nmf, car_nmf = res\n",
    "    tcr_thresh = steady_akpr_i_1ligand(tcr_rates, taucs[0], tcr_ri[0]*10.0, \n",
    "                                       tcr_ri, tcr_nmf, large_l=True)[tcr_nmf[0]]\n",
    "    car_thresh = steady_akpr_i_1ligand(car_rates, taucs[1], car_ri[0]*10.0, \n",
    "                                       car_ri, car_nmf, large_l=True)[car_nmf[0]]\n",
    "    return tcr_thresh, car_thresh"
   ]
  },
  {
   "cell_type": "code",
   "execution_count": null,
   "metadata": {},
   "outputs": [],
   "source": [
    "# Compute antagonism ratio curves for a few different L_TCR, as a function of tau_TCR\n",
    "def revised_akpr_antag_panel(ratesp, l_tau_car, ri_tots, nparams, mm_params, tau_cs, tcr_tau_max=10.0, \n",
    "                            tcr_conc_select=[1.0, 1e-3]):  # in uM\n",
    "    # Prepare tcr l and tau (x axis and lines in plots)\n",
    "    tcr_tau_range = np.linspace(0.001, tcr_tau_max, 101)\n",
    "    tcr_l_select = np.asarray([michaelis_menten(a, *mm_params) for a in tcr_conc_select])\n",
    "    #tcr_l_select = np.asarray([60000, 6000, 600], dtype=np.float64)\n",
    "    \n",
    "    # Compute thresholds\n",
    "    tcr_car_threshs = get_thresholds_revised_akpr(ratesp, tau_cs, ri_tots, nparams)\n",
    "    \n",
    "    # Compute CAR alone \n",
    "    res = split_tcr_car_params_revised(ratesp, ri_tots, nparams)\n",
    "    _, car_rates, _, car_ri, _, car_nmf = res\n",
    "    car_alone = steady_akpr_i_1ligand(car_rates, l_tau_car[1], l_tau_car[0], \n",
    "                                                  car_ri, car_nmf)[car_nmf[0]]\n",
    "    car_alone = activation_function(car_alone, tcr_car_threshs[1], pwr=2)\n",
    "    # For each choice of condition, compute antagonism ratio\n",
    "    ratios = np.zeros([tcr_l_select.size, tcr_tau_range.size])\n",
    "    for i in range(tcr_l_select.size):\n",
    "        lvec = np.asarray([tcr_l_select[i], l_tau_car[0]])\n",
    "        for j in range(tcr_tau_range.size):\n",
    "            tauvec = np.asarray([tcr_tau_range[j], l_tau_car[1]])\n",
    "            #solution_francois2013_many_receptor_types(ratesp, tausp, Lsp, Rsp, iparams, nparams, precision=1e-6)\n",
    "            complexes = steady_akpr_i_receptor_types(ratesp, tauvec, lvec, ri_tots, nparams)\n",
    "            ztcr = activation_function(complexes[0][-1], tcr_car_threshs[0], pwr=2)\n",
    "            zcar = activation_function(complexes[1][-1], tcr_car_threshs[1], pwr=2)\n",
    "            ratios[i, j] = (ztcr + zcar) / car_alone\n",
    "    return tcr_l_select, tcr_conc_select, tcr_tau_range, ratios"
   ]
  },
  {
   "cell_type": "markdown",
   "metadata": {},
   "source": [
    "### Typical curves"
   ]
  },
  {
   "cell_type": "code",
   "execution_count": null,
   "metadata": {},
   "outputs": [],
   "source": [
    "# Define model rates\n",
    "akpr_rates = [ #phi_arr, kappa_arr, cmthresh, ithresh_arr,  k_arr, gamma_mat, psi_arr\n",
    "    np.asarray([0.1, 0.001]),     # phis\n",
    "    np.asarray([1e-4, 1e-3]),     # kappas\n",
    "    np.asarray([1000.0, 7e5]),    # cmthreshs\n",
    "    np.asarray([1e-5, 5e-4]),     # ithreshs\n",
    "    np.asarray([1, 1]),           # k_Is\n",
    "    np.asarray([[1.0, 0.1], [100.0, 1.0]]),  # gamma_mat\n",
    "    np.asarray([1e-6, 5e-5])      # psi_0s\n",
    "]\n",
    "akpr_rip = [np.asarray([tcr_number, car_number]), 1.0]\n",
    "akpr_nmfs = [\n",
    "    np.asarray([6, 3]),  # N\n",
    "    np.asarray([4, 2]),  # m\n",
    "    np.asarray([1, 1])\n",
    "]\n",
    "akpr_tau_crits = [6.0, 400.0]"
   ]
  },
  {
   "cell_type": "code",
   "execution_count": null,
   "metadata": {},
   "outputs": [],
   "source": [
    "l_range_akpr, pulse_range_akpr, tau_range_akpr, model_ratios_akpr = revised_akpr_antag_panel(\n",
    "                                                    akpr_rates, cd19_l_tau, akpr_rip, akpr_nmfs, \n",
    "                                                    l_conc_mm_params, akpr_tau_crits)"
   ]
  },
  {
   "cell_type": "code",
   "execution_count": null,
   "metadata": {},
   "outputs": [],
   "source": [
    "fig, ax = plt.subplots()\n",
    "fig.set_size_inches(2.5, 2.5)\n",
    "palet = {\"1uM\":(0., 0., 0., 1.), \"1nM\": perturbations_palette[\"AgDens\"]}\n",
    "for i in range(len(l_range_akpr)):\n",
    "    conc_lbl = write_conc_uM(pulse_range_akpr[i])\n",
    "    ax.plot(tau_range_akpr, model_ratios_akpr[i], label=conc_lbl, color=palet[conc_lbl])\n",
    "ax.set(xlabel=r\"TCR antigen model $\\tau$ (s)\", ylabel=r\"FC$_{TCR \\rightarrow CAR}$\")\n",
    "ax.set_yscale(\"log\", base=2)\n",
    "ax.axhline(1.0, ls=\"--\", color=\"grey\", lw=1.0)\n",
    "ax.legend(title=r\"TCR Ag Density\", frameon=False, borderaxespad=0.1, handlelength=1.5)\n",
    "for side in [\"top\", \"right\"]:\n",
    "    ax.spines[side].set_visible(False)\n",
    "fig.tight_layout()\n",
    "if do_save_plots:\n",
    "    fig.savefig(os.path.join(fig_folder, \"revised_akpr_tcr_car_typical_antagonism.pdf\"), \n",
    "               transparent=True, bbox_inches=\"tight\")\n",
    "plt.show()\n",
    "plt.close()"
   ]
  },
  {
   "cell_type": "code",
   "execution_count": null,
   "metadata": {},
   "outputs": [],
   "source": [
    "## Saving to disk for plotting elsewhere\n",
    "# Compute more intermediate TCR Ag densities\n",
    "#illustrated_tcr_pulse_concs = np.logspace(-3, 0.0, 4)  # Same as other model\n",
    "\n",
    "res = revised_akpr_antag_panel(akpr_rates, cd19_l_tau, akpr_rip, akpr_nmfs, \n",
    "            l_conc_mm_params, akpr_tau_crits, tcr_conc_select=illustrated_tcr_pulse_concs)\n",
    "l_range, pulse_range, tau_range, model_ratios = res\n",
    "\n",
    "df_model = pd.DataFrame(model_ratios, \n",
    "             index=pd.MultiIndex.from_arrays([pulse_range, l_range], names=[\"pulse_concentration\", \"L\"]), \n",
    "             columns=pd.Index(tau_range, name=\"tau\"))\n",
    "\n",
    "# Write these model curves to disk for plotting elsewhere\n",
    "# typical_curves_file = \"results/for_plots/typical_tcr_car_model_curves.h5\"  # Same as other model\n",
    "if do_save_outputs:\n",
    "    df_model.to_hdf(typical_curves_file,  key=\"revised_akpr\")"
   ]
  },
  {
   "cell_type": "markdown",
   "metadata": {},
   "source": [
    "### Antagonism peak amplitude and position as a function of TCR Ag density"
   ]
  },
  {
   "cell_type": "code",
   "execution_count": null,
   "metadata": {},
   "outputs": [],
   "source": [
    "# Wrapper around steady_akpr_i_receptor_types, to be minimized wrt tau_t\n",
    "def log_total_output_revised_akpr(taut, lt, ratesp, cd19, ri_tots, nparams, tc_threshs):\n",
    "    tauvec = np.asarray([taut, cd19[1]])\n",
    "    lvec = np.asarray([lt, cd19[0]])\n",
    "    complexes = steady_akpr_i_receptor_types(ratesp, tauvec, lvec, ri_tots, nparams)\n",
    "    ztot = activation_function(complexes[0][-1], tc_threshs[0], pwr=2)\n",
    "    ztot += activation_function(complexes[1][-1], tc_threshs[1], pwr=2)\n",
    "    return np.log10(ztot)\n",
    "\n",
    "# Compute max antagonism amplitude and tau as a function of L^T, show it's nothing like data\n",
    "def find_max_antagonism_akpr(lt, *output_args):\n",
    "    # Find minimum tau\n",
    "    res = sp.optimize.minimize_scalar(log_total_output_revised_akpr, \n",
    "                    bracket=[1e-6, 1.0, 20.0], bounds=[1e-6, 20.0],\n",
    "                    args=(lt, *output_args))\n",
    "    best_antag_tau = res.x\n",
    "    \n",
    "    # Compute antagonism amplitude at that tau\n",
    "    output_at_max = 10.0**log_total_output_revised_akpr(best_antag_tau, lt, *output_args)\n",
    "    \n",
    "    # Take care of dividing by agonist alone outside of this function\n",
    "    return best_antag_tau, output_at_max"
   ]
  },
  {
   "cell_type": "code",
   "execution_count": null,
   "metadata": {},
   "outputs": [],
   "source": [
    "def revised_akpr_max_antagonism_curves(ratesp, l_tau_car, ri_tots, nparams, mm_params, tau_cs):\n",
    "    # Agonist alone and thresholds\n",
    "    # Compute thresholds\n",
    "    tcr_car_threshs = get_thresholds_revised_akpr(ratesp, tau_cs, ri_tots, nparams)\n",
    "    \n",
    "    # Compute CAR alone \n",
    "    res = split_tcr_car_params_revised(ratesp, ri_tots, nparams)\n",
    "    _, car_rates, _, car_ri, _, car_nmf = res\n",
    "    car_alone = steady_akpr_i_1ligand(car_rates, l_tau_car[1], l_tau_car[0], \n",
    "                                                  car_ri, car_nmf)[car_nmf[0]]\n",
    "    car_alone = activation_function(car_alone, tcr_car_threshs[1], pwr=2)\n",
    "    \n",
    "    pulse_conc_range = np.logspace(0.0, -4.0, 101)\n",
    "    ltrange = [michaelis_menten(l, *mm_params) for l in pulse_conc_range]\n",
    "    min_taus, min_outputs, min_ilvls = [], [], []\n",
    "   \n",
    "    for l in ltrange:\n",
    "        res = find_max_antagonism_akpr(l, ratesp, l_tau_car, ri_tots, nparams, tcr_car_threshs)\n",
    "        min_taus.append(res[0])\n",
    "        min_outputs.append(res[1] / car_alone)\n",
    "    \n",
    "    min_taus = np.asarray(min_taus)\n",
    "    min_outputs = np.asarray(min_outputs)\n",
    "    \n",
    "    print(\"Finished computing the optimum curves\")\n",
    "    \n",
    "    fig, axes = plt.subplots(2, sharex=True, sharey=False)\n",
    "    x = pulse_conc_range\n",
    "    axes[0].plot(x, min_taus)\n",
    "    axes[1].plot(x, min_outputs)\n",
    "    #axes[0].plot(ltrange, min_taus)\n",
    "    #axes[1].plot(ltrange, min_outputs)\n",
    "    axes[0].set(ylabel=r\"Best antagonist $\\tau$\", xscale=\"log\")\n",
    "    axes[1].set(ylabel=\"Maximal antagonism\", xscale=\"log\", xlabel=r\"TCR Antigen Density ($\\mu$M)\")\n",
    "    axes[1].set_yscale(\"log\", base=2)\n",
    "    fig.tight_layout()\n",
    "    return pulse_conc_range, ltrange, min_taus, min_outputs, [fig, axes]"
   ]
  },
  {
   "cell_type": "code",
   "execution_count": null,
   "metadata": {},
   "outputs": [],
   "source": [
    "res_ = revised_akpr_max_antagonism_curves(akpr_rates, cd19_l_tau, akpr_rip, akpr_nmfs,\n",
    "                                                    l_conc_mm_params, akpr_tau_crits)\n",
    "pulse_conc_range_akpr, ltrange_akpr, min_taus_akpr, min_outputs_akpr, figaxes = res_\n",
    "plt.show()\n",
    "plt.close()"
   ]
  },
  {
   "cell_type": "code",
   "execution_count": null,
   "metadata": {
    "scrolled": true
   },
   "outputs": [],
   "source": [
    "# Compare scaling of max antagonism and peak position to data for 1 nM and 1 uM antagonists\n",
    "# Already done: most_antagonism_data, most_antagonism_peptides, most_antagonism_ci\n",
    "\n",
    "# Plotting in log scale, changing y ticks labels later\n",
    "fig, ax = plt.subplots()\n",
    "fig.set_size_inches(2.5, 2.5)\n",
    "ax.axhline(0.0, ls=\"--\", color=\"grey\", lw=1.0)\n",
    "palet = {\"1uM\":(0., 0., 0., 1.), \"1nM\": perturbations_palette[\"AgDens\"]}\n",
    "markers = {\"1uM\": \"o\", \"1nM\": \"s\"}\n",
    "# Revised AKPR\n",
    "ax.plot(pulse_conc_range_akpr, np.log2(min_outputs_akpr), label=\"Model\", color=\"k\")\n",
    "# Data\n",
    "for i, conc in enumerate(most_antagonism_data.index):\n",
    "    conc_lbl = write_conc_uM(conc)\n",
    "    clr = palet.get(conc_lbl)\n",
    "    lbl = \"Data \" + conc_lbl\n",
    "    ax.errorbar(conc, np.log2(most_antagonism_data.loc[conc]), yerr=most_antagonism_ci.loc[conc], \n",
    "               ls=\"none\", marker=markers.get(conc_lbl), mfc=clr, mec=clr, ms=6, label=lbl, \n",
    "               color=clr)\n",
    "\n",
    "conc_lbl = r\"TCR Ag Density ($\\mu$M)\"\n",
    "ax.set(xlabel=conc_lbl, ylabel=r\"Peak antagonism FC$_{TCR \\rightarrow CAR}$\", xscale=\"log\")\n",
    "change_log_ticks(ax, base=2, which=\"y\")\n",
    "ax.set_ylim([ax.get_ylim()[0], 0.2])\n",
    "ax.legend(frameon=False, borderaxespad=0.1, fontsize=9)\n",
    "for side in [\"top\", \"right\"]:\n",
    "    ax.spines[side].set_visible(False)\n",
    "fig.tight_layout()\n",
    "if do_save_plots:\n",
    "    fig.savefig(os.path.join(fig_folder, \"revised_akpr_tcr_car_peak_antagonism.pdf\"), \n",
    "               transparent=True, bbox_inches=\"tight\")\n",
    "plt.show()\n",
    "plt.close()"
   ]
  },
  {
   "cell_type": "code",
   "execution_count": null,
   "metadata": {},
   "outputs": [],
   "source": [
    "# Saving to disk\n",
    "# No need to save the data again, it's the same\n",
    "# Concatenate some stuff for simplicity\n",
    "\n",
    "# pulse_conc_range, ltrange, min_taus, min_outputs,\n",
    "peak_info_model = pd.DataFrame(\n",
    "    np.stack([min_outputs_akpr, min_taus_akpr], axis=1), \n",
    "    index=pd.MultiIndex.from_arrays([pulse_conc_range_akpr, ltrange_akpr], \n",
    "        names=[\"pulse_concentration\", \"L\"]), \n",
    "    columns=pd.Index([\"amplitude\", \"tau\"], name=\"measurement\")\n",
    ")\n",
    "\n",
    "# Save to disk\n",
    "#filename_most_antagonism = \"results/for_plots/peak_antagonism_tcr_car.h5\"  # Same as before\n",
    "if do_save_outputs:\n",
    "    peak_info_model.to_hdf(filename_most_antagonism, key=\"model_revised_akpr\")"
   ]
  },
  {
   "cell_type": "code",
   "execution_count": null,
   "metadata": {},
   "outputs": [],
   "source": []
  }
 ],
 "metadata": {
  "kernelspec": {
   "display_name": "Python 3 (ipykernel)",
   "language": "python",
   "name": "python3"
  },
  "language_info": {
   "codemirror_mode": {
    "name": "ipython",
    "version": 3
   },
   "file_extension": ".py",
   "mimetype": "text/x-python",
   "name": "python",
   "nbconvert_exporter": "python",
   "pygments_lexer": "ipython3",
   "version": "3.12.7"
  }
 },
 "nbformat": 4,
 "nbformat_minor": 4
}
